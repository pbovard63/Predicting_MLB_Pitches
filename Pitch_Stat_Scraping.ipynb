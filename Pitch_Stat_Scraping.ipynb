{
 "cells": [
  {
   "cell_type": "markdown",
   "metadata": {},
   "source": [
    "# Pitch Stat Scraping"
   ]
  },
  {
   "cell_type": "markdown",
   "metadata": {},
   "source": [
    "The purpose of this notebook is to begin the scraping process from baseball savant, in order to collect MLB pitch by pitch data."
   ]
  },
  {
   "cell_type": "markdown",
   "metadata": {},
   "source": [
    "First, importing needed packages:"
   ]
  },
  {
   "cell_type": "code",
   "execution_count": 54,
   "metadata": {},
   "outputs": [],
   "source": [
    "import pandas as pd\n",
    "import matplotlib.pyplot as plt\n",
    "from pylab import rcParams\n",
    "%matplotlib inline\n",
    "rcParams['figure.figsize'] = 20,10\n",
    "import numpy as np\n",
    "import glob\n",
    "from scipy import stats\n",
    "from bs4 import BeautifulSoup\n",
    "import requests\n",
    "import re\n",
    "from IPython.core.display import display, HTML    # make sure Jupyter knows to display it as HTML"
   ]
  },
  {
   "cell_type": "markdown",
   "metadata": {},
   "source": [
    "Importing selenium and setting chrome driver:"
   ]
  },
  {
   "cell_type": "code",
   "execution_count": 55,
   "metadata": {},
   "outputs": [],
   "source": [
    "import time, os\n",
    "from selenium import webdriver\n",
    "from selenium.webdriver.common.keys import Keys\n",
    "chromedriver = \"/Applications/chromedriver\" # path to the chromedriver executable\n",
    "os.environ[\"webdriver.chrome.driver\"] = chromedriver"
   ]
  },
  {
   "cell_type": "code",
   "execution_count": 224,
   "metadata": {},
   "outputs": [],
   "source": [
    "test_url = 'https://baseballsavant.mlb.com/statcast_search?hfPT=FF%7CFT%7CFC%7CSI%7C&hfAB=&hfGT=R%7C&hfPR=&hfZ=&stadium=&hfBBL=&hfNewZones=&hfPull=&hfC=&hfSea=2020%7C&hfSit=&player_type=pitcher&hfOuts=&opponent=&pitcher_throws=&batter_stands=&hfSA=&game_date_gt=2020-09-01&game_date_lt=2020-09-05&hfInfield=&team=&position=&hfOutfield=&hfRO=&home_road=&hfFlag=&hfBBT=&metric_1=&hfInn=&min_pitches=0&min_results=0&group_by=name-event&sort_col=pitches&player_event_sort=api_p_release_speed&sort_order=desc&min_pas=0&chk_pitch_type=on&chk_pitch_result=on&chk_count=on&chk_metric2_gt=on&chk_event_release_spin_rate=on&chk_event_release_speed=on&chk_event_hit_distance_sc=on&chk_event_release_pos_x=on&chk_event_release_pos_z=on&chk_event_plate_x=on&chk_event_plate_z=on#results'"
   ]
  },
  {
   "cell_type": "code",
   "execution_count": 225,
   "metadata": {},
   "outputs": [],
   "source": [
    "driver = webdriver.Chrome(chromedriver)\n",
    "driver.get(test_url)"
   ]
  },
  {
   "cell_type": "code",
   "execution_count": 226,
   "metadata": {},
   "outputs": [],
   "source": [
    "soup = BeautifulSoup(driver.page_source, 'html.parser')"
   ]
  },
  {
   "cell_type": "code",
   "execution_count": 227,
   "metadata": {},
   "outputs": [],
   "source": [
    "rank_list = player_table.find_all('span', id=re.compile('val_'))[0:10]"
   ]
  },
  {
   "cell_type": "code",
   "execution_count": 228,
   "metadata": {},
   "outputs": [
    {
     "data": {
      "text/plain": [
       "[<span id=\"val_1\">1</span>,\n",
       " <span id=\"val_2\">2</span>,\n",
       " <span id=\"val_3\">3</span>,\n",
       " <span id=\"val_4\">4</span>,\n",
       " <span id=\"val_5\">5</span>,\n",
       " <span id=\"val_6\">6</span>,\n",
       " <span id=\"val_7\">7</span>,\n",
       " <span id=\"val_8\">8</span>,\n",
       " <span id=\"val_9\">9</span>,\n",
       " <span id=\"val_10\">10</span>]"
      ]
     },
     "execution_count": 228,
     "metadata": {},
     "output_type": "execute_result"
    }
   ],
   "source": [
    "rank_list"
   ]
  },
  {
   "cell_type": "code",
   "execution_count": 229,
   "metadata": {},
   "outputs": [],
   "source": [
    "player_table = soup.find('div', id='search-results-container')"
   ]
  },
  {
   "cell_type": "code",
   "execution_count": 230,
   "metadata": {},
   "outputs": [],
   "source": [
    "id_list = player_table.find_all('td', class_='player_name')[0:10]"
   ]
  },
  {
   "cell_type": "code",
   "execution_count": 231,
   "metadata": {},
   "outputs": [
    {
     "data": {
      "text/plain": [
       "<td class=\"player_name tr-data align-left\" id=\"id_660813\">                        \n",
       "                        Brusdar Graterol\n",
       "                    </td>"
      ]
     },
     "execution_count": 231,
     "metadata": {},
     "output_type": "execute_result"
    }
   ],
   "source": [
    "id_list[1]"
   ]
  },
  {
   "cell_type": "code",
   "execution_count": 232,
   "metadata": {},
   "outputs": [
    {
     "data": {
      "text/plain": [
       "'622251'"
      ]
     },
     "execution_count": 232,
     "metadata": {},
     "output_type": "execute_result"
    }
   ],
   "source": [
    "id_list[0].attrs['id'].strip('id_')"
   ]
  },
  {
   "cell_type": "markdown",
   "metadata": {},
   "source": [
    "Clicking to open the hidden data on each of the top 10 (proof of concept):"
   ]
  },
  {
   "cell_type": "code",
   "execution_count": 233,
   "metadata": {},
   "outputs": [],
   "source": [
    "for i, item in enumerate(rank_list):\n",
    "    #Getting Ranks\n",
    "    current_rank = item.attrs['id']\n",
    "    \n",
    "    #GEtting ID No.:\n",
    "    current_id = id_list[i].attrs['id'].strip('id_').strip('\"\"')\n",
    "    \n",
    "    #Opening the Pitch Data and creating a new soup object:\n",
    "    expand_button = driver.find_element_by_xpath('//*[@id=\"{}\"]'.format(current_rank))\n",
    "    expand_button.click()"
   ]
  },
  {
   "cell_type": "markdown",
   "metadata": {},
   "source": [
    "Creating a new soup object to scrape the newly revealed page data:"
   ]
  },
  {
   "cell_type": "code",
   "execution_count": 234,
   "metadata": {
    "scrolled": true
   },
   "outputs": [],
   "source": [
    "new_soup = BeautifulSoup(driver.page_source, 'html.parser') "
   ]
  },
  {
   "cell_type": "markdown",
   "metadata": {},
   "source": [
    "Compiling the stats row by row in a list:"
   ]
  },
  {
   "cell_type": "code",
   "execution_count": 250,
   "metadata": {},
   "outputs": [],
   "source": [
    "compiled_stats = []\n",
    "for i, item in enumerate(id_list):\n",
    "    #GEtting ID No.:\n",
    "    current_id = item.attrs['id'].strip('id_').strip('\"\"')\n",
    "  \n",
    "    #Scraping the internal data:\n",
    "    use_id = 'ajaxTable_{}'.format(current_id)\n",
    "    pitch_stats = new_soup.find_all('td', colspan='100%')[i]\n",
    "    ind_pitch_stats = [item.get_text() for item in pitch_stats.find_all('td')]\n",
    "    compiled_stats.append(ind_pitch_stats)  "
   ]
  },
  {
   "cell_type": "code",
   "execution_count": 251,
   "metadata": {},
   "outputs": [
    {
     "data": {
      "text/plain": [
       "[['FF',\n",
       "  '101.7',\n",
       "  '',\n",
       "  'Josh Staumont',\n",
       "  'Tim Anderson',\n",
       "  '',\n",
       "  '2446',\n",
       "  '',\n",
       "  '14',\n",
       "  '2020-09-05',\n",
       "  '0-2',\n",
       "  'Top 8',\n",
       "  'ball',\n",
       "  '',\n",
       "  ''],\n",
       " ['SI',\n",
       "  '101.4',\n",
       "  '',\n",
       "  'Brusdar Graterol',\n",
       "  'David Peralta',\n",
       "  '',\n",
       "  '2005',\n",
       "  '',\n",
       "  '11',\n",
       "  '2020-09-02',\n",
       "  '1-0',\n",
       "  'Top 8',\n",
       "  'ball',\n",
       "  '',\n",
       "  ''],\n",
       " ['SI',\n",
       "  '101.2',\n",
       "  '98.4',\n",
       "  'Josh Staumont',\n",
       "  'Yasmani Grandal',\n",
       "  '298',\n",
       "  '2440',\n",
       "  '17',\n",
       "  '5',\n",
       "  '2020-09-05',\n",
       "  '1-2',\n",
       "  'Top 8',\n",
       "  'hit_into_play_no_out',\n",
       "  'Yasmani Grandal singles on a line drive to left fielder Alex Gordon.  ',\n",
       "  ''],\n",
       " ['FF',\n",
       "  '101.2',\n",
       "  '',\n",
       "  'Aroldis Chapman',\n",
       "  'Hanser Alberto',\n",
       "  '',\n",
       "  '2621',\n",
       "  '',\n",
       "  '13',\n",
       "  '2020-09-04',\n",
       "  '1-2',\n",
       "  'Bot 7',\n",
       "  'ball',\n",
       "  '',\n",
       "  ''],\n",
       " ['SI',\n",
       "  '101.1',\n",
       "  '',\n",
       "  'Brusdar Graterol',\n",
       "  'Christian Walker',\n",
       "  '',\n",
       "  '2125',\n",
       "  '',\n",
       "  '13',\n",
       "  '2020-09-02',\n",
       "  '1-0',\n",
       "  'Top 8',\n",
       "  'ball',\n",
       "  '',\n",
       "  ''],\n",
       " ['FF',\n",
       "  '100.7',\n",
       "  '76.8',\n",
       "  'Jorge Alcala',\n",
       "  'Tim Anderson',\n",
       "  '243',\n",
       "  '2475',\n",
       "  '30',\n",
       "  '1',\n",
       "  '2020-09-02',\n",
       "  '0-2',\n",
       "  'Top 7',\n",
       "  'foul',\n",
       "  '',\n",
       "  ''],\n",
       " ['FF',\n",
       "  '100.7',\n",
       "  '',\n",
       "  'Josh Staumont',\n",
       "  'Tim Anderson',\n",
       "  '',\n",
       "  '2494',\n",
       "  '',\n",
       "  '12',\n",
       "  '2020-09-05',\n",
       "  '0-1',\n",
       "  'Top 8',\n",
       "  'swinging_strike',\n",
       "  '',\n",
       "  ''],\n",
       " ['FF',\n",
       "  '100.7',\n",
       "  '96.4',\n",
       "  'Aroldis Chapman',\n",
       "  'Austin Meadows',\n",
       "  '366',\n",
       "  '2558',\n",
       "  '24',\n",
       "  '8',\n",
       "  '2020-09-01',\n",
       "  '1-2',\n",
       "  'Top 9',\n",
       "  'hit_into_play',\n",
       "  'Austin Meadows lines out to center fielder Aaron Hicks.  ',\n",
       "  ''],\n",
       " ['FF',\n",
       "  '100.6',\n",
       "  '',\n",
       "  'Aroldis Chapman',\n",
       "  'Dominic Smith',\n",
       "  '',\n",
       "  '2511',\n",
       "  '',\n",
       "  '1',\n",
       "  '2020-09-03',\n",
       "  '1-2',\n",
       "  'Bot 9',\n",
       "  'swinging_strike',\n",
       "  'Dominic Smith strikes out swinging.  ',\n",
       "  ''],\n",
       " ['FF',\n",
       "  '100.5',\n",
       "  '',\n",
       "  'Aroldis Chapman',\n",
       "  'Mike Brosseau',\n",
       "  '',\n",
       "  '2530',\n",
       "  '',\n",
       "  '11',\n",
       "  '2020-09-01',\n",
       "  '0-0',\n",
       "  'Top 9',\n",
       "  'ball',\n",
       "  '',\n",
       "  '']]"
      ]
     },
     "execution_count": 251,
     "metadata": {},
     "output_type": "execute_result"
    }
   ],
   "source": [
    "compiled_stats"
   ]
  },
  {
   "cell_type": "markdown",
   "metadata": {},
   "source": [
    "This gives me the exact data I need per pitch.  From here, I can adjust some of the selection tools on the site to pick the number of outs, score, and base runners."
   ]
  },
  {
   "cell_type": "markdown",
   "metadata": {},
   "source": [
    "### Finding Row Columns:"
   ]
  },
  {
   "cell_type": "code",
   "execution_count": 183,
   "metadata": {},
   "outputs": [],
   "source": [
    "headers = player_table.find('tr', class_='tr-component-row').find_all('th', class_='th-component-header')"
   ]
  },
  {
   "cell_type": "code",
   "execution_count": 184,
   "metadata": {},
   "outputs": [
    {
     "data": {
      "text/plain": [
       "[<th class=\"th-component-header align-left\" title=\"Rank\">Rk.</th>,\n",
       " <th class=\"th-component-header align-left\">Player</th>,\n",
       " <th class=\"th-component-header align-left numeric\">Result</th>,\n",
       " <th class=\"th-component-header align-left numeric\">Game Date</th>,\n",
       " <th class=\"th-component-header align-left numeric\" id=\"release_spin_rate\">Spin Rate (RPM)</th>,\n",
       " <th class=\"th-component-header align-left numeric\" id=\"release_speed\">Pitch (MPH)</th>,\n",
       " <th class=\"th-component-header align-left numeric\" id=\"hit_distance_sc\">Dist (ft)</th>,\n",
       " <th class=\"th-component-header align-left numeric\" id=\"release_pos_x\">RP X (ft)</th>,\n",
       " <th class=\"th-component-header align-left numeric\" id=\"release_pos_z\">RP Z (ft)</th>,\n",
       " <th class=\"th-component-header align-left numeric\" id=\"plate_x\">PX (ft)</th>,\n",
       " <th class=\"th-component-header align-left numeric\" id=\"plate_z\">PZ (ft)</th>,\n",
       " <th class=\"th-component-header align-left\">Vs.</th>,\n",
       " <th class=\"charts th-component-header align-left numeric\" style=\"text-align: right;\">\n",
       " <span class=\"table-icon visual\" id=\"compare_all_pid_\" title=\"Create Chart Comparison\"><img src=\"site-core/images/chart_curve.png\"/></span>  \n",
       "                     <span class=\"table-icon csv_table\" id=\"table_all_pid_\" title=\"Download Results Comma Separated Values File\"><img src=\"site-core/images/disk.png\"/></span>  \n",
       "                     <span class=\"table-icon csv\" id=\"csv_all_pid_\" title=\"Download Data as Comma Separated Values File\"><img src=\"site-core/images/database_link.png\"/></span>\n",
       " </th>]"
      ]
     },
     "execution_count": 184,
     "metadata": {},
     "output_type": "execute_result"
    }
   ],
   "source": [
    "headers"
   ]
  },
  {
   "cell_type": "code",
   "execution_count": 185,
   "metadata": {},
   "outputs": [],
   "source": [
    "columns = [col.get_text() for col in headers]"
   ]
  },
  {
   "cell_type": "code",
   "execution_count": 186,
   "metadata": {},
   "outputs": [
    {
     "data": {
      "text/plain": [
       "['Rk.',\n",
       " 'Player',\n",
       " 'Result',\n",
       " 'Game Date',\n",
       " 'Spin Rate (RPM)',\n",
       " 'Pitch (MPH)',\n",
       " 'Dist (ft)',\n",
       " 'RP X (ft)',\n",
       " 'RP Z (ft)',\n",
       " 'PX (ft)',\n",
       " 'PZ (ft)',\n",
       " 'Vs.',\n",
       " '\\n\\xa0\\xa0\\n                    \\xa0\\xa0\\n                    \\n']"
      ]
     },
     "execution_count": 186,
     "metadata": {},
     "output_type": "execute_result"
    }
   ],
   "source": [
    "columns"
   ]
  }
 ],
 "metadata": {
  "kernelspec": {
   "display_name": "Python [conda env:metis] *",
   "language": "python",
   "name": "conda-env-metis-py"
  },
  "language_info": {
   "codemirror_mode": {
    "name": "ipython",
    "version": 3
   },
   "file_extension": ".py",
   "mimetype": "text/x-python",
   "name": "python",
   "nbconvert_exporter": "python",
   "pygments_lexer": "ipython3",
   "version": "3.8.6"
  }
 },
 "nbformat": 4,
 "nbformat_minor": 4
}
