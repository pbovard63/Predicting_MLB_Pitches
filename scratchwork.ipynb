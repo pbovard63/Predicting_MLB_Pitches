{
 "cells": [
  {
   "cell_type": "markdown",
   "metadata": {},
   "source": [
    "Pitch columns:\n",
    "'px', 'pz', 'start_speed', 'end_speed', 'spin_rate', 'spin_dir',\n",
    "       'break_angle', 'break_length', 'break_y', 'ax', 'ay', 'az', 'sz_bot',\n",
    "       'sz_top', 'type_confidence', 'vx0', 'vy0', 'vz0', 'x', 'x0', 'y', 'y0',\n",
    "       'z0', 'pfx_x', 'pfx_z', 'nasty', 'zone', 'code', 'type', 'pitch_type',\n",
    "       'event_num', 'b_score', 'ab_id', 'b_count', 's_count', 'outs',\n",
    "       'pitch_num', 'on_1b', 'on_2b', 'on_3b']"
   ]
  },
  {
   "cell_type": "markdown",
   "metadata": {},
   "source": [
    "Game columns: 'attendance', 'away_final_score', 'away_team', 'date',\n",
    "       'elapsed_time', 'g_id', 'home_final_score', 'home_team', 'start_time',\n",
    "       'umpire_1B', 'umpire_2B', 'umpire_3B', 'umpire_HP', 'venue_name',\n",
    "       'weather', 'wind', 'delay'"
   ]
  },
  {
   "cell_type": "markdown",
   "metadata": {},
   "source": [
    "At bats columns: 'inning', 'top', 'ab_id', 'g_id', 'p_score', 'batter_id',\n",
    "       'pitcher_id', 'stand', 'p_throws', 'event', 'o'"
   ]
  },
  {
   "cell_type": "markdown",
   "metadata": {},
   "source": [
    "Player columns: id, first_name, last_name"
   ]
  },
  {
   "cell_type": "markdown",
   "metadata": {},
   "source": [
    "### Topics to Discuss w/ Instructor (3/8):\n",
    "- General workflow for pitch classification - model for each pitcher individually?\n",
    "- Clustering hitters as a feature  -is pulling stats potential data leak (since those are pitches in the dataset)  \n",
    "- PItch arsenal - data leak?\n",
    "- How to best divide train/validation and test sets (2015-2018 train/val, 2019 test?)"
   ]
  },
  {
   "cell_type": "markdown",
   "metadata": {},
   "source": [
    "### Discussion Topics - 3/16  \n",
    "- Workflow of modeling validating/testing, on each individual pitcher?  \n",
    "- More correct way of regression to get coordinates? (i.e. predictions basically flip shape when reversed)  \n",
    "- Regression/classification: standard scaling of count featres? (Inning, outs, strikes, balls, etc.)"
   ]
  },
  {
   "cell_type": "code",
   "execution_count": null,
   "metadata": {},
   "outputs": [],
   "source": []
  }
 ],
 "metadata": {
  "kernelspec": {
   "display_name": "Python [conda env:metis] *",
   "language": "python",
   "name": "conda-env-metis-py"
  },
  "language_info": {
   "codemirror_mode": {
    "name": "ipython",
    "version": 3
   },
   "file_extension": ".py",
   "mimetype": "text/x-python",
   "name": "python",
   "nbconvert_exporter": "python",
   "pygments_lexer": "ipython3",
   "version": "3.8.6"
  }
 },
 "nbformat": 4,
 "nbformat_minor": 4
}
