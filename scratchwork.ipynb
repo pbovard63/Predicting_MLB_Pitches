{
 "cells": [
  {
   "cell_type": "markdown",
   "metadata": {},
   "source": [
    "Pitch columns:\n",
    "'px', 'pz', 'start_speed', 'end_speed', 'spin_rate', 'spin_dir',\n",
    "       'break_angle', 'break_length', 'break_y', 'ax', 'ay', 'az', 'sz_bot',\n",
    "       'sz_top', 'type_confidence', 'vx0', 'vy0', 'vz0', 'x', 'x0', 'y', 'y0',\n",
    "       'z0', 'pfx_x', 'pfx_z', 'nasty', 'zone', 'code', 'type', 'pitch_type',\n",
    "       'event_num', 'b_score', 'ab_id', 'b_count', 's_count', 'outs',\n",
    "       'pitch_num', 'on_1b', 'on_2b', 'on_3b']"
   ]
  },
  {
   "cell_type": "markdown",
   "metadata": {},
   "source": [
    "Game columns: 'attendance', 'away_final_score', 'away_team', 'date',\n",
    "       'elapsed_time', 'g_id', 'home_final_score', 'home_team', 'start_time',\n",
    "       'umpire_1B', 'umpire_2B', 'umpire_3B', 'umpire_HP', 'venue_name',\n",
    "       'weather', 'wind', 'delay'"
   ]
  },
  {
   "cell_type": "markdown",
   "metadata": {},
   "source": [
    "At bats columns: 'inning', 'top', 'ab_id', 'g_id', 'p_score', 'batter_id',\n",
    "       'pitcher_id', 'stand', 'p_throws', 'event', 'o'"
   ]
  },
  {
   "cell_type": "markdown",
   "metadata": {},
   "source": [
    "Player columns: id, first_name, last_name"
   ]
  },
  {
   "cell_type": "markdown",
   "metadata": {},
   "source": [
    "### Topics to Discuss w/ Instructor (3/8):\n",
    "- General workflow for pitch classification - model for each pitcher individually?\n",
    "- Clustering hitters as a feature  -is pulling stats potential data leak (since those are pitches in the dataset)  \n",
    "- PItch arsenal - data leak?\n",
    "- How to best divide train/validation and test sets (2015-2018 train/val, 2019 test?)"
   ]
  },
  {
   "cell_type": "markdown",
   "metadata": {},
   "source": [
    "### Discussion Topics - 3/16  \n",
    "- Workflow of modeling validating/testing, on each individual pitcher?  \n",
    "- More correct way of regression to get coordinates? (i.e. predictions basically flip shape when reversed)  \n",
    "- Regression/classification: standard scaling of count featres? (Inning, outs, strikes, balls, etc.)"
   ]
  },
  {
   "cell_type": "markdown",
   "metadata": {},
   "source": [
    "# SQL Queries:"
   ]
  },
  {
   "cell_type": "code",
   "execution_count": null,
   "metadata": {},
   "outputs": [],
   "source": [
    "query = '''\n",
    "--Queuing up the game/at bat info from teh above query:\n",
    "WITH game_player_ab AS (\n",
    "\n",
    "WITH game_ab AS (\n",
    "SELECT a.inning, a.batter_id, a.pitcher_id, a.top, a.ab_id, a.p_score, a.stand, a.p_throws, a.event, g.date, g.home_team, g.away_team\n",
    "FROM atbats as a\n",
    "RIGHT JOIN games as g\n",
    "    ON a.g_id = g.g_id\n",
    ")\n",
    "\n",
    "SELECT g.*, \n",
    "p.first_name as Pitcher_First_Name, p.last_name as Pitcher_Last_Name, \n",
    "h.first_name as Hitter_First_Name, h.last_name as Hitter_Last_Name\n",
    "\n",
    "FROM game_ab as g\n",
    "\n",
    "--first, joining up the pitcher's name:\n",
    "LEFT JOIN players as p\n",
    "    ON g.pitcher_id = p.id\n",
    "\n",
    "--now, joining the hitter's name:\n",
    "LEFT JOIN players as h\n",
    "    ON g.batter_id = h.id\n",
    "\n",
    "--Ordering:\n",
    "ORDER BY g.ab_id ASC\n",
    ")\n",
    "\n",
    "SELECT \n",
    "--First, taking all the data above, along with the batting team score:\n",
    "gpa.*, pi.b_score,\n",
    "\n",
    "--Adding the runners on base:\n",
    "pi.on_1b, pi.on_2b, pi.on_3b,\n",
    "\n",
    "--Now, selecting data from the pitch table:\n",
    "pi.px, pi.pz, pi.pitch_type, pi.start_speed,pi.type, pi.b_count, pi.s_count, pi.outs, pi.pitch_num,\n",
    "pi.type_confidence, pi.nasty, pi.code\n",
    "\n",
    "--Finally, adding in previous pitch info (for that at bat).  This will lead to some NaN values for the first pitch of an at-bat, which is expected:\n",
    "(max(pi.pitch_type) OVER (PARTITION BY gpa.ab_id ORDER BY pi.pitch_num ASC ROWS 1 PRECEDING EXCLUDE CURRENT ROW)) as last_pitch_type,\n",
    "(max(pi.px) OVER (PARTITION BY gpa.ab_id ORDER BY pi.pitch_num ASC ROWS 1 PRECEDING EXCLUDE CURRENT ROW)) as last_pitch_px,\n",
    "(max(pi.pz) OVER (PARTITION BY gpa.ab_id ORDER BY pi.pitch_num ASC ROWS 1 PRECEDING EXCLUDE CURRENT ROW)) as last_pitch_pz,\n",
    "(max(pi.start_speed) OVER (PARTITION BY gpa.ab_id ORDER BY pi.pitch_num ASC ROWS 1 PRECEDING EXCLUDE CURRENT ROW)) as last_pitch_speed\n",
    "\n",
    "FROM pitches as pi\n",
    "RIGHT JOIN game_player_ab as gpa\n",
    "    ON pi.ab_id = gpa.ab_id\n",
    "    \n",
    "--Ordering:\n",
    "ORDER BY gpa.ab_id ASC, pi.pitch_num ASC\n",
    "LIMIT 10;\n",
    ";\n",
    "'''\n",
    "combined_data_df = pd.read_sql(query, engine)\n",
    "\n",
    "combined_data_df.head(10)"
   ]
  }
 ],
 "metadata": {
  "kernelspec": {
   "display_name": "Python [conda env:metis] *",
   "language": "python",
   "name": "conda-env-metis-py"
  },
  "language_info": {
   "codemirror_mode": {
    "name": "ipython",
    "version": 3
   },
   "file_extension": ".py",
   "mimetype": "text/x-python",
   "name": "python",
   "nbconvert_exporter": "python",
   "pygments_lexer": "ipython3",
   "version": "3.8.6"
  }
 },
 "nbformat": 4,
 "nbformat_minor": 4
}
