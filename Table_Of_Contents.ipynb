{
 "cells": [
  {
   "cell_type": "markdown",
   "metadata": {},
   "source": [
    "# Table of Contents\n",
    "The purpose of this notebook is to serve as a more detailed table of contents for my repository.  There will be a sub-header for each folder that appears in my repo, in the general order the work was done.  This file will contain a more detailed description of the individual files."
   ]
  },
  {
   "cell_type": "markdown",
   "metadata": {},
   "source": [
    "## 1. MLB_Pitch_Data_Setup_SQL Folder - DONE\n",
    "This folder contains notebooks and code used to create a PostgreSQL database of data from the [Kaggle dataset](https://www.kaggle.com/pschale/mlb-pitch-data-20152018?select=games.csv).\n",
    "- Initial_Kaggle_Dataset_Construction.ipynb: code on combining the .csv files into combined files for pitch, at bat, and games.\n",
    "- kaggle_dataset_sql_construction.ipynb: code on adding the combined .csv files into a PostgreSQL database on my local computer, mlb_pitches. "
   ]
  },
  {
   "cell_type": "markdown",
   "metadata": {},
   "source": [
    "## 2. EDA-SQL Folder - DONE\n",
    "This folder contains code on initial EDA of the data, including SQLAlchemy and Pandas code to structure the dataset in preparation for machine learning.  \n",
    "- initial_sql_queries.ipynb: code on running initial SQL queries to explore the data within the mlb_pitches database.  This includes initial queries to join the tables, and general EDA on pitch types and counts on different pitchers to explore the data.  \n",
    "- data_cleaning.ipynb: this notebook has code to clean and prepare data from initial_sql_queries.ipynb for use in a machine learning model to predict pitches.  Some secondary EDA is also done here, mainly on visualizing pitch locations in relation to the strikezone."
   ]
  },
  {
   "cell_type": "markdown",
   "metadata": {},
   "source": [
    "## 3. Clustering Folder - DONE\n",
    "This folder contains code on clustering batters of similar types, in order to dimensionally reduce the features with batters to feed into the machine learning algorithms.  \n",
    "- Batter_Clustering.ipynb: this notebook contains code on collecting hitter statistical data from FanGraphs, as well as running K-Means clustering to group similar hitters together.  \n",
    "- k_means_clustering_functions.py: contains python functions on running K-Means clustering on the inputted statistics from Batter_Clustering.ipynb"
   ]
  },
  {
   "cell_type": "markdown",
   "metadata": {},
   "source": [
    "## 4. Pitch_Classification Folder\n",
    "This folder contains code on building the following machine learning models: \n",
    "  1.  Classification: Determining pitch type\n",
    "  2.  Linear Regression: Predicting pitch location (x and y coordinates) \n",
    "\n",
    "Code files in this folder are broken into sub-folders: \n",
    "- Modeling_Preparation, to prepare the dataframe/features for modeling  \n",
    "    - modeling_prep.ipynb: this notebook contains code on preparing the dataframe for modeling, including some additional SQL queries to build new features\n",
    "    - pitch_dataframe_functions.py: contains python functions on building a pitcher's arsenal of pitches, to perform EDA on what types of pitches they throw and in what proportions.\n",
    "- Individual_Pitcher_Runs, to Establish the General Pipeline for modeling:\n",
    "    - Pitch_Classification_Intro.ipynb: this notebook contains the initial work on a pitch classification algorithm to predict pitch type.  \n",
    "    - Pitch_Classification_Oversample.ipynb: this notebook contains code on pitch_classification, utilizing oversampling to try to improve the class imbalance problem  \n",
    "    - pitch_location_regression.ipynb: this notebook contains code on initial runs of the linear regression algorithm for predicting pitch location on individual pitchers  \n",
    "    - location_regression_functions.py: contains functions on running linear regression to predict pitch location\n",
    "    - pitch_cat_functions.py: contains functions on running classification modeling to predict pitch type  \n",
    "    - Location_Viz_Checks: some visualizations to check out residuals on Max Scherzer's (i.e. one model) location predictions, to get a sense for how the model is performing\n",
    "- Pipeline_Building, to develop a pipeline for chaining together the regression and classification algorithms, and to incorporate various pitchers:\n",
    "    - pipeline_architecture.ipynb: contains code on building out a pipeline for pitch prediction, chaining together classification for pitch type and regression for pitch location\n",
    "    - classification_location_combo.py: contains functions for training and validating models on pitch type prediction (classification) and pitch location prediction (regression)  \n",
    "    - Pipeline_Part_2.ipynb: includes pipeline work with new features engineered in Feature_Engineering.ipynb\n",
    "    - classification_location_combo-2.py: contains similar functions as classification_location_combo.py, but has features for including the previous 100 pitches/pitch type counts the pitcher has thrown  \n",
    "- Final_Modeling: contains notebooks and functions utilized in the final model:\n",
    "    - final_modeling_work.ipynb: this notebook contains code on my final modeling process, and some visualizations on the final results\n",
    "    - classification_location_combo_2_l_10.py: contains similar functions as classification_location_combo.py, but has features for including the previous 10 pitches/pitch type counts the pitcher has thrown  \n",
    "    - classification_location_combo_2_l_5.py: contains similar functions as classification_location_combo.py, but has features for including the previous 5 pitches/pitch type counts the pitcher has thrown \n",
    "    - final_model_fitter.py: contains functions on fitting the final models by player, on the train/validation data combined\n",
    "    - final_model_scorer.py: contains functions on scoring the final models from final_model_fitting for each pitcher on the test set.\n",
    "    - weighted_final_model_fitter.py: contains functions on fitting the final models by player, on the train/validation data combined.  Utilizes balanced weight clases for XGBoost classifier\n",
    "    - weighted_final_model_scorer: contains functions on scoring the final models from final_model_fitting for each pitcher on the test set, using weighted models from weighted_final_model_fitter.py"
   ]
  },
  {
   "cell_type": "markdown",
   "metadata": {},
   "source": [
    "## 5. Feature_Engineering_Additional Folder\n",
    "This folder contains code on running additional feature engineering to utilize in my modeling process.  \n",
    "- Feature_Engineering.ipynb: code on general additional feature engineering from my dataset"
   ]
  },
  {
   "cell_type": "markdown",
   "metadata": {},
   "source": [
    "## 6. Final_Presentation Folder  - DONE\n",
    "This folder contains my presentation slides from my final presentation of this project at Metis.  There are PDF and Powerpoint versions of the slides available to see here.\n",
    "- patrick_bovard_final_presentation.pdf\n",
    "- patrick_bovard_final_presentation.pptx"
   ]
  },
  {
   "cell_type": "markdown",
   "metadata": {},
   "source": [
    "## 7. Streamlit_App Folder - DONE\n",
    "This folder contains code for running my Streamlit App to showcase the project model and results.  *Note: this is currently under construction.*\n",
    "- streamlit_script.py: the code for the Streamlit App related to this project."
   ]
  }
 ],
 "metadata": {
  "kernelspec": {
   "display_name": "Python [conda env:metis] *",
   "language": "python",
   "name": "conda-env-metis-py"
  },
  "language_info": {
   "codemirror_mode": {
    "name": "ipython",
    "version": 3
   },
   "file_extension": ".py",
   "mimetype": "text/x-python",
   "name": "python",
   "nbconvert_exporter": "python",
   "pygments_lexer": "ipython3",
   "version": "3.8.6"
  }
 },
 "nbformat": 4,
 "nbformat_minor": 4
}
