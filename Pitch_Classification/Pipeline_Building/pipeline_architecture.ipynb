{
 "cells": [
  {
   "cell_type": "markdown",
   "metadata": {},
   "source": [
    "# Pipeline Architecture:\n",
    "The purpose of this notebook is to build out a pipeline of modeling, from classification to regression.  The general form is:\n",
    "\n",
    "1. Random Forest Classification of Pitch Type\n",
    "2. Linear Regression of X-Coordinate of Pitch Location (Px) - pitch type used as feature\n",
    "3. Linear Regression of Z-Coordinate of Pitch Location (Pz) - pitch type and px used as feature"
   ]
  },
  {
   "cell_type": "markdown",
   "metadata": {},
   "source": [
    "Importing packages:"
   ]
  },
  {
   "cell_type": "code",
   "execution_count": 1,
   "metadata": {},
   "outputs": [],
   "source": [
    "import pickle\n",
    "from sqlalchemy import create_engine\n",
    "import pandas as pd\n",
    "from importlib import reload\n",
    "import numpy as np\n",
    "import scipy.stats as st\n",
    "import matplotlib.pyplot as plt\n",
    "import seaborn as sns\n",
    "%config InlineBackend.figure_formats = ['retina']\n",
    "%matplotlib inline\n",
    "\n",
    "plt.rcParams['figure.figsize'] = (9, 6)\n",
    "sns.set(context='notebook', style='whitegrid', font_scale=1.2)"
   ]
  },
  {
   "cell_type": "code",
   "execution_count": 2,
   "metadata": {},
   "outputs": [],
   "source": [
    "import pandas as pd\n",
    "import numpy as np\n",
    "from scipy import stats\n",
    "from sklearn.linear_model import LinearRegression\n",
    "import seaborn as sns\n",
    "from sklearn.model_selection import train_test_split\n",
    "from sklearn.linear_model import LinearRegression, Lasso, LassoCV, Ridge, RidgeCV, ElasticNetCV\n",
    "from sklearn.metrics import r2_score\n",
    "from sklearn.pipeline import Pipeline\n",
    "from sklearn.preprocessing import StandardScaler\n",
    "from sklearn.model_selection import KFold\n",
    "from sklearn.pipeline import Pipeline, make_pipeline"
   ]
  },
  {
   "cell_type": "markdown",
   "metadata": {},
   "source": [
    "Pickling in initial data to work with:"
   ]
  },
  {
   "cell_type": "code",
   "execution_count": 3,
   "metadata": {},
   "outputs": [
    {
     "data": {
      "text/plain": [
       "'/Users/patrickbovard/Documents/GitHub/metis_final_project/Pitch_Classification'"
      ]
     },
     "execution_count": 3,
     "metadata": {},
     "output_type": "execute_result"
    }
   ],
   "source": [
    "pwd"
   ]
  },
  {
   "cell_type": "code",
   "execution_count": 4,
   "metadata": {},
   "outputs": [],
   "source": [
    "with open('.../Data/train_df_clusters.pickle','rb') as read_file:\n",
    "    pitch_df = pickle.load(read_file)"
   ]
  },
  {
   "cell_type": "code",
   "execution_count": 5,
   "metadata": {},
   "outputs": [
    {
     "data": {
      "text/plain": [
       "(2848371, 49)"
      ]
     },
     "execution_count": 5,
     "metadata": {},
     "output_type": "execute_result"
    }
   ],
   "source": [
    "pitch_df.shape"
   ]
  },
  {
   "cell_type": "markdown",
   "metadata": {},
   "source": [
    "In order to determine who to include in the pipeline, I'll see who the top xx pitchers are, in terms of pitches thrown:"
   ]
  },
  {
   "cell_type": "code",
   "execution_count": 6,
   "metadata": {
    "scrolled": true
   },
   "outputs": [
    {
     "data": {
      "text/plain": [
       "Max Scherzer         13479\n",
       "Justin Verlander     12810\n",
       "Chris Archer         12760\n",
       "Jose Quintana        12692\n",
       "Chris Sale           12689\n",
       "Rick Porcello        12591\n",
       "Jon Lester           12566\n",
       "Corey Kluber         12480\n",
       "Gio Gonzalez         12418\n",
       "Zack Greinke         12092\n",
       "Julio Teheran        12076\n",
       "Jake Arrieta         12028\n",
       "Cole Hamels          11946\n",
       "Trevor Bauer         11860\n",
       "James Shields        11768\n",
       "Gerrit Cole          11716\n",
       "Jacob deGrom         11691\n",
       "Dallas Keuchel       11659\n",
       "Jake Odorizzi        11649\n",
       "Kyle Gibson          11514\n",
       "Marco Estrada        11490\n",
       "J.A. Happ            11401\n",
       "Kevin Gausman        11337\n",
       "Tanner Roark         11296\n",
       "Mike Fiers           11093\n",
       "Ian Kennedy          10963\n",
       "Kyle Hendricks       10952\n",
       "Mike Leake           10952\n",
       "David Price          10932\n",
       "Carlos Martinez      10920\n",
       "Carlos Carrasco      10913\n",
       "Andrew Cashner       10732\n",
       "Jeff Samardzija      10573\n",
       "Madison Bumgarner    10551\n",
       "Jason Hammel         10446\n",
       "Masahiro Tanaka      10442\n",
       "CC Sabathia          10437\n",
       "Robbie Ray           10403\n",
       "Wade Miley           10263\n",
       "Clayton Kershaw      10249\n",
       "Danny Duffy          10114\n",
       "Bartolo Colon        10056\n",
       "Patrick Corbin       10002\n",
       "Sonny Gray            9942\n",
       "Chase Anderson        9932\n",
       "Johnny Cueto          9872\n",
       "Francisco Liriano     9764\n",
       "Hector Santiago       9511\n",
       "Jordan Zimmermann     9509\n",
       "Felix Hernandez       9433\n",
       "Name: pitcher_full_name, dtype: int64"
      ]
     },
     "execution_count": 6,
     "metadata": {},
     "output_type": "execute_result"
    }
   ],
   "source": [
    "pitch_df.pitcher_full_name.value_counts().head(50)"
   ]
  },
  {
   "cell_type": "code",
   "execution_count": 7,
   "metadata": {},
   "outputs": [
    {
     "data": {
      "text/plain": [
       "558964"
      ]
     },
     "execution_count": 7,
     "metadata": {},
     "output_type": "execute_result"
    }
   ],
   "source": [
    "pitch_df.pitcher_full_name.value_counts().head(50).sum()"
   ]
  },
  {
   "cell_type": "markdown",
   "metadata": {},
   "source": [
    "So that would cover 564,235 total pitches from 2015-2018."
   ]
  },
  {
   "cell_type": "code",
   "execution_count": 8,
   "metadata": {},
   "outputs": [
    {
     "data": {
      "text/html": [
       "<div>\n",
       "<style scoped>\n",
       "    .dataframe tbody tr th:only-of-type {\n",
       "        vertical-align: middle;\n",
       "    }\n",
       "\n",
       "    .dataframe tbody tr th {\n",
       "        vertical-align: top;\n",
       "    }\n",
       "\n",
       "    .dataframe thead th {\n",
       "        text-align: right;\n",
       "    }\n",
       "</style>\n",
       "<table border=\"1\" class=\"dataframe\">\n",
       "  <thead>\n",
       "    <tr style=\"text-align: right;\">\n",
       "      <th></th>\n",
       "      <th>inning</th>\n",
       "      <th>batter_id</th>\n",
       "      <th>pitcher_id</th>\n",
       "      <th>top</th>\n",
       "      <th>ab_id</th>\n",
       "      <th>p_score</th>\n",
       "      <th>stand</th>\n",
       "      <th>p_throws</th>\n",
       "      <th>event</th>\n",
       "      <th>home_team</th>\n",
       "      <th>...</th>\n",
       "      <th>cumulative_cu_rate</th>\n",
       "      <th>cumulative_si_rate</th>\n",
       "      <th>cumulative_fc_rate</th>\n",
       "      <th>cumulative_kc_rate</th>\n",
       "      <th>cumulative_fs_rate</th>\n",
       "      <th>cumulative_kn_rate</th>\n",
       "      <th>cumulative_ep_rate</th>\n",
       "      <th>cumulative_fo_rate</th>\n",
       "      <th>cumulative_sc_rate</th>\n",
       "      <th>Cluster</th>\n",
       "    </tr>\n",
       "  </thead>\n",
       "  <tbody>\n",
       "    <tr>\n",
       "      <th>2848366</th>\n",
       "      <td>9.0</td>\n",
       "      <td>595879</td>\n",
       "      <td>623352</td>\n",
       "      <td>0.0</td>\n",
       "      <td>2.018186e+09</td>\n",
       "      <td>3.0</td>\n",
       "      <td>R</td>\n",
       "      <td>L</td>\n",
       "      <td>Single</td>\n",
       "      <td>chn</td>\n",
       "      <td>...</td>\n",
       "      <td>0.0</td>\n",
       "      <td>0.0</td>\n",
       "      <td>0.0</td>\n",
       "      <td>0.0</td>\n",
       "      <td>0.0</td>\n",
       "      <td>0.0</td>\n",
       "      <td>0.0</td>\n",
       "      <td>0.0</td>\n",
       "      <td>0.0</td>\n",
       "      <td>1.0</td>\n",
       "    </tr>\n",
       "    <tr>\n",
       "      <th>2848367</th>\n",
       "      <td>9.0</td>\n",
       "      <td>519203</td>\n",
       "      <td>623352</td>\n",
       "      <td>0.0</td>\n",
       "      <td>2.018186e+09</td>\n",
       "      <td>3.0</td>\n",
       "      <td>L</td>\n",
       "      <td>L</td>\n",
       "      <td>Flyout</td>\n",
       "      <td>chn</td>\n",
       "      <td>...</td>\n",
       "      <td>0.0</td>\n",
       "      <td>0.0</td>\n",
       "      <td>0.0</td>\n",
       "      <td>0.0</td>\n",
       "      <td>0.0</td>\n",
       "      <td>0.0</td>\n",
       "      <td>0.0</td>\n",
       "      <td>0.0</td>\n",
       "      <td>0.0</td>\n",
       "      <td>3.0</td>\n",
       "    </tr>\n",
       "    <tr>\n",
       "      <th>2848368</th>\n",
       "      <td>9.0</td>\n",
       "      <td>519203</td>\n",
       "      <td>623352</td>\n",
       "      <td>0.0</td>\n",
       "      <td>2.018186e+09</td>\n",
       "      <td>3.0</td>\n",
       "      <td>L</td>\n",
       "      <td>L</td>\n",
       "      <td>Flyout</td>\n",
       "      <td>chn</td>\n",
       "      <td>...</td>\n",
       "      <td>0.0</td>\n",
       "      <td>0.0</td>\n",
       "      <td>0.0</td>\n",
       "      <td>0.0</td>\n",
       "      <td>0.0</td>\n",
       "      <td>0.0</td>\n",
       "      <td>0.0</td>\n",
       "      <td>0.0</td>\n",
       "      <td>0.0</td>\n",
       "      <td>3.0</td>\n",
       "    </tr>\n",
       "    <tr>\n",
       "      <th>2848369</th>\n",
       "      <td>9.0</td>\n",
       "      <td>519203</td>\n",
       "      <td>623352</td>\n",
       "      <td>0.0</td>\n",
       "      <td>2.018186e+09</td>\n",
       "      <td>3.0</td>\n",
       "      <td>L</td>\n",
       "      <td>L</td>\n",
       "      <td>Flyout</td>\n",
       "      <td>chn</td>\n",
       "      <td>...</td>\n",
       "      <td>0.0</td>\n",
       "      <td>0.0</td>\n",
       "      <td>0.0</td>\n",
       "      <td>0.0</td>\n",
       "      <td>0.0</td>\n",
       "      <td>0.0</td>\n",
       "      <td>0.0</td>\n",
       "      <td>0.0</td>\n",
       "      <td>0.0</td>\n",
       "      <td>3.0</td>\n",
       "    </tr>\n",
       "    <tr>\n",
       "      <th>2848370</th>\n",
       "      <td>9.0</td>\n",
       "      <td>519203</td>\n",
       "      <td>623352</td>\n",
       "      <td>0.0</td>\n",
       "      <td>2.018186e+09</td>\n",
       "      <td>3.0</td>\n",
       "      <td>L</td>\n",
       "      <td>L</td>\n",
       "      <td>Flyout</td>\n",
       "      <td>chn</td>\n",
       "      <td>...</td>\n",
       "      <td>0.0</td>\n",
       "      <td>0.0</td>\n",
       "      <td>0.0</td>\n",
       "      <td>0.0</td>\n",
       "      <td>0.0</td>\n",
       "      <td>0.0</td>\n",
       "      <td>0.0</td>\n",
       "      <td>0.0</td>\n",
       "      <td>0.0</td>\n",
       "      <td>3.0</td>\n",
       "    </tr>\n",
       "  </tbody>\n",
       "</table>\n",
       "<p>5 rows × 49 columns</p>\n",
       "</div>"
      ],
      "text/plain": [
       "         inning  batter_id  pitcher_id  top         ab_id  p_score stand  \\\n",
       "2848366     9.0     595879      623352  0.0  2.018186e+09      3.0     R   \n",
       "2848367     9.0     519203      623352  0.0  2.018186e+09      3.0     L   \n",
       "2848368     9.0     519203      623352  0.0  2.018186e+09      3.0     L   \n",
       "2848369     9.0     519203      623352  0.0  2.018186e+09      3.0     L   \n",
       "2848370     9.0     519203      623352  0.0  2.018186e+09      3.0     L   \n",
       "\n",
       "        p_throws   event home_team  ... cumulative_cu_rate  \\\n",
       "2848366        L  Single       chn  ...                0.0   \n",
       "2848367        L  Flyout       chn  ...                0.0   \n",
       "2848368        L  Flyout       chn  ...                0.0   \n",
       "2848369        L  Flyout       chn  ...                0.0   \n",
       "2848370        L  Flyout       chn  ...                0.0   \n",
       "\n",
       "         cumulative_si_rate  cumulative_fc_rate  cumulative_kc_rate  \\\n",
       "2848366                 0.0                 0.0                 0.0   \n",
       "2848367                 0.0                 0.0                 0.0   \n",
       "2848368                 0.0                 0.0                 0.0   \n",
       "2848369                 0.0                 0.0                 0.0   \n",
       "2848370                 0.0                 0.0                 0.0   \n",
       "\n",
       "         cumulative_fs_rate  cumulative_kn_rate  cumulative_ep_rate  \\\n",
       "2848366                 0.0                 0.0                 0.0   \n",
       "2848367                 0.0                 0.0                 0.0   \n",
       "2848368                 0.0                 0.0                 0.0   \n",
       "2848369                 0.0                 0.0                 0.0   \n",
       "2848370                 0.0                 0.0                 0.0   \n",
       "\n",
       "        cumulative_fo_rate cumulative_sc_rate  Cluster  \n",
       "2848366                0.0                0.0      1.0  \n",
       "2848367                0.0                0.0      3.0  \n",
       "2848368                0.0                0.0      3.0  \n",
       "2848369                0.0                0.0      3.0  \n",
       "2848370                0.0                0.0      3.0  \n",
       "\n",
       "[5 rows x 49 columns]"
      ]
     },
     "execution_count": 8,
     "metadata": {},
     "output_type": "execute_result"
    }
   ],
   "source": [
    "pitch_df.tail()"
   ]
  },
  {
   "cell_type": "code",
   "execution_count": 9,
   "metadata": {},
   "outputs": [
    {
     "data": {
      "text/plain": [
       "Index(['inning', 'batter_id', 'pitcher_id', 'top', 'ab_id', 'p_score', 'stand',\n",
       "       'p_throws', 'event', 'home_team', 'away_team', 'b_score', 'on_1b',\n",
       "       'on_2b', 'on_3b', 'px', 'pz', 'zone', 'pitch_type', 'start_speed',\n",
       "       'type', 'b_count', 's_count', 'outs', 'pitch_num', 'last_pitch_type',\n",
       "       'last_pitch_px', 'last_pitch_pz', 'last_pitch_speed',\n",
       "       'pitcher_full_name', 'pitcher_run_diff', 'hitter_full_name',\n",
       "       'Date_Time_Date', 'Season', 'cumulative_pitches', 'cumulative_ff_rate',\n",
       "       'cumulative_sl_rate', 'cumulative_ft_rate', 'cumulative_ch_rate',\n",
       "       'cumulative_cu_rate', 'cumulative_si_rate', 'cumulative_fc_rate',\n",
       "       'cumulative_kc_rate', 'cumulative_fs_rate', 'cumulative_kn_rate',\n",
       "       'cumulative_ep_rate', 'cumulative_fo_rate', 'cumulative_sc_rate',\n",
       "       'Cluster'],\n",
       "      dtype='object')"
      ]
     },
     "execution_count": 9,
     "metadata": {},
     "output_type": "execute_result"
    }
   ],
   "source": [
    "pitch_df.columns"
   ]
  },
  {
   "cell_type": "markdown",
   "metadata": {},
   "source": [
    "Checking out pitch types:"
   ]
  },
  {
   "cell_type": "code",
   "execution_count": 10,
   "metadata": {},
   "outputs": [
    {
     "data": {
      "text/plain": [
       "FF    1015709\n",
       "SL     451009\n",
       "FT     338134\n",
       "CH     293009\n",
       "SI     242653\n",
       "CU     234554\n",
       "FC     149870\n",
       "KC      66522\n",
       "FS      43911\n",
       "KN      11260\n",
       "EP        816\n",
       "FO        810\n",
       "SC        114\n",
       "Name: pitch_type, dtype: int64"
      ]
     },
     "execution_count": 10,
     "metadata": {},
     "output_type": "execute_result"
    }
   ],
   "source": [
    "pitch_df.pitch_type.value_counts()"
   ]
  },
  {
   "cell_type": "markdown",
   "metadata": {},
   "source": [
    "Removing the eephus, since that is more of a trick pitch (i.e. a slow lob), not a pitch anyone throws with regularity, unlike the other low pitches (Forkball and Screwball), which are rare but thrown with more frequency by the 1-2 pitchers that use them."
   ]
  },
  {
   "cell_type": "code",
   "execution_count": 11,
   "metadata": {},
   "outputs": [],
   "source": [
    "pitch_df = pitch_df[pitch_df.pitch_type != 'EP']"
   ]
  },
  {
   "cell_type": "markdown",
   "metadata": {},
   "source": [
    "Importing the regression functions:"
   ]
  },
  {
   "cell_type": "code",
   "execution_count": 12,
   "metadata": {},
   "outputs": [],
   "source": [
    "from location_regression_functions import *\n",
    "from pitch_cat_functions import *"
   ]
  },
  {
   "cell_type": "markdown",
   "metadata": {},
   "source": [
    "Importing the functions from the pipeline script:"
   ]
  },
  {
   "cell_type": "code",
   "execution_count": 13,
   "metadata": {},
   "outputs": [],
   "source": [
    "from classification_location_combo import *"
   ]
  },
  {
   "cell_type": "markdown",
   "metadata": {},
   "source": [
    "### Initial dataframe setup:"
   ]
  },
  {
   "cell_type": "markdown",
   "metadata": {},
   "source": [
    "Before working on building out a workflow to model multiple pitchers in succession, I will build out the pipeline here in a step by step fashion:"
   ]
  },
  {
   "cell_type": "markdown",
   "metadata": {},
   "source": [
    "### Dataframe Setup:"
   ]
  },
  {
   "cell_type": "markdown",
   "metadata": {},
   "source": [
    "First, to set up the dataframe structure needed to model.  First step is to filter for the desired player's name:"
   ]
  },
  {
   "cell_type": "code",
   "execution_count": 14,
   "metadata": {},
   "outputs": [],
   "source": [
    "scherzer_df = pitch_df[(pitch_df.pitcher_full_name == 'Max Scherzer') &(pitch_df.last_pitch_px.notnull())]"
   ]
  },
  {
   "cell_type": "markdown",
   "metadata": {},
   "source": [
    "One hot encoding of needed columns:"
   ]
  },
  {
   "cell_type": "code",
   "execution_count": 15,
   "metadata": {},
   "outputs": [],
   "source": [
    "ohe_cols = ['stand', 'p_throws']"
   ]
  },
  {
   "cell_type": "code",
   "execution_count": 16,
   "metadata": {},
   "outputs": [],
   "source": [
    "ohe_df = column_ohe_maker(scherzer_df, ohe_cols)"
   ]
  },
  {
   "cell_type": "markdown",
   "metadata": {},
   "source": [
    "Numerically coding last pitch type and pitch type:"
   ]
  },
  {
   "cell_type": "code",
   "execution_count": 17,
   "metadata": {},
   "outputs": [
    {
     "name": "stdout",
     "output_type": "stream",
     "text": [
      "Here is the coding for last pitch type:\n",
      "{'FF': 0, 'SL': 1, 'CH': 2, 'CU': 3, 'FC': 4, 'FT': 5, 'UN': 6}\n"
     ]
    },
    {
     "name": "stderr",
     "output_type": "stream",
     "text": [
      "/Users/patrickbovard/opt/anaconda3/envs/metis/lib/python3.8/site-packages/pandas/core/indexing.py:670: SettingWithCopyWarning: \n",
      "A value is trying to be set on a copy of a slice from a DataFrame\n",
      "\n",
      "See the caveats in the documentation: https://pandas.pydata.org/pandas-docs/stable/user_guide/indexing.html#returning-a-view-versus-a-copy\n",
      "  iloc._setitem_with_indexer(indexer, value)\n"
     ]
    }
   ],
   "source": [
    "temp_df = last_pitch_type_to_num(ohe_df, 'last_pitch_type')"
   ]
  },
  {
   "cell_type": "code",
   "execution_count": 18,
   "metadata": {},
   "outputs": [
    {
     "name": "stdout",
     "output_type": "stream",
     "text": [
      "Here is the coding for pitch type:\n",
      "{'FF': 0, 'SL': 1, 'CH': 2, 'CU': 3, 'FC': 4, 'FT': 5}\n"
     ]
    }
   ],
   "source": [
    "output_df = pitch_type_to_num(temp_df, 'pitch_type')"
   ]
  },
  {
   "cell_type": "markdown",
   "metadata": {},
   "source": [
    "Declaring the columns for each step of the modeling process:"
   ]
  },
  {
   "cell_type": "code",
   "execution_count": 19,
   "metadata": {},
   "outputs": [],
   "source": [
    "rf_cols = ['Cluster','inning', 'top', 'on_1b', 'on_2b', 'on_3b', 'b_count', 's_count', 'outs', 'stand_R',\n",
    "       'pitcher_run_diff','last_pitch_speed', 'last_pitch_px', 'last_pitch_pz','pitch_num','cumulative_pitches',\n",
    "       'cumulative_ff_rate', 'cumulative_sl_rate', 'cumulative_ft_rate',\n",
    "       'cumulative_ch_rate', 'cumulative_cu_rate', 'cumulative_si_rate',\n",
    "       'cumulative_fc_rate', 'cumulative_kc_rate', 'cumulative_fs_rate',\n",
    "       'cumulative_kn_rate', 'cumulative_ep_rate', 'cumulative_fo_rate',\n",
    "       'cumulative_sc_rate', 'Last_Pitch_Type_Num']"
   ]
  },
  {
   "cell_type": "code",
   "execution_count": 20,
   "metadata": {},
   "outputs": [],
   "source": [
    "px_cols = rf_cols.copy()"
   ]
  },
  {
   "cell_type": "code",
   "execution_count": 21,
   "metadata": {},
   "outputs": [],
   "source": [
    "px_cols.append('Pitch_Type_Num')"
   ]
  },
  {
   "cell_type": "code",
   "execution_count": 22,
   "metadata": {},
   "outputs": [],
   "source": [
    "px_cols_val = px_cols.copy()\n",
    "px_cols_val.append('pitch_pred')\n",
    "px_cols_val.remove('Pitch_Type_Num')"
   ]
  },
  {
   "cell_type": "code",
   "execution_count": 23,
   "metadata": {},
   "outputs": [],
   "source": [
    "pz_cols = px_cols.copy()\n",
    "pz_cols.append('px')"
   ]
  },
  {
   "cell_type": "code",
   "execution_count": 24,
   "metadata": {},
   "outputs": [],
   "source": [
    "pz_cols_val = pz_cols.copy()\n",
    "pz_cols_val.append('px_pred')\n",
    "pz_cols_val.remove('px')"
   ]
  },
  {
   "cell_type": "markdown",
   "metadata": {},
   "source": [
    "Instead of a traditional train/test split, I need to split my dataframe into similar pitches.  To help with generalization/simulating unseen data, I'll split by at bat (using split_pitch_data in classification_location_combo.py)."
   ]
  },
  {
   "cell_type": "code",
   "execution_count": 25,
   "metadata": {},
   "outputs": [
    {
     "name": "stdout",
     "output_type": "stream",
     "text": [
      "Actual Test Size: 0.2460442305912834\n"
     ]
    }
   ],
   "source": [
    "training_pitches, val_pitches = split_pitch_data(output_df, test_size=0.20)"
   ]
  },
  {
   "cell_type": "markdown",
   "metadata": {},
   "source": [
    "Now with training and validation df's separate, I can run modeling on each step, using the columns."
   ]
  },
  {
   "cell_type": "markdown",
   "metadata": {},
   "source": [
    "### Classification:"
   ]
  },
  {
   "cell_type": "markdown",
   "metadata": {},
   "source": [
    "Setting up X and y for modeling, and performing train/test split:"
   ]
  },
  {
   "cell_type": "code",
   "execution_count": 26,
   "metadata": {},
   "outputs": [],
   "source": [
    "X_rf_train = training_pitches[rf_cols]"
   ]
  },
  {
   "cell_type": "code",
   "execution_count": 27,
   "metadata": {},
   "outputs": [],
   "source": [
    "y_rf_train = training_pitches['Pitch_Type_Num']"
   ]
  },
  {
   "cell_type": "code",
   "execution_count": 28,
   "metadata": {},
   "outputs": [],
   "source": [
    "X_rf_val = val_pitches[rf_cols]"
   ]
  },
  {
   "cell_type": "code",
   "execution_count": 29,
   "metadata": {},
   "outputs": [],
   "source": [
    "y_rf_val = val_pitches['Pitch_Type_Num']"
   ]
  },
  {
   "cell_type": "markdown",
   "metadata": {},
   "source": [
    "Fitting model on test, then predicting on train:"
   ]
  },
  {
   "cell_type": "code",
   "execution_count": 30,
   "metadata": {},
   "outputs": [
    {
     "data": {
      "text/plain": [
       "RandomForestClassifier()"
      ]
     },
     "execution_count": 30,
     "metadata": {},
     "output_type": "execute_result"
    }
   ],
   "source": [
    "rf_model = RandomForestClassifier()\n",
    "rf_model.fit(X_rf_train,y_rf_train)"
   ]
  },
  {
   "cell_type": "code",
   "execution_count": 31,
   "metadata": {},
   "outputs": [],
   "source": [
    "y_rf_pred = rf_model.predict(X_rf_val)"
   ]
  },
  {
   "cell_type": "code",
   "execution_count": 32,
   "metadata": {},
   "outputs": [],
   "source": [
    "unique, counts = np.unique(y_rf_pred, return_counts=True)"
   ]
  },
  {
   "cell_type": "code",
   "execution_count": 33,
   "metadata": {},
   "outputs": [
    {
     "data": {
      "text/plain": [
       "array([[   0, 2193],\n",
       "       [   1,  309],\n",
       "       [   2,   88],\n",
       "       [   3,   28],\n",
       "       [   4,   40],\n",
       "       [   5,    1]])"
      ]
     },
     "execution_count": 33,
     "metadata": {},
     "output_type": "execute_result"
    }
   ],
   "source": [
    "np.asarray((unique, counts)).T"
   ]
  },
  {
   "cell_type": "markdown",
   "metadata": {},
   "source": [
    "Running some metrics:"
   ]
  },
  {
   "cell_type": "code",
   "execution_count": 34,
   "metadata": {},
   "outputs": [
    {
     "data": {
      "text/plain": [
       "array([[1200,  127,   29,   16,   18,    0],\n",
       "       [ 361,  142,    7,    3,    0,    0],\n",
       "       [ 314,   22,   31,    5,    5,    0],\n",
       "       [ 199,    8,   11,    2,    2,    0],\n",
       "       [ 109,    3,   10,    2,   15,    0],\n",
       "       [  10,    7,    0,    0,    0,    1]])"
      ]
     },
     "execution_count": 34,
     "metadata": {},
     "output_type": "execute_result"
    }
   ],
   "source": [
    "cm = confusion_matrix(y_rf_val, y_rf_pred)\n",
    "cm"
   ]
  },
  {
   "cell_type": "markdown",
   "metadata": {},
   "source": [
    "### Px:"
   ]
  },
  {
   "cell_type": "markdown",
   "metadata": {},
   "source": [
    "Adding the predicted pitch types to the validation dataframe, for use as a feature in Px regression:"
   ]
  },
  {
   "cell_type": "code",
   "execution_count": 35,
   "metadata": {},
   "outputs": [
    {
     "name": "stderr",
     "output_type": "stream",
     "text": [
      "<ipython-input-35-5c9b03fe5b97>:1: SettingWithCopyWarning: \n",
      "A value is trying to be set on a copy of a slice from a DataFrame.\n",
      "Try using .loc[row_indexer,col_indexer] = value instead\n",
      "\n",
      "See the caveats in the documentation: https://pandas.pydata.org/pandas-docs/stable/user_guide/indexing.html#returning-a-view-versus-a-copy\n",
      "  val_pitches['pitch_pred'] = y_rf_pred\n"
     ]
    }
   ],
   "source": [
    "val_pitches['pitch_pred'] = y_rf_pred"
   ]
  },
  {
   "cell_type": "markdown",
   "metadata": {},
   "source": [
    "Setting up X and y, with train test split:"
   ]
  },
  {
   "cell_type": "code",
   "execution_count": 36,
   "metadata": {},
   "outputs": [],
   "source": [
    "X_px_tr = training_pitches[px_cols]\n",
    "y_px_tr = training_pitches['px']"
   ]
  },
  {
   "cell_type": "code",
   "execution_count": 37,
   "metadata": {},
   "outputs": [],
   "source": [
    "X_px_val = val_pitches[px_cols_val]\n",
    "y_px_val = val_pitches['px']"
   ]
  },
  {
   "cell_type": "markdown",
   "metadata": {},
   "source": [
    "Instantiating linear regression:"
   ]
  },
  {
   "cell_type": "code",
   "execution_count": 38,
   "metadata": {},
   "outputs": [],
   "source": [
    "lm = LinearRegression()"
   ]
  },
  {
   "cell_type": "code",
   "execution_count": 39,
   "metadata": {},
   "outputs": [
    {
     "data": {
      "text/plain": [
       "LinearRegression()"
      ]
     },
     "execution_count": 39,
     "metadata": {},
     "output_type": "execute_result"
    }
   ],
   "source": [
    "lm.fit(X_px_tr, y_px_tr)"
   ]
  },
  {
   "cell_type": "code",
   "execution_count": 40,
   "metadata": {},
   "outputs": [],
   "source": [
    "px_pred = lm.predict(X_px_val)"
   ]
  },
  {
   "cell_type": "markdown",
   "metadata": {},
   "source": [
    "Getting some metrics:"
   ]
  },
  {
   "cell_type": "code",
   "execution_count": 41,
   "metadata": {},
   "outputs": [
    {
     "data": {
      "text/plain": [
       "0.06449344857078854"
      ]
     },
     "execution_count": 41,
     "metadata": {},
     "output_type": "execute_result"
    }
   ],
   "source": [
    "px_r2 = lm.score(X_px_val, y_px_val)\n",
    "px_r2"
   ]
  },
  {
   "cell_type": "code",
   "execution_count": 42,
   "metadata": {},
   "outputs": [],
   "source": [
    "px_mae = mae(y_px_val, px_pred)"
   ]
  },
  {
   "cell_type": "code",
   "execution_count": 43,
   "metadata": {},
   "outputs": [
    {
     "data": {
      "text/plain": [
       "0.6803683899976727"
      ]
     },
     "execution_count": 43,
     "metadata": {},
     "output_type": "execute_result"
    }
   ],
   "source": [
    "px_mae"
   ]
  },
  {
   "cell_type": "markdown",
   "metadata": {},
   "source": [
    "Adding a px_pred column to the dataframe to utilize in the pz regression:"
   ]
  },
  {
   "cell_type": "code",
   "execution_count": 44,
   "metadata": {},
   "outputs": [
    {
     "name": "stderr",
     "output_type": "stream",
     "text": [
      "<ipython-input-44-77bce8a037dd>:1: SettingWithCopyWarning: \n",
      "A value is trying to be set on a copy of a slice from a DataFrame.\n",
      "Try using .loc[row_indexer,col_indexer] = value instead\n",
      "\n",
      "See the caveats in the documentation: https://pandas.pydata.org/pandas-docs/stable/user_guide/indexing.html#returning-a-view-versus-a-copy\n",
      "  val_pitches['px_pred'] = px_pred\n"
     ]
    }
   ],
   "source": [
    "val_pitches['px_pred'] = px_pred"
   ]
  },
  {
   "cell_type": "markdown",
   "metadata": {},
   "source": [
    "### Pz:"
   ]
  },
  {
   "cell_type": "markdown",
   "metadata": {},
   "source": [
    "Setting up X and y, with train test split:"
   ]
  },
  {
   "cell_type": "code",
   "execution_count": 45,
   "metadata": {},
   "outputs": [],
   "source": [
    "X_pz_tr = training_pitches[pz_cols]\n",
    "y_pz_tr = training_pitches['pz']"
   ]
  },
  {
   "cell_type": "code",
   "execution_count": 46,
   "metadata": {},
   "outputs": [],
   "source": [
    "X_pz_val = val_pitches[pz_cols_val]\n",
    "y_pz_val = val_pitches['pz']"
   ]
  },
  {
   "cell_type": "markdown",
   "metadata": {},
   "source": [
    "Instantiating linear regression:"
   ]
  },
  {
   "cell_type": "code",
   "execution_count": 47,
   "metadata": {},
   "outputs": [],
   "source": [
    "lm = LinearRegression()"
   ]
  },
  {
   "cell_type": "code",
   "execution_count": 48,
   "metadata": {},
   "outputs": [
    {
     "data": {
      "text/plain": [
       "LinearRegression()"
      ]
     },
     "execution_count": 48,
     "metadata": {},
     "output_type": "execute_result"
    }
   ],
   "source": [
    "lm.fit(X_pz_tr, y_pz_tr)"
   ]
  },
  {
   "cell_type": "code",
   "execution_count": 49,
   "metadata": {},
   "outputs": [],
   "source": [
    "pz_pred = lm.predict(X_pz_val)"
   ]
  },
  {
   "cell_type": "markdown",
   "metadata": {},
   "source": [
    "Getting some metrics:"
   ]
  },
  {
   "cell_type": "code",
   "execution_count": 50,
   "metadata": {},
   "outputs": [
    {
     "data": {
      "text/plain": [
       "0.14804216434246775"
      ]
     },
     "execution_count": 50,
     "metadata": {},
     "output_type": "execute_result"
    }
   ],
   "source": [
    "pz_r2 = lm.score(X_pz_val, y_pz_val)\n",
    "pz_r2"
   ]
  },
  {
   "cell_type": "code",
   "execution_count": 51,
   "metadata": {},
   "outputs": [
    {
     "data": {
      "text/plain": [
       "0.6252280801703138"
      ]
     },
     "execution_count": 51,
     "metadata": {},
     "output_type": "execute_result"
    }
   ],
   "source": [
    "pz_mae = mae(y_pz_val, pz_pred)\n",
    "pz_mae"
   ]
  },
  {
   "cell_type": "markdown",
   "metadata": {},
   "source": [
    "Adding a px_pred column to the dataframe to utilize in the pz regression:"
   ]
  },
  {
   "cell_type": "code",
   "execution_count": 52,
   "metadata": {},
   "outputs": [
    {
     "name": "stderr",
     "output_type": "stream",
     "text": [
      "<ipython-input-52-e701ef20288d>:1: SettingWithCopyWarning: \n",
      "A value is trying to be set on a copy of a slice from a DataFrame.\n",
      "Try using .loc[row_indexer,col_indexer] = value instead\n",
      "\n",
      "See the caveats in the documentation: https://pandas.pydata.org/pandas-docs/stable/user_guide/indexing.html#returning-a-view-versus-a-copy\n",
      "  val_pitches['pz_pred'] = pz_pred\n"
     ]
    }
   ],
   "source": [
    "val_pitches['pz_pred'] = pz_pred"
   ]
  },
  {
   "cell_type": "markdown",
   "metadata": {},
   "source": [
    "### Evaluating the pipeline:"
   ]
  },
  {
   "cell_type": "markdown",
   "metadata": {},
   "source": [
    "Looking at the final validation df:"
   ]
  },
  {
   "cell_type": "code",
   "execution_count": 53,
   "metadata": {},
   "outputs": [],
   "source": [
    "output_df = pd.DataFrame(columns=val_pitches.columns)"
   ]
  },
  {
   "cell_type": "code",
   "execution_count": 54,
   "metadata": {},
   "outputs": [],
   "source": [
    "output_df = pd.concat([output_df, val_pitches])"
   ]
  },
  {
   "cell_type": "code",
   "execution_count": 55,
   "metadata": {},
   "outputs": [
    {
     "data": {
      "text/html": [
       "<div>\n",
       "<style scoped>\n",
       "    .dataframe tbody tr th:only-of-type {\n",
       "        vertical-align: middle;\n",
       "    }\n",
       "\n",
       "    .dataframe tbody tr th {\n",
       "        vertical-align: top;\n",
       "    }\n",
       "\n",
       "    .dataframe thead th {\n",
       "        text-align: right;\n",
       "    }\n",
       "</style>\n",
       "<table border=\"1\" class=\"dataframe\">\n",
       "  <thead>\n",
       "    <tr style=\"text-align: right;\">\n",
       "      <th></th>\n",
       "      <th>inning</th>\n",
       "      <th>batter_id</th>\n",
       "      <th>pitcher_id</th>\n",
       "      <th>top</th>\n",
       "      <th>ab_id</th>\n",
       "      <th>p_score</th>\n",
       "      <th>event</th>\n",
       "      <th>home_team</th>\n",
       "      <th>away_team</th>\n",
       "      <th>b_score</th>\n",
       "      <th>...</th>\n",
       "      <th>cumulative_ep_rate</th>\n",
       "      <th>cumulative_fo_rate</th>\n",
       "      <th>cumulative_sc_rate</th>\n",
       "      <th>Cluster</th>\n",
       "      <th>stand_R</th>\n",
       "      <th>Last_Pitch_Type_Num</th>\n",
       "      <th>Pitch_Type_Num</th>\n",
       "      <th>pitch_pred</th>\n",
       "      <th>px_pred</th>\n",
       "      <th>pz_pred</th>\n",
       "    </tr>\n",
       "  </thead>\n",
       "  <tbody>\n",
       "    <tr>\n",
       "      <th>2453</th>\n",
       "      <td>3.0</td>\n",
       "      <td>527038</td>\n",
       "      <td>453286</td>\n",
       "      <td>1.0</td>\n",
       "      <td>2.015001e+09</td>\n",
       "      <td>0.0</td>\n",
       "      <td>Strikeout</td>\n",
       "      <td>was</td>\n",
       "      <td>nyn</td>\n",
       "      <td>0.0</td>\n",
       "      <td>...</td>\n",
       "      <td>0.0</td>\n",
       "      <td>0.0</td>\n",
       "      <td>0.0</td>\n",
       "      <td>3.0</td>\n",
       "      <td>1.0</td>\n",
       "      <td>0</td>\n",
       "      <td>0</td>\n",
       "      <td>0</td>\n",
       "      <td>0.038671</td>\n",
       "      <td>2.530527</td>\n",
       "    </tr>\n",
       "    <tr>\n",
       "      <th>2454</th>\n",
       "      <td>3.0</td>\n",
       "      <td>527038</td>\n",
       "      <td>453286</td>\n",
       "      <td>1.0</td>\n",
       "      <td>2.015001e+09</td>\n",
       "      <td>0.0</td>\n",
       "      <td>Strikeout</td>\n",
       "      <td>was</td>\n",
       "      <td>nyn</td>\n",
       "      <td>0.0</td>\n",
       "      <td>...</td>\n",
       "      <td>0.0</td>\n",
       "      <td>0.0</td>\n",
       "      <td>0.0</td>\n",
       "      <td>3.0</td>\n",
       "      <td>1.0</td>\n",
       "      <td>0</td>\n",
       "      <td>0</td>\n",
       "      <td>0</td>\n",
       "      <td>0.000305</td>\n",
       "      <td>2.423075</td>\n",
       "    </tr>\n",
       "    <tr>\n",
       "      <th>2455</th>\n",
       "      <td>3.0</td>\n",
       "      <td>527038</td>\n",
       "      <td>453286</td>\n",
       "      <td>1.0</td>\n",
       "      <td>2.015001e+09</td>\n",
       "      <td>0.0</td>\n",
       "      <td>Strikeout</td>\n",
       "      <td>was</td>\n",
       "      <td>nyn</td>\n",
       "      <td>0.0</td>\n",
       "      <td>...</td>\n",
       "      <td>0.0</td>\n",
       "      <td>0.0</td>\n",
       "      <td>0.0</td>\n",
       "      <td>3.0</td>\n",
       "      <td>1.0</td>\n",
       "      <td>0</td>\n",
       "      <td>0</td>\n",
       "      <td>1</td>\n",
       "      <td>0.109142</td>\n",
       "      <td>2.255876</td>\n",
       "    </tr>\n",
       "    <tr>\n",
       "      <th>2496</th>\n",
       "      <td>5.0</td>\n",
       "      <td>502517</td>\n",
       "      <td>453286</td>\n",
       "      <td>1.0</td>\n",
       "      <td>2.015001e+09</td>\n",
       "      <td>1.0</td>\n",
       "      <td>Flyout</td>\n",
       "      <td>was</td>\n",
       "      <td>nyn</td>\n",
       "      <td>0.0</td>\n",
       "      <td>...</td>\n",
       "      <td>0.0</td>\n",
       "      <td>0.0</td>\n",
       "      <td>0.0</td>\n",
       "      <td>3.0</td>\n",
       "      <td>0.0</td>\n",
       "      <td>1</td>\n",
       "      <td>0</td>\n",
       "      <td>0</td>\n",
       "      <td>-0.236734</td>\n",
       "      <td>2.648451</td>\n",
       "    </tr>\n",
       "    <tr>\n",
       "      <th>2497</th>\n",
       "      <td>5.0</td>\n",
       "      <td>502517</td>\n",
       "      <td>453286</td>\n",
       "      <td>1.0</td>\n",
       "      <td>2.015001e+09</td>\n",
       "      <td>1.0</td>\n",
       "      <td>Flyout</td>\n",
       "      <td>was</td>\n",
       "      <td>nyn</td>\n",
       "      <td>0.0</td>\n",
       "      <td>...</td>\n",
       "      <td>0.0</td>\n",
       "      <td>0.0</td>\n",
       "      <td>0.0</td>\n",
       "      <td>3.0</td>\n",
       "      <td>0.0</td>\n",
       "      <td>0</td>\n",
       "      <td>0</td>\n",
       "      <td>0</td>\n",
       "      <td>-0.335756</td>\n",
       "      <td>2.579163</td>\n",
       "    </tr>\n",
       "    <tr>\n",
       "      <th>...</th>\n",
       "      <td>...</td>\n",
       "      <td>...</td>\n",
       "      <td>...</td>\n",
       "      <td>...</td>\n",
       "      <td>...</td>\n",
       "      <td>...</td>\n",
       "      <td>...</td>\n",
       "      <td>...</td>\n",
       "      <td>...</td>\n",
       "      <td>...</td>\n",
       "      <td>...</td>\n",
       "      <td>...</td>\n",
       "      <td>...</td>\n",
       "      <td>...</td>\n",
       "      <td>...</td>\n",
       "      <td>...</td>\n",
       "      <td>...</td>\n",
       "      <td>...</td>\n",
       "      <td>...</td>\n",
       "      <td>...</td>\n",
       "      <td>...</td>\n",
       "    </tr>\n",
       "    <tr>\n",
       "      <th>2824533</th>\n",
       "      <td>6.0</td>\n",
       "      <td>598284</td>\n",
       "      <td>453286</td>\n",
       "      <td>1.0</td>\n",
       "      <td>2.018179e+09</td>\n",
       "      <td>3.0</td>\n",
       "      <td>Single</td>\n",
       "      <td>was</td>\n",
       "      <td>mia</td>\n",
       "      <td>1.0</td>\n",
       "      <td>...</td>\n",
       "      <td>0.0</td>\n",
       "      <td>0.0</td>\n",
       "      <td>0.0</td>\n",
       "      <td>1.0</td>\n",
       "      <td>1.0</td>\n",
       "      <td>0</td>\n",
       "      <td>1</td>\n",
       "      <td>1</td>\n",
       "      <td>0.207293</td>\n",
       "      <td>1.981297</td>\n",
       "    </tr>\n",
       "    <tr>\n",
       "      <th>2824534</th>\n",
       "      <td>6.0</td>\n",
       "      <td>598284</td>\n",
       "      <td>453286</td>\n",
       "      <td>1.0</td>\n",
       "      <td>2.018179e+09</td>\n",
       "      <td>3.0</td>\n",
       "      <td>Single</td>\n",
       "      <td>was</td>\n",
       "      <td>mia</td>\n",
       "      <td>1.0</td>\n",
       "      <td>...</td>\n",
       "      <td>0.0</td>\n",
       "      <td>0.0</td>\n",
       "      <td>0.0</td>\n",
       "      <td>1.0</td>\n",
       "      <td>1.0</td>\n",
       "      <td>1</td>\n",
       "      <td>1</td>\n",
       "      <td>1</td>\n",
       "      <td>0.237352</td>\n",
       "      <td>1.898896</td>\n",
       "    </tr>\n",
       "    <tr>\n",
       "      <th>2824535</th>\n",
       "      <td>6.0</td>\n",
       "      <td>598284</td>\n",
       "      <td>453286</td>\n",
       "      <td>1.0</td>\n",
       "      <td>2.018179e+09</td>\n",
       "      <td>3.0</td>\n",
       "      <td>Single</td>\n",
       "      <td>was</td>\n",
       "      <td>mia</td>\n",
       "      <td>1.0</td>\n",
       "      <td>...</td>\n",
       "      <td>0.0</td>\n",
       "      <td>0.0</td>\n",
       "      <td>0.0</td>\n",
       "      <td>1.0</td>\n",
       "      <td>1.0</td>\n",
       "      <td>1</td>\n",
       "      <td>0</td>\n",
       "      <td>0</td>\n",
       "      <td>0.101127</td>\n",
       "      <td>2.274266</td>\n",
       "    </tr>\n",
       "    <tr>\n",
       "      <th>2824536</th>\n",
       "      <td>6.0</td>\n",
       "      <td>598284</td>\n",
       "      <td>453286</td>\n",
       "      <td>1.0</td>\n",
       "      <td>2.018179e+09</td>\n",
       "      <td>3.0</td>\n",
       "      <td>Single</td>\n",
       "      <td>was</td>\n",
       "      <td>mia</td>\n",
       "      <td>1.0</td>\n",
       "      <td>...</td>\n",
       "      <td>0.0</td>\n",
       "      <td>0.0</td>\n",
       "      <td>0.0</td>\n",
       "      <td>1.0</td>\n",
       "      <td>1.0</td>\n",
       "      <td>0</td>\n",
       "      <td>2</td>\n",
       "      <td>0</td>\n",
       "      <td>0.023004</td>\n",
       "      <td>1.927386</td>\n",
       "    </tr>\n",
       "    <tr>\n",
       "      <th>2824537</th>\n",
       "      <td>6.0</td>\n",
       "      <td>598284</td>\n",
       "      <td>453286</td>\n",
       "      <td>1.0</td>\n",
       "      <td>2.018179e+09</td>\n",
       "      <td>3.0</td>\n",
       "      <td>Single</td>\n",
       "      <td>was</td>\n",
       "      <td>mia</td>\n",
       "      <td>1.0</td>\n",
       "      <td>...</td>\n",
       "      <td>0.0</td>\n",
       "      <td>0.0</td>\n",
       "      <td>0.0</td>\n",
       "      <td>1.0</td>\n",
       "      <td>1.0</td>\n",
       "      <td>2</td>\n",
       "      <td>1</td>\n",
       "      <td>0</td>\n",
       "      <td>0.000413</td>\n",
       "      <td>2.133406</td>\n",
       "    </tr>\n",
       "  </tbody>\n",
       "</table>\n",
       "<p>2659 rows × 53 columns</p>\n",
       "</div>"
      ],
      "text/plain": [
       "         inning batter_id pitcher_id  top         ab_id  p_score      event  \\\n",
       "2453        3.0    527038     453286  1.0  2.015001e+09      0.0  Strikeout   \n",
       "2454        3.0    527038     453286  1.0  2.015001e+09      0.0  Strikeout   \n",
       "2455        3.0    527038     453286  1.0  2.015001e+09      0.0  Strikeout   \n",
       "2496        5.0    502517     453286  1.0  2.015001e+09      1.0     Flyout   \n",
       "2497        5.0    502517     453286  1.0  2.015001e+09      1.0     Flyout   \n",
       "...         ...       ...        ...  ...           ...      ...        ...   \n",
       "2824533     6.0    598284     453286  1.0  2.018179e+09      3.0     Single   \n",
       "2824534     6.0    598284     453286  1.0  2.018179e+09      3.0     Single   \n",
       "2824535     6.0    598284     453286  1.0  2.018179e+09      3.0     Single   \n",
       "2824536     6.0    598284     453286  1.0  2.018179e+09      3.0     Single   \n",
       "2824537     6.0    598284     453286  1.0  2.018179e+09      3.0     Single   \n",
       "\n",
       "        home_team away_team  b_score  ...  cumulative_ep_rate  \\\n",
       "2453          was       nyn      0.0  ...                 0.0   \n",
       "2454          was       nyn      0.0  ...                 0.0   \n",
       "2455          was       nyn      0.0  ...                 0.0   \n",
       "2496          was       nyn      0.0  ...                 0.0   \n",
       "2497          was       nyn      0.0  ...                 0.0   \n",
       "...           ...       ...      ...  ...                 ...   \n",
       "2824533       was       mia      1.0  ...                 0.0   \n",
       "2824534       was       mia      1.0  ...                 0.0   \n",
       "2824535       was       mia      1.0  ...                 0.0   \n",
       "2824536       was       mia      1.0  ...                 0.0   \n",
       "2824537       was       mia      1.0  ...                 0.0   \n",
       "\n",
       "         cumulative_fo_rate  cumulative_sc_rate  Cluster  stand_R  \\\n",
       "2453                    0.0                 0.0      3.0      1.0   \n",
       "2454                    0.0                 0.0      3.0      1.0   \n",
       "2455                    0.0                 0.0      3.0      1.0   \n",
       "2496                    0.0                 0.0      3.0      0.0   \n",
       "2497                    0.0                 0.0      3.0      0.0   \n",
       "...                     ...                 ...      ...      ...   \n",
       "2824533                 0.0                 0.0      1.0      1.0   \n",
       "2824534                 0.0                 0.0      1.0      1.0   \n",
       "2824535                 0.0                 0.0      1.0      1.0   \n",
       "2824536                 0.0                 0.0      1.0      1.0   \n",
       "2824537                 0.0                 0.0      1.0      1.0   \n",
       "\n",
       "        Last_Pitch_Type_Num Pitch_Type_Num  pitch_pred   px_pred   pz_pred  \n",
       "2453                      0              0           0  0.038671  2.530527  \n",
       "2454                      0              0           0  0.000305  2.423075  \n",
       "2455                      0              0           1  0.109142  2.255876  \n",
       "2496                      1              0           0 -0.236734  2.648451  \n",
       "2497                      0              0           0 -0.335756  2.579163  \n",
       "...                     ...            ...         ...       ...       ...  \n",
       "2824533                   0              1           1  0.207293  1.981297  \n",
       "2824534                   1              1           1  0.237352  1.898896  \n",
       "2824535                   1              0           0  0.101127  2.274266  \n",
       "2824536                   0              2           0  0.023004  1.927386  \n",
       "2824537                   2              1           0  0.000413  2.133406  \n",
       "\n",
       "[2659 rows x 53 columns]"
      ]
     },
     "execution_count": 55,
     "metadata": {},
     "output_type": "execute_result"
    }
   ],
   "source": [
    "output_df"
   ]
  },
  {
   "cell_type": "code",
   "execution_count": 56,
   "metadata": {},
   "outputs": [
    {
     "data": {
      "text/html": [
       "<div>\n",
       "<style scoped>\n",
       "    .dataframe tbody tr th:only-of-type {\n",
       "        vertical-align: middle;\n",
       "    }\n",
       "\n",
       "    .dataframe tbody tr th {\n",
       "        vertical-align: top;\n",
       "    }\n",
       "\n",
       "    .dataframe thead th {\n",
       "        text-align: right;\n",
       "    }\n",
       "</style>\n",
       "<table border=\"1\" class=\"dataframe\">\n",
       "  <thead>\n",
       "    <tr style=\"text-align: right;\">\n",
       "      <th></th>\n",
       "      <th>inning</th>\n",
       "      <th>batter_id</th>\n",
       "      <th>pitcher_id</th>\n",
       "      <th>top</th>\n",
       "      <th>ab_id</th>\n",
       "      <th>p_score</th>\n",
       "      <th>event</th>\n",
       "      <th>home_team</th>\n",
       "      <th>away_team</th>\n",
       "      <th>b_score</th>\n",
       "      <th>...</th>\n",
       "      <th>cumulative_ep_rate</th>\n",
       "      <th>cumulative_fo_rate</th>\n",
       "      <th>cumulative_sc_rate</th>\n",
       "      <th>Cluster</th>\n",
       "      <th>stand_R</th>\n",
       "      <th>Last_Pitch_Type_Num</th>\n",
       "      <th>Pitch_Type_Num</th>\n",
       "      <th>pitch_pred</th>\n",
       "      <th>px_pred</th>\n",
       "      <th>pz_pred</th>\n",
       "    </tr>\n",
       "  </thead>\n",
       "  <tbody>\n",
       "    <tr>\n",
       "      <th>2453</th>\n",
       "      <td>3.0</td>\n",
       "      <td>527038</td>\n",
       "      <td>453286</td>\n",
       "      <td>1.0</td>\n",
       "      <td>2.015001e+09</td>\n",
       "      <td>0.0</td>\n",
       "      <td>Strikeout</td>\n",
       "      <td>was</td>\n",
       "      <td>nyn</td>\n",
       "      <td>0.0</td>\n",
       "      <td>...</td>\n",
       "      <td>0.0</td>\n",
       "      <td>0.0</td>\n",
       "      <td>0.0</td>\n",
       "      <td>3.0</td>\n",
       "      <td>1.0</td>\n",
       "      <td>0</td>\n",
       "      <td>0</td>\n",
       "      <td>0</td>\n",
       "      <td>0.038671</td>\n",
       "      <td>2.530527</td>\n",
       "    </tr>\n",
       "    <tr>\n",
       "      <th>2454</th>\n",
       "      <td>3.0</td>\n",
       "      <td>527038</td>\n",
       "      <td>453286</td>\n",
       "      <td>1.0</td>\n",
       "      <td>2.015001e+09</td>\n",
       "      <td>0.0</td>\n",
       "      <td>Strikeout</td>\n",
       "      <td>was</td>\n",
       "      <td>nyn</td>\n",
       "      <td>0.0</td>\n",
       "      <td>...</td>\n",
       "      <td>0.0</td>\n",
       "      <td>0.0</td>\n",
       "      <td>0.0</td>\n",
       "      <td>3.0</td>\n",
       "      <td>1.0</td>\n",
       "      <td>0</td>\n",
       "      <td>0</td>\n",
       "      <td>0</td>\n",
       "      <td>0.000305</td>\n",
       "      <td>2.423075</td>\n",
       "    </tr>\n",
       "    <tr>\n",
       "      <th>2455</th>\n",
       "      <td>3.0</td>\n",
       "      <td>527038</td>\n",
       "      <td>453286</td>\n",
       "      <td>1.0</td>\n",
       "      <td>2.015001e+09</td>\n",
       "      <td>0.0</td>\n",
       "      <td>Strikeout</td>\n",
       "      <td>was</td>\n",
       "      <td>nyn</td>\n",
       "      <td>0.0</td>\n",
       "      <td>...</td>\n",
       "      <td>0.0</td>\n",
       "      <td>0.0</td>\n",
       "      <td>0.0</td>\n",
       "      <td>3.0</td>\n",
       "      <td>1.0</td>\n",
       "      <td>0</td>\n",
       "      <td>0</td>\n",
       "      <td>1</td>\n",
       "      <td>0.109142</td>\n",
       "      <td>2.255876</td>\n",
       "    </tr>\n",
       "    <tr>\n",
       "      <th>2496</th>\n",
       "      <td>5.0</td>\n",
       "      <td>502517</td>\n",
       "      <td>453286</td>\n",
       "      <td>1.0</td>\n",
       "      <td>2.015001e+09</td>\n",
       "      <td>1.0</td>\n",
       "      <td>Flyout</td>\n",
       "      <td>was</td>\n",
       "      <td>nyn</td>\n",
       "      <td>0.0</td>\n",
       "      <td>...</td>\n",
       "      <td>0.0</td>\n",
       "      <td>0.0</td>\n",
       "      <td>0.0</td>\n",
       "      <td>3.0</td>\n",
       "      <td>0.0</td>\n",
       "      <td>1</td>\n",
       "      <td>0</td>\n",
       "      <td>0</td>\n",
       "      <td>-0.236734</td>\n",
       "      <td>2.648451</td>\n",
       "    </tr>\n",
       "    <tr>\n",
       "      <th>2497</th>\n",
       "      <td>5.0</td>\n",
       "      <td>502517</td>\n",
       "      <td>453286</td>\n",
       "      <td>1.0</td>\n",
       "      <td>2.015001e+09</td>\n",
       "      <td>1.0</td>\n",
       "      <td>Flyout</td>\n",
       "      <td>was</td>\n",
       "      <td>nyn</td>\n",
       "      <td>0.0</td>\n",
       "      <td>...</td>\n",
       "      <td>0.0</td>\n",
       "      <td>0.0</td>\n",
       "      <td>0.0</td>\n",
       "      <td>3.0</td>\n",
       "      <td>0.0</td>\n",
       "      <td>0</td>\n",
       "      <td>0</td>\n",
       "      <td>0</td>\n",
       "      <td>-0.335756</td>\n",
       "      <td>2.579163</td>\n",
       "    </tr>\n",
       "  </tbody>\n",
       "</table>\n",
       "<p>5 rows × 53 columns</p>\n",
       "</div>"
      ],
      "text/plain": [
       "      inning  batter_id  pitcher_id  top         ab_id  p_score      event  \\\n",
       "2453     3.0     527038      453286  1.0  2.015001e+09      0.0  Strikeout   \n",
       "2454     3.0     527038      453286  1.0  2.015001e+09      0.0  Strikeout   \n",
       "2455     3.0     527038      453286  1.0  2.015001e+09      0.0  Strikeout   \n",
       "2496     5.0     502517      453286  1.0  2.015001e+09      1.0     Flyout   \n",
       "2497     5.0     502517      453286  1.0  2.015001e+09      1.0     Flyout   \n",
       "\n",
       "     home_team away_team  b_score  ...  cumulative_ep_rate  \\\n",
       "2453       was       nyn      0.0  ...                 0.0   \n",
       "2454       was       nyn      0.0  ...                 0.0   \n",
       "2455       was       nyn      0.0  ...                 0.0   \n",
       "2496       was       nyn      0.0  ...                 0.0   \n",
       "2497       was       nyn      0.0  ...                 0.0   \n",
       "\n",
       "      cumulative_fo_rate  cumulative_sc_rate  Cluster  stand_R  \\\n",
       "2453                 0.0                 0.0      3.0      1.0   \n",
       "2454                 0.0                 0.0      3.0      1.0   \n",
       "2455                 0.0                 0.0      3.0      1.0   \n",
       "2496                 0.0                 0.0      3.0      0.0   \n",
       "2497                 0.0                 0.0      3.0      0.0   \n",
       "\n",
       "     Last_Pitch_Type_Num Pitch_Type_Num  pitch_pred   px_pred   pz_pred  \n",
       "2453                   0              0           0  0.038671  2.530527  \n",
       "2454                   0              0           0  0.000305  2.423075  \n",
       "2455                   0              0           1  0.109142  2.255876  \n",
       "2496                   1              0           0 -0.236734  2.648451  \n",
       "2497                   0              0           0 -0.335756  2.579163  \n",
       "\n",
       "[5 rows x 53 columns]"
      ]
     },
     "execution_count": 56,
     "metadata": {},
     "output_type": "execute_result"
    }
   ],
   "source": [
    "val_pitches.head()"
   ]
  },
  {
   "cell_type": "code",
   "execution_count": 57,
   "metadata": {},
   "outputs": [
    {
     "data": {
      "text/plain": [
       "(2659, 53)"
      ]
     },
     "execution_count": 57,
     "metadata": {},
     "output_type": "execute_result"
    }
   ],
   "source": [
    "val_pitches.shape"
   ]
  },
  {
   "cell_type": "code",
   "execution_count": 58,
   "metadata": {},
   "outputs": [
    {
     "data": {
      "text/plain": [
       "Index(['inning', 'batter_id', 'pitcher_id', 'top', 'ab_id', 'p_score', 'event',\n",
       "       'home_team', 'away_team', 'b_score', 'on_1b', 'on_2b', 'on_3b', 'px',\n",
       "       'pz', 'zone', 'pitch_type', 'start_speed', 'type', 'b_count', 's_count',\n",
       "       'outs', 'pitch_num', 'last_pitch_type', 'last_pitch_px',\n",
       "       'last_pitch_pz', 'last_pitch_speed', 'pitcher_full_name',\n",
       "       'pitcher_run_diff', 'hitter_full_name', 'Date_Time_Date', 'Season',\n",
       "       'cumulative_pitches', 'cumulative_ff_rate', 'cumulative_sl_rate',\n",
       "       'cumulative_ft_rate', 'cumulative_ch_rate', 'cumulative_cu_rate',\n",
       "       'cumulative_si_rate', 'cumulative_fc_rate', 'cumulative_kc_rate',\n",
       "       'cumulative_fs_rate', 'cumulative_kn_rate', 'cumulative_ep_rate',\n",
       "       'cumulative_fo_rate', 'cumulative_sc_rate', 'Cluster', 'stand_R',\n",
       "       'Last_Pitch_Type_Num', 'Pitch_Type_Num', 'pitch_pred', 'px_pred',\n",
       "       'pz_pred'],\n",
       "      dtype='object')"
      ]
     },
     "execution_count": 58,
     "metadata": {},
     "output_type": "execute_result"
    }
   ],
   "source": [
    "val_pitches.columns"
   ]
  },
  {
   "cell_type": "markdown",
   "metadata": {},
   "source": [
    "# Utilizing Functions"
   ]
  },
  {
   "cell_type": "markdown",
   "metadata": {},
   "source": [
    "Based on the above, I put together functions to run this same process in classification_location_combo.py.  Running those here:"
   ]
  },
  {
   "cell_type": "markdown",
   "metadata": {},
   "source": [
    "### Random Forest:"
   ]
  },
  {
   "cell_type": "code",
   "execution_count": 59,
   "metadata": {
    "scrolled": false
   },
   "outputs": [
    {
     "name": "stdout",
     "output_type": "stream",
     "text": [
      "Pitch Modeling for Max Scherzer\n",
      "Here is the coding for last pitch type:\n",
      "{'FF': 0, 'SL': 1, 'CH': 2, 'CU': 3, 'FC': 4, 'FT': 5, 'UN': 6}\n"
     ]
    },
    {
     "name": "stderr",
     "output_type": "stream",
     "text": [
      "/Users/patrickbovard/opt/anaconda3/envs/metis/lib/python3.8/site-packages/pandas/core/indexing.py:670: SettingWithCopyWarning: \n",
      "A value is trying to be set on a copy of a slice from a DataFrame\n",
      "\n",
      "See the caveats in the documentation: https://pandas.pydata.org/pandas-docs/stable/user_guide/indexing.html#returning-a-view-versus-a-copy\n",
      "  iloc._setitem_with_indexer(indexer, value)\n"
     ]
    },
    {
     "name": "stdout",
     "output_type": "stream",
     "text": [
      "Here is the coding for pitch type:\n",
      "{'FF': 0, 'SL': 1, 'CH': 2, 'CU': 3, 'FC': 4, 'FT': 5}\n",
      "Actual Test Size: 0.2460442305912834\n",
      "Accuracy: 0.5133508837908989\n",
      "Precision: (0.4598125523075958,)\n",
      "Recall: 0.22482440111277155\n",
      "Random Forest Pitch Classification confusion matrix results:\n",
      "[[1190  132   42   10   16    0]\n",
      " [ 366  129   15    3    0    0]\n",
      " [ 310   27   28    8    4    0]\n",
      " [ 202    5    8    4    3    0]\n",
      " [ 115    2    7    2   13    0]\n",
      " [  11    5    1    0    0    1]]\n",
      "Val Px R^2: 0.0654484504505789\n",
      "Val Px MAE: 0.6798226602240268 ft.\n",
      "Val Pz R^2: 0.14842993405141258\n",
      "Val Pz MAE: 0.6251297703264211 ft.\n"
     ]
    }
   ],
   "source": [
    "val_df_full = pitch_prediction_modeling_pipeline('Max Scherzer', pitch_df, split_size = 0.2)"
   ]
  },
  {
   "cell_type": "code",
   "execution_count": 60,
   "metadata": {},
   "outputs": [
    {
     "data": {
      "text/html": [
       "<div>\n",
       "<style scoped>\n",
       "    .dataframe tbody tr th:only-of-type {\n",
       "        vertical-align: middle;\n",
       "    }\n",
       "\n",
       "    .dataframe tbody tr th {\n",
       "        vertical-align: top;\n",
       "    }\n",
       "\n",
       "    .dataframe thead th {\n",
       "        text-align: right;\n",
       "    }\n",
       "</style>\n",
       "<table border=\"1\" class=\"dataframe\">\n",
       "  <thead>\n",
       "    <tr style=\"text-align: right;\">\n",
       "      <th></th>\n",
       "      <th>inning</th>\n",
       "      <th>batter_id</th>\n",
       "      <th>pitcher_id</th>\n",
       "      <th>top</th>\n",
       "      <th>ab_id</th>\n",
       "      <th>p_score</th>\n",
       "      <th>event</th>\n",
       "      <th>home_team</th>\n",
       "      <th>away_team</th>\n",
       "      <th>b_score</th>\n",
       "      <th>...</th>\n",
       "      <th>Pitch_Type_Num</th>\n",
       "      <th>pitch_pred</th>\n",
       "      <th>FF_prob</th>\n",
       "      <th>SL_prob</th>\n",
       "      <th>CH_prob</th>\n",
       "      <th>CU_prob</th>\n",
       "      <th>FC_prob</th>\n",
       "      <th>FT_prob</th>\n",
       "      <th>px_pred</th>\n",
       "      <th>pz_pred</th>\n",
       "    </tr>\n",
       "  </thead>\n",
       "  <tbody>\n",
       "    <tr>\n",
       "      <th>2453</th>\n",
       "      <td>3.0</td>\n",
       "      <td>527038</td>\n",
       "      <td>453286</td>\n",
       "      <td>1.0</td>\n",
       "      <td>2.015001e+09</td>\n",
       "      <td>0.0</td>\n",
       "      <td>Strikeout</td>\n",
       "      <td>was</td>\n",
       "      <td>nyn</td>\n",
       "      <td>0.0</td>\n",
       "      <td>...</td>\n",
       "      <td>0</td>\n",
       "      <td>0</td>\n",
       "      <td>0.56</td>\n",
       "      <td>0.25</td>\n",
       "      <td>0.01</td>\n",
       "      <td>0.04</td>\n",
       "      <td>0.14</td>\n",
       "      <td>0.0</td>\n",
       "      <td>0.038671</td>\n",
       "      <td>2.530527</td>\n",
       "    </tr>\n",
       "    <tr>\n",
       "      <th>2454</th>\n",
       "      <td>3.0</td>\n",
       "      <td>527038</td>\n",
       "      <td>453286</td>\n",
       "      <td>1.0</td>\n",
       "      <td>2.015001e+09</td>\n",
       "      <td>0.0</td>\n",
       "      <td>Strikeout</td>\n",
       "      <td>was</td>\n",
       "      <td>nyn</td>\n",
       "      <td>0.0</td>\n",
       "      <td>...</td>\n",
       "      <td>0</td>\n",
       "      <td>0</td>\n",
       "      <td>0.59</td>\n",
       "      <td>0.18</td>\n",
       "      <td>0.02</td>\n",
       "      <td>0.06</td>\n",
       "      <td>0.15</td>\n",
       "      <td>0.0</td>\n",
       "      <td>0.000305</td>\n",
       "      <td>2.423075</td>\n",
       "    </tr>\n",
       "    <tr>\n",
       "      <th>2455</th>\n",
       "      <td>3.0</td>\n",
       "      <td>527038</td>\n",
       "      <td>453286</td>\n",
       "      <td>1.0</td>\n",
       "      <td>2.015001e+09</td>\n",
       "      <td>0.0</td>\n",
       "      <td>Strikeout</td>\n",
       "      <td>was</td>\n",
       "      <td>nyn</td>\n",
       "      <td>0.0</td>\n",
       "      <td>...</td>\n",
       "      <td>0</td>\n",
       "      <td>1</td>\n",
       "      <td>0.34</td>\n",
       "      <td>0.44</td>\n",
       "      <td>0.16</td>\n",
       "      <td>0.02</td>\n",
       "      <td>0.04</td>\n",
       "      <td>0.0</td>\n",
       "      <td>0.109142</td>\n",
       "      <td>2.255876</td>\n",
       "    </tr>\n",
       "    <tr>\n",
       "      <th>2496</th>\n",
       "      <td>5.0</td>\n",
       "      <td>502517</td>\n",
       "      <td>453286</td>\n",
       "      <td>1.0</td>\n",
       "      <td>2.015001e+09</td>\n",
       "      <td>1.0</td>\n",
       "      <td>Flyout</td>\n",
       "      <td>was</td>\n",
       "      <td>nyn</td>\n",
       "      <td>0.0</td>\n",
       "      <td>...</td>\n",
       "      <td>0</td>\n",
       "      <td>0</td>\n",
       "      <td>0.41</td>\n",
       "      <td>0.12</td>\n",
       "      <td>0.16</td>\n",
       "      <td>0.30</td>\n",
       "      <td>0.01</td>\n",
       "      <td>0.0</td>\n",
       "      <td>-0.236734</td>\n",
       "      <td>2.648451</td>\n",
       "    </tr>\n",
       "    <tr>\n",
       "      <th>2497</th>\n",
       "      <td>5.0</td>\n",
       "      <td>502517</td>\n",
       "      <td>453286</td>\n",
       "      <td>1.0</td>\n",
       "      <td>2.015001e+09</td>\n",
       "      <td>1.0</td>\n",
       "      <td>Flyout</td>\n",
       "      <td>was</td>\n",
       "      <td>nyn</td>\n",
       "      <td>0.0</td>\n",
       "      <td>...</td>\n",
       "      <td>0</td>\n",
       "      <td>0</td>\n",
       "      <td>0.39</td>\n",
       "      <td>0.23</td>\n",
       "      <td>0.14</td>\n",
       "      <td>0.19</td>\n",
       "      <td>0.05</td>\n",
       "      <td>0.0</td>\n",
       "      <td>-0.335756</td>\n",
       "      <td>2.579163</td>\n",
       "    </tr>\n",
       "  </tbody>\n",
       "</table>\n",
       "<p>5 rows × 59 columns</p>\n",
       "</div>"
      ],
      "text/plain": [
       "      inning  batter_id  pitcher_id  top         ab_id  p_score      event  \\\n",
       "2453     3.0     527038      453286  1.0  2.015001e+09      0.0  Strikeout   \n",
       "2454     3.0     527038      453286  1.0  2.015001e+09      0.0  Strikeout   \n",
       "2455     3.0     527038      453286  1.0  2.015001e+09      0.0  Strikeout   \n",
       "2496     5.0     502517      453286  1.0  2.015001e+09      1.0     Flyout   \n",
       "2497     5.0     502517      453286  1.0  2.015001e+09      1.0     Flyout   \n",
       "\n",
       "     home_team away_team  b_score  ...  Pitch_Type_Num  pitch_pred  FF_prob  \\\n",
       "2453       was       nyn      0.0  ...               0           0     0.56   \n",
       "2454       was       nyn      0.0  ...               0           0     0.59   \n",
       "2455       was       nyn      0.0  ...               0           1     0.34   \n",
       "2496       was       nyn      0.0  ...               0           0     0.41   \n",
       "2497       was       nyn      0.0  ...               0           0     0.39   \n",
       "\n",
       "      SL_prob  CH_prob CU_prob FC_prob  FT_prob   px_pred   pz_pred  \n",
       "2453     0.25     0.01    0.04    0.14      0.0  0.038671  2.530527  \n",
       "2454     0.18     0.02    0.06    0.15      0.0  0.000305  2.423075  \n",
       "2455     0.44     0.16    0.02    0.04      0.0  0.109142  2.255876  \n",
       "2496     0.12     0.16    0.30    0.01      0.0 -0.236734  2.648451  \n",
       "2497     0.23     0.14    0.19    0.05      0.0 -0.335756  2.579163  \n",
       "\n",
       "[5 rows x 59 columns]"
      ]
     },
     "execution_count": 60,
     "metadata": {},
     "output_type": "execute_result"
    }
   ],
   "source": [
    "val_df_full.head()"
   ]
  },
  {
   "cell_type": "markdown",
   "metadata": {},
   "source": [
    "Trying with another pitcher:"
   ]
  },
  {
   "cell_type": "code",
   "execution_count": 61,
   "metadata": {},
   "outputs": [
    {
     "name": "stdout",
     "output_type": "stream",
     "text": [
      "Pitch Modeling for Rick Porcello\n",
      "Here is the coding for last pitch type:\n",
      "{'FT': 0, 'FF': 1, 'CU': 2, 'SL': 3, 'CH': 4, 'EP': 5, 'PO': 6, 'SI': 7}\n"
     ]
    },
    {
     "name": "stderr",
     "output_type": "stream",
     "text": [
      "/Users/patrickbovard/opt/anaconda3/envs/metis/lib/python3.8/site-packages/pandas/core/indexing.py:670: SettingWithCopyWarning: \n",
      "A value is trying to be set on a copy of a slice from a DataFrame\n",
      "\n",
      "See the caveats in the documentation: https://pandas.pydata.org/pandas-docs/stable/user_guide/indexing.html#returning-a-view-versus-a-copy\n",
      "  iloc._setitem_with_indexer(indexer, value)\n"
     ]
    },
    {
     "name": "stdout",
     "output_type": "stream",
     "text": [
      "Here is the coding for pitch type:\n",
      "{'FT': 0, 'FF': 1, 'SL': 2, 'CU': 3, 'CH': 4, 'SI': 5}\n",
      "Actual Test Size: 0.24505342303126237\n",
      "Accuracy: 0.4263221639079532\n",
      "Precision: (0.32810241127390066,)\n",
      "Recall: 0.28362065622309207\n",
      "Random Forest Pitch Classification confusion matrix results:\n",
      "[[534 153  62  29  19   0]\n",
      " [201 350  46  33  16   0]\n",
      " [188 116  79  14  12   0]\n",
      " [144 106  28  54  12   0]\n",
      " [108  82  31  19  39   0]\n",
      " [  0   2   0   0   0   0]]\n",
      "Val Px R^2: 0.015915844491007913\n",
      "Val Px MAE: 0.6478150365262397 ft.\n",
      "Val Pz R^2: 0.06332683571436248\n",
      "Val Pz MAE: 0.7288968081900468 ft.\n"
     ]
    },
    {
     "name": "stderr",
     "output_type": "stream",
     "text": [
      "/Users/patrickbovard/opt/anaconda3/envs/metis/lib/python3.8/site-packages/sklearn/metrics/_classification.py:1245: UndefinedMetricWarning: Precision is ill-defined and being set to 0.0 in labels with no predicted samples. Use `zero_division` parameter to control this behavior.\n",
      "  _warn_prf(average, modifier, msg_start, len(result))\n"
     ]
    }
   ],
   "source": [
    "val_df_full = pitch_prediction_modeling_pipeline('Rick Porcello', pitch_df, split_size = 0.2)"
   ]
  },
  {
   "cell_type": "code",
   "execution_count": 62,
   "metadata": {},
   "outputs": [
    {
     "data": {
      "text/html": [
       "<div>\n",
       "<style scoped>\n",
       "    .dataframe tbody tr th:only-of-type {\n",
       "        vertical-align: middle;\n",
       "    }\n",
       "\n",
       "    .dataframe tbody tr th {\n",
       "        vertical-align: top;\n",
       "    }\n",
       "\n",
       "    .dataframe thead th {\n",
       "        text-align: right;\n",
       "    }\n",
       "</style>\n",
       "<table border=\"1\" class=\"dataframe\">\n",
       "  <thead>\n",
       "    <tr style=\"text-align: right;\">\n",
       "      <th></th>\n",
       "      <th>inning</th>\n",
       "      <th>batter_id</th>\n",
       "      <th>pitcher_id</th>\n",
       "      <th>top</th>\n",
       "      <th>ab_id</th>\n",
       "      <th>p_score</th>\n",
       "      <th>event</th>\n",
       "      <th>home_team</th>\n",
       "      <th>away_team</th>\n",
       "      <th>b_score</th>\n",
       "      <th>...</th>\n",
       "      <th>Pitch_Type_Num</th>\n",
       "      <th>pitch_pred</th>\n",
       "      <th>FT_prob</th>\n",
       "      <th>FF_prob</th>\n",
       "      <th>SL_prob</th>\n",
       "      <th>CU_prob</th>\n",
       "      <th>CH_prob</th>\n",
       "      <th>SI_prob</th>\n",
       "      <th>px_pred</th>\n",
       "      <th>pz_pred</th>\n",
       "    </tr>\n",
       "  </thead>\n",
       "  <tbody>\n",
       "    <tr>\n",
       "      <th>6895</th>\n",
       "      <td>2.0</td>\n",
       "      <td>425796</td>\n",
       "      <td>519144</td>\n",
       "      <td>0.0</td>\n",
       "      <td>2.015002e+09</td>\n",
       "      <td>0.0</td>\n",
       "      <td>Single</td>\n",
       "      <td>phi</td>\n",
       "      <td>bos</td>\n",
       "      <td>0.0</td>\n",
       "      <td>...</td>\n",
       "      <td>1</td>\n",
       "      <td>0</td>\n",
       "      <td>0.59</td>\n",
       "      <td>0.16</td>\n",
       "      <td>0.21</td>\n",
       "      <td>0.01</td>\n",
       "      <td>0.03</td>\n",
       "      <td>0.0</td>\n",
       "      <td>-0.350683</td>\n",
       "      <td>2.237202</td>\n",
       "    </tr>\n",
       "    <tr>\n",
       "      <th>6896</th>\n",
       "      <td>2.0</td>\n",
       "      <td>425796</td>\n",
       "      <td>519144</td>\n",
       "      <td>0.0</td>\n",
       "      <td>2.015002e+09</td>\n",
       "      <td>0.0</td>\n",
       "      <td>Single</td>\n",
       "      <td>phi</td>\n",
       "      <td>bos</td>\n",
       "      <td>0.0</td>\n",
       "      <td>...</td>\n",
       "      <td>0</td>\n",
       "      <td>0</td>\n",
       "      <td>0.55</td>\n",
       "      <td>0.09</td>\n",
       "      <td>0.16</td>\n",
       "      <td>0.12</td>\n",
       "      <td>0.08</td>\n",
       "      <td>0.0</td>\n",
       "      <td>-0.189153</td>\n",
       "      <td>2.450072</td>\n",
       "    </tr>\n",
       "    <tr>\n",
       "      <th>6897</th>\n",
       "      <td>2.0</td>\n",
       "      <td>520471</td>\n",
       "      <td>519144</td>\n",
       "      <td>0.0</td>\n",
       "      <td>2.015002e+09</td>\n",
       "      <td>0.0</td>\n",
       "      <td>Groundout</td>\n",
       "      <td>phi</td>\n",
       "      <td>bos</td>\n",
       "      <td>0.0</td>\n",
       "      <td>...</td>\n",
       "      <td>0</td>\n",
       "      <td>0</td>\n",
       "      <td>0.74</td>\n",
       "      <td>0.10</td>\n",
       "      <td>0.05</td>\n",
       "      <td>0.06</td>\n",
       "      <td>0.05</td>\n",
       "      <td>0.0</td>\n",
       "      <td>-0.531416</td>\n",
       "      <td>2.565697</td>\n",
       "    </tr>\n",
       "    <tr>\n",
       "      <th>6898</th>\n",
       "      <td>2.0</td>\n",
       "      <td>520471</td>\n",
       "      <td>519144</td>\n",
       "      <td>0.0</td>\n",
       "      <td>2.015002e+09</td>\n",
       "      <td>0.0</td>\n",
       "      <td>Groundout</td>\n",
       "      <td>phi</td>\n",
       "      <td>bos</td>\n",
       "      <td>0.0</td>\n",
       "      <td>...</td>\n",
       "      <td>0</td>\n",
       "      <td>0</td>\n",
       "      <td>0.45</td>\n",
       "      <td>0.05</td>\n",
       "      <td>0.17</td>\n",
       "      <td>0.16</td>\n",
       "      <td>0.17</td>\n",
       "      <td>0.0</td>\n",
       "      <td>-0.456327</td>\n",
       "      <td>2.618574</td>\n",
       "    </tr>\n",
       "    <tr>\n",
       "      <th>6899</th>\n",
       "      <td>2.0</td>\n",
       "      <td>520471</td>\n",
       "      <td>519144</td>\n",
       "      <td>0.0</td>\n",
       "      <td>2.015002e+09</td>\n",
       "      <td>0.0</td>\n",
       "      <td>Groundout</td>\n",
       "      <td>phi</td>\n",
       "      <td>bos</td>\n",
       "      <td>0.0</td>\n",
       "      <td>...</td>\n",
       "      <td>0</td>\n",
       "      <td>0</td>\n",
       "      <td>0.33</td>\n",
       "      <td>0.13</td>\n",
       "      <td>0.21</td>\n",
       "      <td>0.12</td>\n",
       "      <td>0.21</td>\n",
       "      <td>0.0</td>\n",
       "      <td>-0.524665</td>\n",
       "      <td>2.521748</td>\n",
       "    </tr>\n",
       "  </tbody>\n",
       "</table>\n",
       "<p>5 rows × 59 columns</p>\n",
       "</div>"
      ],
      "text/plain": [
       "      inning  batter_id  pitcher_id  top         ab_id  p_score      event  \\\n",
       "6895     2.0     425796      519144  0.0  2.015002e+09      0.0     Single   \n",
       "6896     2.0     425796      519144  0.0  2.015002e+09      0.0     Single   \n",
       "6897     2.0     520471      519144  0.0  2.015002e+09      0.0  Groundout   \n",
       "6898     2.0     520471      519144  0.0  2.015002e+09      0.0  Groundout   \n",
       "6899     2.0     520471      519144  0.0  2.015002e+09      0.0  Groundout   \n",
       "\n",
       "     home_team away_team  b_score  ...  Pitch_Type_Num  pitch_pred  FT_prob  \\\n",
       "6895       phi       bos      0.0  ...               1           0     0.59   \n",
       "6896       phi       bos      0.0  ...               0           0     0.55   \n",
       "6897       phi       bos      0.0  ...               0           0     0.74   \n",
       "6898       phi       bos      0.0  ...               0           0     0.45   \n",
       "6899       phi       bos      0.0  ...               0           0     0.33   \n",
       "\n",
       "      FF_prob  SL_prob CU_prob CH_prob  SI_prob   px_pred   pz_pred  \n",
       "6895     0.16     0.21    0.01    0.03      0.0 -0.350683  2.237202  \n",
       "6896     0.09     0.16    0.12    0.08      0.0 -0.189153  2.450072  \n",
       "6897     0.10     0.05    0.06    0.05      0.0 -0.531416  2.565697  \n",
       "6898     0.05     0.17    0.16    0.17      0.0 -0.456327  2.618574  \n",
       "6899     0.13     0.21    0.12    0.21      0.0 -0.524665  2.521748  \n",
       "\n",
       "[5 rows x 59 columns]"
      ]
     },
     "execution_count": 62,
     "metadata": {},
     "output_type": "execute_result"
    }
   ],
   "source": [
    "val_df_full.head()"
   ]
  },
  {
   "cell_type": "markdown",
   "metadata": {},
   "source": [
    "Testing out for the first 25 pitchers to get a sense for computational cost:"
   ]
  },
  {
   "cell_type": "code",
   "execution_count": 63,
   "metadata": {},
   "outputs": [],
   "source": [
    "pitcher_list = pitch_df.pitcher_full_name.value_counts().head(10).index"
   ]
  },
  {
   "cell_type": "code",
   "execution_count": 64,
   "metadata": {
    "scrolled": true
   },
   "outputs": [
    {
     "name": "stdout",
     "output_type": "stream",
     "text": [
      "Pitch Modeling for Max Scherzer\n",
      "Here is the coding for last pitch type:\n",
      "{'FF': 0, 'SL': 1, 'CH': 2, 'CU': 3, 'FC': 4, 'FT': 5, 'UN': 6}\n"
     ]
    },
    {
     "name": "stderr",
     "output_type": "stream",
     "text": [
      "/Users/patrickbovard/opt/anaconda3/envs/metis/lib/python3.8/site-packages/pandas/core/indexing.py:670: SettingWithCopyWarning: \n",
      "A value is trying to be set on a copy of a slice from a DataFrame\n",
      "\n",
      "See the caveats in the documentation: https://pandas.pydata.org/pandas-docs/stable/user_guide/indexing.html#returning-a-view-versus-a-copy\n",
      "  iloc._setitem_with_indexer(indexer, value)\n"
     ]
    },
    {
     "name": "stdout",
     "output_type": "stream",
     "text": [
      "Here is the coding for pitch type:\n",
      "{'FF': 0, 'SL': 1, 'CH': 2, 'CU': 3, 'FC': 4, 'FT': 5}\n",
      "Actual Test Size: 0.2460442305912834\n",
      "Accuracy: 0.5125987213238059\n",
      "Precision: (0.37924760899072624,)\n",
      "Recall: 0.2227373714773994\n",
      "Random Forest Pitch Classification confusion matrix results:\n",
      "[[1194  133   42    7   13    1]\n",
      " [ 379  123   10    1    0    0]\n",
      " [ 311   25   30    7    4    0]\n",
      " [ 201    8   10    2    1    0]\n",
      " [ 110    4   11    1   13    0]\n",
      " [  12    5    0    0    0    1]]\n",
      "Val Px R^2: 0.0644705758438372\n",
      "Val Px MAE: 0.6800822790766223 ft.\n",
      "Val Pz R^2: 0.14841358934368132\n",
      "Val Pz MAE: 0.625079238006986 ft.\n",
      "\n",
      "\n",
      "\n",
      "\n",
      "Pitch Modeling for Justin Verlander\n",
      "Here is the coding for last pitch type:\n",
      "{'FF': 0, 'SL': 1, 'CU': 2, 'CH': 3, 'FC': 4, 'FT': 5, 'PO': 6}\n"
     ]
    },
    {
     "name": "stderr",
     "output_type": "stream",
     "text": [
      "/Users/patrickbovard/opt/anaconda3/envs/metis/lib/python3.8/site-packages/pandas/core/indexing.py:670: SettingWithCopyWarning: \n",
      "A value is trying to be set on a copy of a slice from a DataFrame\n",
      "\n",
      "See the caveats in the documentation: https://pandas.pydata.org/pandas-docs/stable/user_guide/indexing.html#returning-a-view-versus-a-copy\n",
      "  iloc._setitem_with_indexer(indexer, value)\n"
     ]
    },
    {
     "name": "stdout",
     "output_type": "stream",
     "text": [
      "Here is the coding for pitch type:\n",
      "{'FF': 0, 'SL': 1, 'CU': 2, 'CH': 3, 'FC': 4, 'FT': 5}\n",
      "Actual Test Size: 0.2522002738118521\n"
     ]
    },
    {
     "name": "stderr",
     "output_type": "stream",
     "text": [
      "/Users/patrickbovard/opt/anaconda3/envs/metis/lib/python3.8/site-packages/sklearn/metrics/_classification.py:1245: UndefinedMetricWarning: Precision is ill-defined and being set to 0.0 in labels with no predicted samples. Use `zero_division` parameter to control this behavior.\n",
      "  _warn_prf(average, modifier, msg_start, len(result))\n"
     ]
    },
    {
     "name": "stdout",
     "output_type": "stream",
     "text": [
      "Accuracy: 0.6013958898797984\n",
      "Precision: (0.3357764950022184,)\n",
      "Recall: 0.20033153051120486\n",
      "Random Forest Pitch Classification confusion matrix results:\n",
      "[[1429   58   34    0    0    0]\n",
      " [ 408   86   13    0    0    0]\n",
      " [ 347   28   35    1    0    0]\n",
      " [ 120    7    2    1    0    0]\n",
      " [   9    0    0    0    0    0]\n",
      " [   1    0    0    0    0    0]]\n",
      "Val Px R^2: 0.0896577683512686\n",
      "Val Px MAE: 0.6132845848156774 ft.\n",
      "Val Pz R^2: 0.17819509394793864\n",
      "Val Pz MAE: 0.6805326374883964 ft.\n",
      "\n",
      "\n",
      "\n",
      "\n",
      "Pitch Modeling for Chris Archer\n",
      "Here is the coding for last pitch type:\n",
      "{'FF': 0, 'SL': 1, 'CH': 2, 'FT': 3, 'CU': 4, 'PO': 5}\n"
     ]
    },
    {
     "name": "stderr",
     "output_type": "stream",
     "text": [
      "/Users/patrickbovard/opt/anaconda3/envs/metis/lib/python3.8/site-packages/pandas/core/indexing.py:670: SettingWithCopyWarning: \n",
      "A value is trying to be set on a copy of a slice from a DataFrame\n",
      "\n",
      "See the caveats in the documentation: https://pandas.pydata.org/pandas-docs/stable/user_guide/indexing.html#returning-a-view-versus-a-copy\n",
      "  iloc._setitem_with_indexer(indexer, value)\n"
     ]
    },
    {
     "name": "stdout",
     "output_type": "stream",
     "text": [
      "Here is the coding for pitch type:\n",
      "{'FF': 0, 'SL': 1, 'CH': 2, 'FT': 3, 'CU': 4}\n",
      "Actual Test Size: 0.255042802322149\n",
      "Accuracy: 0.5841049382716049\n",
      "Precision: (0.3814431929362423,)\n",
      "Recall: 0.33344488058325583\n",
      "Random Forest Pitch Classification confusion matrix results:\n",
      "[[831 372  16   8   2]\n",
      " [408 653  11  12   0]\n",
      " [145  63  16   3   0]\n",
      " [  9  19   2  14   0]\n",
      " [  5   2   0   1   0]]\n",
      "Val Px R^2: 0.17543743546695778\n",
      "Val Px MAE: 0.5668988230007762 ft.\n",
      "Val Pz R^2: 0.10862493790322036\n",
      "Val Pz MAE: 0.7860668280783217 ft.\n",
      "\n",
      "\n",
      "\n",
      "\n",
      "Pitch Modeling for Jose Quintana\n",
      "Here is the coding for last pitch type:\n",
      "{'FF': 0, 'CU': 1, 'SI': 2, 'CH': 3, 'FT': 4, 'PO': 5, 'UN': 6, 'FA': 7}\n"
     ]
    },
    {
     "name": "stderr",
     "output_type": "stream",
     "text": [
      "/Users/patrickbovard/opt/anaconda3/envs/metis/lib/python3.8/site-packages/pandas/core/indexing.py:670: SettingWithCopyWarning: \n",
      "A value is trying to be set on a copy of a slice from a DataFrame\n",
      "\n",
      "See the caveats in the documentation: https://pandas.pydata.org/pandas-docs/stable/user_guide/indexing.html#returning-a-view-versus-a-copy\n",
      "  iloc._setitem_with_indexer(indexer, value)\n"
     ]
    },
    {
     "name": "stdout",
     "output_type": "stream",
     "text": [
      "Here is the coding for pitch type:\n",
      "{'FF': 0, 'CU': 1, 'SI': 2, 'CH': 3, 'FT': 4}\n",
      "Actual Test Size: 0.2450441609421001\n",
      "Accuracy: 0.49018822587104527\n",
      "Precision: (0.3610066795384953,)\n",
      "Recall: 0.31863810123189606\n",
      "Random Forest Pitch Classification confusion matrix results:\n",
      "[[913 190  61   9  24]\n",
      " [399 178  50   9  14]\n",
      " [105  42 106   4   0]\n",
      " [133  41  25   3   6]\n",
      " [118  39   0   4  24]]\n",
      "Val Px R^2: -0.01583596738409776\n",
      "Val Px MAE: 0.6542913433808422 ft.\n",
      "Val Pz R^2: 0.032720470164693594\n",
      "Val Pz MAE: 0.7282229785275337 ft.\n",
      "\n",
      "\n",
      "\n",
      "\n",
      "Pitch Modeling for Chris Sale\n",
      "Here is the coding for last pitch type:\n",
      "{'FT': 0, 'SL': 1, 'CH': 2, 'FF': 3, 'FA': 4}\n"
     ]
    },
    {
     "name": "stderr",
     "output_type": "stream",
     "text": [
      "/Users/patrickbovard/opt/anaconda3/envs/metis/lib/python3.8/site-packages/pandas/core/indexing.py:670: SettingWithCopyWarning: \n",
      "A value is trying to be set on a copy of a slice from a DataFrame\n",
      "\n",
      "See the caveats in the documentation: https://pandas.pydata.org/pandas-docs/stable/user_guide/indexing.html#returning-a-view-versus-a-copy\n",
      "  iloc._setitem_with_indexer(indexer, value)\n"
     ]
    },
    {
     "name": "stdout",
     "output_type": "stream",
     "text": [
      "Here is the coding for pitch type:\n",
      "{'FT': 0, 'SL': 1, 'CH': 2, 'FF': 3, 'FS': 4}\n",
      "Actual Test Size: 0.24323529411764705\n",
      "Accuracy: 0.4719871019750101\n",
      "Precision: (0.4431110357217011,)\n",
      "Recall: 0.4476541909907382\n",
      "Random Forest Pitch Classification confusion matrix results:\n",
      "[[607  98 117  32]\n",
      " [229 212  58 179]\n",
      " [246  75 129  69]\n",
      " [ 24 153  30 223]]\n",
      "Val Px R^2: 0.023947983682335083\n",
      "Val Px MAE: 0.7011793516701536 ft.\n",
      "Val Pz R^2: 0.009443689978341552\n",
      "Val Pz MAE: 0.6700133520192111 ft.\n",
      "\n",
      "\n",
      "\n",
      "\n",
      "Pitch Modeling for Rick Porcello\n",
      "Here is the coding for last pitch type:\n",
      "{'FT': 0, 'FF': 1, 'CU': 2, 'SL': 3, 'CH': 4, 'EP': 5, 'PO': 6, 'SI': 7}\n"
     ]
    },
    {
     "name": "stderr",
     "output_type": "stream",
     "text": [
      "/Users/patrickbovard/opt/anaconda3/envs/metis/lib/python3.8/site-packages/pandas/core/indexing.py:670: SettingWithCopyWarning: \n",
      "A value is trying to be set on a copy of a slice from a DataFrame\n",
      "\n",
      "See the caveats in the documentation: https://pandas.pydata.org/pandas-docs/stable/user_guide/indexing.html#returning-a-view-versus-a-copy\n",
      "  iloc._setitem_with_indexer(indexer, value)\n"
     ]
    },
    {
     "name": "stdout",
     "output_type": "stream",
     "text": [
      "Here is the coding for pitch type:\n",
      "{'FT': 0, 'FF': 1, 'SL': 2, 'CU': 3, 'CH': 4, 'SI': 5}\n",
      "Actual Test Size: 0.24505342303126237\n"
     ]
    },
    {
     "name": "stderr",
     "output_type": "stream",
     "text": [
      "/Users/patrickbovard/opt/anaconda3/envs/metis/lib/python3.8/site-packages/sklearn/metrics/_classification.py:1245: UndefinedMetricWarning: Precision is ill-defined and being set to 0.0 in labels with no predicted samples. Use `zero_division` parameter to control this behavior.\n",
      "  _warn_prf(average, modifier, msg_start, len(result))\n"
     ]
    },
    {
     "name": "stdout",
     "output_type": "stream",
     "text": [
      "Accuracy: 0.4182478805006056\n",
      "Precision: (0.3169066644714637,)\n",
      "Recall: 0.2764964227174732\n",
      "Random Forest Pitch Classification confusion matrix results:\n",
      "[[541 147  59  31  19   0]\n",
      " [218 331  43  35  19   0]\n",
      " [188 119  78  14  10   0]\n",
      " [140 116  27  46  15   0]\n",
      " [105  83  33  18  40   0]\n",
      " [  0   2   0   0   0   0]]\n",
      "Val Px R^2: 0.014955047438161673\n",
      "Val Px MAE: 0.6482810271019848 ft.\n",
      "Val Pz R^2: 0.06401226112752101\n",
      "Val Pz MAE: 0.7286748863571434 ft.\n",
      "\n",
      "\n",
      "\n",
      "\n",
      "Pitch Modeling for Jon Lester\n",
      "Here is the coding for last pitch type:\n",
      "{'FF': 0, 'FC': 1, 'CU': 2, 'SI': 3, 'CH': 4, 'PO': 5}\n"
     ]
    },
    {
     "name": "stderr",
     "output_type": "stream",
     "text": [
      "/Users/patrickbovard/opt/anaconda3/envs/metis/lib/python3.8/site-packages/pandas/core/indexing.py:670: SettingWithCopyWarning: \n",
      "A value is trying to be set on a copy of a slice from a DataFrame\n",
      "\n",
      "See the caveats in the documentation: https://pandas.pydata.org/pandas-docs/stable/user_guide/indexing.html#returning-a-view-versus-a-copy\n",
      "  iloc._setitem_with_indexer(indexer, value)\n"
     ]
    },
    {
     "name": "stdout",
     "output_type": "stream",
     "text": [
      "Here is the coding for pitch type:\n",
      "{'FF': 0, 'FC': 1, 'CU': 2, 'SI': 3, 'CH': 4}\n",
      "Actual Test Size: 0.25269461077844313\n",
      "Accuracy: 0.45813586097946285\n",
      "Precision: (0.294716790893499,)\n",
      "Recall: 0.2385036891959318\n",
      "Random Forest Pitch Classification confusion matrix results:\n",
      "[[983 138  42  12   4]\n",
      " [419 141  27   9   2]\n",
      " [258  58  25   4   2]\n",
      " [176  33   5   9   2]\n",
      " [127  40   9   5   2]]\n",
      "Val Px R^2: 0.0729026728104415\n",
      "Val Px MAE: 0.7154414263280175 ft.\n",
      "Val Pz R^2: 0.16116943901370806\n",
      "Val Pz MAE: 0.6041251856868358 ft.\n",
      "\n",
      "\n",
      "\n",
      "\n",
      "Pitch Modeling for Corey Kluber\n",
      "Here is the coding for last pitch type:\n",
      "{'SI': 0, 'CU': 1, 'FF': 2, 'SL': 3, 'FC': 4, 'CH': 5, 'PO': 6}\n"
     ]
    },
    {
     "name": "stderr",
     "output_type": "stream",
     "text": [
      "/Users/patrickbovard/opt/anaconda3/envs/metis/lib/python3.8/site-packages/pandas/core/indexing.py:670: SettingWithCopyWarning: \n",
      "A value is trying to be set on a copy of a slice from a DataFrame\n",
      "\n",
      "See the caveats in the documentation: https://pandas.pydata.org/pandas-docs/stable/user_guide/indexing.html#returning-a-view-versus-a-copy\n",
      "  iloc._setitem_with_indexer(indexer, value)\n"
     ]
    },
    {
     "name": "stdout",
     "output_type": "stream",
     "text": [
      "Here is the coding for pitch type:\n",
      "{'SI': 0, 'CU': 1, 'FF': 2, 'SL': 3, 'FC': 4, 'CH': 5}\n",
      "Actual Test Size: 0.2488986784140969\n",
      "Accuracy: 0.3901850362027353\n",
      "Precision: (0.3600371757884588,)\n",
      "Recall: 0.3241120234966125\n",
      "Random Forest Pitch Classification confusion matrix results:\n",
      "[[446 125  59  82  64   9]\n",
      " [199 194  40  48  50   2]\n",
      " [160  63  80  62  25   4]\n",
      " [129  31  38 115   0   2]\n",
      " [132  48  10   0 129   3]\n",
      " [ 56  21  11  16  27   6]]\n",
      "Val Px R^2: 0.11739863350533586\n",
      "Val Px MAE: 0.6460771757815361 ft.\n",
      "Val Pz R^2: 0.03714850546433157\n",
      "Val Pz MAE: 0.6935211738426176 ft.\n",
      "\n",
      "\n",
      "\n",
      "\n",
      "Pitch Modeling for Gio Gonzalez\n",
      "Here is the coding for last pitch type:\n",
      "{'FF': 0, 'FT': 1, 'CU': 2, 'CH': 3, 'UN': 4}\n"
     ]
    },
    {
     "name": "stderr",
     "output_type": "stream",
     "text": [
      "/Users/patrickbovard/opt/anaconda3/envs/metis/lib/python3.8/site-packages/pandas/core/indexing.py:670: SettingWithCopyWarning: \n",
      "A value is trying to be set on a copy of a slice from a DataFrame\n",
      "\n",
      "See the caveats in the documentation: https://pandas.pydata.org/pandas-docs/stable/user_guide/indexing.html#returning-a-view-versus-a-copy\n",
      "  iloc._setitem_with_indexer(indexer, value)\n"
     ]
    },
    {
     "name": "stdout",
     "output_type": "stream",
     "text": [
      "Here is the coding for pitch type:\n",
      "{'FF': 0, 'FT': 1, 'CU': 2, 'CH': 3}\n",
      "Actual Test Size: 0.248214106046886\n",
      "Accuracy: 0.41183623834616945\n",
      "Precision: (0.3851922914842664,)\n",
      "Recall: 0.36859638080953433\n",
      "Random Forest Pitch Classification confusion matrix results:\n",
      "[[519 120 102  52]\n",
      " [264 317  62  58]\n",
      " [245 115 107  40]\n",
      " [203 141  49  73]]\n",
      "Val Px R^2: 0.07932808863716345\n",
      "Val Px MAE: 0.6770006072125093 ft.\n",
      "Val Pz R^2: 0.2186969349298037\n",
      "Val Pz MAE: 0.672870047026909 ft.\n",
      "\n",
      "\n",
      "\n",
      "\n",
      "Pitch Modeling for Julio Teheran\n",
      "Here is the coding for last pitch type:\n",
      "{'FF': 0, 'SL': 1, 'FT': 2, 'CU': 3, 'CH': 4, 'UN': 5, 'PO': 6}\n"
     ]
    },
    {
     "name": "stderr",
     "output_type": "stream",
     "text": [
      "/Users/patrickbovard/opt/anaconda3/envs/metis/lib/python3.8/site-packages/pandas/core/indexing.py:670: SettingWithCopyWarning: \n",
      "A value is trying to be set on a copy of a slice from a DataFrame\n",
      "\n",
      "See the caveats in the documentation: https://pandas.pydata.org/pandas-docs/stable/user_guide/indexing.html#returning-a-view-versus-a-copy\n",
      "  iloc._setitem_with_indexer(indexer, value)\n"
     ]
    },
    {
     "name": "stdout",
     "output_type": "stream",
     "text": [
      "Here is the coding for pitch type:\n",
      "{'FF': 0, 'SL': 1, 'FT': 2, 'CH': 3, 'CU': 4}\n",
      "Actual Test Size: 0.24829227903125647\n",
      "Accuracy: 0.4260108378491038\n",
      "Precision: (0.35284000031573987,)\n",
      "Recall: 0.2795108259674451\n",
      "Random Forest Pitch Classification confusion matrix results:\n",
      "[[765 131  79  20  17]\n",
      " [373 104  62   3   3]\n",
      " [235  47 115  15  17]\n",
      " [140  18  31  23   3]\n",
      " [137  17  19  10  15]]\n",
      "Val Px R^2: 0.12246102763520972\n",
      "Val Px MAE: 0.6886627292453926 ft.\n",
      "Val Pz R^2: 0.10326806230291541\n",
      "Val Pz MAE: 0.6776427616282779 ft.\n",
      "\n",
      "\n",
      "\n",
      "\n"
     ]
    }
   ],
   "source": [
    "output_df = multiple_pitcher_predictions(pitcher_list, pitch_df, split_size = 0.2)"
   ]
  },
  {
   "cell_type": "markdown",
   "metadata": {},
   "source": [
    "Based on my stopwatch, it took ~5 mins to run for 25 pitchers, so it is not terribly expensive to model on a per pitcher basis."
   ]
  },
  {
   "cell_type": "markdown",
   "metadata": {},
   "source": [
    "Overall at this time, I'm not as concerned with pitch location R^2 as I am pitch type.  The rationale is that incorrect predictions of pitch type have a large factor on the location, so a wrong pitch type doesn't really matter since different pitches are thrown in different locations (or are meant to be).  \n",
    "\n",
    "The pitch location also does not need to be exact for my use case.  Telling a hitter \"expect a fastball at coordinate 1.23, 2.54\" won't give them good info - in real life, saying \"expect a fastball high and inside\" is typically what would be needed."
   ]
  },
  {
   "cell_type": "code",
   "execution_count": 65,
   "metadata": {},
   "outputs": [
    {
     "data": {
      "text/html": [
       "<div>\n",
       "<style scoped>\n",
       "    .dataframe tbody tr th:only-of-type {\n",
       "        vertical-align: middle;\n",
       "    }\n",
       "\n",
       "    .dataframe tbody tr th {\n",
       "        vertical-align: top;\n",
       "    }\n",
       "\n",
       "    .dataframe thead th {\n",
       "        text-align: right;\n",
       "    }\n",
       "</style>\n",
       "<table border=\"1\" class=\"dataframe\">\n",
       "  <thead>\n",
       "    <tr style=\"text-align: right;\">\n",
       "      <th></th>\n",
       "      <th>inning</th>\n",
       "      <th>batter_id</th>\n",
       "      <th>pitcher_id</th>\n",
       "      <th>top</th>\n",
       "      <th>ab_id</th>\n",
       "      <th>p_score</th>\n",
       "      <th>event</th>\n",
       "      <th>home_team</th>\n",
       "      <th>away_team</th>\n",
       "      <th>b_score</th>\n",
       "      <th>...</th>\n",
       "      <th>pitch_pred</th>\n",
       "      <th>FF_prob</th>\n",
       "      <th>SL_prob</th>\n",
       "      <th>CH_prob</th>\n",
       "      <th>CU_prob</th>\n",
       "      <th>FC_prob</th>\n",
       "      <th>FT_prob</th>\n",
       "      <th>px_pred</th>\n",
       "      <th>pz_pred</th>\n",
       "      <th>SI_prob</th>\n",
       "    </tr>\n",
       "  </thead>\n",
       "  <tbody>\n",
       "    <tr>\n",
       "      <th>2453</th>\n",
       "      <td>3.0</td>\n",
       "      <td>527038</td>\n",
       "      <td>453286</td>\n",
       "      <td>1.0</td>\n",
       "      <td>2.015001e+09</td>\n",
       "      <td>0.0</td>\n",
       "      <td>Strikeout</td>\n",
       "      <td>was</td>\n",
       "      <td>nyn</td>\n",
       "      <td>0.0</td>\n",
       "      <td>...</td>\n",
       "      <td>0</td>\n",
       "      <td>0.69</td>\n",
       "      <td>0.15</td>\n",
       "      <td>0.00</td>\n",
       "      <td>0.02</td>\n",
       "      <td>0.14</td>\n",
       "      <td>0.0</td>\n",
       "      <td>0.038671</td>\n",
       "      <td>2.530527</td>\n",
       "      <td>NaN</td>\n",
       "    </tr>\n",
       "    <tr>\n",
       "      <th>2454</th>\n",
       "      <td>3.0</td>\n",
       "      <td>527038</td>\n",
       "      <td>453286</td>\n",
       "      <td>1.0</td>\n",
       "      <td>2.015001e+09</td>\n",
       "      <td>0.0</td>\n",
       "      <td>Strikeout</td>\n",
       "      <td>was</td>\n",
       "      <td>nyn</td>\n",
       "      <td>0.0</td>\n",
       "      <td>...</td>\n",
       "      <td>0</td>\n",
       "      <td>0.57</td>\n",
       "      <td>0.18</td>\n",
       "      <td>0.00</td>\n",
       "      <td>0.06</td>\n",
       "      <td>0.19</td>\n",
       "      <td>0.0</td>\n",
       "      <td>0.000305</td>\n",
       "      <td>2.423075</td>\n",
       "      <td>NaN</td>\n",
       "    </tr>\n",
       "    <tr>\n",
       "      <th>2455</th>\n",
       "      <td>3.0</td>\n",
       "      <td>527038</td>\n",
       "      <td>453286</td>\n",
       "      <td>1.0</td>\n",
       "      <td>2.015001e+09</td>\n",
       "      <td>0.0</td>\n",
       "      <td>Strikeout</td>\n",
       "      <td>was</td>\n",
       "      <td>nyn</td>\n",
       "      <td>0.0</td>\n",
       "      <td>...</td>\n",
       "      <td>1</td>\n",
       "      <td>0.27</td>\n",
       "      <td>0.52</td>\n",
       "      <td>0.16</td>\n",
       "      <td>0.01</td>\n",
       "      <td>0.04</td>\n",
       "      <td>0.0</td>\n",
       "      <td>0.109142</td>\n",
       "      <td>2.255876</td>\n",
       "      <td>NaN</td>\n",
       "    </tr>\n",
       "    <tr>\n",
       "      <th>2496</th>\n",
       "      <td>5.0</td>\n",
       "      <td>502517</td>\n",
       "      <td>453286</td>\n",
       "      <td>1.0</td>\n",
       "      <td>2.015001e+09</td>\n",
       "      <td>1.0</td>\n",
       "      <td>Flyout</td>\n",
       "      <td>was</td>\n",
       "      <td>nyn</td>\n",
       "      <td>0.0</td>\n",
       "      <td>...</td>\n",
       "      <td>0</td>\n",
       "      <td>0.43</td>\n",
       "      <td>0.08</td>\n",
       "      <td>0.12</td>\n",
       "      <td>0.35</td>\n",
       "      <td>0.02</td>\n",
       "      <td>0.0</td>\n",
       "      <td>-0.236734</td>\n",
       "      <td>2.648451</td>\n",
       "      <td>NaN</td>\n",
       "    </tr>\n",
       "    <tr>\n",
       "      <th>2497</th>\n",
       "      <td>5.0</td>\n",
       "      <td>502517</td>\n",
       "      <td>453286</td>\n",
       "      <td>1.0</td>\n",
       "      <td>2.015001e+09</td>\n",
       "      <td>1.0</td>\n",
       "      <td>Flyout</td>\n",
       "      <td>was</td>\n",
       "      <td>nyn</td>\n",
       "      <td>0.0</td>\n",
       "      <td>...</td>\n",
       "      <td>0</td>\n",
       "      <td>0.42</td>\n",
       "      <td>0.12</td>\n",
       "      <td>0.13</td>\n",
       "      <td>0.29</td>\n",
       "      <td>0.04</td>\n",
       "      <td>0.0</td>\n",
       "      <td>-0.335756</td>\n",
       "      <td>2.579163</td>\n",
       "      <td>NaN</td>\n",
       "    </tr>\n",
       "  </tbody>\n",
       "</table>\n",
       "<p>5 rows × 60 columns</p>\n",
       "</div>"
      ],
      "text/plain": [
       "      inning batter_id pitcher_id  top         ab_id  p_score      event  \\\n",
       "2453     3.0    527038     453286  1.0  2.015001e+09      0.0  Strikeout   \n",
       "2454     3.0    527038     453286  1.0  2.015001e+09      0.0  Strikeout   \n",
       "2455     3.0    527038     453286  1.0  2.015001e+09      0.0  Strikeout   \n",
       "2496     5.0    502517     453286  1.0  2.015001e+09      1.0     Flyout   \n",
       "2497     5.0    502517     453286  1.0  2.015001e+09      1.0     Flyout   \n",
       "\n",
       "     home_team away_team  b_score  ...  pitch_pred  FF_prob  SL_prob  CH_prob  \\\n",
       "2453       was       nyn      0.0  ...           0     0.69     0.15     0.00   \n",
       "2454       was       nyn      0.0  ...           0     0.57     0.18     0.00   \n",
       "2455       was       nyn      0.0  ...           1     0.27     0.52     0.16   \n",
       "2496       was       nyn      0.0  ...           0     0.43     0.08     0.12   \n",
       "2497       was       nyn      0.0  ...           0     0.42     0.12     0.13   \n",
       "\n",
       "      CU_prob FC_prob FT_prob   px_pred   pz_pred  SI_prob  \n",
       "2453     0.02    0.14     0.0  0.038671  2.530527      NaN  \n",
       "2454     0.06    0.19     0.0  0.000305  2.423075      NaN  \n",
       "2455     0.01    0.04     0.0  0.109142  2.255876      NaN  \n",
       "2496     0.35    0.02     0.0 -0.236734  2.648451      NaN  \n",
       "2497     0.29    0.04     0.0 -0.335756  2.579163      NaN  \n",
       "\n",
       "[5 rows x 60 columns]"
      ]
     },
     "execution_count": 65,
     "metadata": {},
     "output_type": "execute_result"
    }
   ],
   "source": [
    "output_df.head()"
   ]
  },
  {
   "cell_type": "markdown",
   "metadata": {},
   "source": [
    "### XGBoost Classifier:"
   ]
  },
  {
   "cell_type": "markdown",
   "metadata": {},
   "source": [
    "In order to compare, I will be now running the workflow with XGBoost utilized at the classification step, as compared to Random Forest:"
   ]
  },
  {
   "cell_type": "code",
   "execution_count": 66,
   "metadata": {
    "scrolled": true
   },
   "outputs": [
    {
     "name": "stdout",
     "output_type": "stream",
     "text": [
      "Pitch Modeling for Rick Porcello\n",
      "Here is the coding for last pitch type:\n",
      "{'FT': 0, 'FF': 1, 'CU': 2, 'SL': 3, 'CH': 4, 'EP': 5, 'PO': 6, 'SI': 7}\n"
     ]
    },
    {
     "name": "stderr",
     "output_type": "stream",
     "text": [
      "/Users/patrickbovard/opt/anaconda3/envs/metis/lib/python3.8/site-packages/pandas/core/indexing.py:670: SettingWithCopyWarning: \n",
      "A value is trying to be set on a copy of a slice from a DataFrame\n",
      "\n",
      "See the caveats in the documentation: https://pandas.pydata.org/pandas-docs/stable/user_guide/indexing.html#returning-a-view-versus-a-copy\n",
      "  iloc._setitem_with_indexer(indexer, value)\n"
     ]
    },
    {
     "name": "stdout",
     "output_type": "stream",
     "text": [
      "Here is the coding for pitch type:\n",
      "{'FT': 0, 'FF': 1, 'SL': 2, 'CU': 3, 'CH': 4, 'SI': 5}\n",
      "Actual Test Size: 0.24505342303126237\n",
      "[10:15:24] WARNING: /Users/runner/miniforge3/conda-bld/xgboost_1607604592557/work/src/learner.cc:1061: Starting in XGBoost 1.3.0, the default evaluation metric used with the objective 'multi:softprob' was changed from 'merror' to 'mlogloss'. Explicitly set eval_metric if you'd like to restore the old behavior.\n"
     ]
    },
    {
     "name": "stderr",
     "output_type": "stream",
     "text": [
      "/Users/patrickbovard/opt/anaconda3/envs/metis/lib/python3.8/site-packages/xgboost/sklearn.py:888: UserWarning: The use of label encoder in XGBClassifier is deprecated and will be removed in a future release. To remove this warning, do the following: 1) Pass option use_label_encoder=False when constructing XGBClassifier object; and 2) Encode your labels (y) as integers starting with 0, i.e. 0, 1, 2, ..., [num_class - 1].\n",
      "  warnings.warn(label_encoder_deprecation_msg, UserWarning)\n"
     ]
    },
    {
     "name": "stdout",
     "output_type": "stream",
     "text": [
      "Accuracy: 0.4360113039967703\n",
      "Precision: (0.32028349706706166,)\n",
      "Recall: 0.3009872614828474\n",
      "XGBoost Pitch Classification confusion matrix results:\n",
      "[[521 122  67  54  33   0]\n",
      " [180 344  51  42  29   0]\n",
      " [165  95  95  31  23   0]\n",
      " [113  98  57  63  13   0]\n",
      " [ 84  68  37  33  57   0]\n",
      " [  0   2   0   0   0   0]]\n",
      "Val Px R^2: 0.017058267278571848\n",
      "Val Px MAE: 0.6473860190128807 ft.\n",
      "Val Pz R^2: 0.0658685778375333\n",
      "Val Pz MAE: 0.7280400887539987 ft.\n"
     ]
    },
    {
     "name": "stderr",
     "output_type": "stream",
     "text": [
      "/Users/patrickbovard/opt/anaconda3/envs/metis/lib/python3.8/site-packages/sklearn/metrics/_classification.py:1245: UndefinedMetricWarning: Precision is ill-defined and being set to 0.0 in labels with no predicted samples. Use `zero_division` parameter to control this behavior.\n",
      "  _warn_prf(average, modifier, msg_start, len(result))\n"
     ]
    }
   ],
   "source": [
    "val_df_full = pitch_prediction_modeling_pipeline('Rick Porcello', pitch_df, split_size = 0.2, class_method = 'XGBoost')"
   ]
  },
  {
   "cell_type": "code",
   "execution_count": 67,
   "metadata": {
    "scrolled": true
   },
   "outputs": [
    {
     "name": "stdout",
     "output_type": "stream",
     "text": [
      "Pitch Modeling for Max Scherzer\n",
      "Here is the coding for last pitch type:\n",
      "{'FF': 0, 'SL': 1, 'CH': 2, 'CU': 3, 'FC': 4, 'FT': 5, 'UN': 6}\n"
     ]
    },
    {
     "name": "stderr",
     "output_type": "stream",
     "text": [
      "/Users/patrickbovard/opt/anaconda3/envs/metis/lib/python3.8/site-packages/pandas/core/indexing.py:670: SettingWithCopyWarning: \n",
      "A value is trying to be set on a copy of a slice from a DataFrame\n",
      "\n",
      "See the caveats in the documentation: https://pandas.pydata.org/pandas-docs/stable/user_guide/indexing.html#returning-a-view-versus-a-copy\n",
      "  iloc._setitem_with_indexer(indexer, value)\n"
     ]
    },
    {
     "name": "stdout",
     "output_type": "stream",
     "text": [
      "Here is the coding for pitch type:\n",
      "{'FF': 0, 'SL': 1, 'CH': 2, 'CU': 3, 'FC': 4, 'FT': 5}\n",
      "Actual Test Size: 0.2460442305912834\n",
      "Accuracy: 0.5182399398270027\n",
      "Precision: (0.37473402791012855,)\n",
      "Recall: 0.22615082523620308\n",
      "Random Forest Pitch Classification confusion matrix results:\n",
      "[[1189  136   39   10   15    1]\n",
      " [ 362  141    7    3    0    0]\n",
      " [ 301   32   35    5    4    0]\n",
      " [ 196    7   14    3    2    0]\n",
      " [ 116    2   11    1    9    0]\n",
      " [  11    6    0    0    0    1]]\n",
      "Val Px R^2: 0.06226044569020561\n",
      "Val Px MAE: 0.6810332885874905 ft.\n",
      "Val Pz R^2: 0.14865238769648392\n",
      "Val Pz MAE: 0.6249756179201421 ft.\n",
      "\n",
      "\n",
      "\n",
      "\n",
      "Pitch Modeling for Justin Verlander\n",
      "Here is the coding for last pitch type:\n",
      "{'FF': 0, 'SL': 1, 'CU': 2, 'CH': 3, 'FC': 4, 'FT': 5, 'PO': 6}\n"
     ]
    },
    {
     "name": "stderr",
     "output_type": "stream",
     "text": [
      "/Users/patrickbovard/opt/anaconda3/envs/metis/lib/python3.8/site-packages/pandas/core/indexing.py:670: SettingWithCopyWarning: \n",
      "A value is trying to be set on a copy of a slice from a DataFrame\n",
      "\n",
      "See the caveats in the documentation: https://pandas.pydata.org/pandas-docs/stable/user_guide/indexing.html#returning-a-view-versus-a-copy\n",
      "  iloc._setitem_with_indexer(indexer, value)\n"
     ]
    },
    {
     "name": "stdout",
     "output_type": "stream",
     "text": [
      "Here is the coding for pitch type:\n",
      "{'FF': 0, 'SL': 1, 'CU': 2, 'CH': 3, 'FC': 4, 'FT': 5}\n",
      "Actual Test Size: 0.2522002738118521\n"
     ]
    },
    {
     "name": "stderr",
     "output_type": "stream",
     "text": [
      "/Users/patrickbovard/opt/anaconda3/envs/metis/lib/python3.8/site-packages/sklearn/metrics/_classification.py:1245: UndefinedMetricWarning: Precision is ill-defined and being set to 0.0 in labels with no predicted samples. Use `zero_division` parameter to control this behavior.\n",
      "  _warn_prf(average, modifier, msg_start, len(result))\n"
     ]
    },
    {
     "name": "stdout",
     "output_type": "stream",
     "text": [
      "Accuracy: 0.5979061651803025\n",
      "Precision: (0.3216475178197666,)\n",
      "Recall: 0.19867667736842357\n",
      "Random Forest Pitch Classification confusion matrix results:\n",
      "[[1422   58   40    1    0    0]\n",
      " [ 399   87   21    0    0    0]\n",
      " [ 346   33   32    0    0    0]\n",
      " [ 122    4    3    1    0    0]\n",
      " [   9    0    0    0    0    0]\n",
      " [   1    0    0    0    0    0]]\n",
      "Val Px R^2: 0.08974092782992571\n",
      "Val Px MAE: 0.613288115875817 ft.\n",
      "Val Pz R^2: 0.17819110519912873\n",
      "Val Pz MAE: 0.6805312747976837 ft.\n",
      "\n",
      "\n",
      "\n",
      "\n",
      "Pitch Modeling for Chris Archer\n",
      "Here is the coding for last pitch type:\n",
      "{'FF': 0, 'SL': 1, 'CH': 2, 'FT': 3, 'CU': 4, 'PO': 5}\n"
     ]
    },
    {
     "name": "stderr",
     "output_type": "stream",
     "text": [
      "/Users/patrickbovard/opt/anaconda3/envs/metis/lib/python3.8/site-packages/pandas/core/indexing.py:670: SettingWithCopyWarning: \n",
      "A value is trying to be set on a copy of a slice from a DataFrame\n",
      "\n",
      "See the caveats in the documentation: https://pandas.pydata.org/pandas-docs/stable/user_guide/indexing.html#returning-a-view-versus-a-copy\n",
      "  iloc._setitem_with_indexer(indexer, value)\n"
     ]
    },
    {
     "name": "stdout",
     "output_type": "stream",
     "text": [
      "Here is the coding for pitch type:\n",
      "{'FF': 0, 'SL': 1, 'CH': 2, 'FT': 3, 'CU': 4}\n",
      "Actual Test Size: 0.255042802322149\n",
      "Accuracy: 0.5798611111111112\n",
      "Precision: (0.40305924346834415,)\n",
      "Recall: 0.3365381721571751\n",
      "Random Forest Pitch Classification confusion matrix results:\n",
      "[[828 380  15   5   1]\n",
      " [422 643   9  10   0]\n",
      " [150  57  17   3   0]\n",
      " [  7  21   1  15   0]\n",
      " [  5   2   0   1   0]]\n",
      "Val Px R^2: 0.17567480641882793\n",
      "Val Px MAE: 0.5668410709687982 ft.\n",
      "Val Pz R^2: 0.1087659781911886\n",
      "Val Pz MAE: 0.7860541844708447 ft.\n",
      "\n",
      "\n",
      "\n",
      "\n",
      "Pitch Modeling for Jose Quintana\n",
      "Here is the coding for last pitch type:\n",
      "{'FF': 0, 'CU': 1, 'SI': 2, 'CH': 3, 'FT': 4, 'PO': 5, 'UN': 6, 'FA': 7}\n"
     ]
    },
    {
     "name": "stderr",
     "output_type": "stream",
     "text": [
      "/Users/patrickbovard/opt/anaconda3/envs/metis/lib/python3.8/site-packages/pandas/core/indexing.py:670: SettingWithCopyWarning: \n",
      "A value is trying to be set on a copy of a slice from a DataFrame\n",
      "\n",
      "See the caveats in the documentation: https://pandas.pydata.org/pandas-docs/stable/user_guide/indexing.html#returning-a-view-versus-a-copy\n",
      "  iloc._setitem_with_indexer(indexer, value)\n"
     ]
    },
    {
     "name": "stdout",
     "output_type": "stream",
     "text": [
      "Here is the coding for pitch type:\n",
      "{'FF': 0, 'CU': 1, 'SI': 2, 'CH': 3, 'FT': 4}\n",
      "Actual Test Size: 0.2450441609421001\n",
      "Accuracy: 0.48217861433720466\n",
      "Precision: (0.3626605057867406,)\n",
      "Recall: 0.3136464551230064\n",
      "Random Forest Pitch Classification confusion matrix results:\n",
      "[[907 196  64   4  26]\n",
      " [405 165  46  10  24]\n",
      " [117  36 102   2   0]\n",
      " [133  42  24   4   5]\n",
      " [119  37   0   3  26]]\n",
      "Val Px R^2: -0.021576674437576493\n",
      "Val Px MAE: 0.6558854772078329 ft.\n",
      "Val Pz R^2: 0.0317435853351421\n",
      "Val Pz MAE: 0.7286681158437902 ft.\n",
      "\n",
      "\n",
      "\n",
      "\n",
      "Pitch Modeling for Chris Sale\n",
      "Here is the coding for last pitch type:\n",
      "{'FT': 0, 'SL': 1, 'CH': 2, 'FF': 3, 'FA': 4}\n"
     ]
    },
    {
     "name": "stderr",
     "output_type": "stream",
     "text": [
      "/Users/patrickbovard/opt/anaconda3/envs/metis/lib/python3.8/site-packages/pandas/core/indexing.py:670: SettingWithCopyWarning: \n",
      "A value is trying to be set on a copy of a slice from a DataFrame\n",
      "\n",
      "See the caveats in the documentation: https://pandas.pydata.org/pandas-docs/stable/user_guide/indexing.html#returning-a-view-versus-a-copy\n",
      "  iloc._setitem_with_indexer(indexer, value)\n"
     ]
    },
    {
     "name": "stdout",
     "output_type": "stream",
     "text": [
      "Here is the coding for pitch type:\n",
      "{'FT': 0, 'SL': 1, 'CH': 2, 'FF': 3, 'FS': 4}\n",
      "Actual Test Size: 0.24323529411764705\n",
      "Accuracy: 0.4808544941555824\n",
      "Precision: (0.45154139583453856,)\n",
      "Recall: 0.45488853949018093\n",
      "Random Forest Pitch Classification confusion matrix results:\n",
      "[[621 100 104  29]\n",
      " [230 221  63 164]\n",
      " [249  80 125  65]\n",
      " [ 21 149  34 226]]\n",
      "Val Px R^2: 0.023075653099997706\n",
      "Val Px MAE: 0.7016656017281951 ft.\n",
      "Val Pz R^2: 0.009413236959385674\n",
      "Val Pz MAE: 0.6700861940347584 ft.\n",
      "\n",
      "\n",
      "\n",
      "\n",
      "Pitch Modeling for Rick Porcello\n",
      "Here is the coding for last pitch type:\n",
      "{'FT': 0, 'FF': 1, 'CU': 2, 'SL': 3, 'CH': 4, 'EP': 5, 'PO': 6, 'SI': 7}\n"
     ]
    },
    {
     "name": "stderr",
     "output_type": "stream",
     "text": [
      "/Users/patrickbovard/opt/anaconda3/envs/metis/lib/python3.8/site-packages/pandas/core/indexing.py:670: SettingWithCopyWarning: \n",
      "A value is trying to be set on a copy of a slice from a DataFrame\n",
      "\n",
      "See the caveats in the documentation: https://pandas.pydata.org/pandas-docs/stable/user_guide/indexing.html#returning-a-view-versus-a-copy\n",
      "  iloc._setitem_with_indexer(indexer, value)\n"
     ]
    },
    {
     "name": "stdout",
     "output_type": "stream",
     "text": [
      "Here is the coding for pitch type:\n",
      "{'FT': 0, 'FF': 1, 'SL': 2, 'CU': 3, 'CH': 4, 'SI': 5}\n",
      "Actual Test Size: 0.24505342303126237\n"
     ]
    },
    {
     "name": "stderr",
     "output_type": "stream",
     "text": [
      "/Users/patrickbovard/opt/anaconda3/envs/metis/lib/python3.8/site-packages/sklearn/metrics/_classification.py:1245: UndefinedMetricWarning: Precision is ill-defined and being set to 0.0 in labels with no predicted samples. Use `zero_division` parameter to control this behavior.\n",
      "  _warn_prf(average, modifier, msg_start, len(result))\n"
     ]
    },
    {
     "name": "stdout",
     "output_type": "stream",
     "text": [
      "Accuracy: 0.4210738796931772\n",
      "Precision: (0.31142079660416727,)\n",
      "Recall: 0.2760736465319838\n",
      "Random Forest Pitch Classification confusion matrix results:\n",
      "[[545 152  54  23  23   0]\n",
      " [210 343  43  34  16   0]\n",
      " [184 111  75  24  15   0]\n",
      " [152 106  32  42  12   0]\n",
      " [109  84  31  17  38   0]\n",
      " [  0   2   0   0   0   0]]\n",
      "Val Px R^2: 0.017267196951480823\n",
      "Val Px MAE: 0.6482323287482625 ft.\n",
      "Val Pz R^2: 0.06401561883500506\n",
      "Val Pz MAE: 0.7283612572142649 ft.\n",
      "\n",
      "\n",
      "\n",
      "\n",
      "Pitch Modeling for Jon Lester\n",
      "Here is the coding for last pitch type:\n",
      "{'FF': 0, 'FC': 1, 'CU': 2, 'SI': 3, 'CH': 4, 'PO': 5}\n"
     ]
    },
    {
     "name": "stderr",
     "output_type": "stream",
     "text": [
      "/Users/patrickbovard/opt/anaconda3/envs/metis/lib/python3.8/site-packages/pandas/core/indexing.py:670: SettingWithCopyWarning: \n",
      "A value is trying to be set on a copy of a slice from a DataFrame\n",
      "\n",
      "See the caveats in the documentation: https://pandas.pydata.org/pandas-docs/stable/user_guide/indexing.html#returning-a-view-versus-a-copy\n",
      "  iloc._setitem_with_indexer(indexer, value)\n"
     ]
    },
    {
     "name": "stdout",
     "output_type": "stream",
     "text": [
      "Here is the coding for pitch type:\n",
      "{'FF': 0, 'FC': 1, 'CU': 2, 'SI': 3, 'CH': 4}\n",
      "Actual Test Size: 0.25269461077844313\n",
      "Accuracy: 0.46484992101105843\n",
      "Precision: (0.28728335724132215,)\n",
      "Recall: 0.2448329793029051\n",
      "Random Forest Pitch Classification confusion matrix results:\n",
      "[[977 139  43  15   5]\n",
      " [402 162  21  11   2]\n",
      " [256  56  29   4   2]\n",
      " [182  30   4   8   1]\n",
      " [129  40   9   4   1]]\n",
      "Val Px R^2: 0.07215325649946047\n",
      "Val Px MAE: 0.7157403643245349 ft.\n",
      "Val Pz R^2: 0.1611316586764222\n",
      "Val Pz MAE: 0.6039364052085006 ft.\n",
      "\n",
      "\n",
      "\n",
      "\n",
      "Pitch Modeling for Corey Kluber\n",
      "Here is the coding for last pitch type:\n",
      "{'SI': 0, 'CU': 1, 'FF': 2, 'SL': 3, 'FC': 4, 'CH': 5, 'PO': 6}\n"
     ]
    },
    {
     "name": "stderr",
     "output_type": "stream",
     "text": [
      "/Users/patrickbovard/opt/anaconda3/envs/metis/lib/python3.8/site-packages/pandas/core/indexing.py:670: SettingWithCopyWarning: \n",
      "A value is trying to be set on a copy of a slice from a DataFrame\n",
      "\n",
      "See the caveats in the documentation: https://pandas.pydata.org/pandas-docs/stable/user_guide/indexing.html#returning-a-view-versus-a-copy\n",
      "  iloc._setitem_with_indexer(indexer, value)\n"
     ]
    },
    {
     "name": "stdout",
     "output_type": "stream",
     "text": [
      "Here is the coding for pitch type:\n",
      "{'SI': 0, 'CU': 1, 'FF': 2, 'SL': 3, 'FC': 4, 'CH': 5}\n",
      "Actual Test Size: 0.2488986784140969\n",
      "Accuracy: 0.3797264682220434\n",
      "Precision: (0.35204358673887737,)\n",
      "Recall: 0.3134372660217487\n",
      "Random Forest Pitch Classification confusion matrix results:\n",
      "[[441 125  56  92  63   8]\n",
      " [205 191  36  51  49   1]\n",
      " [148  75  72  69  25   5]\n",
      " [151  22  34 105   0   3]\n",
      " [124  58   9   0 129   2]\n",
      " [ 61  19   9  19  23   6]]\n",
      "Val Px R^2: 0.11696425775726726\n",
      "Val Px MAE: 0.6459847667505951 ft.\n",
      "Val Pz R^2: 0.03675213256407073\n",
      "Val Pz MAE: 0.6936022005834324 ft.\n",
      "\n",
      "\n",
      "\n",
      "\n",
      "Pitch Modeling for Gio Gonzalez\n",
      "Here is the coding for last pitch type:\n",
      "{'FF': 0, 'FT': 1, 'CU': 2, 'CH': 3, 'UN': 4}\n"
     ]
    },
    {
     "name": "stderr",
     "output_type": "stream",
     "text": [
      "/Users/patrickbovard/opt/anaconda3/envs/metis/lib/python3.8/site-packages/pandas/core/indexing.py:670: SettingWithCopyWarning: \n",
      "A value is trying to be set on a copy of a slice from a DataFrame\n",
      "\n",
      "See the caveats in the documentation: https://pandas.pydata.org/pandas-docs/stable/user_guide/indexing.html#returning-a-view-versus-a-copy\n",
      "  iloc._setitem_with_indexer(indexer, value)\n"
     ]
    },
    {
     "name": "stdout",
     "output_type": "stream",
     "text": [
      "Here is the coding for pitch type:\n",
      "{'FF': 0, 'FT': 1, 'CU': 2, 'CH': 3}\n",
      "Actual Test Size: 0.248214106046886\n",
      "Accuracy: 0.402918524523713\n",
      "Precision: (0.3835686892048009,)\n",
      "Recall: 0.3647930944334375\n",
      "Random Forest Pitch Classification confusion matrix results:\n",
      "[[488 133 113  59]\n",
      " [275 308  61  57]\n",
      " [236 113 118  40]\n",
      " [192 142  52  80]]\n",
      "Val Px R^2: 0.07453513380320376\n",
      "Val Px MAE: 0.6797699092388659 ft.\n",
      "Val Pz R^2: 0.21717838551568192\n",
      "Val Pz MAE: 0.6733512328445445 ft.\n",
      "\n",
      "\n",
      "\n",
      "\n",
      "Pitch Modeling for Julio Teheran\n",
      "Here is the coding for last pitch type:\n",
      "{'FF': 0, 'SL': 1, 'FT': 2, 'CU': 3, 'CH': 4, 'UN': 5, 'PO': 6}\n"
     ]
    },
    {
     "name": "stderr",
     "output_type": "stream",
     "text": [
      "/Users/patrickbovard/opt/anaconda3/envs/metis/lib/python3.8/site-packages/pandas/core/indexing.py:670: SettingWithCopyWarning: \n",
      "A value is trying to be set on a copy of a slice from a DataFrame\n",
      "\n",
      "See the caveats in the documentation: https://pandas.pydata.org/pandas-docs/stable/user_guide/indexing.html#returning-a-view-versus-a-copy\n",
      "  iloc._setitem_with_indexer(indexer, value)\n"
     ]
    },
    {
     "name": "stdout",
     "output_type": "stream",
     "text": [
      "Here is the coding for pitch type:\n",
      "{'FF': 0, 'SL': 1, 'FT': 2, 'CH': 3, 'CU': 4}\n",
      "Actual Test Size: 0.24829227903125647\n",
      "Accuracy: 0.4406002501042101\n",
      "Precision: (0.36357376256955004,)\n",
      "Recall: 0.28697066720257597\n",
      "Random Forest Pitch Classification confusion matrix results:\n",
      "[[792 115  73  15  17]\n",
      " [382 106  50   5   2]\n",
      " [231  46 123  13  16]\n",
      " [137  15  34  27   2]\n",
      " [148  12  18  11   9]]\n",
      "Val Px R^2: 0.12100726135466755\n",
      "Val Px MAE: 0.6898774704986192 ft.\n",
      "Val Pz R^2: 0.10286126144094143\n",
      "Val Pz MAE: 0.6780796007840403 ft.\n",
      "\n",
      "\n",
      "\n",
      "\n"
     ]
    }
   ],
   "source": [
    "output_df = multiple_pitcher_predictions(pitcher_list, pitch_df, split_size = 0.2, class_method = 'XGBoost')"
   ]
  },
  {
   "cell_type": "markdown",
   "metadata": {},
   "source": [
    "About 70 seconds to run 10."
   ]
  },
  {
   "cell_type": "markdown",
   "metadata": {},
   "source": [
    "Overall, the metrics seem relatively similar with Random Forest and XGBoost.  In either way, the prediction quality (and location prediction) will need to be aimed to be improved."
   ]
  },
  {
   "cell_type": "code",
   "execution_count": 68,
   "metadata": {},
   "outputs": [
    {
     "data": {
      "text/html": [
       "<div>\n",
       "<style scoped>\n",
       "    .dataframe tbody tr th:only-of-type {\n",
       "        vertical-align: middle;\n",
       "    }\n",
       "\n",
       "    .dataframe tbody tr th {\n",
       "        vertical-align: top;\n",
       "    }\n",
       "\n",
       "    .dataframe thead th {\n",
       "        text-align: right;\n",
       "    }\n",
       "</style>\n",
       "<table border=\"1\" class=\"dataframe\">\n",
       "  <thead>\n",
       "    <tr style=\"text-align: right;\">\n",
       "      <th></th>\n",
       "      <th>inning</th>\n",
       "      <th>batter_id</th>\n",
       "      <th>pitcher_id</th>\n",
       "      <th>top</th>\n",
       "      <th>ab_id</th>\n",
       "      <th>p_score</th>\n",
       "      <th>event</th>\n",
       "      <th>home_team</th>\n",
       "      <th>away_team</th>\n",
       "      <th>b_score</th>\n",
       "      <th>...</th>\n",
       "      <th>pitch_pred</th>\n",
       "      <th>FF_prob</th>\n",
       "      <th>SL_prob</th>\n",
       "      <th>CH_prob</th>\n",
       "      <th>CU_prob</th>\n",
       "      <th>FC_prob</th>\n",
       "      <th>FT_prob</th>\n",
       "      <th>px_pred</th>\n",
       "      <th>pz_pred</th>\n",
       "      <th>SI_prob</th>\n",
       "    </tr>\n",
       "  </thead>\n",
       "  <tbody>\n",
       "    <tr>\n",
       "      <th>2453</th>\n",
       "      <td>3.0</td>\n",
       "      <td>527038</td>\n",
       "      <td>453286</td>\n",
       "      <td>1.0</td>\n",
       "      <td>2.015001e+09</td>\n",
       "      <td>0.0</td>\n",
       "      <td>Strikeout</td>\n",
       "      <td>was</td>\n",
       "      <td>nyn</td>\n",
       "      <td>0.0</td>\n",
       "      <td>...</td>\n",
       "      <td>0</td>\n",
       "      <td>0.74</td>\n",
       "      <td>0.16</td>\n",
       "      <td>0.00</td>\n",
       "      <td>0.01</td>\n",
       "      <td>0.09</td>\n",
       "      <td>0.0</td>\n",
       "      <td>0.038671</td>\n",
       "      <td>2.530527</td>\n",
       "      <td>NaN</td>\n",
       "    </tr>\n",
       "    <tr>\n",
       "      <th>2454</th>\n",
       "      <td>3.0</td>\n",
       "      <td>527038</td>\n",
       "      <td>453286</td>\n",
       "      <td>1.0</td>\n",
       "      <td>2.015001e+09</td>\n",
       "      <td>0.0</td>\n",
       "      <td>Strikeout</td>\n",
       "      <td>was</td>\n",
       "      <td>nyn</td>\n",
       "      <td>0.0</td>\n",
       "      <td>...</td>\n",
       "      <td>0</td>\n",
       "      <td>0.52</td>\n",
       "      <td>0.25</td>\n",
       "      <td>0.03</td>\n",
       "      <td>0.01</td>\n",
       "      <td>0.19</td>\n",
       "      <td>0.0</td>\n",
       "      <td>0.000305</td>\n",
       "      <td>2.423075</td>\n",
       "      <td>NaN</td>\n",
       "    </tr>\n",
       "    <tr>\n",
       "      <th>2455</th>\n",
       "      <td>3.0</td>\n",
       "      <td>527038</td>\n",
       "      <td>453286</td>\n",
       "      <td>1.0</td>\n",
       "      <td>2.015001e+09</td>\n",
       "      <td>0.0</td>\n",
       "      <td>Strikeout</td>\n",
       "      <td>was</td>\n",
       "      <td>nyn</td>\n",
       "      <td>0.0</td>\n",
       "      <td>...</td>\n",
       "      <td>1</td>\n",
       "      <td>0.34</td>\n",
       "      <td>0.43</td>\n",
       "      <td>0.20</td>\n",
       "      <td>0.00</td>\n",
       "      <td>0.03</td>\n",
       "      <td>0.0</td>\n",
       "      <td>0.109142</td>\n",
       "      <td>2.255876</td>\n",
       "      <td>NaN</td>\n",
       "    </tr>\n",
       "    <tr>\n",
       "      <th>2496</th>\n",
       "      <td>5.0</td>\n",
       "      <td>502517</td>\n",
       "      <td>453286</td>\n",
       "      <td>1.0</td>\n",
       "      <td>2.015001e+09</td>\n",
       "      <td>1.0</td>\n",
       "      <td>Flyout</td>\n",
       "      <td>was</td>\n",
       "      <td>nyn</td>\n",
       "      <td>0.0</td>\n",
       "      <td>...</td>\n",
       "      <td>0</td>\n",
       "      <td>0.53</td>\n",
       "      <td>0.09</td>\n",
       "      <td>0.08</td>\n",
       "      <td>0.30</td>\n",
       "      <td>0.00</td>\n",
       "      <td>0.0</td>\n",
       "      <td>-0.236734</td>\n",
       "      <td>2.648451</td>\n",
       "      <td>NaN</td>\n",
       "    </tr>\n",
       "    <tr>\n",
       "      <th>2497</th>\n",
       "      <td>5.0</td>\n",
       "      <td>502517</td>\n",
       "      <td>453286</td>\n",
       "      <td>1.0</td>\n",
       "      <td>2.015001e+09</td>\n",
       "      <td>1.0</td>\n",
       "      <td>Flyout</td>\n",
       "      <td>was</td>\n",
       "      <td>nyn</td>\n",
       "      <td>0.0</td>\n",
       "      <td>...</td>\n",
       "      <td>0</td>\n",
       "      <td>0.37</td>\n",
       "      <td>0.07</td>\n",
       "      <td>0.22</td>\n",
       "      <td>0.31</td>\n",
       "      <td>0.03</td>\n",
       "      <td>0.0</td>\n",
       "      <td>-0.335756</td>\n",
       "      <td>2.579163</td>\n",
       "      <td>NaN</td>\n",
       "    </tr>\n",
       "  </tbody>\n",
       "</table>\n",
       "<p>5 rows × 60 columns</p>\n",
       "</div>"
      ],
      "text/plain": [
       "      inning batter_id pitcher_id  top         ab_id  p_score      event  \\\n",
       "2453     3.0    527038     453286  1.0  2.015001e+09      0.0  Strikeout   \n",
       "2454     3.0    527038     453286  1.0  2.015001e+09      0.0  Strikeout   \n",
       "2455     3.0    527038     453286  1.0  2.015001e+09      0.0  Strikeout   \n",
       "2496     5.0    502517     453286  1.0  2.015001e+09      1.0     Flyout   \n",
       "2497     5.0    502517     453286  1.0  2.015001e+09      1.0     Flyout   \n",
       "\n",
       "     home_team away_team  b_score  ...  pitch_pred  FF_prob  SL_prob  CH_prob  \\\n",
       "2453       was       nyn      0.0  ...           0     0.74     0.16     0.00   \n",
       "2454       was       nyn      0.0  ...           0     0.52     0.25     0.03   \n",
       "2455       was       nyn      0.0  ...           1     0.34     0.43     0.20   \n",
       "2496       was       nyn      0.0  ...           0     0.53     0.09     0.08   \n",
       "2497       was       nyn      0.0  ...           0     0.37     0.07     0.22   \n",
       "\n",
       "      CU_prob FC_prob FT_prob   px_pred   pz_pred  SI_prob  \n",
       "2453     0.01    0.09     0.0  0.038671  2.530527      NaN  \n",
       "2454     0.01    0.19     0.0  0.000305  2.423075      NaN  \n",
       "2455     0.00    0.03     0.0  0.109142  2.255876      NaN  \n",
       "2496     0.30    0.00     0.0 -0.236734  2.648451      NaN  \n",
       "2497     0.31    0.03     0.0 -0.335756  2.579163      NaN  \n",
       "\n",
       "[5 rows x 60 columns]"
      ]
     },
     "execution_count": 68,
     "metadata": {},
     "output_type": "execute_result"
    }
   ],
   "source": [
    "output_df.head()"
   ]
  },
  {
   "cell_type": "markdown",
   "metadata": {},
   "source": [
    "Either way, at this point I'd think it would be best to look into new features for feature engineering, to improve both facets of the model."
   ]
  },
  {
   "cell_type": "markdown",
   "metadata": {},
   "source": [
    "- More recent pitch proportion rates - right now, I have their running averages over the dataset.  Perhaps shorten to over the current game as well, against the current batter (which would have null values), or over the last 80-100 pitches (roughly a game for a starting pitcher)"
   ]
  },
  {
   "cell_type": "markdown",
   "metadata": {},
   "source": [
    "# Next: Feature_Engineering.ipynb, in the Feature_Engineering_Additional folder\n",
    "The new features will then go into the Pipeline_Part_2.ipynb file in this folder."
   ]
  }
 ],
 "metadata": {
  "kernelspec": {
   "display_name": "Python [conda env:metis] *",
   "language": "python",
   "name": "conda-env-metis-py"
  },
  "language_info": {
   "codemirror_mode": {
    "name": "ipython",
    "version": 3
   },
   "file_extension": ".py",
   "mimetype": "text/x-python",
   "name": "python",
   "nbconvert_exporter": "python",
   "pygments_lexer": "ipython3",
   "version": "3.8.6"
  }
 },
 "nbformat": 4,
 "nbformat_minor": 4
}
