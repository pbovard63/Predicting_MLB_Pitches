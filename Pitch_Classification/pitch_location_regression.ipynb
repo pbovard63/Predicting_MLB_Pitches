{
 "cells": [
  {
   "cell_type": "markdown",
   "metadata": {},
   "source": [
    "# Pitch Location Regression\n",
    "THe purpose of this notebook is to begin working on regression to predict the pitch location, via its x and z coordinates (px, pz).  In the final product, this will come after classification of the pitch type.  Here, I'll first predict px, then pz, as the horizontal location of the pitch is greatly influenced by the pitch type and its motion."
   ]
  },
  {
   "cell_type": "markdown",
   "metadata": {},
   "source": [
    "Importing packages:"
   ]
  },
  {
   "cell_type": "code",
   "execution_count": 1,
   "metadata": {},
   "outputs": [],
   "source": [
    "import pickle\n",
    "from sqlalchemy import create_engine\n",
    "import pandas as pd\n",
    "from importlib import reload\n",
    "import numpy as np\n",
    "import scipy.stats as st\n",
    "import matplotlib.pyplot as plt\n",
    "import seaborn as sns\n",
    "%config InlineBackend.figure_formats = ['retina']\n",
    "%matplotlib inline\n",
    "\n",
    "plt.rcParams['figure.figsize'] = (9, 6)\n",
    "sns.set(context='notebook', style='whitegrid', font_scale=1.2)"
   ]
  },
  {
   "cell_type": "code",
   "execution_count": 2,
   "metadata": {},
   "outputs": [],
   "source": [
    "import pandas as pd\n",
    "import numpy as np\n",
    "from scipy import stats\n",
    "from sklearn.linear_model import LinearRegression\n",
    "import seaborn as sns\n",
    "from sklearn.model_selection import train_test_split\n",
    "from sklearn.linear_model import LinearRegression, Lasso, LassoCV, Ridge, RidgeCV, ElasticNetCV\n",
    "from sklearn.metrics import r2_score\n",
    "from sklearn.pipeline import Pipeline\n",
    "from sklearn.preprocessing import StandardScaler\n",
    "from sklearn.model_selection import KFold"
   ]
  },
  {
   "cell_type": "markdown",
   "metadata": {},
   "source": [
    "Pickling in initial data to work with:"
   ]
  },
  {
   "cell_type": "code",
   "execution_count": 3,
   "metadata": {},
   "outputs": [
    {
     "data": {
      "text/plain": [
       "'/Users/patrickbovard/Documents/GitHub/metis_final_project/Pitch_Classification'"
      ]
     },
     "execution_count": 3,
     "metadata": {},
     "output_type": "execute_result"
    }
   ],
   "source": [
    "pwd"
   ]
  },
  {
   "cell_type": "code",
   "execution_count": 4,
   "metadata": {},
   "outputs": [],
   "source": [
    "with open('../Data/cleaned_pitch_df.pickle','rb') as read_file:\n",
    "    pitch_df = pickle.load(read_file)"
   ]
  },
  {
   "cell_type": "code",
   "execution_count": 5,
   "metadata": {},
   "outputs": [],
   "source": [
    "pitch_df.drop(columns=['Pitch_Family'], inplace=True)"
   ]
  },
  {
   "cell_type": "code",
   "execution_count": 6,
   "metadata": {},
   "outputs": [
    {
     "data": {
      "text/html": [
       "<div>\n",
       "<style scoped>\n",
       "    .dataframe tbody tr th:only-of-type {\n",
       "        vertical-align: middle;\n",
       "    }\n",
       "\n",
       "    .dataframe tbody tr th {\n",
       "        vertical-align: top;\n",
       "    }\n",
       "\n",
       "    .dataframe thead th {\n",
       "        text-align: right;\n",
       "    }\n",
       "</style>\n",
       "<table border=\"1\" class=\"dataframe\">\n",
       "  <thead>\n",
       "    <tr style=\"text-align: right;\">\n",
       "      <th></th>\n",
       "      <th>inning</th>\n",
       "      <th>batter_id</th>\n",
       "      <th>pitcher_id</th>\n",
       "      <th>top</th>\n",
       "      <th>ab_id</th>\n",
       "      <th>p_score</th>\n",
       "      <th>stand</th>\n",
       "      <th>p_throws</th>\n",
       "      <th>event</th>\n",
       "      <th>home_team</th>\n",
       "      <th>...</th>\n",
       "      <th>pitch_num</th>\n",
       "      <th>last_pitch_type</th>\n",
       "      <th>last_pitch_px</th>\n",
       "      <th>last_pitch_pz</th>\n",
       "      <th>last_pitch_speed</th>\n",
       "      <th>pitcher_full_name</th>\n",
       "      <th>pitcher_run_diff</th>\n",
       "      <th>hitter_full_name</th>\n",
       "      <th>Date_Time_Date</th>\n",
       "      <th>Season</th>\n",
       "    </tr>\n",
       "  </thead>\n",
       "  <tbody>\n",
       "    <tr>\n",
       "      <th>0</th>\n",
       "      <td>1.0</td>\n",
       "      <td>572761</td>\n",
       "      <td>452657</td>\n",
       "      <td>1.0</td>\n",
       "      <td>2.015000e+09</td>\n",
       "      <td>0.0</td>\n",
       "      <td>L</td>\n",
       "      <td>L</td>\n",
       "      <td>Groundout</td>\n",
       "      <td>chn</td>\n",
       "      <td>...</td>\n",
       "      <td>1.0</td>\n",
       "      <td>None</td>\n",
       "      <td>NaN</td>\n",
       "      <td>NaN</td>\n",
       "      <td>NaN</td>\n",
       "      <td>Jon Lester</td>\n",
       "      <td>0.0</td>\n",
       "      <td>Matt Carpenter</td>\n",
       "      <td>2015-04-05</td>\n",
       "      <td>2015</td>\n",
       "    </tr>\n",
       "    <tr>\n",
       "      <th>1</th>\n",
       "      <td>1.0</td>\n",
       "      <td>572761</td>\n",
       "      <td>452657</td>\n",
       "      <td>1.0</td>\n",
       "      <td>2.015000e+09</td>\n",
       "      <td>0.0</td>\n",
       "      <td>L</td>\n",
       "      <td>L</td>\n",
       "      <td>Groundout</td>\n",
       "      <td>chn</td>\n",
       "      <td>...</td>\n",
       "      <td>2.0</td>\n",
       "      <td>FF</td>\n",
       "      <td>0.416</td>\n",
       "      <td>2.963</td>\n",
       "      <td>92.9</td>\n",
       "      <td>Jon Lester</td>\n",
       "      <td>0.0</td>\n",
       "      <td>Matt Carpenter</td>\n",
       "      <td>2015-04-05</td>\n",
       "      <td>2015</td>\n",
       "    </tr>\n",
       "    <tr>\n",
       "      <th>2</th>\n",
       "      <td>1.0</td>\n",
       "      <td>572761</td>\n",
       "      <td>452657</td>\n",
       "      <td>1.0</td>\n",
       "      <td>2.015000e+09</td>\n",
       "      <td>0.0</td>\n",
       "      <td>L</td>\n",
       "      <td>L</td>\n",
       "      <td>Groundout</td>\n",
       "      <td>chn</td>\n",
       "      <td>...</td>\n",
       "      <td>3.0</td>\n",
       "      <td>FF</td>\n",
       "      <td>-0.191</td>\n",
       "      <td>2.347</td>\n",
       "      <td>92.8</td>\n",
       "      <td>Jon Lester</td>\n",
       "      <td>0.0</td>\n",
       "      <td>Matt Carpenter</td>\n",
       "      <td>2015-04-05</td>\n",
       "      <td>2015</td>\n",
       "    </tr>\n",
       "    <tr>\n",
       "      <th>3</th>\n",
       "      <td>1.0</td>\n",
       "      <td>572761</td>\n",
       "      <td>452657</td>\n",
       "      <td>1.0</td>\n",
       "      <td>2.015000e+09</td>\n",
       "      <td>0.0</td>\n",
       "      <td>L</td>\n",
       "      <td>L</td>\n",
       "      <td>Groundout</td>\n",
       "      <td>chn</td>\n",
       "      <td>...</td>\n",
       "      <td>4.0</td>\n",
       "      <td>FF</td>\n",
       "      <td>-0.518</td>\n",
       "      <td>3.284</td>\n",
       "      <td>94.1</td>\n",
       "      <td>Jon Lester</td>\n",
       "      <td>0.0</td>\n",
       "      <td>Matt Carpenter</td>\n",
       "      <td>2015-04-05</td>\n",
       "      <td>2015</td>\n",
       "    </tr>\n",
       "    <tr>\n",
       "      <th>4</th>\n",
       "      <td>1.0</td>\n",
       "      <td>572761</td>\n",
       "      <td>452657</td>\n",
       "      <td>1.0</td>\n",
       "      <td>2.015000e+09</td>\n",
       "      <td>0.0</td>\n",
       "      <td>L</td>\n",
       "      <td>L</td>\n",
       "      <td>Groundout</td>\n",
       "      <td>chn</td>\n",
       "      <td>...</td>\n",
       "      <td>5.0</td>\n",
       "      <td>FF</td>\n",
       "      <td>-0.641</td>\n",
       "      <td>1.221</td>\n",
       "      <td>91.0</td>\n",
       "      <td>Jon Lester</td>\n",
       "      <td>0.0</td>\n",
       "      <td>Matt Carpenter</td>\n",
       "      <td>2015-04-05</td>\n",
       "      <td>2015</td>\n",
       "    </tr>\n",
       "  </tbody>\n",
       "</table>\n",
       "<p>5 rows × 34 columns</p>\n",
       "</div>"
      ],
      "text/plain": [
       "   inning  batter_id  pitcher_id  top         ab_id  p_score stand p_throws  \\\n",
       "0     1.0     572761      452657  1.0  2.015000e+09      0.0     L        L   \n",
       "1     1.0     572761      452657  1.0  2.015000e+09      0.0     L        L   \n",
       "2     1.0     572761      452657  1.0  2.015000e+09      0.0     L        L   \n",
       "3     1.0     572761      452657  1.0  2.015000e+09      0.0     L        L   \n",
       "4     1.0     572761      452657  1.0  2.015000e+09      0.0     L        L   \n",
       "\n",
       "       event home_team  ... pitch_num  last_pitch_type  last_pitch_px  \\\n",
       "0  Groundout       chn  ...       1.0             None            NaN   \n",
       "1  Groundout       chn  ...       2.0               FF          0.416   \n",
       "2  Groundout       chn  ...       3.0               FF         -0.191   \n",
       "3  Groundout       chn  ...       4.0               FF         -0.518   \n",
       "4  Groundout       chn  ...       5.0               FF         -0.641   \n",
       "\n",
       "   last_pitch_pz  last_pitch_speed  pitcher_full_name  pitcher_run_diff  \\\n",
       "0            NaN               NaN         Jon Lester               0.0   \n",
       "1          2.963              92.9         Jon Lester               0.0   \n",
       "2          2.347              92.8         Jon Lester               0.0   \n",
       "3          3.284              94.1         Jon Lester               0.0   \n",
       "4          1.221              91.0         Jon Lester               0.0   \n",
       "\n",
       "  hitter_full_name Date_Time_Date  Season  \n",
       "0   Matt Carpenter     2015-04-05    2015  \n",
       "1   Matt Carpenter     2015-04-05    2015  \n",
       "2   Matt Carpenter     2015-04-05    2015  \n",
       "3   Matt Carpenter     2015-04-05    2015  \n",
       "4   Matt Carpenter     2015-04-05    2015  \n",
       "\n",
       "[5 rows x 34 columns]"
      ]
     },
     "execution_count": 6,
     "metadata": {},
     "output_type": "execute_result"
    }
   ],
   "source": [
    "pitch_df.head()"
   ]
  },
  {
   "cell_type": "markdown",
   "metadata": {},
   "source": [
    "For regression, the following columsn will be used as features:\n",
    "- 'inning', 'top', 'stand', 'p_throws', 'on_1b', 'on_2b', 'on_3b', 'b_count', 's_count', 'outs', 'pitch_num', 'last_pitch_type', 'last_pitch_px', 'last_pitch_pz', 'last_pitch_speed', 'pitcher_run_diff'\n",
    "- pitch_type will also be used - in my final model, this will be the predicted pitch_types, but for now as a proof of concept I'll be utilizing the actual rows."
   ]
  },
  {
   "cell_type": "markdown",
   "metadata": {},
   "source": [
    "# Dataframe Prep"
   ]
  },
  {
   "cell_type": "markdown",
   "metadata": {},
   "source": [
    "## Split: Train/Val and Test:"
   ]
  },
  {
   "cell_type": "markdown",
   "metadata": {},
   "source": [
    "For puposes of training/validating and testing my model(s), I'll be splitting as follows: \n",
    "- Train/Val: 2015-2018 seasons\n",
    "- Test: 2019 season"
   ]
  },
  {
   "cell_type": "code",
   "execution_count": 7,
   "metadata": {},
   "outputs": [
    {
     "data": {
      "text/plain": [
       "(707463, 34)"
      ]
     },
     "execution_count": 7,
     "metadata": {},
     "output_type": "execute_result"
    }
   ],
   "source": [
    "pitch_df[pitch_df.Season == 2019].shape"
   ]
  },
  {
   "cell_type": "code",
   "execution_count": 8,
   "metadata": {},
   "outputs": [
    {
     "data": {
      "text/plain": [
       "(2848371, 34)"
      ]
     },
     "execution_count": 8,
     "metadata": {},
     "output_type": "execute_result"
    }
   ],
   "source": [
    "pitch_df[pitch_df.Season != 2019].shape"
   ]
  },
  {
   "cell_type": "markdown",
   "metadata": {},
   "source": [
    "Based on the numbers, this is an ~80/20 split in data."
   ]
  },
  {
   "cell_type": "code",
   "execution_count": 9,
   "metadata": {},
   "outputs": [],
   "source": [
    "train_df = pitch_df[pitch_df.Season != 2019]"
   ]
  },
  {
   "cell_type": "code",
   "execution_count": 10,
   "metadata": {},
   "outputs": [
    {
     "data": {
      "text/plain": [
       "Max Scherzer        13479\n",
       "Justin Verlander    12810\n",
       "Chris Archer        12760\n",
       "Jose Quintana       12692\n",
       "Chris Sale          12689\n",
       "                    ...  \n",
       "Phillip Ervin           3\n",
       "Mark Reynolds           3\n",
       "Alexi Amarista          3\n",
       "Anthony Rizzo           2\n",
       "Chris Denorfia          2\n",
       "Name: pitcher_full_name, Length: 1329, dtype: int64"
      ]
     },
     "execution_count": 10,
     "metadata": {},
     "output_type": "execute_result"
    }
   ],
   "source": [
    "train_df.pitcher_full_name.value_counts()"
   ]
  },
  {
   "cell_type": "markdown",
   "metadata": {},
   "source": [
    "## Feature Prep"
   ]
  },
  {
   "cell_type": "markdown",
   "metadata": {},
   "source": [
    "### One Hot Encoding:"
   ]
  },
  {
   "cell_type": "markdown",
   "metadata": {},
   "source": [
    "Here, I'll need to one hot encode a few columns - specifically:\n",
    "\n",
    "- stand (hitter hand), p_throws (pitcher throwing hand), last_pitch_type, pitch_type"
   ]
  },
  {
   "cell_type": "code",
   "execution_count": 11,
   "metadata": {},
   "outputs": [],
   "source": [
    "ohe_cols = ['stand', 'p_throws', 'last_pitch_type', 'pitch_type']"
   ]
  },
  {
   "cell_type": "code",
   "execution_count": 12,
   "metadata": {},
   "outputs": [],
   "source": [
    "scherzer_df = train_df[train_df.pitcher_full_name == 'Max Scherzer']"
   ]
  },
  {
   "cell_type": "code",
   "execution_count": 13,
   "metadata": {},
   "outputs": [],
   "source": [
    "from pitch_cat_functions import *"
   ]
  },
  {
   "cell_type": "code",
   "execution_count": 14,
   "metadata": {},
   "outputs": [],
   "source": [
    "new_df = column_ohe_maker(scherzer_df, ohe_cols)"
   ]
  },
  {
   "cell_type": "code",
   "execution_count": 15,
   "metadata": {},
   "outputs": [
    {
     "data": {
      "text/html": [
       "<div>\n",
       "<style scoped>\n",
       "    .dataframe tbody tr th:only-of-type {\n",
       "        vertical-align: middle;\n",
       "    }\n",
       "\n",
       "    .dataframe tbody tr th {\n",
       "        vertical-align: top;\n",
       "    }\n",
       "\n",
       "    .dataframe thead th {\n",
       "        text-align: right;\n",
       "    }\n",
       "</style>\n",
       "<table border=\"1\" class=\"dataframe\">\n",
       "  <thead>\n",
       "    <tr style=\"text-align: right;\">\n",
       "      <th></th>\n",
       "      <th>inning</th>\n",
       "      <th>batter_id</th>\n",
       "      <th>pitcher_id</th>\n",
       "      <th>top</th>\n",
       "      <th>ab_id</th>\n",
       "      <th>p_score</th>\n",
       "      <th>event</th>\n",
       "      <th>home_team</th>\n",
       "      <th>away_team</th>\n",
       "      <th>b_score</th>\n",
       "      <th>...</th>\n",
       "      <th>last_pitch_type_FF</th>\n",
       "      <th>last_pitch_type_FT</th>\n",
       "      <th>last_pitch_type_SL</th>\n",
       "      <th>last_pitch_type_UN</th>\n",
       "      <th>last_pitch_type_None</th>\n",
       "      <th>pitch_type_CU</th>\n",
       "      <th>pitch_type_FC</th>\n",
       "      <th>pitch_type_FF</th>\n",
       "      <th>pitch_type_FT</th>\n",
       "      <th>pitch_type_SL</th>\n",
       "    </tr>\n",
       "  </thead>\n",
       "  <tbody>\n",
       "    <tr>\n",
       "      <th>2396</th>\n",
       "      <td>1.0</td>\n",
       "      <td>434158</td>\n",
       "      <td>453286</td>\n",
       "      <td>1.0</td>\n",
       "      <td>2.015001e+09</td>\n",
       "      <td>0.0</td>\n",
       "      <td>Walk</td>\n",
       "      <td>was</td>\n",
       "      <td>nyn</td>\n",
       "      <td>0.0</td>\n",
       "      <td>...</td>\n",
       "      <td>0.0</td>\n",
       "      <td>0.0</td>\n",
       "      <td>0.0</td>\n",
       "      <td>0.0</td>\n",
       "      <td>1.0</td>\n",
       "      <td>0.0</td>\n",
       "      <td>0.0</td>\n",
       "      <td>1.0</td>\n",
       "      <td>0.0</td>\n",
       "      <td>0.0</td>\n",
       "    </tr>\n",
       "    <tr>\n",
       "      <th>2397</th>\n",
       "      <td>1.0</td>\n",
       "      <td>434158</td>\n",
       "      <td>453286</td>\n",
       "      <td>1.0</td>\n",
       "      <td>2.015001e+09</td>\n",
       "      <td>0.0</td>\n",
       "      <td>Walk</td>\n",
       "      <td>was</td>\n",
       "      <td>nyn</td>\n",
       "      <td>0.0</td>\n",
       "      <td>...</td>\n",
       "      <td>1.0</td>\n",
       "      <td>0.0</td>\n",
       "      <td>0.0</td>\n",
       "      <td>0.0</td>\n",
       "      <td>0.0</td>\n",
       "      <td>0.0</td>\n",
       "      <td>0.0</td>\n",
       "      <td>1.0</td>\n",
       "      <td>0.0</td>\n",
       "      <td>0.0</td>\n",
       "    </tr>\n",
       "    <tr>\n",
       "      <th>2398</th>\n",
       "      <td>1.0</td>\n",
       "      <td>434158</td>\n",
       "      <td>453286</td>\n",
       "      <td>1.0</td>\n",
       "      <td>2.015001e+09</td>\n",
       "      <td>0.0</td>\n",
       "      <td>Walk</td>\n",
       "      <td>was</td>\n",
       "      <td>nyn</td>\n",
       "      <td>0.0</td>\n",
       "      <td>...</td>\n",
       "      <td>1.0</td>\n",
       "      <td>0.0</td>\n",
       "      <td>0.0</td>\n",
       "      <td>0.0</td>\n",
       "      <td>0.0</td>\n",
       "      <td>0.0</td>\n",
       "      <td>0.0</td>\n",
       "      <td>1.0</td>\n",
       "      <td>0.0</td>\n",
       "      <td>0.0</td>\n",
       "    </tr>\n",
       "    <tr>\n",
       "      <th>2399</th>\n",
       "      <td>1.0</td>\n",
       "      <td>434158</td>\n",
       "      <td>453286</td>\n",
       "      <td>1.0</td>\n",
       "      <td>2.015001e+09</td>\n",
       "      <td>0.0</td>\n",
       "      <td>Walk</td>\n",
       "      <td>was</td>\n",
       "      <td>nyn</td>\n",
       "      <td>0.0</td>\n",
       "      <td>...</td>\n",
       "      <td>1.0</td>\n",
       "      <td>0.0</td>\n",
       "      <td>0.0</td>\n",
       "      <td>0.0</td>\n",
       "      <td>0.0</td>\n",
       "      <td>0.0</td>\n",
       "      <td>0.0</td>\n",
       "      <td>0.0</td>\n",
       "      <td>0.0</td>\n",
       "      <td>0.0</td>\n",
       "    </tr>\n",
       "    <tr>\n",
       "      <th>2400</th>\n",
       "      <td>1.0</td>\n",
       "      <td>434158</td>\n",
       "      <td>453286</td>\n",
       "      <td>1.0</td>\n",
       "      <td>2.015001e+09</td>\n",
       "      <td>0.0</td>\n",
       "      <td>Walk</td>\n",
       "      <td>was</td>\n",
       "      <td>nyn</td>\n",
       "      <td>0.0</td>\n",
       "      <td>...</td>\n",
       "      <td>0.0</td>\n",
       "      <td>0.0</td>\n",
       "      <td>0.0</td>\n",
       "      <td>0.0</td>\n",
       "      <td>0.0</td>\n",
       "      <td>0.0</td>\n",
       "      <td>0.0</td>\n",
       "      <td>1.0</td>\n",
       "      <td>0.0</td>\n",
       "      <td>0.0</td>\n",
       "    </tr>\n",
       "  </tbody>\n",
       "</table>\n",
       "<p>5 rows × 43 columns</p>\n",
       "</div>"
      ],
      "text/plain": [
       "      inning  batter_id  pitcher_id  top         ab_id  p_score event  \\\n",
       "2396     1.0     434158      453286  1.0  2.015001e+09      0.0  Walk   \n",
       "2397     1.0     434158      453286  1.0  2.015001e+09      0.0  Walk   \n",
       "2398     1.0     434158      453286  1.0  2.015001e+09      0.0  Walk   \n",
       "2399     1.0     434158      453286  1.0  2.015001e+09      0.0  Walk   \n",
       "2400     1.0     434158      453286  1.0  2.015001e+09      0.0  Walk   \n",
       "\n",
       "     home_team away_team  b_score  ...  last_pitch_type_FF  \\\n",
       "2396       was       nyn      0.0  ...                 0.0   \n",
       "2397       was       nyn      0.0  ...                 1.0   \n",
       "2398       was       nyn      0.0  ...                 1.0   \n",
       "2399       was       nyn      0.0  ...                 1.0   \n",
       "2400       was       nyn      0.0  ...                 0.0   \n",
       "\n",
       "      last_pitch_type_FT  last_pitch_type_SL  last_pitch_type_UN  \\\n",
       "2396                 0.0                 0.0                 0.0   \n",
       "2397                 0.0                 0.0                 0.0   \n",
       "2398                 0.0                 0.0                 0.0   \n",
       "2399                 0.0                 0.0                 0.0   \n",
       "2400                 0.0                 0.0                 0.0   \n",
       "\n",
       "      last_pitch_type_None pitch_type_CU  pitch_type_FC pitch_type_FF  \\\n",
       "2396                   1.0           0.0            0.0           1.0   \n",
       "2397                   0.0           0.0            0.0           1.0   \n",
       "2398                   0.0           0.0            0.0           1.0   \n",
       "2399                   0.0           0.0            0.0           0.0   \n",
       "2400                   0.0           0.0            0.0           1.0   \n",
       "\n",
       "      pitch_type_FT  pitch_type_SL  \n",
       "2396            0.0            0.0  \n",
       "2397            0.0            0.0  \n",
       "2398            0.0            0.0  \n",
       "2399            0.0            0.0  \n",
       "2400            0.0            0.0  \n",
       "\n",
       "[5 rows x 43 columns]"
      ]
     },
     "execution_count": 15,
     "metadata": {},
     "output_type": "execute_result"
    }
   ],
   "source": [
    "new_df.head()"
   ]
  },
  {
   "cell_type": "code",
   "execution_count": 16,
   "metadata": {},
   "outputs": [
    {
     "data": {
      "text/plain": [
       "Index(['inning', 'batter_id', 'pitcher_id', 'top', 'ab_id', 'p_score', 'event',\n",
       "       'home_team', 'away_team', 'b_score', 'on_1b', 'on_2b', 'on_3b', 'px',\n",
       "       'pz', 'zone', 'start_speed', 'type', 'b_count', 's_count', 'outs',\n",
       "       'pitch_num', 'last_pitch_px', 'last_pitch_pz', 'last_pitch_speed',\n",
       "       'pitcher_full_name', 'pitcher_run_diff', 'hitter_full_name',\n",
       "       'Date_Time_Date', 'Season', 'stand_R', 'last_pitch_type_CU',\n",
       "       'last_pitch_type_FC', 'last_pitch_type_FF', 'last_pitch_type_FT',\n",
       "       'last_pitch_type_SL', 'last_pitch_type_UN', 'last_pitch_type_None',\n",
       "       'pitch_type_CU', 'pitch_type_FC', 'pitch_type_FF', 'pitch_type_FT',\n",
       "       'pitch_type_SL'],\n",
       "      dtype='object')"
      ]
     },
     "execution_count": 16,
     "metadata": {},
     "output_type": "execute_result"
    }
   ],
   "source": [
    "new_df.columns"
   ]
  },
  {
   "cell_type": "markdown",
   "metadata": {},
   "source": [
    "### Linear Regression Test:"
   ]
  },
  {
   "cell_type": "markdown",
   "metadata": {},
   "source": [
    "Some features will need to be standard scaled, as they are numerical.  These are the following in num_col:"
   ]
  },
  {
   "cell_type": "code",
   "execution_count": 17,
   "metadata": {},
   "outputs": [],
   "source": [
    "from location_regression_functions import *"
   ]
  },
  {
   "cell_type": "code",
   "execution_count": 18,
   "metadata": {},
   "outputs": [],
   "source": [
    "columns = ['inning', 'b_count', 's_count', 'outs', 'pitcher_run_diff', 'stand_R',\n",
    "          'last_pitch_type_CU',\n",
    "       'last_pitch_type_FC', 'last_pitch_type_FF', 'last_pitch_type_FT',\n",
    "       'last_pitch_type_SL', 'last_pitch_type_UN', 'last_pitch_type_None',\n",
    "       'pitch_type_CU', 'pitch_type_FC', 'pitch_type_FF', 'pitch_type_FT',\n",
    "       'pitch_type_SL']"
   ]
  },
  {
   "cell_type": "code",
   "execution_count": 19,
   "metadata": {},
   "outputs": [],
   "source": [
    "X = new_df[columns]"
   ]
  },
  {
   "cell_type": "code",
   "execution_count": 20,
   "metadata": {},
   "outputs": [],
   "source": [
    "y = new_df['px']"
   ]
  },
  {
   "cell_type": "code",
   "execution_count": 21,
   "metadata": {},
   "outputs": [
    {
     "name": "stdout",
     "output_type": "stream",
     "text": [
      "Simple Linear Regression w/ KFOLD CV Results:\n",
      "Simple regression scores:  [0.1289906699265848, 0.15206934831818453, 0.1822668226018257, 0.1517150641576287, 0.12175620634510198] \n",
      "\n",
      "Simple mean cv r^2: 0.147 +- 0.021\n",
      "MAE Scores: [0.6234395347741104, 0.6377879752975786, 0.6324862514074213, 0.6453973941126377, 0.6507615022407948]\n",
      "Avg. CV MAE: 0.6379745315665086\n"
     ]
    }
   ],
   "source": [
    "split_and_train_val_simple_lr_w_cv(X, y)"
   ]
  },
  {
   "cell_type": "markdown",
   "metadata": {},
   "source": [
    "Checking on pz, using px as a feature:"
   ]
  },
  {
   "cell_type": "code",
   "execution_count": 22,
   "metadata": {},
   "outputs": [],
   "source": [
    "cols_pz = ['inning', 'b_count', 's_count', 'outs', 'pitcher_run_diff', 'stand_R',\n",
    "          'last_pitch_type_CU',\n",
    "       'last_pitch_type_FC', 'last_pitch_type_FF', 'last_pitch_type_FT',\n",
    "       'last_pitch_type_SL', 'last_pitch_type_UN', 'last_pitch_type_None',\n",
    "       'pitch_type_CU', 'pitch_type_FC', 'pitch_type_FF', 'pitch_type_FT',\n",
    "       'pitch_type_SL', 'px']"
   ]
  },
  {
   "cell_type": "code",
   "execution_count": 23,
   "metadata": {},
   "outputs": [],
   "source": [
    "X = new_df[cols_pz]"
   ]
  },
  {
   "cell_type": "code",
   "execution_count": 24,
   "metadata": {},
   "outputs": [],
   "source": [
    "y = new_df['pz']"
   ]
  },
  {
   "cell_type": "code",
   "execution_count": 25,
   "metadata": {},
   "outputs": [
    {
     "name": "stdout",
     "output_type": "stream",
     "text": [
      "Simple Linear Regression w/ KFOLD CV Results:\n",
      "Simple regression scores:  [0.3258937444050931, 0.3473746158483699, 0.321904875257912, 0.33571035802980265, 0.36807422827988323] \n",
      "\n",
      "Simple mean cv r^2: 0.340 +- 0.017\n",
      "MAE Scores: [0.5590737226418868, 0.5561437669651792, 0.5564611497729697, 0.5649071252121297, 0.5624505363500322]\n",
      "Avg. CV MAE: 0.5598072601884395\n"
     ]
    }
   ],
   "source": [
    "split_and_train_val_simple_lr_w_cv(X, y)"
   ]
  },
  {
   "cell_type": "code",
   "execution_count": 26,
   "metadata": {},
   "outputs": [
    {
     "name": "stdout",
     "output_type": "stream",
     "text": [
      "Simple Linear Regression w/ KFOLD CV Results:\n",
      "Simple regression scores:  [0.3258937444050931, 0.3473746158483699, 0.321904875257912, 0.33571035802980265, 0.36807422827988323] \n",
      "\n",
      "Simple mean cv r^2: 0.340 +- 0.017\n",
      "MAE Scores: [0.5590737226418868, 0.5561437669651792, 0.5564611497729697, 0.5649071252121297, 0.5624505363500322]\n",
      "Avg. CV MAE: 0.5598072601884395\n",
      "\n",
      "\n",
      "Lasso Linear Regression w/ CV Results:\n",
      "Lasso R^2: 0.3424695107123906\n",
      "Lasso mae: 0.5588967679431889\n",
      "Lasso Coefficients: [('inning', -0.016094532087446142), ('b_count', 0.026134736340032123), ('s_count', -0.06900330067144024), ('outs', 0.010980627743810464), ('pitcher_run_diff', 0.012555321378606082), ('stand_R', -0.025381930847214643), ('last_pitch_type_CU', -0.028608828839731558), ('last_pitch_type_FC', 0.016615303226127538), ('last_pitch_type_FF', -0.02979824280062424), ('last_pitch_type_FT', 0.0022509001162964158), ('last_pitch_type_SL', -0.039651004280263746), ('last_pitch_type_UN', 0.0015242022962364207), ('last_pitch_type_None', -0.0), ('pitch_type_CU', 0.08847254894260398), ('pitch_type_FC', 0.1759967998665063), ('pitch_type_FF', 0.516946163459412), ('pitch_type_FT', 0.07061555357081267), ('pitch_type_SL', 0.19447957132124863), ('px', -0.32863026101399556)]\n",
      "\n",
      "\n",
      "Ridge Linear Regression w/ CV Results:\n",
      "Ridge R^2: 0.3425041502207322\n",
      "Ridge mae: 0.5588505174004345\n",
      "Ridge Coefficients: [('inning', -0.01714195309755214), ('b_count', 0.026690446193598834), ('s_count', -0.07049554155377188), ('outs', 0.011769819404773016), ('pitcher_run_diff', 0.013776895815661258), ('stand_R', -0.02606084770026884), ('last_pitch_type_CU', -0.03108251799402122), ('last_pitch_type_FC', 0.016083716339927435), ('last_pitch_type_FF', -0.033730652739943884), ('last_pitch_type_FT', 0.002453556044530265), ('last_pitch_type_SL', -0.042626828223022654), ('last_pitch_type_UN', 0.0021719764150761565), ('last_pitch_type_None', -0.004154459729172114), ('pitch_type_CU', 0.09095091018023116), ('pitch_type_FC', 0.17809978235383508), ('pitch_type_FF', 0.5204415474667028), ('pitch_type_FT', 0.07183888415223359), ('pitch_type_SL', 0.19846765939640898), ('px', -0.32986559607303434)]\n",
      "\n",
      "\n",
      "ElasticNet Linear Regression w/ CV Results:\n",
      "ElasticNet R^2: 0.3424720113422217\n",
      "ElasticNet mae: 0.5588884671886883\n",
      "ElasticNet Coefficients: [('inning', -0.016302857594803516), ('b_count', 0.026365618812920308), ('s_count', -0.06909511756396247), ('outs', 0.011122965685786997), ('pitcher_run_diff', 0.01276817015207648), ('stand_R', -0.025488677663420327), ('last_pitch_type_CU', -0.028822116743527942), ('last_pitch_type_FC', 0.016662803010091844), ('last_pitch_type_FF', -0.030069475298211055), ('last_pitch_type_FT', 0.0023643222549259335), ('last_pitch_type_SL', -0.03983472879069364), ('last_pitch_type_UN', 0.001658534916605161), ('last_pitch_type_None', -0.0), ('pitch_type_CU', 0.0884516193979515), ('pitch_type_FC', 0.1759098417980483), ('pitch_type_FF', 0.5166739276851584), ('pitch_type_FT', 0.07066809506640875), ('pitch_type_SL', 0.19440712631697035), ('px', -0.3285284902987201)]\n"
     ]
    }
   ],
   "source": [
    "validation_comparer(X,y)"
   ]
  },
  {
   "cell_type": "code",
   "execution_count": null,
   "metadata": {},
   "outputs": [],
   "source": []
  },
  {
   "cell_type": "code",
   "execution_count": null,
   "metadata": {},
   "outputs": [],
   "source": []
  },
  {
   "cell_type": "code",
   "execution_count": null,
   "metadata": {},
   "outputs": [],
   "source": []
  }
 ],
 "metadata": {
  "kernelspec": {
   "display_name": "Python [conda env:metis] *",
   "language": "python",
   "name": "conda-env-metis-py"
  },
  "language_info": {
   "codemirror_mode": {
    "name": "ipython",
    "version": 3
   },
   "file_extension": ".py",
   "mimetype": "text/x-python",
   "name": "python",
   "nbconvert_exporter": "python",
   "pygments_lexer": "ipython3",
   "version": "3.8.6"
  }
 },
 "nbformat": 4,
 "nbformat_minor": 4
}
