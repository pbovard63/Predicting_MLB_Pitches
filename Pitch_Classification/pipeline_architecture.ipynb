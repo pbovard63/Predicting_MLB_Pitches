{
 "cells": [
  {
   "cell_type": "markdown",
   "metadata": {},
   "source": [
    "# Pipeline Architecture:\n",
    "The purpose of this notebook is to build out a pipeline of modeling, from classification to regression.  The general form is:\n",
    "\n",
    "1. Random Forest Classification of Pitch Type\n",
    "2. Linear Regression of X-Coordinate of Pitch Location (Px) - pitch type used as feature\n",
    "3. Linear Regression of Z-Coordinate of Pitch Location (Pz) - pitch type and px used as feature"
   ]
  },
  {
   "cell_type": "markdown",
   "metadata": {},
   "source": [
    "Importing packages:"
   ]
  },
  {
   "cell_type": "code",
   "execution_count": 1,
   "metadata": {},
   "outputs": [],
   "source": [
    "import pickle\n",
    "from sqlalchemy import create_engine\n",
    "import pandas as pd\n",
    "from importlib import reload\n",
    "import numpy as np\n",
    "import scipy.stats as st\n",
    "import matplotlib.pyplot as plt\n",
    "import seaborn as sns\n",
    "%config InlineBackend.figure_formats = ['retina']\n",
    "%matplotlib inline\n",
    "\n",
    "plt.rcParams['figure.figsize'] = (9, 6)\n",
    "sns.set(context='notebook', style='whitegrid', font_scale=1.2)"
   ]
  },
  {
   "cell_type": "code",
   "execution_count": 2,
   "metadata": {},
   "outputs": [],
   "source": [
    "import pandas as pd\n",
    "import numpy as np\n",
    "from scipy import stats\n",
    "from sklearn.linear_model import LinearRegression\n",
    "import seaborn as sns\n",
    "from sklearn.model_selection import train_test_split\n",
    "from sklearn.linear_model import LinearRegression, Lasso, LassoCV, Ridge, RidgeCV, ElasticNetCV\n",
    "from sklearn.metrics import r2_score\n",
    "from sklearn.pipeline import Pipeline\n",
    "from sklearn.preprocessing import StandardScaler\n",
    "from sklearn.model_selection import KFold\n",
    "from sklearn.pipeline import Pipeline, make_pipeline"
   ]
  },
  {
   "cell_type": "markdown",
   "metadata": {},
   "source": [
    "Pickling in initial data to work with:"
   ]
  },
  {
   "cell_type": "code",
   "execution_count": 3,
   "metadata": {},
   "outputs": [
    {
     "data": {
      "text/plain": [
       "'/Users/patrickbovard/Documents/GitHub/metis_final_project/Pitch_Classification'"
      ]
     },
     "execution_count": 3,
     "metadata": {},
     "output_type": "execute_result"
    }
   ],
   "source": [
    "pwd"
   ]
  },
  {
   "cell_type": "code",
   "execution_count": 4,
   "metadata": {},
   "outputs": [],
   "source": [
    "with open('../Data/train_df_clusters.pickle','rb') as read_file:\n",
    "    pitch_df = pickle.load(read_file)"
   ]
  },
  {
   "cell_type": "markdown",
   "metadata": {},
   "source": [
    "In order to determine who to include in the pipeline, I'll see who the top xx pitchers are, in terms of pitches thrown:"
   ]
  },
  {
   "cell_type": "code",
   "execution_count": 5,
   "metadata": {
    "scrolled": true
   },
   "outputs": [
    {
     "data": {
      "text/plain": [
       "Max Scherzer         13626\n",
       "Chris Sale           13284\n",
       "Justin Verlander     12999\n",
       "Jose Quintana        12944\n",
       "Chris Archer         12760\n",
       "Rick Porcello        12745\n",
       "Jon Lester           12566\n",
       "Corey Kluber         12480\n",
       "Gio Gonzalez         12439\n",
       "Julio Teheran        12125\n",
       "Zack Greinke         12092\n",
       "Jake Arrieta         12028\n",
       "Cole Hamels          12016\n",
       "Trevor Bauer         11860\n",
       "Kyle Gibson          11829\n",
       "Jacob deGrom         11775\n",
       "Gerrit Cole          11772\n",
       "James Shields        11768\n",
       "Marco Estrada        11763\n",
       "Jake Odorizzi        11719\n",
       "Dallas Keuchel       11708\n",
       "J.A. Happ            11597\n",
       "Kevin Gausman        11540\n",
       "Tanner Roark         11296\n",
       "David Price          11205\n",
       "Mike Leake           11141\n",
       "Mike Fiers           11093\n",
       "Ian Kennedy          11026\n",
       "Kyle Hendricks       10952\n",
       "Carlos Martinez      10920\n",
       "Carlos Carrasco      10913\n",
       "Andrew Cashner       10907\n",
       "CC Sabathia          10654\n",
       "Masahiro Tanaka      10589\n",
       "Jeff Samardzija      10573\n",
       "Madison Bumgarner    10551\n",
       "Jason Hammel         10544\n",
       "Wade Miley           10494\n",
       "Robbie Ray           10452\n",
       "Clayton Kershaw      10333\n",
       "Danny Duffy          10247\n",
       "Sonny Gray           10117\n",
       "Francisco Liriano    10100\n",
       "Bartolo Colon        10056\n",
       "Patrick Corbin       10002\n",
       "Chase Anderson        9932\n",
       "Johnny Cueto          9872\n",
       "Hector Santiago       9679\n",
       "Jordan Zimmermann     9586\n",
       "Felix Hernandez       9566\n",
       "Name: pitcher_full_name, dtype: int64"
      ]
     },
     "execution_count": 5,
     "metadata": {},
     "output_type": "execute_result"
    }
   ],
   "source": [
    "pitch_df.pitcher_full_name.value_counts().head(50)"
   ]
  },
  {
   "cell_type": "code",
   "execution_count": 6,
   "metadata": {},
   "outputs": [
    {
     "data": {
      "text/plain": [
       "564235"
      ]
     },
     "execution_count": 6,
     "metadata": {},
     "output_type": "execute_result"
    }
   ],
   "source": [
    "pitch_df.pitcher_full_name.value_counts().head(50).sum()"
   ]
  },
  {
   "cell_type": "markdown",
   "metadata": {},
   "source": [
    "So that would cover 564,235 total pitches from 2015-2018."
   ]
  },
  {
   "cell_type": "code",
   "execution_count": 68,
   "metadata": {},
   "outputs": [
    {
     "data": {
      "text/html": [
       "<div>\n",
       "<style scoped>\n",
       "    .dataframe tbody tr th:only-of-type {\n",
       "        vertical-align: middle;\n",
       "    }\n",
       "\n",
       "    .dataframe tbody tr th {\n",
       "        vertical-align: top;\n",
       "    }\n",
       "\n",
       "    .dataframe thead th {\n",
       "        text-align: right;\n",
       "    }\n",
       "</style>\n",
       "<table border=\"1\" class=\"dataframe\">\n",
       "  <thead>\n",
       "    <tr style=\"text-align: right;\">\n",
       "      <th></th>\n",
       "      <th>inning</th>\n",
       "      <th>batter_id</th>\n",
       "      <th>pitcher_id</th>\n",
       "      <th>top</th>\n",
       "      <th>ab_id</th>\n",
       "      <th>p_score</th>\n",
       "      <th>stand</th>\n",
       "      <th>p_throws</th>\n",
       "      <th>event</th>\n",
       "      <th>home_team</th>\n",
       "      <th>...</th>\n",
       "      <th>cumulative_si_rate</th>\n",
       "      <th>cumulative_fc_rate</th>\n",
       "      <th>cumulative_kc_rate</th>\n",
       "      <th>cumulative_fs_rate</th>\n",
       "      <th>cumulative_kn_rate</th>\n",
       "      <th>cumulative_ep_rate</th>\n",
       "      <th>cumulative_fo_rate</th>\n",
       "      <th>cumulative_sc_rate</th>\n",
       "      <th>Name</th>\n",
       "      <th>Cluster</th>\n",
       "    </tr>\n",
       "  </thead>\n",
       "  <tbody>\n",
       "    <tr>\n",
       "      <th>2870367</th>\n",
       "      <td>9.0</td>\n",
       "      <td>595879</td>\n",
       "      <td>623352</td>\n",
       "      <td>0.0</td>\n",
       "      <td>2.018186e+09</td>\n",
       "      <td>3.0</td>\n",
       "      <td>R</td>\n",
       "      <td>L</td>\n",
       "      <td>Single</td>\n",
       "      <td>chn</td>\n",
       "      <td>...</td>\n",
       "      <td>0.0</td>\n",
       "      <td>0.0</td>\n",
       "      <td>0.0</td>\n",
       "      <td>0.0</td>\n",
       "      <td>0.0</td>\n",
       "      <td>0.0</td>\n",
       "      <td>0.0</td>\n",
       "      <td>0.0</td>\n",
       "      <td>Javier Baez</td>\n",
       "      <td>1.0</td>\n",
       "    </tr>\n",
       "    <tr>\n",
       "      <th>2870368</th>\n",
       "      <td>9.0</td>\n",
       "      <td>519203</td>\n",
       "      <td>623352</td>\n",
       "      <td>0.0</td>\n",
       "      <td>2.018186e+09</td>\n",
       "      <td>3.0</td>\n",
       "      <td>L</td>\n",
       "      <td>L</td>\n",
       "      <td>Flyout</td>\n",
       "      <td>chn</td>\n",
       "      <td>...</td>\n",
       "      <td>0.0</td>\n",
       "      <td>0.0</td>\n",
       "      <td>0.0</td>\n",
       "      <td>0.0</td>\n",
       "      <td>0.0</td>\n",
       "      <td>0.0</td>\n",
       "      <td>0.0</td>\n",
       "      <td>0.0</td>\n",
       "      <td>Anthony Rizzo</td>\n",
       "      <td>3.0</td>\n",
       "    </tr>\n",
       "    <tr>\n",
       "      <th>2870369</th>\n",
       "      <td>9.0</td>\n",
       "      <td>519203</td>\n",
       "      <td>623352</td>\n",
       "      <td>0.0</td>\n",
       "      <td>2.018186e+09</td>\n",
       "      <td>3.0</td>\n",
       "      <td>L</td>\n",
       "      <td>L</td>\n",
       "      <td>Flyout</td>\n",
       "      <td>chn</td>\n",
       "      <td>...</td>\n",
       "      <td>0.0</td>\n",
       "      <td>0.0</td>\n",
       "      <td>0.0</td>\n",
       "      <td>0.0</td>\n",
       "      <td>0.0</td>\n",
       "      <td>0.0</td>\n",
       "      <td>0.0</td>\n",
       "      <td>0.0</td>\n",
       "      <td>Anthony Rizzo</td>\n",
       "      <td>3.0</td>\n",
       "    </tr>\n",
       "    <tr>\n",
       "      <th>2870370</th>\n",
       "      <td>9.0</td>\n",
       "      <td>519203</td>\n",
       "      <td>623352</td>\n",
       "      <td>0.0</td>\n",
       "      <td>2.018186e+09</td>\n",
       "      <td>3.0</td>\n",
       "      <td>L</td>\n",
       "      <td>L</td>\n",
       "      <td>Flyout</td>\n",
       "      <td>chn</td>\n",
       "      <td>...</td>\n",
       "      <td>0.0</td>\n",
       "      <td>0.0</td>\n",
       "      <td>0.0</td>\n",
       "      <td>0.0</td>\n",
       "      <td>0.0</td>\n",
       "      <td>0.0</td>\n",
       "      <td>0.0</td>\n",
       "      <td>0.0</td>\n",
       "      <td>Anthony Rizzo</td>\n",
       "      <td>3.0</td>\n",
       "    </tr>\n",
       "    <tr>\n",
       "      <th>2870371</th>\n",
       "      <td>9.0</td>\n",
       "      <td>519203</td>\n",
       "      <td>623352</td>\n",
       "      <td>0.0</td>\n",
       "      <td>2.018186e+09</td>\n",
       "      <td>3.0</td>\n",
       "      <td>L</td>\n",
       "      <td>L</td>\n",
       "      <td>Flyout</td>\n",
       "      <td>chn</td>\n",
       "      <td>...</td>\n",
       "      <td>0.0</td>\n",
       "      <td>0.0</td>\n",
       "      <td>0.0</td>\n",
       "      <td>0.0</td>\n",
       "      <td>0.0</td>\n",
       "      <td>0.0</td>\n",
       "      <td>0.0</td>\n",
       "      <td>0.0</td>\n",
       "      <td>Anthony Rizzo</td>\n",
       "      <td>3.0</td>\n",
       "    </tr>\n",
       "  </tbody>\n",
       "</table>\n",
       "<p>5 rows × 50 columns</p>\n",
       "</div>"
      ],
      "text/plain": [
       "         inning  batter_id  pitcher_id  top         ab_id  p_score stand  \\\n",
       "2870367     9.0     595879      623352  0.0  2.018186e+09      3.0     R   \n",
       "2870368     9.0     519203      623352  0.0  2.018186e+09      3.0     L   \n",
       "2870369     9.0     519203      623352  0.0  2.018186e+09      3.0     L   \n",
       "2870370     9.0     519203      623352  0.0  2.018186e+09      3.0     L   \n",
       "2870371     9.0     519203      623352  0.0  2.018186e+09      3.0     L   \n",
       "\n",
       "        p_throws   event home_team  ... cumulative_si_rate  \\\n",
       "2870367        L  Single       chn  ...                0.0   \n",
       "2870368        L  Flyout       chn  ...                0.0   \n",
       "2870369        L  Flyout       chn  ...                0.0   \n",
       "2870370        L  Flyout       chn  ...                0.0   \n",
       "2870371        L  Flyout       chn  ...                0.0   \n",
       "\n",
       "         cumulative_fc_rate  cumulative_kc_rate  cumulative_fs_rate  \\\n",
       "2870367                 0.0                 0.0                 0.0   \n",
       "2870368                 0.0                 0.0                 0.0   \n",
       "2870369                 0.0                 0.0                 0.0   \n",
       "2870370                 0.0                 0.0                 0.0   \n",
       "2870371                 0.0                 0.0                 0.0   \n",
       "\n",
       "         cumulative_kn_rate  cumulative_ep_rate  cumulative_fo_rate  \\\n",
       "2870367                 0.0                 0.0                 0.0   \n",
       "2870368                 0.0                 0.0                 0.0   \n",
       "2870369                 0.0                 0.0                 0.0   \n",
       "2870370                 0.0                 0.0                 0.0   \n",
       "2870371                 0.0                 0.0                 0.0   \n",
       "\n",
       "        cumulative_sc_rate           Name  Cluster  \n",
       "2870367                0.0    Javier Baez      1.0  \n",
       "2870368                0.0  Anthony Rizzo      3.0  \n",
       "2870369                0.0  Anthony Rizzo      3.0  \n",
       "2870370                0.0  Anthony Rizzo      3.0  \n",
       "2870371                0.0  Anthony Rizzo      3.0  \n",
       "\n",
       "[5 rows x 50 columns]"
      ]
     },
     "execution_count": 68,
     "metadata": {},
     "output_type": "execute_result"
    }
   ],
   "source": [
    "pitch_df.tail()"
   ]
  },
  {
   "cell_type": "code",
   "execution_count": 7,
   "metadata": {},
   "outputs": [
    {
     "data": {
      "text/plain": [
       "Index(['inning', 'batter_id', 'pitcher_id', 'top', 'ab_id', 'p_score', 'stand',\n",
       "       'p_throws', 'event', 'home_team', 'away_team', 'b_score', 'on_1b',\n",
       "       'on_2b', 'on_3b', 'px', 'pz', 'zone', 'pitch_type', 'start_speed',\n",
       "       'type', 'b_count', 's_count', 'outs', 'pitch_num', 'last_pitch_type',\n",
       "       'last_pitch_px', 'last_pitch_pz', 'last_pitch_speed',\n",
       "       'pitcher_full_name', 'pitcher_run_diff', 'hitter_full_name',\n",
       "       'Date_Time_Date', 'Season', 'cumulative_pitches', 'cumulative_ff_rate',\n",
       "       'cumulative_sl_rate', 'cumulative_ft_rate', 'cumulative_ch_rate',\n",
       "       'cumulative_cu_rate', 'cumulative_si_rate', 'cumulative_fc_rate',\n",
       "       'cumulative_kc_rate', 'cumulative_fs_rate', 'cumulative_kn_rate',\n",
       "       'cumulative_ep_rate', 'cumulative_fo_rate', 'cumulative_sc_rate',\n",
       "       'Name', 'Cluster'],\n",
       "      dtype='object')"
      ]
     },
     "execution_count": 7,
     "metadata": {},
     "output_type": "execute_result"
    }
   ],
   "source": [
    "pitch_df.columns"
   ]
  },
  {
   "cell_type": "markdown",
   "metadata": {},
   "source": [
    "Checking out pitch types:"
   ]
  },
  {
   "cell_type": "code",
   "execution_count": 8,
   "metadata": {},
   "outputs": [
    {
     "data": {
      "text/plain": [
       "FF    1023717\n",
       "SL     454880\n",
       "FT     340899\n",
       "CH     295221\n",
       "SI     244501\n",
       "CU     236045\n",
       "FC     150892\n",
       "KC      66942\n",
       "FS      44233\n",
       "KN      11295\n",
       "EP        816\n",
       "FO        810\n",
       "SC        121\n",
       "Name: pitch_type, dtype: int64"
      ]
     },
     "execution_count": 8,
     "metadata": {},
     "output_type": "execute_result"
    }
   ],
   "source": [
    "pitch_df.pitch_type.value_counts()"
   ]
  },
  {
   "cell_type": "code",
   "execution_count": 9,
   "metadata": {},
   "outputs": [],
   "source": [
    "pitch_df = pitch_df[pitch_df.pitch_type != 'EP']"
   ]
  },
  {
   "cell_type": "markdown",
   "metadata": {},
   "source": [
    "Importing the regression functions:"
   ]
  },
  {
   "cell_type": "code",
   "execution_count": 10,
   "metadata": {},
   "outputs": [],
   "source": [
    "from location_regression_functions import *\n",
    "from pitch_cat_functions import *"
   ]
  },
  {
   "cell_type": "markdown",
   "metadata": {},
   "source": [
    "Importing the functions from the pipeline script:"
   ]
  },
  {
   "cell_type": "code",
   "execution_count": 11,
   "metadata": {},
   "outputs": [],
   "source": [
    "from classification_location_combo import *"
   ]
  },
  {
   "cell_type": "markdown",
   "metadata": {},
   "source": [
    "### Initial dataframe setup:"
   ]
  },
  {
   "cell_type": "markdown",
   "metadata": {},
   "source": [
    "Before working on building out a workflow to model multiple pitchers in succession, I will build out the pipeline here in a step by step fashion:"
   ]
  },
  {
   "cell_type": "markdown",
   "metadata": {},
   "source": [
    "### Dataframe Setup:"
   ]
  },
  {
   "cell_type": "markdown",
   "metadata": {},
   "source": [
    "First, to set up the dataframe structure needed to model.  First step is to filter for the desired player's name:"
   ]
  },
  {
   "cell_type": "code",
   "execution_count": 12,
   "metadata": {},
   "outputs": [],
   "source": [
    "scherzer_df = pitch_df[(pitch_df.pitcher_full_name == 'Max Scherzer') &(pitch_df.last_pitch_px.notnull())]"
   ]
  },
  {
   "cell_type": "markdown",
   "metadata": {},
   "source": [
    "One hot encoding of needed columns:"
   ]
  },
  {
   "cell_type": "code",
   "execution_count": 13,
   "metadata": {},
   "outputs": [],
   "source": [
    "ohe_cols = ['stand', 'p_throws']"
   ]
  },
  {
   "cell_type": "code",
   "execution_count": 14,
   "metadata": {},
   "outputs": [],
   "source": [
    "ohe_df = column_ohe_maker(scherzer_df, ohe_cols)"
   ]
  },
  {
   "cell_type": "markdown",
   "metadata": {},
   "source": [
    "Numerically coding last pitch type and pitch type:"
   ]
  },
  {
   "cell_type": "code",
   "execution_count": 15,
   "metadata": {},
   "outputs": [
    {
     "name": "stdout",
     "output_type": "stream",
     "text": [
      "Here is the coding for last pitch type:\n",
      "{'FF': 0, 'SL': 1, 'CH': 2, 'CU': 3, 'FC': 4, 'FT': 5, 'UN': 6}\n"
     ]
    },
    {
     "name": "stderr",
     "output_type": "stream",
     "text": [
      "/Users/patrickbovard/opt/anaconda3/envs/metis/lib/python3.8/site-packages/pandas/core/indexing.py:670: SettingWithCopyWarning: \n",
      "A value is trying to be set on a copy of a slice from a DataFrame\n",
      "\n",
      "See the caveats in the documentation: https://pandas.pydata.org/pandas-docs/stable/user_guide/indexing.html#returning-a-view-versus-a-copy\n",
      "  iloc._setitem_with_indexer(indexer, value)\n"
     ]
    }
   ],
   "source": [
    "temp_df = last_pitch_type_to_num(ohe_df, 'last_pitch_type')"
   ]
  },
  {
   "cell_type": "code",
   "execution_count": 16,
   "metadata": {},
   "outputs": [
    {
     "name": "stdout",
     "output_type": "stream",
     "text": [
      "Here is the coding for pitch type:\n",
      "{'FF': 0, 'SL': 1, 'CH': 2, 'CU': 3, 'FC': 4, 'FT': 5}\n"
     ]
    }
   ],
   "source": [
    "output_df = pitch_type_to_num(temp_df, 'pitch_type')"
   ]
  },
  {
   "cell_type": "markdown",
   "metadata": {},
   "source": [
    "Declaring the columns for each step of the modeling process:"
   ]
  },
  {
   "cell_type": "code",
   "execution_count": 17,
   "metadata": {},
   "outputs": [],
   "source": [
    "rf_cols = ['Cluster','inning', 'top', 'on_1b', 'on_2b', 'on_3b', 'b_count', 's_count', 'outs', 'stand_R',\n",
    "       'pitcher_run_diff','last_pitch_speed', 'last_pitch_px', 'last_pitch_pz','pitch_num','cumulative_pitches',\n",
    "       'cumulative_ff_rate', 'cumulative_sl_rate', 'cumulative_ft_rate',\n",
    "       'cumulative_ch_rate', 'cumulative_cu_rate', 'cumulative_si_rate',\n",
    "       'cumulative_fc_rate', 'cumulative_kc_rate', 'cumulative_fs_rate',\n",
    "       'cumulative_kn_rate', 'cumulative_ep_rate', 'cumulative_fo_rate',\n",
    "       'cumulative_sc_rate', 'Last_Pitch_Type_Num']"
   ]
  },
  {
   "cell_type": "code",
   "execution_count": 18,
   "metadata": {},
   "outputs": [],
   "source": [
    "px_cols = rf_cols.copy()"
   ]
  },
  {
   "cell_type": "code",
   "execution_count": 19,
   "metadata": {},
   "outputs": [],
   "source": [
    "px_cols.append('Pitch_Type_Num')"
   ]
  },
  {
   "cell_type": "code",
   "execution_count": 20,
   "metadata": {},
   "outputs": [],
   "source": [
    "px_cols_val = px_cols.copy()\n",
    "px_cols_val.append('pitch_pred')\n",
    "px_cols_val.remove('Pitch_Type_Num')"
   ]
  },
  {
   "cell_type": "code",
   "execution_count": 21,
   "metadata": {},
   "outputs": [],
   "source": [
    "pz_cols = px_cols.copy()\n",
    "pz_cols.append('px')"
   ]
  },
  {
   "cell_type": "code",
   "execution_count": 22,
   "metadata": {},
   "outputs": [],
   "source": [
    "pz_cols_val = pz_cols.copy()\n",
    "pz_cols_val.append('px_pred')\n",
    "pz_cols_val.remove('px')"
   ]
  },
  {
   "cell_type": "markdown",
   "metadata": {},
   "source": [
    "Instead of a traditional train/test split, I need to split my dataframe into similar pitches.  To help with generalization/simulating unseen data, I'll split by at bat (using split_pitch_data in classification_location_combo.py)."
   ]
  },
  {
   "cell_type": "code",
   "execution_count": 23,
   "metadata": {},
   "outputs": [
    {
     "name": "stdout",
     "output_type": "stream",
     "text": [
      "Actual Test Size: 0.24353704211199415\n"
     ]
    }
   ],
   "source": [
    "training_pitches, val_pitches = split_pitch_data(output_df, test_size=0.20)"
   ]
  },
  {
   "cell_type": "markdown",
   "metadata": {},
   "source": [
    "Now with training and validation df's separate, I can run modeling on each step, using the columns."
   ]
  },
  {
   "cell_type": "markdown",
   "metadata": {},
   "source": [
    "### Classification:"
   ]
  },
  {
   "cell_type": "markdown",
   "metadata": {},
   "source": [
    "Setting up X and y for modeling, and performing train/test split:"
   ]
  },
  {
   "cell_type": "code",
   "execution_count": 24,
   "metadata": {},
   "outputs": [],
   "source": [
    "X_rf_train = training_pitches[rf_cols]"
   ]
  },
  {
   "cell_type": "code",
   "execution_count": 25,
   "metadata": {},
   "outputs": [],
   "source": [
    "y_rf_train = training_pitches['Pitch_Type_Num']"
   ]
  },
  {
   "cell_type": "code",
   "execution_count": 26,
   "metadata": {},
   "outputs": [],
   "source": [
    "X_rf_val = val_pitches[rf_cols]"
   ]
  },
  {
   "cell_type": "code",
   "execution_count": 27,
   "metadata": {},
   "outputs": [],
   "source": [
    "y_rf_val = val_pitches['Pitch_Type_Num']"
   ]
  },
  {
   "cell_type": "markdown",
   "metadata": {},
   "source": [
    "Fitting model on test, then predicting on train:"
   ]
  },
  {
   "cell_type": "code",
   "execution_count": 28,
   "metadata": {},
   "outputs": [
    {
     "data": {
      "text/plain": [
       "RandomForestClassifier()"
      ]
     },
     "execution_count": 28,
     "metadata": {},
     "output_type": "execute_result"
    }
   ],
   "source": [
    "rf_model = RandomForestClassifier()\n",
    "rf_model.fit(X_rf_train,y_rf_train)"
   ]
  },
  {
   "cell_type": "code",
   "execution_count": 29,
   "metadata": {},
   "outputs": [],
   "source": [
    "y_rf_pred = rf_model.predict(X_rf_val)"
   ]
  },
  {
   "cell_type": "code",
   "execution_count": 30,
   "metadata": {},
   "outputs": [],
   "source": [
    "unique, counts = np.unique(y_rf_pred, return_counts=True)"
   ]
  },
  {
   "cell_type": "code",
   "execution_count": 31,
   "metadata": {},
   "outputs": [
    {
     "data": {
      "text/plain": [
       "array([[   0, 2195],\n",
       "       [   1,  315],\n",
       "       [   2,   96],\n",
       "       [   3,   24],\n",
       "       [   4,   34],\n",
       "       [   5,    2]])"
      ]
     },
     "execution_count": 31,
     "metadata": {},
     "output_type": "execute_result"
    }
   ],
   "source": [
    "np.asarray((unique, counts)).T"
   ]
  },
  {
   "cell_type": "markdown",
   "metadata": {},
   "source": [
    "Running some metrics:"
   ]
  },
  {
   "cell_type": "code",
   "execution_count": 32,
   "metadata": {},
   "outputs": [
    {
     "data": {
      "text/plain": [
       "array([[1196,  141,   37,    9,   14,    0],\n",
       "       [ 371,  133,    8,    1,    0,    0],\n",
       "       [ 314,   23,   28,    7,    4,    1],\n",
       "       [ 196,    8,   10,    5,    3,    0],\n",
       "       [ 108,    3,   13,    2,   13,    0],\n",
       "       [  10,    7,    0,    0,    0,    1]])"
      ]
     },
     "execution_count": 32,
     "metadata": {},
     "output_type": "execute_result"
    }
   ],
   "source": [
    "cm = confusion_matrix(y_rf_val, y_rf_pred)\n",
    "cm"
   ]
  },
  {
   "cell_type": "markdown",
   "metadata": {},
   "source": [
    "### Px:"
   ]
  },
  {
   "cell_type": "markdown",
   "metadata": {},
   "source": [
    "Adding the predicted pitch types to the validation dataframe, for use as a feature in Px regression:"
   ]
  },
  {
   "cell_type": "code",
   "execution_count": 33,
   "metadata": {},
   "outputs": [
    {
     "name": "stderr",
     "output_type": "stream",
     "text": [
      "<ipython-input-33-5c9b03fe5b97>:1: SettingWithCopyWarning: \n",
      "A value is trying to be set on a copy of a slice from a DataFrame.\n",
      "Try using .loc[row_indexer,col_indexer] = value instead\n",
      "\n",
      "See the caveats in the documentation: https://pandas.pydata.org/pandas-docs/stable/user_guide/indexing.html#returning-a-view-versus-a-copy\n",
      "  val_pitches['pitch_pred'] = y_rf_pred\n"
     ]
    }
   ],
   "source": [
    "val_pitches['pitch_pred'] = y_rf_pred"
   ]
  },
  {
   "cell_type": "markdown",
   "metadata": {},
   "source": [
    "Setting up X and y, with train test split:"
   ]
  },
  {
   "cell_type": "code",
   "execution_count": 34,
   "metadata": {},
   "outputs": [],
   "source": [
    "X_px_tr = training_pitches[px_cols]\n",
    "y_px_tr = training_pitches['px']"
   ]
  },
  {
   "cell_type": "code",
   "execution_count": 35,
   "metadata": {},
   "outputs": [],
   "source": [
    "X_px_val = val_pitches[px_cols_val]\n",
    "y_px_val = val_pitches['px']"
   ]
  },
  {
   "cell_type": "markdown",
   "metadata": {},
   "source": [
    "Instantiating linear regression:"
   ]
  },
  {
   "cell_type": "code",
   "execution_count": 36,
   "metadata": {},
   "outputs": [],
   "source": [
    "lm = LinearRegression()"
   ]
  },
  {
   "cell_type": "code",
   "execution_count": 37,
   "metadata": {},
   "outputs": [
    {
     "data": {
      "text/plain": [
       "LinearRegression()"
      ]
     },
     "execution_count": 37,
     "metadata": {},
     "output_type": "execute_result"
    }
   ],
   "source": [
    "lm.fit(X_px_tr, y_px_tr)"
   ]
  },
  {
   "cell_type": "code",
   "execution_count": 38,
   "metadata": {},
   "outputs": [],
   "source": [
    "px_pred = lm.predict(X_px_val)"
   ]
  },
  {
   "cell_type": "markdown",
   "metadata": {},
   "source": [
    "Getting some metrics:"
   ]
  },
  {
   "cell_type": "code",
   "execution_count": 39,
   "metadata": {},
   "outputs": [
    {
     "data": {
      "text/plain": [
       "0.06411949700287711"
      ]
     },
     "execution_count": 39,
     "metadata": {},
     "output_type": "execute_result"
    }
   ],
   "source": [
    "px_r2 = lm.score(X_px_val, y_px_val)\n",
    "px_r2"
   ]
  },
  {
   "cell_type": "code",
   "execution_count": 40,
   "metadata": {},
   "outputs": [],
   "source": [
    "px_mae = mae(y_px_val, px_pred)"
   ]
  },
  {
   "cell_type": "code",
   "execution_count": 41,
   "metadata": {},
   "outputs": [
    {
     "data": {
      "text/plain": [
       "0.6794465366889837"
      ]
     },
     "execution_count": 41,
     "metadata": {},
     "output_type": "execute_result"
    }
   ],
   "source": [
    "px_mae"
   ]
  },
  {
   "cell_type": "markdown",
   "metadata": {},
   "source": [
    "Adding a px_pred column to the dataframe to utilize in the pz regression:"
   ]
  },
  {
   "cell_type": "code",
   "execution_count": 42,
   "metadata": {},
   "outputs": [
    {
     "name": "stderr",
     "output_type": "stream",
     "text": [
      "<ipython-input-42-77bce8a037dd>:1: SettingWithCopyWarning: \n",
      "A value is trying to be set on a copy of a slice from a DataFrame.\n",
      "Try using .loc[row_indexer,col_indexer] = value instead\n",
      "\n",
      "See the caveats in the documentation: https://pandas.pydata.org/pandas-docs/stable/user_guide/indexing.html#returning-a-view-versus-a-copy\n",
      "  val_pitches['px_pred'] = px_pred\n"
     ]
    }
   ],
   "source": [
    "val_pitches['px_pred'] = px_pred"
   ]
  },
  {
   "cell_type": "markdown",
   "metadata": {},
   "source": [
    "### Pz:"
   ]
  },
  {
   "cell_type": "markdown",
   "metadata": {},
   "source": [
    "Setting up X and y, with train test split:"
   ]
  },
  {
   "cell_type": "code",
   "execution_count": 43,
   "metadata": {},
   "outputs": [],
   "source": [
    "X_pz_tr = training_pitches[pz_cols]\n",
    "y_pz_tr = training_pitches['pz']"
   ]
  },
  {
   "cell_type": "code",
   "execution_count": 44,
   "metadata": {},
   "outputs": [],
   "source": [
    "X_pz_val = val_pitches[pz_cols_val]\n",
    "y_pz_val = val_pitches['pz']"
   ]
  },
  {
   "cell_type": "markdown",
   "metadata": {},
   "source": [
    "Instantiating linear regression:"
   ]
  },
  {
   "cell_type": "code",
   "execution_count": 45,
   "metadata": {},
   "outputs": [],
   "source": [
    "lm = LinearRegression()"
   ]
  },
  {
   "cell_type": "code",
   "execution_count": 46,
   "metadata": {},
   "outputs": [
    {
     "data": {
      "text/plain": [
       "LinearRegression()"
      ]
     },
     "execution_count": 46,
     "metadata": {},
     "output_type": "execute_result"
    }
   ],
   "source": [
    "lm.fit(X_pz_tr, y_pz_tr)"
   ]
  },
  {
   "cell_type": "code",
   "execution_count": 47,
   "metadata": {},
   "outputs": [],
   "source": [
    "pz_pred = lm.predict(X_pz_val)"
   ]
  },
  {
   "cell_type": "markdown",
   "metadata": {},
   "source": [
    "Getting some metrics:"
   ]
  },
  {
   "cell_type": "code",
   "execution_count": 48,
   "metadata": {},
   "outputs": [
    {
     "data": {
      "text/plain": [
       "0.1489761794161102"
      ]
     },
     "execution_count": 48,
     "metadata": {},
     "output_type": "execute_result"
    }
   ],
   "source": [
    "pz_r2 = lm.score(X_pz_val, y_pz_val)\n",
    "pz_r2"
   ]
  },
  {
   "cell_type": "code",
   "execution_count": 49,
   "metadata": {},
   "outputs": [
    {
     "data": {
      "text/plain": [
       "0.6234399445809027"
      ]
     },
     "execution_count": 49,
     "metadata": {},
     "output_type": "execute_result"
    }
   ],
   "source": [
    "pz_mae = mae(y_pz_val, pz_pred)\n",
    "pz_mae"
   ]
  },
  {
   "cell_type": "markdown",
   "metadata": {},
   "source": [
    "Adding a px_pred column to the dataframe to utilize in the pz regression:"
   ]
  },
  {
   "cell_type": "code",
   "execution_count": 50,
   "metadata": {},
   "outputs": [
    {
     "name": "stderr",
     "output_type": "stream",
     "text": [
      "<ipython-input-50-e701ef20288d>:1: SettingWithCopyWarning: \n",
      "A value is trying to be set on a copy of a slice from a DataFrame.\n",
      "Try using .loc[row_indexer,col_indexer] = value instead\n",
      "\n",
      "See the caveats in the documentation: https://pandas.pydata.org/pandas-docs/stable/user_guide/indexing.html#returning-a-view-versus-a-copy\n",
      "  val_pitches['pz_pred'] = pz_pred\n"
     ]
    }
   ],
   "source": [
    "val_pitches['pz_pred'] = pz_pred"
   ]
  },
  {
   "cell_type": "markdown",
   "metadata": {},
   "source": [
    "### Evaluating the pipeline:"
   ]
  },
  {
   "cell_type": "markdown",
   "metadata": {},
   "source": [
    "Looking at the final validation df:"
   ]
  },
  {
   "cell_type": "code",
   "execution_count": 51,
   "metadata": {},
   "outputs": [],
   "source": [
    "output_df = pd.DataFrame(columns=val_pitches.columns)"
   ]
  },
  {
   "cell_type": "code",
   "execution_count": 52,
   "metadata": {},
   "outputs": [],
   "source": [
    "output_df = pd.concat([output_df, val_pitches])"
   ]
  },
  {
   "cell_type": "code",
   "execution_count": 53,
   "metadata": {},
   "outputs": [
    {
     "data": {
      "text/html": [
       "<div>\n",
       "<style scoped>\n",
       "    .dataframe tbody tr th:only-of-type {\n",
       "        vertical-align: middle;\n",
       "    }\n",
       "\n",
       "    .dataframe tbody tr th {\n",
       "        vertical-align: top;\n",
       "    }\n",
       "\n",
       "    .dataframe thead th {\n",
       "        text-align: right;\n",
       "    }\n",
       "</style>\n",
       "<table border=\"1\" class=\"dataframe\">\n",
       "  <thead>\n",
       "    <tr style=\"text-align: right;\">\n",
       "      <th></th>\n",
       "      <th>inning</th>\n",
       "      <th>batter_id</th>\n",
       "      <th>pitcher_id</th>\n",
       "      <th>top</th>\n",
       "      <th>ab_id</th>\n",
       "      <th>p_score</th>\n",
       "      <th>event</th>\n",
       "      <th>home_team</th>\n",
       "      <th>away_team</th>\n",
       "      <th>b_score</th>\n",
       "      <th>...</th>\n",
       "      <th>cumulative_fo_rate</th>\n",
       "      <th>cumulative_sc_rate</th>\n",
       "      <th>Name</th>\n",
       "      <th>Cluster</th>\n",
       "      <th>stand_R</th>\n",
       "      <th>Last_Pitch_Type_Num</th>\n",
       "      <th>Pitch_Type_Num</th>\n",
       "      <th>pitch_pred</th>\n",
       "      <th>px_pred</th>\n",
       "      <th>pz_pred</th>\n",
       "    </tr>\n",
       "  </thead>\n",
       "  <tbody>\n",
       "    <tr>\n",
       "      <th>2453</th>\n",
       "      <td>3.0</td>\n",
       "      <td>527038</td>\n",
       "      <td>453286</td>\n",
       "      <td>1.0</td>\n",
       "      <td>2.015001e+09</td>\n",
       "      <td>0.0</td>\n",
       "      <td>Strikeout</td>\n",
       "      <td>was</td>\n",
       "      <td>nyn</td>\n",
       "      <td>0.0</td>\n",
       "      <td>...</td>\n",
       "      <td>0.0</td>\n",
       "      <td>0.0</td>\n",
       "      <td>Wilmer Flores</td>\n",
       "      <td>3.0</td>\n",
       "      <td>1.0</td>\n",
       "      <td>0</td>\n",
       "      <td>0</td>\n",
       "      <td>0</td>\n",
       "      <td>0.044230</td>\n",
       "      <td>2.523223</td>\n",
       "    </tr>\n",
       "    <tr>\n",
       "      <th>2454</th>\n",
       "      <td>3.0</td>\n",
       "      <td>527038</td>\n",
       "      <td>453286</td>\n",
       "      <td>1.0</td>\n",
       "      <td>2.015001e+09</td>\n",
       "      <td>0.0</td>\n",
       "      <td>Strikeout</td>\n",
       "      <td>was</td>\n",
       "      <td>nyn</td>\n",
       "      <td>0.0</td>\n",
       "      <td>...</td>\n",
       "      <td>0.0</td>\n",
       "      <td>0.0</td>\n",
       "      <td>Wilmer Flores</td>\n",
       "      <td>3.0</td>\n",
       "      <td>1.0</td>\n",
       "      <td>0</td>\n",
       "      <td>0</td>\n",
       "      <td>0</td>\n",
       "      <td>0.007730</td>\n",
       "      <td>2.420953</td>\n",
       "    </tr>\n",
       "    <tr>\n",
       "      <th>2455</th>\n",
       "      <td>3.0</td>\n",
       "      <td>527038</td>\n",
       "      <td>453286</td>\n",
       "      <td>1.0</td>\n",
       "      <td>2.015001e+09</td>\n",
       "      <td>0.0</td>\n",
       "      <td>Strikeout</td>\n",
       "      <td>was</td>\n",
       "      <td>nyn</td>\n",
       "      <td>0.0</td>\n",
       "      <td>...</td>\n",
       "      <td>0.0</td>\n",
       "      <td>0.0</td>\n",
       "      <td>Wilmer Flores</td>\n",
       "      <td>3.0</td>\n",
       "      <td>1.0</td>\n",
       "      <td>0</td>\n",
       "      <td>0</td>\n",
       "      <td>1</td>\n",
       "      <td>0.113485</td>\n",
       "      <td>2.260595</td>\n",
       "    </tr>\n",
       "    <tr>\n",
       "      <th>2496</th>\n",
       "      <td>5.0</td>\n",
       "      <td>502517</td>\n",
       "      <td>453286</td>\n",
       "      <td>1.0</td>\n",
       "      <td>2.015001e+09</td>\n",
       "      <td>1.0</td>\n",
       "      <td>Flyout</td>\n",
       "      <td>was</td>\n",
       "      <td>nyn</td>\n",
       "      <td>0.0</td>\n",
       "      <td>...</td>\n",
       "      <td>0.0</td>\n",
       "      <td>0.0</td>\n",
       "      <td>Daniel Murphy</td>\n",
       "      <td>3.0</td>\n",
       "      <td>0.0</td>\n",
       "      <td>1</td>\n",
       "      <td>0</td>\n",
       "      <td>0</td>\n",
       "      <td>-0.234551</td>\n",
       "      <td>2.645617</td>\n",
       "    </tr>\n",
       "    <tr>\n",
       "      <th>2497</th>\n",
       "      <td>5.0</td>\n",
       "      <td>502517</td>\n",
       "      <td>453286</td>\n",
       "      <td>1.0</td>\n",
       "      <td>2.015001e+09</td>\n",
       "      <td>1.0</td>\n",
       "      <td>Flyout</td>\n",
       "      <td>was</td>\n",
       "      <td>nyn</td>\n",
       "      <td>0.0</td>\n",
       "      <td>...</td>\n",
       "      <td>0.0</td>\n",
       "      <td>0.0</td>\n",
       "      <td>Daniel Murphy</td>\n",
       "      <td>3.0</td>\n",
       "      <td>0.0</td>\n",
       "      <td>0</td>\n",
       "      <td>0</td>\n",
       "      <td>0</td>\n",
       "      <td>-0.328774</td>\n",
       "      <td>2.583225</td>\n",
       "    </tr>\n",
       "    <tr>\n",
       "      <th>...</th>\n",
       "      <td>...</td>\n",
       "      <td>...</td>\n",
       "      <td>...</td>\n",
       "      <td>...</td>\n",
       "      <td>...</td>\n",
       "      <td>...</td>\n",
       "      <td>...</td>\n",
       "      <td>...</td>\n",
       "      <td>...</td>\n",
       "      <td>...</td>\n",
       "      <td>...</td>\n",
       "      <td>...</td>\n",
       "      <td>...</td>\n",
       "      <td>...</td>\n",
       "      <td>...</td>\n",
       "      <td>...</td>\n",
       "      <td>...</td>\n",
       "      <td>...</td>\n",
       "      <td>...</td>\n",
       "      <td>...</td>\n",
       "      <td>...</td>\n",
       "    </tr>\n",
       "    <tr>\n",
       "      <th>2846534</th>\n",
       "      <td>6.0</td>\n",
       "      <td>598284</td>\n",
       "      <td>453286</td>\n",
       "      <td>1.0</td>\n",
       "      <td>2.018179e+09</td>\n",
       "      <td>3.0</td>\n",
       "      <td>Single</td>\n",
       "      <td>was</td>\n",
       "      <td>mia</td>\n",
       "      <td>1.0</td>\n",
       "      <td>...</td>\n",
       "      <td>0.0</td>\n",
       "      <td>0.0</td>\n",
       "      <td>Peter O'Brien</td>\n",
       "      <td>1.0</td>\n",
       "      <td>1.0</td>\n",
       "      <td>0</td>\n",
       "      <td>1</td>\n",
       "      <td>1</td>\n",
       "      <td>0.219846</td>\n",
       "      <td>1.985454</td>\n",
       "    </tr>\n",
       "    <tr>\n",
       "      <th>2846535</th>\n",
       "      <td>6.0</td>\n",
       "      <td>598284</td>\n",
       "      <td>453286</td>\n",
       "      <td>1.0</td>\n",
       "      <td>2.018179e+09</td>\n",
       "      <td>3.0</td>\n",
       "      <td>Single</td>\n",
       "      <td>was</td>\n",
       "      <td>mia</td>\n",
       "      <td>1.0</td>\n",
       "      <td>...</td>\n",
       "      <td>0.0</td>\n",
       "      <td>0.0</td>\n",
       "      <td>Peter O'Brien</td>\n",
       "      <td>1.0</td>\n",
       "      <td>1.0</td>\n",
       "      <td>1</td>\n",
       "      <td>1</td>\n",
       "      <td>1</td>\n",
       "      <td>0.250910</td>\n",
       "      <td>1.893609</td>\n",
       "    </tr>\n",
       "    <tr>\n",
       "      <th>2846536</th>\n",
       "      <td>6.0</td>\n",
       "      <td>598284</td>\n",
       "      <td>453286</td>\n",
       "      <td>1.0</td>\n",
       "      <td>2.018179e+09</td>\n",
       "      <td>3.0</td>\n",
       "      <td>Single</td>\n",
       "      <td>was</td>\n",
       "      <td>mia</td>\n",
       "      <td>1.0</td>\n",
       "      <td>...</td>\n",
       "      <td>0.0</td>\n",
       "      <td>0.0</td>\n",
       "      <td>Peter O'Brien</td>\n",
       "      <td>1.0</td>\n",
       "      <td>1.0</td>\n",
       "      <td>1</td>\n",
       "      <td>0</td>\n",
       "      <td>0</td>\n",
       "      <td>0.108060</td>\n",
       "      <td>2.269643</td>\n",
       "    </tr>\n",
       "    <tr>\n",
       "      <th>2846537</th>\n",
       "      <td>6.0</td>\n",
       "      <td>598284</td>\n",
       "      <td>453286</td>\n",
       "      <td>1.0</td>\n",
       "      <td>2.018179e+09</td>\n",
       "      <td>3.0</td>\n",
       "      <td>Single</td>\n",
       "      <td>was</td>\n",
       "      <td>mia</td>\n",
       "      <td>1.0</td>\n",
       "      <td>...</td>\n",
       "      <td>0.0</td>\n",
       "      <td>0.0</td>\n",
       "      <td>Peter O'Brien</td>\n",
       "      <td>1.0</td>\n",
       "      <td>1.0</td>\n",
       "      <td>0</td>\n",
       "      <td>2</td>\n",
       "      <td>0</td>\n",
       "      <td>0.029326</td>\n",
       "      <td>1.923316</td>\n",
       "    </tr>\n",
       "    <tr>\n",
       "      <th>2846538</th>\n",
       "      <td>6.0</td>\n",
       "      <td>598284</td>\n",
       "      <td>453286</td>\n",
       "      <td>1.0</td>\n",
       "      <td>2.018179e+09</td>\n",
       "      <td>3.0</td>\n",
       "      <td>Single</td>\n",
       "      <td>was</td>\n",
       "      <td>mia</td>\n",
       "      <td>1.0</td>\n",
       "      <td>...</td>\n",
       "      <td>0.0</td>\n",
       "      <td>0.0</td>\n",
       "      <td>Peter O'Brien</td>\n",
       "      <td>1.0</td>\n",
       "      <td>1.0</td>\n",
       "      <td>2</td>\n",
       "      <td>1</td>\n",
       "      <td>0</td>\n",
       "      <td>0.010845</td>\n",
       "      <td>2.120709</td>\n",
       "    </tr>\n",
       "  </tbody>\n",
       "</table>\n",
       "<p>2666 rows × 54 columns</p>\n",
       "</div>"
      ],
      "text/plain": [
       "         inning batter_id pitcher_id  top         ab_id  p_score      event  \\\n",
       "2453        3.0    527038     453286  1.0  2.015001e+09      0.0  Strikeout   \n",
       "2454        3.0    527038     453286  1.0  2.015001e+09      0.0  Strikeout   \n",
       "2455        3.0    527038     453286  1.0  2.015001e+09      0.0  Strikeout   \n",
       "2496        5.0    502517     453286  1.0  2.015001e+09      1.0     Flyout   \n",
       "2497        5.0    502517     453286  1.0  2.015001e+09      1.0     Flyout   \n",
       "...         ...       ...        ...  ...           ...      ...        ...   \n",
       "2846534     6.0    598284     453286  1.0  2.018179e+09      3.0     Single   \n",
       "2846535     6.0    598284     453286  1.0  2.018179e+09      3.0     Single   \n",
       "2846536     6.0    598284     453286  1.0  2.018179e+09      3.0     Single   \n",
       "2846537     6.0    598284     453286  1.0  2.018179e+09      3.0     Single   \n",
       "2846538     6.0    598284     453286  1.0  2.018179e+09      3.0     Single   \n",
       "\n",
       "        home_team away_team  b_score  ...  cumulative_fo_rate  \\\n",
       "2453          was       nyn      0.0  ...                 0.0   \n",
       "2454          was       nyn      0.0  ...                 0.0   \n",
       "2455          was       nyn      0.0  ...                 0.0   \n",
       "2496          was       nyn      0.0  ...                 0.0   \n",
       "2497          was       nyn      0.0  ...                 0.0   \n",
       "...           ...       ...      ...  ...                 ...   \n",
       "2846534       was       mia      1.0  ...                 0.0   \n",
       "2846535       was       mia      1.0  ...                 0.0   \n",
       "2846536       was       mia      1.0  ...                 0.0   \n",
       "2846537       was       mia      1.0  ...                 0.0   \n",
       "2846538       was       mia      1.0  ...                 0.0   \n",
       "\n",
       "         cumulative_sc_rate           Name  Cluster  stand_R  \\\n",
       "2453                    0.0  Wilmer Flores      3.0      1.0   \n",
       "2454                    0.0  Wilmer Flores      3.0      1.0   \n",
       "2455                    0.0  Wilmer Flores      3.0      1.0   \n",
       "2496                    0.0  Daniel Murphy      3.0      0.0   \n",
       "2497                    0.0  Daniel Murphy      3.0      0.0   \n",
       "...                     ...            ...      ...      ...   \n",
       "2846534                 0.0  Peter O'Brien      1.0      1.0   \n",
       "2846535                 0.0  Peter O'Brien      1.0      1.0   \n",
       "2846536                 0.0  Peter O'Brien      1.0      1.0   \n",
       "2846537                 0.0  Peter O'Brien      1.0      1.0   \n",
       "2846538                 0.0  Peter O'Brien      1.0      1.0   \n",
       "\n",
       "        Last_Pitch_Type_Num Pitch_Type_Num  pitch_pred   px_pred   pz_pred  \n",
       "2453                      0              0           0  0.044230  2.523223  \n",
       "2454                      0              0           0  0.007730  2.420953  \n",
       "2455                      0              0           1  0.113485  2.260595  \n",
       "2496                      1              0           0 -0.234551  2.645617  \n",
       "2497                      0              0           0 -0.328774  2.583225  \n",
       "...                     ...            ...         ...       ...       ...  \n",
       "2846534                   0              1           1  0.219846  1.985454  \n",
       "2846535                   1              1           1  0.250910  1.893609  \n",
       "2846536                   1              0           0  0.108060  2.269643  \n",
       "2846537                   0              2           0  0.029326  1.923316  \n",
       "2846538                   2              1           0  0.010845  2.120709  \n",
       "\n",
       "[2666 rows x 54 columns]"
      ]
     },
     "execution_count": 53,
     "metadata": {},
     "output_type": "execute_result"
    }
   ],
   "source": [
    "output_df"
   ]
  },
  {
   "cell_type": "code",
   "execution_count": 54,
   "metadata": {},
   "outputs": [
    {
     "data": {
      "text/html": [
       "<div>\n",
       "<style scoped>\n",
       "    .dataframe tbody tr th:only-of-type {\n",
       "        vertical-align: middle;\n",
       "    }\n",
       "\n",
       "    .dataframe tbody tr th {\n",
       "        vertical-align: top;\n",
       "    }\n",
       "\n",
       "    .dataframe thead th {\n",
       "        text-align: right;\n",
       "    }\n",
       "</style>\n",
       "<table border=\"1\" class=\"dataframe\">\n",
       "  <thead>\n",
       "    <tr style=\"text-align: right;\">\n",
       "      <th></th>\n",
       "      <th>inning</th>\n",
       "      <th>batter_id</th>\n",
       "      <th>pitcher_id</th>\n",
       "      <th>top</th>\n",
       "      <th>ab_id</th>\n",
       "      <th>p_score</th>\n",
       "      <th>event</th>\n",
       "      <th>home_team</th>\n",
       "      <th>away_team</th>\n",
       "      <th>b_score</th>\n",
       "      <th>...</th>\n",
       "      <th>cumulative_fo_rate</th>\n",
       "      <th>cumulative_sc_rate</th>\n",
       "      <th>Name</th>\n",
       "      <th>Cluster</th>\n",
       "      <th>stand_R</th>\n",
       "      <th>Last_Pitch_Type_Num</th>\n",
       "      <th>Pitch_Type_Num</th>\n",
       "      <th>pitch_pred</th>\n",
       "      <th>px_pred</th>\n",
       "      <th>pz_pred</th>\n",
       "    </tr>\n",
       "  </thead>\n",
       "  <tbody>\n",
       "    <tr>\n",
       "      <th>2453</th>\n",
       "      <td>3.0</td>\n",
       "      <td>527038</td>\n",
       "      <td>453286</td>\n",
       "      <td>1.0</td>\n",
       "      <td>2.015001e+09</td>\n",
       "      <td>0.0</td>\n",
       "      <td>Strikeout</td>\n",
       "      <td>was</td>\n",
       "      <td>nyn</td>\n",
       "      <td>0.0</td>\n",
       "      <td>...</td>\n",
       "      <td>0.0</td>\n",
       "      <td>0.0</td>\n",
       "      <td>Wilmer Flores</td>\n",
       "      <td>3.0</td>\n",
       "      <td>1.0</td>\n",
       "      <td>0</td>\n",
       "      <td>0</td>\n",
       "      <td>0</td>\n",
       "      <td>0.044230</td>\n",
       "      <td>2.523223</td>\n",
       "    </tr>\n",
       "    <tr>\n",
       "      <th>2454</th>\n",
       "      <td>3.0</td>\n",
       "      <td>527038</td>\n",
       "      <td>453286</td>\n",
       "      <td>1.0</td>\n",
       "      <td>2.015001e+09</td>\n",
       "      <td>0.0</td>\n",
       "      <td>Strikeout</td>\n",
       "      <td>was</td>\n",
       "      <td>nyn</td>\n",
       "      <td>0.0</td>\n",
       "      <td>...</td>\n",
       "      <td>0.0</td>\n",
       "      <td>0.0</td>\n",
       "      <td>Wilmer Flores</td>\n",
       "      <td>3.0</td>\n",
       "      <td>1.0</td>\n",
       "      <td>0</td>\n",
       "      <td>0</td>\n",
       "      <td>0</td>\n",
       "      <td>0.007730</td>\n",
       "      <td>2.420953</td>\n",
       "    </tr>\n",
       "    <tr>\n",
       "      <th>2455</th>\n",
       "      <td>3.0</td>\n",
       "      <td>527038</td>\n",
       "      <td>453286</td>\n",
       "      <td>1.0</td>\n",
       "      <td>2.015001e+09</td>\n",
       "      <td>0.0</td>\n",
       "      <td>Strikeout</td>\n",
       "      <td>was</td>\n",
       "      <td>nyn</td>\n",
       "      <td>0.0</td>\n",
       "      <td>...</td>\n",
       "      <td>0.0</td>\n",
       "      <td>0.0</td>\n",
       "      <td>Wilmer Flores</td>\n",
       "      <td>3.0</td>\n",
       "      <td>1.0</td>\n",
       "      <td>0</td>\n",
       "      <td>0</td>\n",
       "      <td>1</td>\n",
       "      <td>0.113485</td>\n",
       "      <td>2.260595</td>\n",
       "    </tr>\n",
       "    <tr>\n",
       "      <th>2496</th>\n",
       "      <td>5.0</td>\n",
       "      <td>502517</td>\n",
       "      <td>453286</td>\n",
       "      <td>1.0</td>\n",
       "      <td>2.015001e+09</td>\n",
       "      <td>1.0</td>\n",
       "      <td>Flyout</td>\n",
       "      <td>was</td>\n",
       "      <td>nyn</td>\n",
       "      <td>0.0</td>\n",
       "      <td>...</td>\n",
       "      <td>0.0</td>\n",
       "      <td>0.0</td>\n",
       "      <td>Daniel Murphy</td>\n",
       "      <td>3.0</td>\n",
       "      <td>0.0</td>\n",
       "      <td>1</td>\n",
       "      <td>0</td>\n",
       "      <td>0</td>\n",
       "      <td>-0.234551</td>\n",
       "      <td>2.645617</td>\n",
       "    </tr>\n",
       "    <tr>\n",
       "      <th>2497</th>\n",
       "      <td>5.0</td>\n",
       "      <td>502517</td>\n",
       "      <td>453286</td>\n",
       "      <td>1.0</td>\n",
       "      <td>2.015001e+09</td>\n",
       "      <td>1.0</td>\n",
       "      <td>Flyout</td>\n",
       "      <td>was</td>\n",
       "      <td>nyn</td>\n",
       "      <td>0.0</td>\n",
       "      <td>...</td>\n",
       "      <td>0.0</td>\n",
       "      <td>0.0</td>\n",
       "      <td>Daniel Murphy</td>\n",
       "      <td>3.0</td>\n",
       "      <td>0.0</td>\n",
       "      <td>0</td>\n",
       "      <td>0</td>\n",
       "      <td>0</td>\n",
       "      <td>-0.328774</td>\n",
       "      <td>2.583225</td>\n",
       "    </tr>\n",
       "  </tbody>\n",
       "</table>\n",
       "<p>5 rows × 54 columns</p>\n",
       "</div>"
      ],
      "text/plain": [
       "      inning  batter_id  pitcher_id  top         ab_id  p_score      event  \\\n",
       "2453     3.0     527038      453286  1.0  2.015001e+09      0.0  Strikeout   \n",
       "2454     3.0     527038      453286  1.0  2.015001e+09      0.0  Strikeout   \n",
       "2455     3.0     527038      453286  1.0  2.015001e+09      0.0  Strikeout   \n",
       "2496     5.0     502517      453286  1.0  2.015001e+09      1.0     Flyout   \n",
       "2497     5.0     502517      453286  1.0  2.015001e+09      1.0     Flyout   \n",
       "\n",
       "     home_team away_team  b_score  ...  cumulative_fo_rate  \\\n",
       "2453       was       nyn      0.0  ...                 0.0   \n",
       "2454       was       nyn      0.0  ...                 0.0   \n",
       "2455       was       nyn      0.0  ...                 0.0   \n",
       "2496       was       nyn      0.0  ...                 0.0   \n",
       "2497       was       nyn      0.0  ...                 0.0   \n",
       "\n",
       "      cumulative_sc_rate           Name  Cluster  stand_R Last_Pitch_Type_Num  \\\n",
       "2453                 0.0  Wilmer Flores      3.0      1.0                   0   \n",
       "2454                 0.0  Wilmer Flores      3.0      1.0                   0   \n",
       "2455                 0.0  Wilmer Flores      3.0      1.0                   0   \n",
       "2496                 0.0  Daniel Murphy      3.0      0.0                   1   \n",
       "2497                 0.0  Daniel Murphy      3.0      0.0                   0   \n",
       "\n",
       "     Pitch_Type_Num  pitch_pred   px_pred   pz_pred  \n",
       "2453              0           0  0.044230  2.523223  \n",
       "2454              0           0  0.007730  2.420953  \n",
       "2455              0           1  0.113485  2.260595  \n",
       "2496              0           0 -0.234551  2.645617  \n",
       "2497              0           0 -0.328774  2.583225  \n",
       "\n",
       "[5 rows x 54 columns]"
      ]
     },
     "execution_count": 54,
     "metadata": {},
     "output_type": "execute_result"
    }
   ],
   "source": [
    "val_pitches.head()"
   ]
  },
  {
   "cell_type": "code",
   "execution_count": 55,
   "metadata": {},
   "outputs": [
    {
     "data": {
      "text/plain": [
       "(2666, 54)"
      ]
     },
     "execution_count": 55,
     "metadata": {},
     "output_type": "execute_result"
    }
   ],
   "source": [
    "val_pitches.shape"
   ]
  },
  {
   "cell_type": "code",
   "execution_count": 56,
   "metadata": {},
   "outputs": [
    {
     "data": {
      "text/plain": [
       "Index(['inning', 'batter_id', 'pitcher_id', 'top', 'ab_id', 'p_score', 'event',\n",
       "       'home_team', 'away_team', 'b_score', 'on_1b', 'on_2b', 'on_3b', 'px',\n",
       "       'pz', 'zone', 'pitch_type', 'start_speed', 'type', 'b_count', 's_count',\n",
       "       'outs', 'pitch_num', 'last_pitch_type', 'last_pitch_px',\n",
       "       'last_pitch_pz', 'last_pitch_speed', 'pitcher_full_name',\n",
       "       'pitcher_run_diff', 'hitter_full_name', 'Date_Time_Date', 'Season',\n",
       "       'cumulative_pitches', 'cumulative_ff_rate', 'cumulative_sl_rate',\n",
       "       'cumulative_ft_rate', 'cumulative_ch_rate', 'cumulative_cu_rate',\n",
       "       'cumulative_si_rate', 'cumulative_fc_rate', 'cumulative_kc_rate',\n",
       "       'cumulative_fs_rate', 'cumulative_kn_rate', 'cumulative_ep_rate',\n",
       "       'cumulative_fo_rate', 'cumulative_sc_rate', 'Name', 'Cluster',\n",
       "       'stand_R', 'Last_Pitch_Type_Num', 'Pitch_Type_Num', 'pitch_pred',\n",
       "       'px_pred', 'pz_pred'],\n",
       "      dtype='object')"
      ]
     },
     "execution_count": 56,
     "metadata": {},
     "output_type": "execute_result"
    }
   ],
   "source": [
    "val_pitches.columns"
   ]
  },
  {
   "cell_type": "markdown",
   "metadata": {},
   "source": [
    "# Utilizing Functions"
   ]
  },
  {
   "cell_type": "markdown",
   "metadata": {},
   "source": [
    "Based on the above, I put together functions to run this same process in classification_location_combo.py.  Running those here:"
   ]
  },
  {
   "cell_type": "markdown",
   "metadata": {},
   "source": [
    "### Random Forest:"
   ]
  },
  {
   "cell_type": "code",
   "execution_count": 57,
   "metadata": {
    "scrolled": false
   },
   "outputs": [
    {
     "name": "stdout",
     "output_type": "stream",
     "text": [
      "Pitch Modeling for Max Scherzer\n",
      "Here is the coding for last pitch type:\n",
      "{'FF': 0, 'SL': 1, 'CH': 2, 'CU': 3, 'FC': 4, 'FT': 5, 'UN': 6}\n"
     ]
    },
    {
     "name": "stderr",
     "output_type": "stream",
     "text": [
      "/Users/patrickbovard/opt/anaconda3/envs/metis/lib/python3.8/site-packages/pandas/core/indexing.py:670: SettingWithCopyWarning: \n",
      "A value is trying to be set on a copy of a slice from a DataFrame\n",
      "\n",
      "See the caveats in the documentation: https://pandas.pydata.org/pandas-docs/stable/user_guide/indexing.html#returning-a-view-versus-a-copy\n",
      "  iloc._setitem_with_indexer(indexer, value)\n"
     ]
    },
    {
     "name": "stdout",
     "output_type": "stream",
     "text": [
      "Here is the coding for pitch type:\n",
      "{'FF': 0, 'SL': 1, 'CH': 2, 'CU': 3, 'FC': 4, 'FT': 5}\n",
      "Actual Test Size: 0.24353704211199415\n",
      "Accuracy: 0.5108777194298575\n",
      "Precision: (0.36546652884847725,)\n",
      "Recall: 0.22209160369601336\n",
      "Random Forest Pitch Classification confusion matrix results:\n",
      "[[1186  130   50   14   16    1]\n",
      " [ 371  133    6    3    0    0]\n",
      " [ 305   33   27    6    6    0]\n",
      " [ 201    7    8    4    2    0]\n",
      " [ 115    3    9    1   11    0]\n",
      " [  10    6    1    0    0    1]]\n",
      "Val Px R^2: 0.062325783098987175\n",
      "Val Px MAE: 0.680765619510812 ft.\n",
      "Val Pz R^2: 0.14848516786356858\n",
      "Val Pz MAE: 0.6236726718293819 ft.\n"
     ]
    }
   ],
   "source": [
    "val_df_full = pitch_prediction_modeling_pipeline('Max Scherzer', pitch_df, split_size = 0.2)"
   ]
  },
  {
   "cell_type": "code",
   "execution_count": 58,
   "metadata": {},
   "outputs": [
    {
     "data": {
      "text/html": [
       "<div>\n",
       "<style scoped>\n",
       "    .dataframe tbody tr th:only-of-type {\n",
       "        vertical-align: middle;\n",
       "    }\n",
       "\n",
       "    .dataframe tbody tr th {\n",
       "        vertical-align: top;\n",
       "    }\n",
       "\n",
       "    .dataframe thead th {\n",
       "        text-align: right;\n",
       "    }\n",
       "</style>\n",
       "<table border=\"1\" class=\"dataframe\">\n",
       "  <thead>\n",
       "    <tr style=\"text-align: right;\">\n",
       "      <th></th>\n",
       "      <th>inning</th>\n",
       "      <th>batter_id</th>\n",
       "      <th>pitcher_id</th>\n",
       "      <th>top</th>\n",
       "      <th>ab_id</th>\n",
       "      <th>p_score</th>\n",
       "      <th>event</th>\n",
       "      <th>home_team</th>\n",
       "      <th>away_team</th>\n",
       "      <th>b_score</th>\n",
       "      <th>...</th>\n",
       "      <th>Pitch_Type_Num</th>\n",
       "      <th>pitch_pred</th>\n",
       "      <th>FF_prob</th>\n",
       "      <th>SL_prob</th>\n",
       "      <th>CH_prob</th>\n",
       "      <th>CU_prob</th>\n",
       "      <th>FC_prob</th>\n",
       "      <th>FT_prob</th>\n",
       "      <th>px_pred</th>\n",
       "      <th>pz_pred</th>\n",
       "    </tr>\n",
       "  </thead>\n",
       "  <tbody>\n",
       "    <tr>\n",
       "      <th>2453</th>\n",
       "      <td>3.0</td>\n",
       "      <td>527038</td>\n",
       "      <td>453286</td>\n",
       "      <td>1.0</td>\n",
       "      <td>2.015001e+09</td>\n",
       "      <td>0.0</td>\n",
       "      <td>Strikeout</td>\n",
       "      <td>was</td>\n",
       "      <td>nyn</td>\n",
       "      <td>0.0</td>\n",
       "      <td>...</td>\n",
       "      <td>0</td>\n",
       "      <td>0</td>\n",
       "      <td>0.57</td>\n",
       "      <td>0.22</td>\n",
       "      <td>0.01</td>\n",
       "      <td>0.01</td>\n",
       "      <td>0.19</td>\n",
       "      <td>0.0</td>\n",
       "      <td>0.044230</td>\n",
       "      <td>2.523223</td>\n",
       "    </tr>\n",
       "    <tr>\n",
       "      <th>2454</th>\n",
       "      <td>3.0</td>\n",
       "      <td>527038</td>\n",
       "      <td>453286</td>\n",
       "      <td>1.0</td>\n",
       "      <td>2.015001e+09</td>\n",
       "      <td>0.0</td>\n",
       "      <td>Strikeout</td>\n",
       "      <td>was</td>\n",
       "      <td>nyn</td>\n",
       "      <td>0.0</td>\n",
       "      <td>...</td>\n",
       "      <td>0</td>\n",
       "      <td>0</td>\n",
       "      <td>0.51</td>\n",
       "      <td>0.19</td>\n",
       "      <td>0.05</td>\n",
       "      <td>0.06</td>\n",
       "      <td>0.19</td>\n",
       "      <td>0.0</td>\n",
       "      <td>0.007730</td>\n",
       "      <td>2.420953</td>\n",
       "    </tr>\n",
       "    <tr>\n",
       "      <th>2455</th>\n",
       "      <td>3.0</td>\n",
       "      <td>527038</td>\n",
       "      <td>453286</td>\n",
       "      <td>1.0</td>\n",
       "      <td>2.015001e+09</td>\n",
       "      <td>0.0</td>\n",
       "      <td>Strikeout</td>\n",
       "      <td>was</td>\n",
       "      <td>nyn</td>\n",
       "      <td>0.0</td>\n",
       "      <td>...</td>\n",
       "      <td>0</td>\n",
       "      <td>1</td>\n",
       "      <td>0.23</td>\n",
       "      <td>0.54</td>\n",
       "      <td>0.18</td>\n",
       "      <td>0.02</td>\n",
       "      <td>0.03</td>\n",
       "      <td>0.0</td>\n",
       "      <td>0.113485</td>\n",
       "      <td>2.260595</td>\n",
       "    </tr>\n",
       "    <tr>\n",
       "      <th>2496</th>\n",
       "      <td>5.0</td>\n",
       "      <td>502517</td>\n",
       "      <td>453286</td>\n",
       "      <td>1.0</td>\n",
       "      <td>2.015001e+09</td>\n",
       "      <td>1.0</td>\n",
       "      <td>Flyout</td>\n",
       "      <td>was</td>\n",
       "      <td>nyn</td>\n",
       "      <td>0.0</td>\n",
       "      <td>...</td>\n",
       "      <td>0</td>\n",
       "      <td>0</td>\n",
       "      <td>0.46</td>\n",
       "      <td>0.05</td>\n",
       "      <td>0.19</td>\n",
       "      <td>0.29</td>\n",
       "      <td>0.01</td>\n",
       "      <td>0.0</td>\n",
       "      <td>-0.234551</td>\n",
       "      <td>2.645617</td>\n",
       "    </tr>\n",
       "    <tr>\n",
       "      <th>2497</th>\n",
       "      <td>5.0</td>\n",
       "      <td>502517</td>\n",
       "      <td>453286</td>\n",
       "      <td>1.0</td>\n",
       "      <td>2.015001e+09</td>\n",
       "      <td>1.0</td>\n",
       "      <td>Flyout</td>\n",
       "      <td>was</td>\n",
       "      <td>nyn</td>\n",
       "      <td>0.0</td>\n",
       "      <td>...</td>\n",
       "      <td>0</td>\n",
       "      <td>3</td>\n",
       "      <td>0.35</td>\n",
       "      <td>0.13</td>\n",
       "      <td>0.14</td>\n",
       "      <td>0.38</td>\n",
       "      <td>0.00</td>\n",
       "      <td>0.0</td>\n",
       "      <td>-0.170658</td>\n",
       "      <td>2.532033</td>\n",
       "    </tr>\n",
       "  </tbody>\n",
       "</table>\n",
       "<p>5 rows × 60 columns</p>\n",
       "</div>"
      ],
      "text/plain": [
       "      inning  batter_id  pitcher_id  top         ab_id  p_score      event  \\\n",
       "2453     3.0     527038      453286  1.0  2.015001e+09      0.0  Strikeout   \n",
       "2454     3.0     527038      453286  1.0  2.015001e+09      0.0  Strikeout   \n",
       "2455     3.0     527038      453286  1.0  2.015001e+09      0.0  Strikeout   \n",
       "2496     5.0     502517      453286  1.0  2.015001e+09      1.0     Flyout   \n",
       "2497     5.0     502517      453286  1.0  2.015001e+09      1.0     Flyout   \n",
       "\n",
       "     home_team away_team  b_score  ...  Pitch_Type_Num  pitch_pred  FF_prob  \\\n",
       "2453       was       nyn      0.0  ...               0           0     0.57   \n",
       "2454       was       nyn      0.0  ...               0           0     0.51   \n",
       "2455       was       nyn      0.0  ...               0           1     0.23   \n",
       "2496       was       nyn      0.0  ...               0           0     0.46   \n",
       "2497       was       nyn      0.0  ...               0           3     0.35   \n",
       "\n",
       "      SL_prob  CH_prob CU_prob FC_prob  FT_prob   px_pred   pz_pred  \n",
       "2453     0.22     0.01    0.01    0.19      0.0  0.044230  2.523223  \n",
       "2454     0.19     0.05    0.06    0.19      0.0  0.007730  2.420953  \n",
       "2455     0.54     0.18    0.02    0.03      0.0  0.113485  2.260595  \n",
       "2496     0.05     0.19    0.29    0.01      0.0 -0.234551  2.645617  \n",
       "2497     0.13     0.14    0.38    0.00      0.0 -0.170658  2.532033  \n",
       "\n",
       "[5 rows x 60 columns]"
      ]
     },
     "execution_count": 58,
     "metadata": {},
     "output_type": "execute_result"
    }
   ],
   "source": [
    "val_df_full.head()"
   ]
  },
  {
   "cell_type": "markdown",
   "metadata": {},
   "source": [
    "Trying with another pitcher:"
   ]
  },
  {
   "cell_type": "code",
   "execution_count": 59,
   "metadata": {},
   "outputs": [
    {
     "name": "stdout",
     "output_type": "stream",
     "text": [
      "Pitch Modeling for Rick Porcello\n",
      "Here is the coding for last pitch type:\n",
      "{'FT': 0, 'FF': 1, 'CU': 2, 'SL': 3, 'CH': 4, 'EP': 5, 'SI': 6, 'PO': 7}\n"
     ]
    },
    {
     "name": "stderr",
     "output_type": "stream",
     "text": [
      "/Users/patrickbovard/opt/anaconda3/envs/metis/lib/python3.8/site-packages/pandas/core/indexing.py:670: SettingWithCopyWarning: \n",
      "A value is trying to be set on a copy of a slice from a DataFrame\n",
      "\n",
      "See the caveats in the documentation: https://pandas.pydata.org/pandas-docs/stable/user_guide/indexing.html#returning-a-view-versus-a-copy\n",
      "  iloc._setitem_with_indexer(indexer, value)\n"
     ]
    },
    {
     "name": "stdout",
     "output_type": "stream",
     "text": [
      "Here is the coding for pitch type:\n",
      "{'FT': 0, 'FF': 1, 'SL': 2, 'CU': 3, 'CH': 4, 'SI': 5}\n",
      "Actual Test Size: 0.24137595010719157\n",
      "Accuracy: 0.4162293096487687\n",
      "Precision: (0.3111562640689481,)\n",
      "Recall: 0.2734400647117818\n",
      "Random Forest Pitch Classification confusion matrix results:\n",
      "[[541 160  50  23  23   0]\n",
      " [206 335  51  36  18   0]\n",
      " [191 110  73  22  13   0]\n",
      " [141 124  27  43   9   0]\n",
      " [113  77  32  18  39   0]\n",
      " [  0   2   0   0   0   0]]\n",
      "Val Px R^2: 0.014557609052274323\n",
      "Val Px MAE: 0.6486744755969264 ft.\n",
      "Val Pz R^2: 0.06221922446446859\n",
      "Val Pz MAE: 0.7294498061232275 ft.\n"
     ]
    },
    {
     "name": "stderr",
     "output_type": "stream",
     "text": [
      "/Users/patrickbovard/opt/anaconda3/envs/metis/lib/python3.8/site-packages/sklearn/metrics/_classification.py:1245: UndefinedMetricWarning: Precision is ill-defined and being set to 0.0 in labels with no predicted samples. Use `zero_division` parameter to control this behavior.\n",
      "  _warn_prf(average, modifier, msg_start, len(result))\n"
     ]
    }
   ],
   "source": [
    "val_df_full = pitch_prediction_modeling_pipeline('Rick Porcello', pitch_df, split_size = 0.2)"
   ]
  },
  {
   "cell_type": "code",
   "execution_count": 60,
   "metadata": {},
   "outputs": [
    {
     "data": {
      "text/html": [
       "<div>\n",
       "<style scoped>\n",
       "    .dataframe tbody tr th:only-of-type {\n",
       "        vertical-align: middle;\n",
       "    }\n",
       "\n",
       "    .dataframe tbody tr th {\n",
       "        vertical-align: top;\n",
       "    }\n",
       "\n",
       "    .dataframe thead th {\n",
       "        text-align: right;\n",
       "    }\n",
       "</style>\n",
       "<table border=\"1\" class=\"dataframe\">\n",
       "  <thead>\n",
       "    <tr style=\"text-align: right;\">\n",
       "      <th></th>\n",
       "      <th>inning</th>\n",
       "      <th>batter_id</th>\n",
       "      <th>pitcher_id</th>\n",
       "      <th>top</th>\n",
       "      <th>ab_id</th>\n",
       "      <th>p_score</th>\n",
       "      <th>event</th>\n",
       "      <th>home_team</th>\n",
       "      <th>away_team</th>\n",
       "      <th>b_score</th>\n",
       "      <th>...</th>\n",
       "      <th>Pitch_Type_Num</th>\n",
       "      <th>pitch_pred</th>\n",
       "      <th>FT_prob</th>\n",
       "      <th>FF_prob</th>\n",
       "      <th>SL_prob</th>\n",
       "      <th>CU_prob</th>\n",
       "      <th>CH_prob</th>\n",
       "      <th>SI_prob</th>\n",
       "      <th>px_pred</th>\n",
       "      <th>pz_pred</th>\n",
       "    </tr>\n",
       "  </thead>\n",
       "  <tbody>\n",
       "    <tr>\n",
       "      <th>6895</th>\n",
       "      <td>2.0</td>\n",
       "      <td>425796</td>\n",
       "      <td>519144</td>\n",
       "      <td>0.0</td>\n",
       "      <td>2.015002e+09</td>\n",
       "      <td>0.0</td>\n",
       "      <td>Single</td>\n",
       "      <td>phi</td>\n",
       "      <td>bos</td>\n",
       "      <td>0.0</td>\n",
       "      <td>...</td>\n",
       "      <td>1</td>\n",
       "      <td>0</td>\n",
       "      <td>0.59</td>\n",
       "      <td>0.14</td>\n",
       "      <td>0.16</td>\n",
       "      <td>0.06</td>\n",
       "      <td>0.05</td>\n",
       "      <td>0.0</td>\n",
       "      <td>-0.353588</td>\n",
       "      <td>2.236790</td>\n",
       "    </tr>\n",
       "    <tr>\n",
       "      <th>6896</th>\n",
       "      <td>2.0</td>\n",
       "      <td>425796</td>\n",
       "      <td>519144</td>\n",
       "      <td>0.0</td>\n",
       "      <td>2.015002e+09</td>\n",
       "      <td>0.0</td>\n",
       "      <td>Single</td>\n",
       "      <td>phi</td>\n",
       "      <td>bos</td>\n",
       "      <td>0.0</td>\n",
       "      <td>...</td>\n",
       "      <td>0</td>\n",
       "      <td>0</td>\n",
       "      <td>0.52</td>\n",
       "      <td>0.10</td>\n",
       "      <td>0.20</td>\n",
       "      <td>0.14</td>\n",
       "      <td>0.04</td>\n",
       "      <td>0.0</td>\n",
       "      <td>-0.205796</td>\n",
       "      <td>2.447072</td>\n",
       "    </tr>\n",
       "    <tr>\n",
       "      <th>6897</th>\n",
       "      <td>2.0</td>\n",
       "      <td>520471</td>\n",
       "      <td>519144</td>\n",
       "      <td>0.0</td>\n",
       "      <td>2.015002e+09</td>\n",
       "      <td>0.0</td>\n",
       "      <td>Groundout</td>\n",
       "      <td>phi</td>\n",
       "      <td>bos</td>\n",
       "      <td>0.0</td>\n",
       "      <td>...</td>\n",
       "      <td>0</td>\n",
       "      <td>0</td>\n",
       "      <td>0.71</td>\n",
       "      <td>0.10</td>\n",
       "      <td>0.02</td>\n",
       "      <td>0.09</td>\n",
       "      <td>0.08</td>\n",
       "      <td>0.0</td>\n",
       "      <td>-0.536513</td>\n",
       "      <td>2.564916</td>\n",
       "    </tr>\n",
       "    <tr>\n",
       "      <th>6898</th>\n",
       "      <td>2.0</td>\n",
       "      <td>520471</td>\n",
       "      <td>519144</td>\n",
       "      <td>0.0</td>\n",
       "      <td>2.015002e+09</td>\n",
       "      <td>0.0</td>\n",
       "      <td>Groundout</td>\n",
       "      <td>phi</td>\n",
       "      <td>bos</td>\n",
       "      <td>0.0</td>\n",
       "      <td>...</td>\n",
       "      <td>0</td>\n",
       "      <td>0</td>\n",
       "      <td>0.39</td>\n",
       "      <td>0.06</td>\n",
       "      <td>0.18</td>\n",
       "      <td>0.23</td>\n",
       "      <td>0.14</td>\n",
       "      <td>0.0</td>\n",
       "      <td>-0.456235</td>\n",
       "      <td>2.618067</td>\n",
       "    </tr>\n",
       "    <tr>\n",
       "      <th>6899</th>\n",
       "      <td>2.0</td>\n",
       "      <td>520471</td>\n",
       "      <td>519144</td>\n",
       "      <td>0.0</td>\n",
       "      <td>2.015002e+09</td>\n",
       "      <td>0.0</td>\n",
       "      <td>Groundout</td>\n",
       "      <td>phi</td>\n",
       "      <td>bos</td>\n",
       "      <td>0.0</td>\n",
       "      <td>...</td>\n",
       "      <td>0</td>\n",
       "      <td>0</td>\n",
       "      <td>0.33</td>\n",
       "      <td>0.12</td>\n",
       "      <td>0.20</td>\n",
       "      <td>0.16</td>\n",
       "      <td>0.19</td>\n",
       "      <td>0.0</td>\n",
       "      <td>-0.516097</td>\n",
       "      <td>2.522265</td>\n",
       "    </tr>\n",
       "  </tbody>\n",
       "</table>\n",
       "<p>5 rows × 60 columns</p>\n",
       "</div>"
      ],
      "text/plain": [
       "      inning  batter_id  pitcher_id  top         ab_id  p_score      event  \\\n",
       "6895     2.0     425796      519144  0.0  2.015002e+09      0.0     Single   \n",
       "6896     2.0     425796      519144  0.0  2.015002e+09      0.0     Single   \n",
       "6897     2.0     520471      519144  0.0  2.015002e+09      0.0  Groundout   \n",
       "6898     2.0     520471      519144  0.0  2.015002e+09      0.0  Groundout   \n",
       "6899     2.0     520471      519144  0.0  2.015002e+09      0.0  Groundout   \n",
       "\n",
       "     home_team away_team  b_score  ...  Pitch_Type_Num  pitch_pred  FT_prob  \\\n",
       "6895       phi       bos      0.0  ...               1           0     0.59   \n",
       "6896       phi       bos      0.0  ...               0           0     0.52   \n",
       "6897       phi       bos      0.0  ...               0           0     0.71   \n",
       "6898       phi       bos      0.0  ...               0           0     0.39   \n",
       "6899       phi       bos      0.0  ...               0           0     0.33   \n",
       "\n",
       "      FF_prob  SL_prob CU_prob CH_prob  SI_prob   px_pred   pz_pred  \n",
       "6895     0.14     0.16    0.06    0.05      0.0 -0.353588  2.236790  \n",
       "6896     0.10     0.20    0.14    0.04      0.0 -0.205796  2.447072  \n",
       "6897     0.10     0.02    0.09    0.08      0.0 -0.536513  2.564916  \n",
       "6898     0.06     0.18    0.23    0.14      0.0 -0.456235  2.618067  \n",
       "6899     0.12     0.20    0.16    0.19      0.0 -0.516097  2.522265  \n",
       "\n",
       "[5 rows x 60 columns]"
      ]
     },
     "execution_count": 60,
     "metadata": {},
     "output_type": "execute_result"
    }
   ],
   "source": [
    "val_df_full.head()"
   ]
  },
  {
   "cell_type": "code",
   "execution_count": null,
   "metadata": {},
   "outputs": [],
   "source": []
  },
  {
   "cell_type": "code",
   "execution_count": null,
   "metadata": {},
   "outputs": [],
   "source": []
  },
  {
   "cell_type": "markdown",
   "metadata": {},
   "source": [
    "Testing out for the first 25 pitchers to get a sense for computational cost:"
   ]
  },
  {
   "cell_type": "code",
   "execution_count": 61,
   "metadata": {},
   "outputs": [],
   "source": [
    "pitcher_list = pitch_df.pitcher_full_name.value_counts().head(10).index"
   ]
  },
  {
   "cell_type": "code",
   "execution_count": 62,
   "metadata": {
    "scrolled": true
   },
   "outputs": [
    {
     "name": "stdout",
     "output_type": "stream",
     "text": [
      "Pitch Modeling for Max Scherzer\n",
      "Here is the coding for last pitch type:\n",
      "{'FF': 0, 'SL': 1, 'CH': 2, 'CU': 3, 'FC': 4, 'FT': 5, 'UN': 6}\n"
     ]
    },
    {
     "name": "stderr",
     "output_type": "stream",
     "text": [
      "/Users/patrickbovard/opt/anaconda3/envs/metis/lib/python3.8/site-packages/pandas/core/indexing.py:670: SettingWithCopyWarning: \n",
      "A value is trying to be set on a copy of a slice from a DataFrame\n",
      "\n",
      "See the caveats in the documentation: https://pandas.pydata.org/pandas-docs/stable/user_guide/indexing.html#returning-a-view-versus-a-copy\n",
      "  iloc._setitem_with_indexer(indexer, value)\n"
     ]
    },
    {
     "name": "stdout",
     "output_type": "stream",
     "text": [
      "Here is the coding for pitch type:\n",
      "{'FF': 0, 'SL': 1, 'CH': 2, 'CU': 3, 'FC': 4, 'FT': 5}\n",
      "Actual Test Size: 0.24353704211199415\n",
      "Accuracy: 0.5183795948987246\n",
      "Precision: (0.342726904843907,)\n",
      "Recall: 0.2262029733328285\n",
      "Random Forest Pitch Classification confusion matrix results:\n",
      "[[1203  120   43   14   17    0]\n",
      " [ 367  133    8    4    0    1]\n",
      " [ 316   19   29    5    7    1]\n",
      " [ 198    6    9    4    5    0]\n",
      " [ 110    2   13    2   12    0]\n",
      " [  10    6    1    0    0    1]]\n",
      "Val Px R^2: 0.06153724557577367\n",
      "Val Px MAE: 0.6802779498197136 ft.\n",
      "Val Pz R^2: 0.1476924443892782\n",
      "Val Pz MAE: 0.6239005089910424 ft.\n",
      "\n",
      "\n",
      "\n",
      "\n",
      "Pitch Modeling for Chris Sale\n",
      "Here is the coding for last pitch type:\n",
      "{'FT': 0, 'SL': 1, 'CH': 2, 'FF': 3, 'FA': 4}\n"
     ]
    },
    {
     "name": "stderr",
     "output_type": "stream",
     "text": [
      "/Users/patrickbovard/opt/anaconda3/envs/metis/lib/python3.8/site-packages/pandas/core/indexing.py:670: SettingWithCopyWarning: \n",
      "A value is trying to be set on a copy of a slice from a DataFrame\n",
      "\n",
      "See the caveats in the documentation: https://pandas.pydata.org/pandas-docs/stable/user_guide/indexing.html#returning-a-view-versus-a-copy\n",
      "  iloc._setitem_with_indexer(indexer, value)\n"
     ]
    },
    {
     "name": "stdout",
     "output_type": "stream",
     "text": [
      "Here is the coding for pitch type:\n",
      "{'FT': 0, 'SL': 1, 'CH': 2, 'FF': 3, 'FS': 4}\n",
      "Actual Test Size: 0.24533083059596433\n",
      "Accuracy: 0.486610558530987\n",
      "Precision: (0.46151852003132376,)\n",
      "Recall: 0.4670491413718008\n",
      "Random Forest Pitch Classification confusion matrix results:\n",
      "[[632  93 107  29]\n",
      " [229 237  64 211]\n",
      " [235  72 148  85]\n",
      " [ 20 166  31 255]]\n",
      "Val Px R^2: 0.023095089199271168\n",
      "Val Px MAE: 0.6843916309697382 ft.\n",
      "Val Pz R^2: 0.014973378131042825\n",
      "Val Pz MAE: 0.6707055464911662 ft.\n",
      "\n",
      "\n",
      "\n",
      "\n",
      "Pitch Modeling for Justin Verlander\n",
      "Here is the coding for last pitch type:\n",
      "{'FF': 0, 'SL': 1, 'CU': 2, 'CH': 3, 'FC': 4, 'FT': 5, 'PO': 6}\n"
     ]
    },
    {
     "name": "stderr",
     "output_type": "stream",
     "text": [
      "/Users/patrickbovard/opt/anaconda3/envs/metis/lib/python3.8/site-packages/pandas/core/indexing.py:670: SettingWithCopyWarning: \n",
      "A value is trying to be set on a copy of a slice from a DataFrame\n",
      "\n",
      "See the caveats in the documentation: https://pandas.pydata.org/pandas-docs/stable/user_guide/indexing.html#returning-a-view-versus-a-copy\n",
      "  iloc._setitem_with_indexer(indexer, value)\n"
     ]
    },
    {
     "name": "stdout",
     "output_type": "stream",
     "text": [
      "Here is the coding for pitch type:\n",
      "{'FF': 0, 'SL': 1, 'CU': 2, 'CH': 3, 'FC': 4, 'FT': 5}\n",
      "Actual Test Size: 0.2518304431599229\n"
     ]
    },
    {
     "name": "stderr",
     "output_type": "stream",
     "text": [
      "/Users/patrickbovard/opt/anaconda3/envs/metis/lib/python3.8/site-packages/sklearn/metrics/_classification.py:1245: UndefinedMetricWarning: Precision is ill-defined and being set to 0.0 in labels with no predicted samples. Use `zero_division` parameter to control this behavior.\n",
      "  _warn_prf(average, modifier, msg_start, len(result))\n"
     ]
    },
    {
     "name": "stdout",
     "output_type": "stream",
     "text": [
      "Accuracy: 0.6009946442234124\n",
      "Precision: (0.2864531353958749,)\n",
      "Recall: 0.19936569335504417\n",
      "Random Forest Pitch Classification confusion matrix results:\n",
      "[[1449   57   36    0    0    0]\n",
      " [ 411   91   12    0    0    0]\n",
      " [ 347   38   30    3    0    0]\n",
      " [ 121    6    2    1    0    0]\n",
      " [   9    0    0    0    0    0]\n",
      " [   1    0    0    0    0    0]]\n",
      "Val Px R^2: 0.08661369514665618\n",
      "Val Px MAE: 0.6161545213994422 ft.\n",
      "Val Pz R^2: 0.17335400989189187\n",
      "Val Pz MAE: 0.6829630040791395 ft.\n",
      "\n",
      "\n",
      "\n",
      "\n",
      "Pitch Modeling for Jose Quintana\n",
      "Here is the coding for last pitch type:\n",
      "{'FF': 0, 'CU': 1, 'SI': 2, 'CH': 3, 'FT': 4, 'PO': 5, 'UN': 6, 'FA': 7}\n"
     ]
    },
    {
     "name": "stderr",
     "output_type": "stream",
     "text": [
      "/Users/patrickbovard/opt/anaconda3/envs/metis/lib/python3.8/site-packages/pandas/core/indexing.py:670: SettingWithCopyWarning: \n",
      "A value is trying to be set on a copy of a slice from a DataFrame\n",
      "\n",
      "See the caveats in the documentation: https://pandas.pydata.org/pandas-docs/stable/user_guide/indexing.html#returning-a-view-versus-a-copy\n",
      "  iloc._setitem_with_indexer(indexer, value)\n"
     ]
    },
    {
     "name": "stdout",
     "output_type": "stream",
     "text": [
      "Here is the coding for pitch type:\n",
      "{'FF': 0, 'CU': 1, 'SI': 2, 'CH': 3, 'FT': 4}\n",
      "Actual Test Size: 0.2551168881559802\n",
      "Accuracy: 0.48136882129277564\n",
      "Precision: (0.3498715095335006,)\n",
      "Recall: 0.3087461631797343\n",
      "Random Forest Pitch Classification confusion matrix results:\n",
      "[[954 204  60   6  36]\n",
      " [420 182  57   9  24]\n",
      " [127  42 100   2   0]\n",
      " [145  44  18   3   5]\n",
      " [121  42   0   2  27]]\n",
      "Val Px R^2: -0.03062325274769706\n",
      "Val Px MAE: 0.6625562392018111 ft.\n",
      "Val Pz R^2: 0.028746998411795177\n",
      "Val Pz MAE: 0.7309372245348111 ft.\n",
      "\n",
      "\n",
      "\n",
      "\n",
      "Pitch Modeling for Chris Archer\n",
      "Here is the coding for last pitch type:\n",
      "{'FF': 0, 'SL': 1, 'CH': 2, 'FT': 3, 'CU': 4, 'PO': 5}\n"
     ]
    },
    {
     "name": "stderr",
     "output_type": "stream",
     "text": [
      "/Users/patrickbovard/opt/anaconda3/envs/metis/lib/python3.8/site-packages/pandas/core/indexing.py:670: SettingWithCopyWarning: \n",
      "A value is trying to be set on a copy of a slice from a DataFrame\n",
      "\n",
      "See the caveats in the documentation: https://pandas.pydata.org/pandas-docs/stable/user_guide/indexing.html#returning-a-view-versus-a-copy\n",
      "  iloc._setitem_with_indexer(indexer, value)\n"
     ]
    },
    {
     "name": "stdout",
     "output_type": "stream",
     "text": [
      "Here is the coding for pitch type:\n",
      "{'FF': 0, 'SL': 1, 'CH': 2, 'FT': 3, 'CU': 4}\n",
      "Actual Test Size: 0.255042802322149\n",
      "Accuracy: 0.5883487654320988\n",
      "Precision: (0.5163901537645826,)\n",
      "Recall: 0.36970086516365164\n",
      "Random Forest Pitch Classification confusion matrix results:\n",
      "[[855 352  14   7   1]\n",
      " [433 630  10  11   0]\n",
      " [145  55  24   3   0]\n",
      " [  9  19   1  15   0]\n",
      " [  4   2   0   1   1]]\n",
      "Val Px R^2: 0.17566407421103236\n",
      "Val Px MAE: 0.5668685464726025 ft.\n",
      "Val Pz R^2: 0.10881452114566903\n",
      "Val Pz MAE: 0.7859658427984146 ft.\n",
      "\n",
      "\n",
      "\n",
      "\n",
      "Pitch Modeling for Rick Porcello\n",
      "Here is the coding for last pitch type:\n",
      "{'FT': 0, 'FF': 1, 'CU': 2, 'SL': 3, 'CH': 4, 'EP': 5, 'SI': 6, 'PO': 7}\n"
     ]
    },
    {
     "name": "stderr",
     "output_type": "stream",
     "text": [
      "/Users/patrickbovard/opt/anaconda3/envs/metis/lib/python3.8/site-packages/pandas/core/indexing.py:670: SettingWithCopyWarning: \n",
      "A value is trying to be set on a copy of a slice from a DataFrame\n",
      "\n",
      "See the caveats in the documentation: https://pandas.pydata.org/pandas-docs/stable/user_guide/indexing.html#returning-a-view-versus-a-copy\n",
      "  iloc._setitem_with_indexer(indexer, value)\n"
     ]
    },
    {
     "name": "stdout",
     "output_type": "stream",
     "text": [
      "Here is the coding for pitch type:\n",
      "{'FT': 0, 'FF': 1, 'SL': 2, 'CU': 3, 'CH': 4, 'SI': 5}\n",
      "Actual Test Size: 0.24137595010719157\n"
     ]
    },
    {
     "name": "stderr",
     "output_type": "stream",
     "text": [
      "/Users/patrickbovard/opt/anaconda3/envs/metis/lib/python3.8/site-packages/sklearn/metrics/_classification.py:1245: UndefinedMetricWarning: Precision is ill-defined and being set to 0.0 in labels with no predicted samples. Use `zero_division` parameter to control this behavior.\n",
      "  _warn_prf(average, modifier, msg_start, len(result))\n"
     ]
    },
    {
     "name": "stdout",
     "output_type": "stream",
     "text": [
      "Accuracy: 0.41017359709325796\n",
      "Precision: (0.2996594773435209,)\n",
      "Recall: 0.26892607394418105\n",
      "Random Forest Pitch Classification confusion matrix results:\n",
      "[[545 141  63  27  21   0]\n",
      " [224 319  43  37  23   0]\n",
      " [188 113  70  17  21   0]\n",
      " [153 109  26  43  13   0]\n",
      " [108  79  36  17  39   0]\n",
      " [  0   2   0   0   0   0]]\n",
      "Val Px R^2: 0.018716112611301572\n",
      "Val Px MAE: 0.6471149573265069 ft.\n",
      "Val Pz R^2: 0.06373489859765347\n",
      "Val Pz MAE: 0.7289494810786988 ft.\n",
      "\n",
      "\n",
      "\n",
      "\n",
      "Pitch Modeling for Jon Lester\n",
      "Here is the coding for last pitch type:\n",
      "{'FF': 0, 'FC': 1, 'CU': 2, 'SI': 3, 'CH': 4, 'PO': 5}\n"
     ]
    },
    {
     "name": "stderr",
     "output_type": "stream",
     "text": [
      "/Users/patrickbovard/opt/anaconda3/envs/metis/lib/python3.8/site-packages/pandas/core/indexing.py:670: SettingWithCopyWarning: \n",
      "A value is trying to be set on a copy of a slice from a DataFrame\n",
      "\n",
      "See the caveats in the documentation: https://pandas.pydata.org/pandas-docs/stable/user_guide/indexing.html#returning-a-view-versus-a-copy\n",
      "  iloc._setitem_with_indexer(indexer, value)\n"
     ]
    },
    {
     "name": "stdout",
     "output_type": "stream",
     "text": [
      "Here is the coding for pitch type:\n",
      "{'FF': 0, 'FC': 1, 'CU': 2, 'SI': 3, 'CH': 4}\n",
      "Actual Test Size: 0.25269461077844313\n",
      "Accuracy: 0.4640600315955766\n",
      "Precision: (0.2695997172636402,)\n",
      "Recall: 0.24171678618169187\n",
      "Random Forest Pitch Classification confusion matrix results:\n",
      "[[990 134  41  11   3]\n",
      " [407 150  30  10   1]\n",
      " [257  59  24   5   2]\n",
      " [174  35   4  11   1]\n",
      " [130  41   6   6   0]]\n",
      "Val Px R^2: 0.07352767878561417\n",
      "Val Px MAE: 0.7153903679259673 ft.\n",
      "Val Pz R^2: 0.16208339916356196\n",
      "Val Pz MAE: 0.6037630627963091 ft.\n",
      "\n",
      "\n",
      "\n",
      "\n",
      "Pitch Modeling for Corey Kluber\n",
      "Here is the coding for last pitch type:\n",
      "{'SI': 0, 'CU': 1, 'FF': 2, 'SL': 3, 'FC': 4, 'CH': 5, 'PO': 6}\n"
     ]
    },
    {
     "name": "stderr",
     "output_type": "stream",
     "text": [
      "/Users/patrickbovard/opt/anaconda3/envs/metis/lib/python3.8/site-packages/pandas/core/indexing.py:670: SettingWithCopyWarning: \n",
      "A value is trying to be set on a copy of a slice from a DataFrame\n",
      "\n",
      "See the caveats in the documentation: https://pandas.pydata.org/pandas-docs/stable/user_guide/indexing.html#returning-a-view-versus-a-copy\n",
      "  iloc._setitem_with_indexer(indexer, value)\n"
     ]
    },
    {
     "name": "stdout",
     "output_type": "stream",
     "text": [
      "Here is the coding for pitch type:\n",
      "{'SI': 0, 'CU': 1, 'FF': 2, 'SL': 3, 'FC': 4, 'CH': 5}\n",
      "Actual Test Size: 0.2488986784140969\n",
      "Accuracy: 0.37530168946098147\n",
      "Precision: (0.338991759191259,)\n",
      "Recall: 0.3089662405928412\n",
      "Random Forest Pitch Classification confusion matrix results:\n",
      "[[440 122  60  82  71  10]\n",
      " [201 183  37  52  56   4]\n",
      " [153  68  72  66  32   3]\n",
      " [152  23  36 103   0   1]\n",
      " [135  45   9   0 130   3]\n",
      " [ 59  22  10  22  19   5]]\n",
      "Val Px R^2: 0.11318535310347666\n",
      "Val Px MAE: 0.6469497392179319 ft.\n",
      "Val Pz R^2: 0.037226938438072565\n",
      "Val Pz MAE: 0.6934128696593213 ft.\n",
      "\n",
      "\n",
      "\n",
      "\n",
      "Pitch Modeling for Gio Gonzalez\n",
      "Here is the coding for last pitch type:\n",
      "{'FF': 0, 'FT': 1, 'CU': 2, 'CH': 3, 'UN': 4}\n"
     ]
    },
    {
     "name": "stderr",
     "output_type": "stream",
     "text": [
      "/Users/patrickbovard/opt/anaconda3/envs/metis/lib/python3.8/site-packages/pandas/core/indexing.py:670: SettingWithCopyWarning: \n",
      "A value is trying to be set on a copy of a slice from a DataFrame\n",
      "\n",
      "See the caveats in the documentation: https://pandas.pydata.org/pandas-docs/stable/user_guide/indexing.html#returning-a-view-versus-a-copy\n",
      "  iloc._setitem_with_indexer(indexer, value)\n"
     ]
    },
    {
     "name": "stdout",
     "output_type": "stream",
     "text": [
      "Here is the coding for pitch type:\n",
      "{'FF': 0, 'FT': 1, 'CU': 2, 'CH': 3}\n",
      "Actual Test Size: 0.24769076305220883\n",
      "Accuracy: 0.40413457640859346\n",
      "Precision: (0.3783593371958611,)\n",
      "Recall: 0.36264521059654153\n",
      "Random Forest Pitch Classification confusion matrix results:\n",
      "[[513 130 101  49]\n",
      " [268 302  59  72]\n",
      " [254 106 102  45]\n",
      " [192 145  49  80]]\n",
      "Val Px R^2: 0.0772145426681915\n",
      "Val Px MAE: 0.6798956565932708 ft.\n",
      "Val Pz R^2: 0.21765718544311008\n",
      "Val Pz MAE: 0.673657193883049 ft.\n",
      "\n",
      "\n",
      "\n",
      "\n",
      "Pitch Modeling for Julio Teheran\n",
      "Here is the coding for last pitch type:\n",
      "{'FF': 0, 'SL': 1, 'FT': 2, 'CU': 3, 'CH': 4, 'PO': 5, 'UN': 6}\n"
     ]
    },
    {
     "name": "stderr",
     "output_type": "stream",
     "text": [
      "/Users/patrickbovard/opt/anaconda3/envs/metis/lib/python3.8/site-packages/pandas/core/indexing.py:670: SettingWithCopyWarning: \n",
      "A value is trying to be set on a copy of a slice from a DataFrame\n",
      "\n",
      "See the caveats in the documentation: https://pandas.pydata.org/pandas-docs/stable/user_guide/indexing.html#returning-a-view-versus-a-copy\n",
      "  iloc._setitem_with_indexer(indexer, value)\n"
     ]
    },
    {
     "name": "stdout",
     "output_type": "stream",
     "text": [
      "Here is the coding for pitch type:\n",
      "{'FF': 0, 'SL': 1, 'FT': 2, 'CH': 3, 'CU': 4}\n",
      "Actual Test Size: 0.24703943981052415\n",
      "Accuracy: 0.4385160483534806\n",
      "Precision: (0.34920271722256707,)\n",
      "Recall: 0.2835705570381501\n",
      "Random Forest Pitch Classification confusion matrix results:\n",
      "[[780 122  74  20  16]\n",
      " [363 122  52   4   4]\n",
      " [225  54 120  11  19]\n",
      " [139  20  33  20   3]\n",
      " [145  15  19   9  10]]\n",
      "Val Px R^2: 0.12132717416734273\n",
      "Val Px MAE: 0.6897067036832362 ft.\n",
      "Val Pz R^2: 0.10378567401374617\n",
      "Val Pz MAE: 0.6779873784021134 ft.\n",
      "\n",
      "\n",
      "\n",
      "\n"
     ]
    }
   ],
   "source": [
    "output_df = multiple_pitcher_predictions(pitcher_list, pitch_df, split_size = 0.2)"
   ]
  },
  {
   "cell_type": "markdown",
   "metadata": {},
   "source": [
    "Based on my stopwatch, it took ~5 mins to run for 25 pitchers, so it is not terribly expensive to model on a per pitcher basis."
   ]
  },
  {
   "cell_type": "markdown",
   "metadata": {},
   "source": [
    "Overall at this time, I'm not as concerned with pitch location R^2 as I am pitch type.  The rationale is that incorrect predictions of pitch type have a large factor on the location, so a wrong pitch type doesn't really matter since different pitches are thrown in different locations (or are meant to be).  \n",
    "\n",
    "The pitch location also does not need to be exact for my use case.  Telling a hitter \"expect a fastball at coordinate 1.23, 2.54\" won't give them good info - in real life, saying \"expect a fastball high and inside\" is typically what would be needed."
   ]
  },
  {
   "cell_type": "code",
   "execution_count": 63,
   "metadata": {},
   "outputs": [
    {
     "data": {
      "text/html": [
       "<div>\n",
       "<style scoped>\n",
       "    .dataframe tbody tr th:only-of-type {\n",
       "        vertical-align: middle;\n",
       "    }\n",
       "\n",
       "    .dataframe tbody tr th {\n",
       "        vertical-align: top;\n",
       "    }\n",
       "\n",
       "    .dataframe thead th {\n",
       "        text-align: right;\n",
       "    }\n",
       "</style>\n",
       "<table border=\"1\" class=\"dataframe\">\n",
       "  <thead>\n",
       "    <tr style=\"text-align: right;\">\n",
       "      <th></th>\n",
       "      <th>inning</th>\n",
       "      <th>batter_id</th>\n",
       "      <th>pitcher_id</th>\n",
       "      <th>top</th>\n",
       "      <th>ab_id</th>\n",
       "      <th>p_score</th>\n",
       "      <th>event</th>\n",
       "      <th>home_team</th>\n",
       "      <th>away_team</th>\n",
       "      <th>b_score</th>\n",
       "      <th>...</th>\n",
       "      <th>pitch_pred</th>\n",
       "      <th>FF_prob</th>\n",
       "      <th>SL_prob</th>\n",
       "      <th>CH_prob</th>\n",
       "      <th>CU_prob</th>\n",
       "      <th>FC_prob</th>\n",
       "      <th>FT_prob</th>\n",
       "      <th>px_pred</th>\n",
       "      <th>pz_pred</th>\n",
       "      <th>SI_prob</th>\n",
       "    </tr>\n",
       "  </thead>\n",
       "  <tbody>\n",
       "    <tr>\n",
       "      <th>2453</th>\n",
       "      <td>3.0</td>\n",
       "      <td>527038</td>\n",
       "      <td>453286</td>\n",
       "      <td>1.0</td>\n",
       "      <td>2.015001e+09</td>\n",
       "      <td>0.0</td>\n",
       "      <td>Strikeout</td>\n",
       "      <td>was</td>\n",
       "      <td>nyn</td>\n",
       "      <td>0.0</td>\n",
       "      <td>...</td>\n",
       "      <td>0</td>\n",
       "      <td>0.59</td>\n",
       "      <td>0.21</td>\n",
       "      <td>0.03</td>\n",
       "      <td>0.01</td>\n",
       "      <td>0.16</td>\n",
       "      <td>0.0</td>\n",
       "      <td>0.044230</td>\n",
       "      <td>2.523223</td>\n",
       "      <td>NaN</td>\n",
       "    </tr>\n",
       "    <tr>\n",
       "      <th>2454</th>\n",
       "      <td>3.0</td>\n",
       "      <td>527038</td>\n",
       "      <td>453286</td>\n",
       "      <td>1.0</td>\n",
       "      <td>2.015001e+09</td>\n",
       "      <td>0.0</td>\n",
       "      <td>Strikeout</td>\n",
       "      <td>was</td>\n",
       "      <td>nyn</td>\n",
       "      <td>0.0</td>\n",
       "      <td>...</td>\n",
       "      <td>0</td>\n",
       "      <td>0.47</td>\n",
       "      <td>0.21</td>\n",
       "      <td>0.04</td>\n",
       "      <td>0.06</td>\n",
       "      <td>0.22</td>\n",
       "      <td>0.0</td>\n",
       "      <td>0.007730</td>\n",
       "      <td>2.420953</td>\n",
       "      <td>NaN</td>\n",
       "    </tr>\n",
       "    <tr>\n",
       "      <th>2455</th>\n",
       "      <td>3.0</td>\n",
       "      <td>527038</td>\n",
       "      <td>453286</td>\n",
       "      <td>1.0</td>\n",
       "      <td>2.015001e+09</td>\n",
       "      <td>0.0</td>\n",
       "      <td>Strikeout</td>\n",
       "      <td>was</td>\n",
       "      <td>nyn</td>\n",
       "      <td>0.0</td>\n",
       "      <td>...</td>\n",
       "      <td>1</td>\n",
       "      <td>0.23</td>\n",
       "      <td>0.55</td>\n",
       "      <td>0.14</td>\n",
       "      <td>0.03</td>\n",
       "      <td>0.05</td>\n",
       "      <td>0.0</td>\n",
       "      <td>0.113485</td>\n",
       "      <td>2.260595</td>\n",
       "      <td>NaN</td>\n",
       "    </tr>\n",
       "    <tr>\n",
       "      <th>2496</th>\n",
       "      <td>5.0</td>\n",
       "      <td>502517</td>\n",
       "      <td>453286</td>\n",
       "      <td>1.0</td>\n",
       "      <td>2.015001e+09</td>\n",
       "      <td>1.0</td>\n",
       "      <td>Flyout</td>\n",
       "      <td>was</td>\n",
       "      <td>nyn</td>\n",
       "      <td>0.0</td>\n",
       "      <td>...</td>\n",
       "      <td>0</td>\n",
       "      <td>0.57</td>\n",
       "      <td>0.10</td>\n",
       "      <td>0.10</td>\n",
       "      <td>0.23</td>\n",
       "      <td>0.00</td>\n",
       "      <td>0.0</td>\n",
       "      <td>-0.234551</td>\n",
       "      <td>2.645617</td>\n",
       "      <td>NaN</td>\n",
       "    </tr>\n",
       "    <tr>\n",
       "      <th>2497</th>\n",
       "      <td>5.0</td>\n",
       "      <td>502517</td>\n",
       "      <td>453286</td>\n",
       "      <td>1.0</td>\n",
       "      <td>2.015001e+09</td>\n",
       "      <td>1.0</td>\n",
       "      <td>Flyout</td>\n",
       "      <td>was</td>\n",
       "      <td>nyn</td>\n",
       "      <td>0.0</td>\n",
       "      <td>...</td>\n",
       "      <td>0</td>\n",
       "      <td>0.37</td>\n",
       "      <td>0.18</td>\n",
       "      <td>0.20</td>\n",
       "      <td>0.23</td>\n",
       "      <td>0.02</td>\n",
       "      <td>0.0</td>\n",
       "      <td>-0.328774</td>\n",
       "      <td>2.583225</td>\n",
       "      <td>NaN</td>\n",
       "    </tr>\n",
       "  </tbody>\n",
       "</table>\n",
       "<p>5 rows × 61 columns</p>\n",
       "</div>"
      ],
      "text/plain": [
       "      inning batter_id pitcher_id  top         ab_id  p_score      event  \\\n",
       "2453     3.0    527038     453286  1.0  2.015001e+09      0.0  Strikeout   \n",
       "2454     3.0    527038     453286  1.0  2.015001e+09      0.0  Strikeout   \n",
       "2455     3.0    527038     453286  1.0  2.015001e+09      0.0  Strikeout   \n",
       "2496     5.0    502517     453286  1.0  2.015001e+09      1.0     Flyout   \n",
       "2497     5.0    502517     453286  1.0  2.015001e+09      1.0     Flyout   \n",
       "\n",
       "     home_team away_team  b_score  ...  pitch_pred  FF_prob  SL_prob  CH_prob  \\\n",
       "2453       was       nyn      0.0  ...           0     0.59     0.21     0.03   \n",
       "2454       was       nyn      0.0  ...           0     0.47     0.21     0.04   \n",
       "2455       was       nyn      0.0  ...           1     0.23     0.55     0.14   \n",
       "2496       was       nyn      0.0  ...           0     0.57     0.10     0.10   \n",
       "2497       was       nyn      0.0  ...           0     0.37     0.18     0.20   \n",
       "\n",
       "      CU_prob FC_prob FT_prob   px_pred   pz_pred  SI_prob  \n",
       "2453     0.01    0.16     0.0  0.044230  2.523223      NaN  \n",
       "2454     0.06    0.22     0.0  0.007730  2.420953      NaN  \n",
       "2455     0.03    0.05     0.0  0.113485  2.260595      NaN  \n",
       "2496     0.23    0.00     0.0 -0.234551  2.645617      NaN  \n",
       "2497     0.23    0.02     0.0 -0.328774  2.583225      NaN  \n",
       "\n",
       "[5 rows x 61 columns]"
      ]
     },
     "execution_count": 63,
     "metadata": {},
     "output_type": "execute_result"
    }
   ],
   "source": [
    "output_df.head()"
   ]
  },
  {
   "cell_type": "markdown",
   "metadata": {},
   "source": [
    "### XGBoost Classifier:"
   ]
  },
  {
   "cell_type": "markdown",
   "metadata": {},
   "source": [
    "In order to compare, I will be now running the workflow with XGBoost utilized at the classification step, as compared to Random Forest:"
   ]
  },
  {
   "cell_type": "code",
   "execution_count": 64,
   "metadata": {
    "scrolled": true
   },
   "outputs": [
    {
     "name": "stdout",
     "output_type": "stream",
     "text": [
      "Pitch Modeling for Rick Porcello\n",
      "Here is the coding for last pitch type:\n",
      "{'FT': 0, 'FF': 1, 'CU': 2, 'SL': 3, 'CH': 4, 'EP': 5, 'SI': 6, 'PO': 7}\n"
     ]
    },
    {
     "name": "stderr",
     "output_type": "stream",
     "text": [
      "/Users/patrickbovard/opt/anaconda3/envs/metis/lib/python3.8/site-packages/pandas/core/indexing.py:670: SettingWithCopyWarning: \n",
      "A value is trying to be set on a copy of a slice from a DataFrame\n",
      "\n",
      "See the caveats in the documentation: https://pandas.pydata.org/pandas-docs/stable/user_guide/indexing.html#returning-a-view-versus-a-copy\n",
      "  iloc._setitem_with_indexer(indexer, value)\n"
     ]
    },
    {
     "name": "stdout",
     "output_type": "stream",
     "text": [
      "Here is the coding for pitch type:\n",
      "{'FT': 0, 'FF': 1, 'SL': 2, 'CU': 3, 'CH': 4, 'SI': 5}\n",
      "Actual Test Size: 0.24137595010719157\n"
     ]
    },
    {
     "name": "stderr",
     "output_type": "stream",
     "text": [
      "/Users/patrickbovard/opt/anaconda3/envs/metis/lib/python3.8/site-packages/xgboost/sklearn.py:888: UserWarning: The use of label encoder in XGBClassifier is deprecated and will be removed in a future release. To remove this warning, do the following: 1) Pass option use_label_encoder=False when constructing XGBClassifier object; and 2) Encode your labels (y) as integers starting with 0, i.e. 0, 1, 2, ..., [num_class - 1].\n",
      "  warnings.warn(label_encoder_deprecation_msg, UserWarning)\n"
     ]
    },
    {
     "name": "stdout",
     "output_type": "stream",
     "text": [
      "[21:41:32] WARNING: /Users/runner/miniforge3/conda-bld/xgboost_1607604592557/work/src/learner.cc:1061: Starting in XGBoost 1.3.0, the default evaluation metric used with the objective 'multi:softprob' was changed from 'merror' to 'mlogloss'. Explicitly set eval_metric if you'd like to restore the old behavior.\n",
      "Accuracy: 0.42389987888574887\n",
      "Precision: (0.31570832992243386,)\n",
      "Recall: 0.29346191244922587\n",
      "XGBoost Pitch Classification confusion matrix results:\n",
      "[[503 138  73  56  27   0]\n",
      " [178 337  58  43  30   0]\n",
      " [170  97  86  34  22   0]\n",
      " [117 102  43  69  13   0]\n",
      " [ 89  75  35  25  55   0]\n",
      " [  0   2   0   0   0   0]]\n",
      "Val Px R^2: 0.014246877138460401\n",
      "Val Px MAE: 0.6481563481851975 ft.\n",
      "Val Pz R^2: 0.06401292208670706\n",
      "Val Pz MAE: 0.7291888588890443 ft.\n"
     ]
    },
    {
     "name": "stderr",
     "output_type": "stream",
     "text": [
      "/Users/patrickbovard/opt/anaconda3/envs/metis/lib/python3.8/site-packages/sklearn/metrics/_classification.py:1245: UndefinedMetricWarning: Precision is ill-defined and being set to 0.0 in labels with no predicted samples. Use `zero_division` parameter to control this behavior.\n",
      "  _warn_prf(average, modifier, msg_start, len(result))\n"
     ]
    }
   ],
   "source": [
    "val_df_full = pitch_prediction_modeling_pipeline('Rick Porcello', pitch_df, split_size = 0.2, class_method = 'XGBoost')"
   ]
  },
  {
   "cell_type": "code",
   "execution_count": 65,
   "metadata": {
    "scrolled": true
   },
   "outputs": [
    {
     "name": "stdout",
     "output_type": "stream",
     "text": [
      "Pitch Modeling for Max Scherzer\n",
      "Here is the coding for last pitch type:\n",
      "{'FF': 0, 'SL': 1, 'CH': 2, 'CU': 3, 'FC': 4, 'FT': 5, 'UN': 6}\n"
     ]
    },
    {
     "name": "stderr",
     "output_type": "stream",
     "text": [
      "/Users/patrickbovard/opt/anaconda3/envs/metis/lib/python3.8/site-packages/pandas/core/indexing.py:670: SettingWithCopyWarning: \n",
      "A value is trying to be set on a copy of a slice from a DataFrame\n",
      "\n",
      "See the caveats in the documentation: https://pandas.pydata.org/pandas-docs/stable/user_guide/indexing.html#returning-a-view-versus-a-copy\n",
      "  iloc._setitem_with_indexer(indexer, value)\n"
     ]
    },
    {
     "name": "stdout",
     "output_type": "stream",
     "text": [
      "Here is the coding for pitch type:\n",
      "{'FF': 0, 'SL': 1, 'CH': 2, 'CU': 3, 'FC': 4, 'FT': 5}\n",
      "Actual Test Size: 0.24353704211199415\n",
      "Accuracy: 0.5247561890472618\n",
      "Precision: (0.3510732599785648,)\n",
      "Recall: 0.2291925231955305\n",
      "Random Forest Pitch Classification confusion matrix results:\n",
      "[[1209  124   34   13   15    2]\n",
      " [ 361  146    5    1    0    0]\n",
      " [ 310   24   29    6    8    0]\n",
      " [ 199    5   13    3    2    0]\n",
      " [ 115    2   10    1   11    0]\n",
      " [  11    6    0    0    0    1]]\n",
      "Val Px R^2: 0.06199571348188049\n",
      "Val Px MAE: 0.6802437034361896 ft.\n",
      "Val Pz R^2: 0.14889063640305722\n",
      "Val Pz MAE: 0.6234543746266302 ft.\n",
      "\n",
      "\n",
      "\n",
      "\n",
      "Pitch Modeling for Chris Sale\n",
      "Here is the coding for last pitch type:\n",
      "{'FT': 0, 'SL': 1, 'CH': 2, 'FF': 3, 'FA': 4}\n"
     ]
    },
    {
     "name": "stderr",
     "output_type": "stream",
     "text": [
      "/Users/patrickbovard/opt/anaconda3/envs/metis/lib/python3.8/site-packages/pandas/core/indexing.py:670: SettingWithCopyWarning: \n",
      "A value is trying to be set on a copy of a slice from a DataFrame\n",
      "\n",
      "See the caveats in the documentation: https://pandas.pydata.org/pandas-docs/stable/user_guide/indexing.html#returning-a-view-versus-a-copy\n",
      "  iloc._setitem_with_indexer(indexer, value)\n"
     ]
    },
    {
     "name": "stdout",
     "output_type": "stream",
     "text": [
      "Here is the coding for pitch type:\n",
      "{'FT': 0, 'SL': 1, 'CH': 2, 'FF': 3, 'FS': 4}\n",
      "Actual Test Size: 0.24533083059596433\n",
      "Accuracy: 0.4659525631216526\n",
      "Precision: (0.43778029556770937,)\n",
      "Recall: 0.44884472053144947\n",
      "Random Forest Pitch Classification confusion matrix results:\n",
      "[[610  95 119  37]\n",
      " [235 211  86 209]\n",
      " [243  71 146  80]\n",
      " [ 14 172  35 251]]\n",
      "Val Px R^2: 0.021604553478507205\n",
      "Val Px MAE: 0.684842166026736 ft.\n",
      "Val Pz R^2: 0.014585255419264587\n",
      "Val Pz MAE: 0.6708066600212033 ft.\n",
      "\n",
      "\n",
      "\n",
      "\n",
      "Pitch Modeling for Justin Verlander\n",
      "Here is the coding for last pitch type:\n",
      "{'FF': 0, 'SL': 1, 'CU': 2, 'CH': 3, 'FC': 4, 'FT': 5, 'PO': 6}\n"
     ]
    },
    {
     "name": "stderr",
     "output_type": "stream",
     "text": [
      "/Users/patrickbovard/opt/anaconda3/envs/metis/lib/python3.8/site-packages/pandas/core/indexing.py:670: SettingWithCopyWarning: \n",
      "A value is trying to be set on a copy of a slice from a DataFrame\n",
      "\n",
      "See the caveats in the documentation: https://pandas.pydata.org/pandas-docs/stable/user_guide/indexing.html#returning-a-view-versus-a-copy\n",
      "  iloc._setitem_with_indexer(indexer, value)\n"
     ]
    },
    {
     "name": "stdout",
     "output_type": "stream",
     "text": [
      "Here is the coding for pitch type:\n",
      "{'FF': 0, 'SL': 1, 'CU': 2, 'CH': 3, 'FC': 4, 'FT': 5}\n",
      "Actual Test Size: 0.2518304431599229\n"
     ]
    },
    {
     "name": "stderr",
     "output_type": "stream",
     "text": [
      "/Users/patrickbovard/opt/anaconda3/envs/metis/lib/python3.8/site-packages/sklearn/metrics/_classification.py:1245: UndefinedMetricWarning: Precision is ill-defined and being set to 0.0 in labels with no predicted samples. Use `zero_division` parameter to control this behavior.\n",
      "  _warn_prf(average, modifier, msg_start, len(result))\n"
     ]
    },
    {
     "name": "stdout",
     "output_type": "stream",
     "text": [
      "Accuracy: 0.5921958684009181\n",
      "Precision: (0.31362392658071886,)\n",
      "Recall: 0.1965963451525606\n",
      "Random Forest Pitch Classification confusion matrix results:\n",
      "[[1428   67   46    1    0    0]\n",
      " [ 411   87   16    0    0    0]\n",
      " [ 350   36   32    0    0    0]\n",
      " [ 117    9    3    1    0    0]\n",
      " [   8    1    0    0    0    0]\n",
      " [   1    0    0    0    0    0]]\n",
      "Val Px R^2: 0.08643801056555622\n",
      "Val Px MAE: 0.6162772939515128 ft.\n",
      "Val Pz R^2: 0.17326143088463752\n",
      "Val Pz MAE: 0.6830010109761702 ft.\n",
      "\n",
      "\n",
      "\n",
      "\n",
      "Pitch Modeling for Jose Quintana\n",
      "Here is the coding for last pitch type:\n",
      "{'FF': 0, 'CU': 1, 'SI': 2, 'CH': 3, 'FT': 4, 'PO': 5, 'UN': 6, 'FA': 7}\n"
     ]
    },
    {
     "name": "stderr",
     "output_type": "stream",
     "text": [
      "/Users/patrickbovard/opt/anaconda3/envs/metis/lib/python3.8/site-packages/pandas/core/indexing.py:670: SettingWithCopyWarning: \n",
      "A value is trying to be set on a copy of a slice from a DataFrame\n",
      "\n",
      "See the caveats in the documentation: https://pandas.pydata.org/pandas-docs/stable/user_guide/indexing.html#returning-a-view-versus-a-copy\n",
      "  iloc._setitem_with_indexer(indexer, value)\n"
     ]
    },
    {
     "name": "stdout",
     "output_type": "stream",
     "text": [
      "Here is the coding for pitch type:\n",
      "{'FF': 0, 'CU': 1, 'SI': 2, 'CH': 3, 'FT': 4}\n",
      "Actual Test Size: 0.2551168881559802\n",
      "Accuracy: 0.4954372623574145\n",
      "Precision: (0.37510204357095617,)\n",
      "Recall: 0.32457090136129507\n",
      "Random Forest Pitch Classification confusion matrix results:\n",
      "[[969 195  63   4  29]\n",
      " [410 190  50   8  34]\n",
      " [120  39 111   1   0]\n",
      " [139  45  22   4   5]\n",
      " [122  38   0   3  29]]\n",
      "Val Px R^2: -0.03999812480989795\n",
      "Val Px MAE: 0.6673943655330864 ft.\n",
      "Val Pz R^2: 0.028530814255639303\n",
      "Val Pz MAE: 0.7308324752564238 ft.\n",
      "\n",
      "\n",
      "\n",
      "\n",
      "Pitch Modeling for Chris Archer\n",
      "Here is the coding for last pitch type:\n",
      "{'FF': 0, 'SL': 1, 'CH': 2, 'FT': 3, 'CU': 4, 'PO': 5}\n"
     ]
    },
    {
     "name": "stderr",
     "output_type": "stream",
     "text": [
      "/Users/patrickbovard/opt/anaconda3/envs/metis/lib/python3.8/site-packages/pandas/core/indexing.py:670: SettingWithCopyWarning: \n",
      "A value is trying to be set on a copy of a slice from a DataFrame\n",
      "\n",
      "See the caveats in the documentation: https://pandas.pydata.org/pandas-docs/stable/user_guide/indexing.html#returning-a-view-versus-a-copy\n",
      "  iloc._setitem_with_indexer(indexer, value)\n"
     ]
    },
    {
     "name": "stdout",
     "output_type": "stream",
     "text": [
      "Here is the coding for pitch type:\n",
      "{'FF': 0, 'SL': 1, 'CH': 2, 'FT': 3, 'CU': 4}\n",
      "Actual Test Size: 0.255042802322149\n",
      "Accuracy: 0.5752314814814815\n",
      "Precision: (0.39406014366036907,)\n",
      "Recall: 0.3333371348600675\n",
      "Random Forest Pitch Classification confusion matrix results:\n",
      "[[833 371  15   8   2]\n",
      " [437 622  12  13   0]\n",
      " [141  61  22   3   0]\n",
      " [ 11  19   0  14   0]\n",
      " [  5   2   0   1   0]]\n",
      "Val Px R^2: 0.1755720879921988\n",
      "Val Px MAE: 0.566879170680485 ft.\n",
      "Val Pz R^2: 0.10869913477580195\n",
      "Val Pz MAE: 0.7859729721550708 ft.\n",
      "\n",
      "\n",
      "\n",
      "\n",
      "Pitch Modeling for Rick Porcello\n",
      "Here is the coding for last pitch type:\n",
      "{'FT': 0, 'FF': 1, 'CU': 2, 'SL': 3, 'CH': 4, 'EP': 5, 'SI': 6, 'PO': 7}\n"
     ]
    },
    {
     "name": "stderr",
     "output_type": "stream",
     "text": [
      "/Users/patrickbovard/opt/anaconda3/envs/metis/lib/python3.8/site-packages/pandas/core/indexing.py:670: SettingWithCopyWarning: \n",
      "A value is trying to be set on a copy of a slice from a DataFrame\n",
      "\n",
      "See the caveats in the documentation: https://pandas.pydata.org/pandas-docs/stable/user_guide/indexing.html#returning-a-view-versus-a-copy\n",
      "  iloc._setitem_with_indexer(indexer, value)\n"
     ]
    },
    {
     "name": "stdout",
     "output_type": "stream",
     "text": [
      "Here is the coding for pitch type:\n",
      "{'FT': 0, 'FF': 1, 'SL': 2, 'CU': 3, 'CH': 4, 'SI': 5}\n",
      "Actual Test Size: 0.24137595010719157\n"
     ]
    },
    {
     "name": "stderr",
     "output_type": "stream",
     "text": [
      "/Users/patrickbovard/opt/anaconda3/envs/metis/lib/python3.8/site-packages/sklearn/metrics/_classification.py:1245: UndefinedMetricWarning: Precision is ill-defined and being set to 0.0 in labels with no predicted samples. Use `zero_division` parameter to control this behavior.\n",
      "  _warn_prf(average, modifier, msg_start, len(result))\n"
     ]
    },
    {
     "name": "stdout",
     "output_type": "stream",
     "text": [
      "Accuracy: 0.4125958821154623\n",
      "Precision: (0.3010463387446746,)\n",
      "Recall: 0.2690155312080396\n",
      "Random Forest Pitch Classification confusion matrix results:\n",
      "[[553 147  54  22  21   0]\n",
      " [224 317  48  37  20   0]\n",
      " [183 112  78  21  15   0]\n",
      " [148 111  32  39  14   0]\n",
      " [108  91  28  17  35   0]\n",
      " [  0   2   0   0   0   0]]\n",
      "Val Px R^2: 0.017246582990617765\n",
      "Val Px MAE: 0.648322844894267 ft.\n",
      "Val Pz R^2: 0.06260227894896209\n",
      "Val Pz MAE: 0.7290012873054939 ft.\n",
      "\n",
      "\n",
      "\n",
      "\n",
      "Pitch Modeling for Jon Lester\n",
      "Here is the coding for last pitch type:\n",
      "{'FF': 0, 'FC': 1, 'CU': 2, 'SI': 3, 'CH': 4, 'PO': 5}\n"
     ]
    },
    {
     "name": "stderr",
     "output_type": "stream",
     "text": [
      "/Users/patrickbovard/opt/anaconda3/envs/metis/lib/python3.8/site-packages/pandas/core/indexing.py:670: SettingWithCopyWarning: \n",
      "A value is trying to be set on a copy of a slice from a DataFrame\n",
      "\n",
      "See the caveats in the documentation: https://pandas.pydata.org/pandas-docs/stable/user_guide/indexing.html#returning-a-view-versus-a-copy\n",
      "  iloc._setitem_with_indexer(indexer, value)\n"
     ]
    },
    {
     "name": "stdout",
     "output_type": "stream",
     "text": [
      "Here is the coding for pitch type:\n",
      "{'FF': 0, 'FC': 1, 'CU': 2, 'SI': 3, 'CH': 4}\n",
      "Actual Test Size: 0.25269461077844313\n",
      "Accuracy: 0.45813586097946285\n",
      "Precision: (0.30675644989930706,)\n",
      "Recall: 0.24278971825562906\n",
      "Random Forest Pitch Classification confusion matrix results:\n",
      "[[966 144  50  16   3]\n",
      " [402 154  28  13   1]\n",
      " [254  54  28   7   4]\n",
      " [177  34   4   9   1]\n",
      " [126  43   7   4   3]]\n",
      "Val Px R^2: 0.07187965251462347\n",
      "Val Px MAE: 0.7158502706574434 ft.\n",
      "Val Pz R^2: 0.1614825119565667\n",
      "Val Pz MAE: 0.6041117240629665 ft.\n",
      "\n",
      "\n",
      "\n",
      "\n",
      "Pitch Modeling for Corey Kluber\n",
      "Here is the coding for last pitch type:\n",
      "{'SI': 0, 'CU': 1, 'FF': 2, 'SL': 3, 'FC': 4, 'CH': 5, 'PO': 6}\n"
     ]
    },
    {
     "name": "stderr",
     "output_type": "stream",
     "text": [
      "/Users/patrickbovard/opt/anaconda3/envs/metis/lib/python3.8/site-packages/pandas/core/indexing.py:670: SettingWithCopyWarning: \n",
      "A value is trying to be set on a copy of a slice from a DataFrame\n",
      "\n",
      "See the caveats in the documentation: https://pandas.pydata.org/pandas-docs/stable/user_guide/indexing.html#returning-a-view-versus-a-copy\n",
      "  iloc._setitem_with_indexer(indexer, value)\n"
     ]
    },
    {
     "name": "stdout",
     "output_type": "stream",
     "text": [
      "Here is the coding for pitch type:\n",
      "{'SI': 0, 'CU': 1, 'FF': 2, 'SL': 3, 'FC': 4, 'CH': 5}\n",
      "Actual Test Size: 0.2488986784140969\n",
      "Accuracy: 0.3845534995977474\n",
      "Precision: (0.35330197937810515,)\n",
      "Recall: 0.3167079942809002\n",
      "Random Forest Pitch Classification confusion matrix results:\n",
      "[[457 119  49  84  67   9]\n",
      " [202 184  34  49  60   4]\n",
      " [147  67  74  70  33   3]\n",
      " [141  26  41 105   0   2]\n",
      " [125  54  11   0 129   3]\n",
      " [ 59  20   8  19  24   7]]\n",
      "Val Px R^2: 0.11702535012149162\n",
      "Val Px MAE: 0.645238253947373 ft.\n",
      "Val Pz R^2: 0.03729399976364933\n",
      "Val Pz MAE: 0.6936360615053123 ft.\n",
      "\n",
      "\n",
      "\n",
      "\n",
      "Pitch Modeling for Gio Gonzalez\n",
      "Here is the coding for last pitch type:\n",
      "{'FF': 0, 'FT': 1, 'CU': 2, 'CH': 3, 'UN': 4}\n"
     ]
    },
    {
     "name": "stderr",
     "output_type": "stream",
     "text": [
      "/Users/patrickbovard/opt/anaconda3/envs/metis/lib/python3.8/site-packages/pandas/core/indexing.py:670: SettingWithCopyWarning: \n",
      "A value is trying to be set on a copy of a slice from a DataFrame\n",
      "\n",
      "See the caveats in the documentation: https://pandas.pydata.org/pandas-docs/stable/user_guide/indexing.html#returning-a-view-versus-a-copy\n",
      "  iloc._setitem_with_indexer(indexer, value)\n"
     ]
    },
    {
     "name": "stdout",
     "output_type": "stream",
     "text": [
      "Here is the coding for pitch type:\n",
      "{'FF': 0, 'FT': 1, 'CU': 2, 'CH': 3}\n",
      "Actual Test Size: 0.24769076305220883\n",
      "Accuracy: 0.4187271990271585\n",
      "Precision: (0.39544692533689174,)\n",
      "Recall: 0.37755971387455983\n",
      "Random Forest Pitch Classification confusion matrix results:\n",
      "[[512 117 105  59]\n",
      " [259 326  52  64]\n",
      " [239 113 109  46]\n",
      " [200 133  47  86]]\n",
      "Val Px R^2: 0.07488129266371324\n",
      "Val Px MAE: 0.6788851474017268 ft.\n",
      "Val Pz R^2: 0.21726928447684013\n",
      "Val Pz MAE: 0.6731209095812561 ft.\n",
      "\n",
      "\n",
      "\n",
      "\n",
      "Pitch Modeling for Julio Teheran\n",
      "Here is the coding for last pitch type:\n",
      "{'FF': 0, 'SL': 1, 'FT': 2, 'CU': 3, 'CH': 4, 'PO': 5, 'UN': 6}\n"
     ]
    },
    {
     "name": "stderr",
     "output_type": "stream",
     "text": [
      "/Users/patrickbovard/opt/anaconda3/envs/metis/lib/python3.8/site-packages/pandas/core/indexing.py:670: SettingWithCopyWarning: \n",
      "A value is trying to be set on a copy of a slice from a DataFrame\n",
      "\n",
      "See the caveats in the documentation: https://pandas.pydata.org/pandas-docs/stable/user_guide/indexing.html#returning-a-view-versus-a-copy\n",
      "  iloc._setitem_with_indexer(indexer, value)\n"
     ]
    },
    {
     "name": "stdout",
     "output_type": "stream",
     "text": [
      "Here is the coding for pitch type:\n",
      "{'FF': 0, 'SL': 1, 'FT': 2, 'CH': 3, 'CU': 4}\n",
      "Actual Test Size: 0.24703943981052415\n",
      "Accuracy: 0.42934556065027096\n",
      "Precision: (0.34160390566220356,)\n",
      "Recall: 0.2785744668366351\n",
      "Random Forest Pitch Classification confusion matrix results:\n",
      "[[763 133  77  20  19]\n",
      " [373 115  51   5   1]\n",
      " [225  51 122  16  15]\n",
      " [136  15  43  20   1]\n",
      " [147  17  14  10  10]]\n",
      "Val Px R^2: 0.12427293399426254\n",
      "Val Px MAE: 0.6883925244486934 ft.\n",
      "Val Pz R^2: 0.10315021413824865\n",
      "Val Pz MAE: 0.6782081389681447 ft.\n",
      "\n",
      "\n",
      "\n",
      "\n"
     ]
    }
   ],
   "source": [
    "output_df = multiple_pitcher_predictions(pitcher_list, pitch_df, split_size = 0.2, class_method = 'XGBoost')"
   ]
  },
  {
   "cell_type": "markdown",
   "metadata": {},
   "source": [
    "About 70 seconds to run 10."
   ]
  },
  {
   "cell_type": "markdown",
   "metadata": {},
   "source": [
    "Overall, the metrics seem relatively similar with Random Forest and XGBoost.  In either way, the prediction quality (and location prediction) will need to be improved."
   ]
  },
  {
   "cell_type": "code",
   "execution_count": 66,
   "metadata": {},
   "outputs": [
    {
     "data": {
      "text/html": [
       "<div>\n",
       "<style scoped>\n",
       "    .dataframe tbody tr th:only-of-type {\n",
       "        vertical-align: middle;\n",
       "    }\n",
       "\n",
       "    .dataframe tbody tr th {\n",
       "        vertical-align: top;\n",
       "    }\n",
       "\n",
       "    .dataframe thead th {\n",
       "        text-align: right;\n",
       "    }\n",
       "</style>\n",
       "<table border=\"1\" class=\"dataframe\">\n",
       "  <thead>\n",
       "    <tr style=\"text-align: right;\">\n",
       "      <th></th>\n",
       "      <th>inning</th>\n",
       "      <th>batter_id</th>\n",
       "      <th>pitcher_id</th>\n",
       "      <th>top</th>\n",
       "      <th>ab_id</th>\n",
       "      <th>p_score</th>\n",
       "      <th>event</th>\n",
       "      <th>home_team</th>\n",
       "      <th>away_team</th>\n",
       "      <th>b_score</th>\n",
       "      <th>...</th>\n",
       "      <th>pitch_pred</th>\n",
       "      <th>FF_prob</th>\n",
       "      <th>SL_prob</th>\n",
       "      <th>CH_prob</th>\n",
       "      <th>CU_prob</th>\n",
       "      <th>FC_prob</th>\n",
       "      <th>FT_prob</th>\n",
       "      <th>px_pred</th>\n",
       "      <th>pz_pred</th>\n",
       "      <th>SI_prob</th>\n",
       "    </tr>\n",
       "  </thead>\n",
       "  <tbody>\n",
       "    <tr>\n",
       "      <th>2453</th>\n",
       "      <td>3.0</td>\n",
       "      <td>527038</td>\n",
       "      <td>453286</td>\n",
       "      <td>1.0</td>\n",
       "      <td>2.015001e+09</td>\n",
       "      <td>0.0</td>\n",
       "      <td>Strikeout</td>\n",
       "      <td>was</td>\n",
       "      <td>nyn</td>\n",
       "      <td>0.0</td>\n",
       "      <td>...</td>\n",
       "      <td>0</td>\n",
       "      <td>0.67</td>\n",
       "      <td>0.15</td>\n",
       "      <td>0.04</td>\n",
       "      <td>0.00</td>\n",
       "      <td>0.14</td>\n",
       "      <td>0.0</td>\n",
       "      <td>0.044230</td>\n",
       "      <td>2.523223</td>\n",
       "      <td>NaN</td>\n",
       "    </tr>\n",
       "    <tr>\n",
       "      <th>2454</th>\n",
       "      <td>3.0</td>\n",
       "      <td>527038</td>\n",
       "      <td>453286</td>\n",
       "      <td>1.0</td>\n",
       "      <td>2.015001e+09</td>\n",
       "      <td>0.0</td>\n",
       "      <td>Strikeout</td>\n",
       "      <td>was</td>\n",
       "      <td>nyn</td>\n",
       "      <td>0.0</td>\n",
       "      <td>...</td>\n",
       "      <td>0</td>\n",
       "      <td>0.60</td>\n",
       "      <td>0.21</td>\n",
       "      <td>0.03</td>\n",
       "      <td>0.00</td>\n",
       "      <td>0.16</td>\n",
       "      <td>0.0</td>\n",
       "      <td>0.007730</td>\n",
       "      <td>2.420953</td>\n",
       "      <td>NaN</td>\n",
       "    </tr>\n",
       "    <tr>\n",
       "      <th>2455</th>\n",
       "      <td>3.0</td>\n",
       "      <td>527038</td>\n",
       "      <td>453286</td>\n",
       "      <td>1.0</td>\n",
       "      <td>2.015001e+09</td>\n",
       "      <td>0.0</td>\n",
       "      <td>Strikeout</td>\n",
       "      <td>was</td>\n",
       "      <td>nyn</td>\n",
       "      <td>0.0</td>\n",
       "      <td>...</td>\n",
       "      <td>1</td>\n",
       "      <td>0.25</td>\n",
       "      <td>0.56</td>\n",
       "      <td>0.17</td>\n",
       "      <td>0.01</td>\n",
       "      <td>0.01</td>\n",
       "      <td>0.0</td>\n",
       "      <td>0.113485</td>\n",
       "      <td>2.260595</td>\n",
       "      <td>NaN</td>\n",
       "    </tr>\n",
       "    <tr>\n",
       "      <th>2496</th>\n",
       "      <td>5.0</td>\n",
       "      <td>502517</td>\n",
       "      <td>453286</td>\n",
       "      <td>1.0</td>\n",
       "      <td>2.015001e+09</td>\n",
       "      <td>1.0</td>\n",
       "      <td>Flyout</td>\n",
       "      <td>was</td>\n",
       "      <td>nyn</td>\n",
       "      <td>0.0</td>\n",
       "      <td>...</td>\n",
       "      <td>0</td>\n",
       "      <td>0.45</td>\n",
       "      <td>0.05</td>\n",
       "      <td>0.14</td>\n",
       "      <td>0.36</td>\n",
       "      <td>0.00</td>\n",
       "      <td>0.0</td>\n",
       "      <td>-0.234551</td>\n",
       "      <td>2.645617</td>\n",
       "      <td>NaN</td>\n",
       "    </tr>\n",
       "    <tr>\n",
       "      <th>2497</th>\n",
       "      <td>5.0</td>\n",
       "      <td>502517</td>\n",
       "      <td>453286</td>\n",
       "      <td>1.0</td>\n",
       "      <td>2.015001e+09</td>\n",
       "      <td>1.0</td>\n",
       "      <td>Flyout</td>\n",
       "      <td>was</td>\n",
       "      <td>nyn</td>\n",
       "      <td>0.0</td>\n",
       "      <td>...</td>\n",
       "      <td>0</td>\n",
       "      <td>0.45</td>\n",
       "      <td>0.07</td>\n",
       "      <td>0.16</td>\n",
       "      <td>0.30</td>\n",
       "      <td>0.02</td>\n",
       "      <td>0.0</td>\n",
       "      <td>-0.328774</td>\n",
       "      <td>2.583225</td>\n",
       "      <td>NaN</td>\n",
       "    </tr>\n",
       "  </tbody>\n",
       "</table>\n",
       "<p>5 rows × 61 columns</p>\n",
       "</div>"
      ],
      "text/plain": [
       "      inning batter_id pitcher_id  top         ab_id  p_score      event  \\\n",
       "2453     3.0    527038     453286  1.0  2.015001e+09      0.0  Strikeout   \n",
       "2454     3.0    527038     453286  1.0  2.015001e+09      0.0  Strikeout   \n",
       "2455     3.0    527038     453286  1.0  2.015001e+09      0.0  Strikeout   \n",
       "2496     5.0    502517     453286  1.0  2.015001e+09      1.0     Flyout   \n",
       "2497     5.0    502517     453286  1.0  2.015001e+09      1.0     Flyout   \n",
       "\n",
       "     home_team away_team  b_score  ...  pitch_pred  FF_prob  SL_prob  CH_prob  \\\n",
       "2453       was       nyn      0.0  ...           0     0.67     0.15     0.04   \n",
       "2454       was       nyn      0.0  ...           0     0.60     0.21     0.03   \n",
       "2455       was       nyn      0.0  ...           1     0.25     0.56     0.17   \n",
       "2496       was       nyn      0.0  ...           0     0.45     0.05     0.14   \n",
       "2497       was       nyn      0.0  ...           0     0.45     0.07     0.16   \n",
       "\n",
       "      CU_prob FC_prob FT_prob   px_pred   pz_pred  SI_prob  \n",
       "2453     0.00    0.14     0.0  0.044230  2.523223      NaN  \n",
       "2454     0.00    0.16     0.0  0.007730  2.420953      NaN  \n",
       "2455     0.01    0.01     0.0  0.113485  2.260595      NaN  \n",
       "2496     0.36    0.00     0.0 -0.234551  2.645617      NaN  \n",
       "2497     0.30    0.02     0.0 -0.328774  2.583225      NaN  \n",
       "\n",
       "[5 rows x 61 columns]"
      ]
     },
     "execution_count": 66,
     "metadata": {},
     "output_type": "execute_result"
    }
   ],
   "source": [
    "output_df.head()"
   ]
  },
  {
   "cell_type": "markdown",
   "metadata": {},
   "source": [
    "Either way, at this point I'd think it would be best to look into new features for feature engineering, to improve both facets of the model."
   ]
  },
  {
   "cell_type": "markdown",
   "metadata": {},
   "source": [
    "For location, based on visualizations in other notebooks, the issue is that the predictions are concentrated in one location, and not showing as much variability as the real world (i.e. underfitting).  I would expect some underfitting in general since even the best pitchers won't throw the ball with pinpoint accuracy every time, but this should be able to be improved.  Some possible features to engineer could be:\n",
    "- Rolling average of pitch location data, pitch-type specific (i.e. avg. x and y coordinates last three times they threw that pitch)\n",
    "- More recent pitch proportion rates - right now, I have their running averages over the dataset.  Perhaps shorten to over the current game as well, against the current batter (which would have null values), or over the last 80-100 pitches (roughly a game for a starting pitcher)"
   ]
  },
  {
   "cell_type": "code",
   "execution_count": null,
   "metadata": {},
   "outputs": [],
   "source": []
  }
 ],
 "metadata": {
  "kernelspec": {
   "display_name": "Python [conda env:metis] *",
   "language": "python",
   "name": "conda-env-metis-py"
  },
  "language_info": {
   "codemirror_mode": {
    "name": "ipython",
    "version": 3
   },
   "file_extension": ".py",
   "mimetype": "text/x-python",
   "name": "python",
   "nbconvert_exporter": "python",
   "pygments_lexer": "ipython3",
   "version": "3.8.6"
  }
 },
 "nbformat": 4,
 "nbformat_minor": 4
}
