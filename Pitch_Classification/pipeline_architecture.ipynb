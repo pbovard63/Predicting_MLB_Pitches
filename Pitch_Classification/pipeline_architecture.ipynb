{
 "cells": [
  {
   "cell_type": "markdown",
   "metadata": {},
   "source": [
    "# Pipeline Architecture:\n",
    "The purpose of this notebook is to build out a pipeline of modeling, from classification to regression.  The general form is:\n",
    "\n",
    "1. Random Forest Classification of Pitch Type\n",
    "2. Linear Regression of X-Coordinate of Pitch Location (Px) - pitch type used as feature\n",
    "3. Linear Regression of Z-Coordinate of Pitch Location (Pz) - pitch type and px used as feature"
   ]
  },
  {
   "cell_type": "markdown",
   "metadata": {},
   "source": [
    "Importing packages:"
   ]
  },
  {
   "cell_type": "code",
   "execution_count": 1,
   "metadata": {},
   "outputs": [],
   "source": [
    "import pickle\n",
    "from sqlalchemy import create_engine\n",
    "import pandas as pd\n",
    "from importlib import reload\n",
    "import numpy as np\n",
    "import scipy.stats as st\n",
    "import matplotlib.pyplot as plt\n",
    "import seaborn as sns\n",
    "%config InlineBackend.figure_formats = ['retina']\n",
    "%matplotlib inline\n",
    "\n",
    "plt.rcParams['figure.figsize'] = (9, 6)\n",
    "sns.set(context='notebook', style='whitegrid', font_scale=1.2)"
   ]
  },
  {
   "cell_type": "code",
   "execution_count": 2,
   "metadata": {},
   "outputs": [],
   "source": [
    "import pandas as pd\n",
    "import numpy as np\n",
    "from scipy import stats\n",
    "from sklearn.linear_model import LinearRegression\n",
    "import seaborn as sns\n",
    "from sklearn.model_selection import train_test_split\n",
    "from sklearn.linear_model import LinearRegression, Lasso, LassoCV, Ridge, RidgeCV, ElasticNetCV\n",
    "from sklearn.metrics import r2_score\n",
    "from sklearn.pipeline import Pipeline\n",
    "from sklearn.preprocessing import StandardScaler\n",
    "from sklearn.model_selection import KFold\n",
    "from sklearn.pipeline import Pipeline, make_pipeline"
   ]
  },
  {
   "cell_type": "markdown",
   "metadata": {},
   "source": [
    "Pickling in initial data to work with:"
   ]
  },
  {
   "cell_type": "code",
   "execution_count": 3,
   "metadata": {},
   "outputs": [
    {
     "data": {
      "text/plain": [
       "'/Users/patrickbovard/Documents/GitHub/metis_final_project/Pitch_Classification'"
      ]
     },
     "execution_count": 3,
     "metadata": {},
     "output_type": "execute_result"
    }
   ],
   "source": [
    "pwd"
   ]
  },
  {
   "cell_type": "code",
   "execution_count": 4,
   "metadata": {},
   "outputs": [],
   "source": [
    "with open('../Data/train_df_clusters.pickle','rb') as read_file:\n",
    "    pitch_df = pickle.load(read_file)"
   ]
  },
  {
   "cell_type": "markdown",
   "metadata": {},
   "source": [
    "In order to determine who to include in the pipeline, I'll see who the top xx pitchers are, in terms of pitches thrown:"
   ]
  },
  {
   "cell_type": "code",
   "execution_count": 5,
   "metadata": {
    "scrolled": true
   },
   "outputs": [
    {
     "data": {
      "text/plain": [
       "Max Scherzer         13626\n",
       "Chris Sale           13284\n",
       "Justin Verlander     12999\n",
       "Jose Quintana        12944\n",
       "Chris Archer         12760\n",
       "Rick Porcello        12745\n",
       "Jon Lester           12566\n",
       "Corey Kluber         12480\n",
       "Gio Gonzalez         12439\n",
       "Julio Teheran        12125\n",
       "Zack Greinke         12092\n",
       "Jake Arrieta         12028\n",
       "Cole Hamels          12016\n",
       "Trevor Bauer         11860\n",
       "Kyle Gibson          11829\n",
       "Jacob deGrom         11775\n",
       "Gerrit Cole          11772\n",
       "James Shields        11768\n",
       "Marco Estrada        11763\n",
       "Jake Odorizzi        11719\n",
       "Dallas Keuchel       11708\n",
       "J.A. Happ            11597\n",
       "Kevin Gausman        11540\n",
       "Tanner Roark         11296\n",
       "David Price          11205\n",
       "Mike Leake           11141\n",
       "Mike Fiers           11093\n",
       "Ian Kennedy          11026\n",
       "Kyle Hendricks       10952\n",
       "Carlos Martinez      10920\n",
       "Carlos Carrasco      10913\n",
       "Andrew Cashner       10907\n",
       "CC Sabathia          10654\n",
       "Masahiro Tanaka      10589\n",
       "Jeff Samardzija      10573\n",
       "Madison Bumgarner    10551\n",
       "Jason Hammel         10544\n",
       "Wade Miley           10494\n",
       "Robbie Ray           10452\n",
       "Clayton Kershaw      10333\n",
       "Danny Duffy          10247\n",
       "Sonny Gray           10117\n",
       "Francisco Liriano    10100\n",
       "Bartolo Colon        10056\n",
       "Patrick Corbin       10002\n",
       "Chase Anderson        9932\n",
       "Johnny Cueto          9872\n",
       "Hector Santiago       9679\n",
       "Jordan Zimmermann     9586\n",
       "Felix Hernandez       9566\n",
       "Name: pitcher_full_name, dtype: int64"
      ]
     },
     "execution_count": 5,
     "metadata": {},
     "output_type": "execute_result"
    }
   ],
   "source": [
    "pitch_df.pitcher_full_name.value_counts().head(50)"
   ]
  },
  {
   "cell_type": "code",
   "execution_count": 6,
   "metadata": {},
   "outputs": [
    {
     "data": {
      "text/plain": [
       "564235"
      ]
     },
     "execution_count": 6,
     "metadata": {},
     "output_type": "execute_result"
    }
   ],
   "source": [
    "pitch_df.pitcher_full_name.value_counts().head(50).sum()"
   ]
  },
  {
   "cell_type": "markdown",
   "metadata": {},
   "source": [
    "So that would cover 564,235 total pitches from 2015-2018."
   ]
  },
  {
   "cell_type": "code",
   "execution_count": 7,
   "metadata": {},
   "outputs": [
    {
     "data": {
      "text/plain": [
       "Index(['inning', 'batter_id', 'pitcher_id', 'top', 'ab_id', 'p_score', 'stand',\n",
       "       'p_throws', 'event', 'home_team', 'away_team', 'b_score', 'on_1b',\n",
       "       'on_2b', 'on_3b', 'px', 'pz', 'zone', 'pitch_type', 'start_speed',\n",
       "       'type', 'b_count', 's_count', 'outs', 'pitch_num', 'last_pitch_type',\n",
       "       'last_pitch_px', 'last_pitch_pz', 'last_pitch_speed',\n",
       "       'pitcher_full_name', 'pitcher_run_diff', 'hitter_full_name',\n",
       "       'Date_Time_Date', 'Season', 'cumulative_pitches', 'cumulative_ff_rate',\n",
       "       'cumulative_sl_rate', 'cumulative_ft_rate', 'cumulative_ch_rate',\n",
       "       'cumulative_cu_rate', 'cumulative_si_rate', 'cumulative_fc_rate',\n",
       "       'cumulative_kc_rate', 'cumulative_fs_rate', 'cumulative_kn_rate',\n",
       "       'cumulative_ep_rate', 'cumulative_fo_rate', 'cumulative_sc_rate',\n",
       "       'Name', 'Cluster'],\n",
       "      dtype='object')"
      ]
     },
     "execution_count": 7,
     "metadata": {},
     "output_type": "execute_result"
    }
   ],
   "source": [
    "pitch_df.columns"
   ]
  },
  {
   "cell_type": "markdown",
   "metadata": {},
   "source": [
    "Checking out pitch types:"
   ]
  },
  {
   "cell_type": "code",
   "execution_count": 8,
   "metadata": {},
   "outputs": [
    {
     "data": {
      "text/plain": [
       "FF    1023717\n",
       "SL     454880\n",
       "FT     340899\n",
       "CH     295221\n",
       "SI     244501\n",
       "CU     236045\n",
       "FC     150892\n",
       "KC      66942\n",
       "FS      44233\n",
       "KN      11295\n",
       "EP        816\n",
       "FO        810\n",
       "SC        121\n",
       "Name: pitch_type, dtype: int64"
      ]
     },
     "execution_count": 8,
     "metadata": {},
     "output_type": "execute_result"
    }
   ],
   "source": [
    "pitch_df.pitch_type.value_counts()"
   ]
  },
  {
   "cell_type": "code",
   "execution_count": 9,
   "metadata": {},
   "outputs": [],
   "source": [
    "pitch_df = pitch_df[pitch_df.pitch_type != 'EP']"
   ]
  },
  {
   "cell_type": "markdown",
   "metadata": {},
   "source": [
    "Importing the regression functions:"
   ]
  },
  {
   "cell_type": "code",
   "execution_count": 10,
   "metadata": {},
   "outputs": [],
   "source": [
    "from location_regression_functions import *\n",
    "from pitch_cat_functions import *"
   ]
  },
  {
   "cell_type": "markdown",
   "metadata": {},
   "source": [
    "Importing the functions from the pipeline script:"
   ]
  },
  {
   "cell_type": "code",
   "execution_count": 11,
   "metadata": {},
   "outputs": [],
   "source": [
    "from classification_location_combo import *"
   ]
  },
  {
   "cell_type": "markdown",
   "metadata": {},
   "source": [
    "### Initial dataframe setup:"
   ]
  },
  {
   "cell_type": "markdown",
   "metadata": {},
   "source": [
    "Before working on building out a workflow to model multiple pitchers in succession, I will build out the pipeline here in a step by step fashion:"
   ]
  },
  {
   "cell_type": "markdown",
   "metadata": {},
   "source": [
    "### Dataframe Setup:"
   ]
  },
  {
   "cell_type": "markdown",
   "metadata": {},
   "source": [
    "First, to set up the dataframe structure needed to model.  First step is to filter for the desired player's name:"
   ]
  },
  {
   "cell_type": "code",
   "execution_count": 12,
   "metadata": {},
   "outputs": [],
   "source": [
    "scherzer_df = pitch_df[(pitch_df.pitcher_full_name == 'Max Scherzer') &(pitch_df.last_pitch_px.notnull())]"
   ]
  },
  {
   "cell_type": "markdown",
   "metadata": {},
   "source": [
    "One hot encoding of needed columns:"
   ]
  },
  {
   "cell_type": "code",
   "execution_count": 13,
   "metadata": {},
   "outputs": [],
   "source": [
    "ohe_cols = ['stand', 'p_throws']"
   ]
  },
  {
   "cell_type": "code",
   "execution_count": 14,
   "metadata": {},
   "outputs": [],
   "source": [
    "ohe_df = column_ohe_maker(scherzer_df, ohe_cols)"
   ]
  },
  {
   "cell_type": "markdown",
   "metadata": {},
   "source": [
    "Numerically coding last pitch type and pitch type:"
   ]
  },
  {
   "cell_type": "code",
   "execution_count": 15,
   "metadata": {},
   "outputs": [
    {
     "name": "stdout",
     "output_type": "stream",
     "text": [
      "Here is the coding for last pitch type:\n",
      "{'FF': 0, 'SL': 1, 'CH': 2, 'CU': 3, 'FC': 4, 'FT': 5, 'UN': 6}\n"
     ]
    },
    {
     "name": "stderr",
     "output_type": "stream",
     "text": [
      "/Users/patrickbovard/opt/anaconda3/envs/metis/lib/python3.8/site-packages/pandas/core/indexing.py:670: SettingWithCopyWarning: \n",
      "A value is trying to be set on a copy of a slice from a DataFrame\n",
      "\n",
      "See the caveats in the documentation: https://pandas.pydata.org/pandas-docs/stable/user_guide/indexing.html#returning-a-view-versus-a-copy\n",
      "  iloc._setitem_with_indexer(indexer, value)\n"
     ]
    }
   ],
   "source": [
    "temp_df = last_pitch_type_to_num(ohe_df, 'last_pitch_type')"
   ]
  },
  {
   "cell_type": "code",
   "execution_count": 16,
   "metadata": {},
   "outputs": [
    {
     "name": "stdout",
     "output_type": "stream",
     "text": [
      "Here is the coding for pitch type:\n",
      "{'FF': 0, 'SL': 1, 'CH': 2, 'CU': 3, 'FC': 4, 'FT': 5}\n"
     ]
    }
   ],
   "source": [
    "output_df = pitch_type_to_num(temp_df, 'pitch_type')"
   ]
  },
  {
   "cell_type": "markdown",
   "metadata": {},
   "source": [
    "Declaring the columns for each step of the modeling process:"
   ]
  },
  {
   "cell_type": "code",
   "execution_count": 17,
   "metadata": {},
   "outputs": [],
   "source": [
    "rf_cols = ['Cluster','inning', 'top', 'on_1b', 'on_2b', 'on_3b', 'b_count', 's_count', 'outs', 'stand_R',\n",
    "       'pitcher_run_diff','last_pitch_speed', 'last_pitch_px', 'last_pitch_pz','pitch_num','cumulative_pitches',\n",
    "       'cumulative_ff_rate', 'cumulative_sl_rate', 'cumulative_ft_rate',\n",
    "       'cumulative_ch_rate', 'cumulative_cu_rate', 'cumulative_si_rate',\n",
    "       'cumulative_fc_rate', 'cumulative_kc_rate', 'cumulative_fs_rate',\n",
    "       'cumulative_kn_rate', 'cumulative_ep_rate', 'cumulative_fo_rate',\n",
    "       'cumulative_sc_rate', 'Last_Pitch_Type_Num']"
   ]
  },
  {
   "cell_type": "code",
   "execution_count": 18,
   "metadata": {},
   "outputs": [],
   "source": [
    "px_cols = rf_cols.copy()"
   ]
  },
  {
   "cell_type": "code",
   "execution_count": 19,
   "metadata": {},
   "outputs": [],
   "source": [
    "px_cols.append('Pitch_Type_Num')"
   ]
  },
  {
   "cell_type": "code",
   "execution_count": 20,
   "metadata": {},
   "outputs": [],
   "source": [
    "px_cols_val = px_cols.copy()\n",
    "px_cols_val.append('pitch_pred')\n",
    "px_cols_val.remove('Pitch_Type_Num')"
   ]
  },
  {
   "cell_type": "code",
   "execution_count": 21,
   "metadata": {},
   "outputs": [],
   "source": [
    "pz_cols = px_cols.copy()\n",
    "pz_cols.append('px')"
   ]
  },
  {
   "cell_type": "code",
   "execution_count": 22,
   "metadata": {},
   "outputs": [],
   "source": [
    "pz_cols_val = pz_cols.copy()\n",
    "pz_cols_val.append('px_pred')\n",
    "pz_cols_val.remove('px')"
   ]
  },
  {
   "cell_type": "markdown",
   "metadata": {},
   "source": [
    "Instead of a traditional train/test split, I need to split my dataframe into similar pitches.  To help with generalization/simulating unseen data, I'll split by at bat (using split_pitch_data in classification_location_combo.py)."
   ]
  },
  {
   "cell_type": "code",
   "execution_count": 23,
   "metadata": {},
   "outputs": [
    {
     "name": "stdout",
     "output_type": "stream",
     "text": [
      "Actual Test Size: 0.24353704211199415\n"
     ]
    }
   ],
   "source": [
    "training_pitches, val_pitches = split_pitch_data(output_df, test_size=0.20)"
   ]
  },
  {
   "cell_type": "markdown",
   "metadata": {},
   "source": [
    "Now with training and validation df's separate, I can run modeling on each step, using the columns."
   ]
  },
  {
   "cell_type": "markdown",
   "metadata": {},
   "source": [
    "### Classification:"
   ]
  },
  {
   "cell_type": "markdown",
   "metadata": {},
   "source": [
    "Setting up X and y for modeling, and performing train/test split:"
   ]
  },
  {
   "cell_type": "code",
   "execution_count": 24,
   "metadata": {},
   "outputs": [],
   "source": [
    "X_rf_train = training_pitches[rf_cols]"
   ]
  },
  {
   "cell_type": "code",
   "execution_count": 25,
   "metadata": {},
   "outputs": [],
   "source": [
    "y_rf_train = training_pitches['Pitch_Type_Num']"
   ]
  },
  {
   "cell_type": "code",
   "execution_count": 26,
   "metadata": {},
   "outputs": [],
   "source": [
    "X_rf_val = val_pitches[rf_cols]"
   ]
  },
  {
   "cell_type": "code",
   "execution_count": 27,
   "metadata": {},
   "outputs": [],
   "source": [
    "y_rf_val = val_pitches['Pitch_Type_Num']"
   ]
  },
  {
   "cell_type": "markdown",
   "metadata": {},
   "source": [
    "Fitting model on test, then predicting on train:"
   ]
  },
  {
   "cell_type": "code",
   "execution_count": 28,
   "metadata": {},
   "outputs": [
    {
     "data": {
      "text/plain": [
       "RandomForestClassifier()"
      ]
     },
     "execution_count": 28,
     "metadata": {},
     "output_type": "execute_result"
    }
   ],
   "source": [
    "rf_model = RandomForestClassifier()\n",
    "rf_model.fit(X_rf_train,y_rf_train)"
   ]
  },
  {
   "cell_type": "code",
   "execution_count": 29,
   "metadata": {},
   "outputs": [],
   "source": [
    "y_rf_pred = rf_model.predict(X_rf_val)"
   ]
  },
  {
   "cell_type": "code",
   "execution_count": 30,
   "metadata": {},
   "outputs": [],
   "source": [
    "unique, counts = np.unique(y_rf_pred, return_counts=True)"
   ]
  },
  {
   "cell_type": "code",
   "execution_count": 31,
   "metadata": {},
   "outputs": [
    {
     "data": {
      "text/plain": [
       "array([[   0, 2193],\n",
       "       [   1,  317],\n",
       "       [   2,   95],\n",
       "       [   3,   23],\n",
       "       [   4,   36],\n",
       "       [   5,    2]])"
      ]
     },
     "execution_count": 31,
     "metadata": {},
     "output_type": "execute_result"
    }
   ],
   "source": [
    "np.asarray((unique, counts)).T"
   ]
  },
  {
   "cell_type": "markdown",
   "metadata": {},
   "source": [
    "Running some metrics:"
   ]
  },
  {
   "cell_type": "code",
   "execution_count": 32,
   "metadata": {},
   "outputs": [
    {
     "data": {
      "text/plain": [
       "array([[1186,  140,   44,   11,   15,    1],\n",
       "       [ 362,  141,    8,    2,    0,    0],\n",
       "       [ 317,   20,   27,    5,    8,    0],\n",
       "       [ 200,    8,    9,    3,    2,    0],\n",
       "       [ 117,    2,    7,    2,   11,    0],\n",
       "       [  11,    6,    0,    0,    0,    1]])"
      ]
     },
     "execution_count": 32,
     "metadata": {},
     "output_type": "execute_result"
    }
   ],
   "source": [
    "cm = confusion_matrix(y_rf_val, y_rf_pred)\n",
    "cm"
   ]
  },
  {
   "cell_type": "markdown",
   "metadata": {},
   "source": [
    "### Px:"
   ]
  },
  {
   "cell_type": "markdown",
   "metadata": {},
   "source": [
    "Adding the predicted pitch types to the validation dataframe, for use as a feature in Px regression:"
   ]
  },
  {
   "cell_type": "code",
   "execution_count": 33,
   "metadata": {},
   "outputs": [
    {
     "name": "stderr",
     "output_type": "stream",
     "text": [
      "<ipython-input-33-5c9b03fe5b97>:1: SettingWithCopyWarning: \n",
      "A value is trying to be set on a copy of a slice from a DataFrame.\n",
      "Try using .loc[row_indexer,col_indexer] = value instead\n",
      "\n",
      "See the caveats in the documentation: https://pandas.pydata.org/pandas-docs/stable/user_guide/indexing.html#returning-a-view-versus-a-copy\n",
      "  val_pitches['pitch_pred'] = y_rf_pred\n"
     ]
    }
   ],
   "source": [
    "val_pitches['pitch_pred'] = y_rf_pred"
   ]
  },
  {
   "cell_type": "markdown",
   "metadata": {},
   "source": [
    "Setting up X and y, with train test split:"
   ]
  },
  {
   "cell_type": "code",
   "execution_count": 34,
   "metadata": {},
   "outputs": [],
   "source": [
    "X_px_tr = training_pitches[px_cols]\n",
    "y_px_tr = training_pitches['px']"
   ]
  },
  {
   "cell_type": "code",
   "execution_count": 35,
   "metadata": {},
   "outputs": [],
   "source": [
    "X_px_val = val_pitches[px_cols_val]\n",
    "y_px_val = val_pitches['px']"
   ]
  },
  {
   "cell_type": "markdown",
   "metadata": {},
   "source": [
    "Instantiating linear regression:"
   ]
  },
  {
   "cell_type": "code",
   "execution_count": 36,
   "metadata": {},
   "outputs": [],
   "source": [
    "lm = LinearRegression()"
   ]
  },
  {
   "cell_type": "code",
   "execution_count": 37,
   "metadata": {},
   "outputs": [
    {
     "data": {
      "text/plain": [
       "LinearRegression()"
      ]
     },
     "execution_count": 37,
     "metadata": {},
     "output_type": "execute_result"
    }
   ],
   "source": [
    "lm.fit(X_px_tr, y_px_tr)"
   ]
  },
  {
   "cell_type": "code",
   "execution_count": 38,
   "metadata": {},
   "outputs": [],
   "source": [
    "px_pred = lm.predict(X_px_val)"
   ]
  },
  {
   "cell_type": "markdown",
   "metadata": {},
   "source": [
    "Getting some metrics:"
   ]
  },
  {
   "cell_type": "code",
   "execution_count": 39,
   "metadata": {},
   "outputs": [
    {
     "data": {
      "text/plain": [
       "0.06443692792880518"
      ]
     },
     "execution_count": 39,
     "metadata": {},
     "output_type": "execute_result"
    }
   ],
   "source": [
    "px_r2 = lm.score(X_px_val, y_px_val)\n",
    "px_r2"
   ]
  },
  {
   "cell_type": "code",
   "execution_count": 40,
   "metadata": {},
   "outputs": [],
   "source": [
    "px_mae = mae(y_px_val, px_pred)"
   ]
  },
  {
   "cell_type": "code",
   "execution_count": 41,
   "metadata": {},
   "outputs": [
    {
     "data": {
      "text/plain": [
       "0.6795902216537721"
      ]
     },
     "execution_count": 41,
     "metadata": {},
     "output_type": "execute_result"
    }
   ],
   "source": [
    "px_mae"
   ]
  },
  {
   "cell_type": "markdown",
   "metadata": {},
   "source": [
    "Adding a px_pred column to the dataframe to utilize in the pz regression:"
   ]
  },
  {
   "cell_type": "code",
   "execution_count": 42,
   "metadata": {},
   "outputs": [
    {
     "name": "stderr",
     "output_type": "stream",
     "text": [
      "<ipython-input-42-77bce8a037dd>:1: SettingWithCopyWarning: \n",
      "A value is trying to be set on a copy of a slice from a DataFrame.\n",
      "Try using .loc[row_indexer,col_indexer] = value instead\n",
      "\n",
      "See the caveats in the documentation: https://pandas.pydata.org/pandas-docs/stable/user_guide/indexing.html#returning-a-view-versus-a-copy\n",
      "  val_pitches['px_pred'] = px_pred\n"
     ]
    }
   ],
   "source": [
    "val_pitches['px_pred'] = px_pred"
   ]
  },
  {
   "cell_type": "markdown",
   "metadata": {},
   "source": [
    "### Pz:"
   ]
  },
  {
   "cell_type": "markdown",
   "metadata": {},
   "source": [
    "Setting up X and y, with train test split:"
   ]
  },
  {
   "cell_type": "code",
   "execution_count": 43,
   "metadata": {},
   "outputs": [],
   "source": [
    "X_pz_tr = training_pitches[pz_cols]\n",
    "y_pz_tr = training_pitches['pz']"
   ]
  },
  {
   "cell_type": "code",
   "execution_count": 44,
   "metadata": {},
   "outputs": [],
   "source": [
    "X_pz_val = val_pitches[pz_cols_val]\n",
    "y_pz_val = val_pitches['pz']"
   ]
  },
  {
   "cell_type": "markdown",
   "metadata": {},
   "source": [
    "Instantiating linear regression:"
   ]
  },
  {
   "cell_type": "code",
   "execution_count": 45,
   "metadata": {},
   "outputs": [],
   "source": [
    "lm = LinearRegression()"
   ]
  },
  {
   "cell_type": "code",
   "execution_count": 46,
   "metadata": {},
   "outputs": [
    {
     "data": {
      "text/plain": [
       "LinearRegression()"
      ]
     },
     "execution_count": 46,
     "metadata": {},
     "output_type": "execute_result"
    }
   ],
   "source": [
    "lm.fit(X_pz_tr, y_pz_tr)"
   ]
  },
  {
   "cell_type": "code",
   "execution_count": 47,
   "metadata": {},
   "outputs": [],
   "source": [
    "pz_pred = lm.predict(X_pz_val)"
   ]
  },
  {
   "cell_type": "markdown",
   "metadata": {},
   "source": [
    "Getting some metrics:"
   ]
  },
  {
   "cell_type": "code",
   "execution_count": 48,
   "metadata": {},
   "outputs": [
    {
     "data": {
      "text/plain": [
       "0.1487819100411506"
      ]
     },
     "execution_count": 48,
     "metadata": {},
     "output_type": "execute_result"
    }
   ],
   "source": [
    "pz_r2 = lm.score(X_pz_val, y_pz_val)\n",
    "pz_r2"
   ]
  },
  {
   "cell_type": "code",
   "execution_count": 49,
   "metadata": {},
   "outputs": [
    {
     "data": {
      "text/plain": [
       "0.6235886665887916"
      ]
     },
     "execution_count": 49,
     "metadata": {},
     "output_type": "execute_result"
    }
   ],
   "source": [
    "pz_mae = mae(y_pz_val, pz_pred)\n",
    "pz_mae"
   ]
  },
  {
   "cell_type": "markdown",
   "metadata": {},
   "source": [
    "Adding a px_pred column to the dataframe to utilize in the pz regression:"
   ]
  },
  {
   "cell_type": "code",
   "execution_count": 50,
   "metadata": {},
   "outputs": [
    {
     "name": "stderr",
     "output_type": "stream",
     "text": [
      "<ipython-input-50-e701ef20288d>:1: SettingWithCopyWarning: \n",
      "A value is trying to be set on a copy of a slice from a DataFrame.\n",
      "Try using .loc[row_indexer,col_indexer] = value instead\n",
      "\n",
      "See the caveats in the documentation: https://pandas.pydata.org/pandas-docs/stable/user_guide/indexing.html#returning-a-view-versus-a-copy\n",
      "  val_pitches['pz_pred'] = pz_pred\n"
     ]
    }
   ],
   "source": [
    "val_pitches['pz_pred'] = pz_pred"
   ]
  },
  {
   "cell_type": "markdown",
   "metadata": {},
   "source": [
    "### Evaluating the pipeline:"
   ]
  },
  {
   "cell_type": "markdown",
   "metadata": {},
   "source": [
    "Looking at the final validation df:"
   ]
  },
  {
   "cell_type": "code",
   "execution_count": 51,
   "metadata": {},
   "outputs": [],
   "source": [
    "output_df = pd.DataFrame(columns=val_pitches.columns)"
   ]
  },
  {
   "cell_type": "code",
   "execution_count": 52,
   "metadata": {},
   "outputs": [],
   "source": [
    "output_df = pd.concat([output_df, val_pitches])"
   ]
  },
  {
   "cell_type": "code",
   "execution_count": 53,
   "metadata": {},
   "outputs": [
    {
     "data": {
      "text/html": [
       "<div>\n",
       "<style scoped>\n",
       "    .dataframe tbody tr th:only-of-type {\n",
       "        vertical-align: middle;\n",
       "    }\n",
       "\n",
       "    .dataframe tbody tr th {\n",
       "        vertical-align: top;\n",
       "    }\n",
       "\n",
       "    .dataframe thead th {\n",
       "        text-align: right;\n",
       "    }\n",
       "</style>\n",
       "<table border=\"1\" class=\"dataframe\">\n",
       "  <thead>\n",
       "    <tr style=\"text-align: right;\">\n",
       "      <th></th>\n",
       "      <th>inning</th>\n",
       "      <th>batter_id</th>\n",
       "      <th>pitcher_id</th>\n",
       "      <th>top</th>\n",
       "      <th>ab_id</th>\n",
       "      <th>p_score</th>\n",
       "      <th>event</th>\n",
       "      <th>home_team</th>\n",
       "      <th>away_team</th>\n",
       "      <th>b_score</th>\n",
       "      <th>...</th>\n",
       "      <th>cumulative_fo_rate</th>\n",
       "      <th>cumulative_sc_rate</th>\n",
       "      <th>Name</th>\n",
       "      <th>Cluster</th>\n",
       "      <th>stand_R</th>\n",
       "      <th>Last_Pitch_Type_Num</th>\n",
       "      <th>Pitch_Type_Num</th>\n",
       "      <th>pitch_pred</th>\n",
       "      <th>px_pred</th>\n",
       "      <th>pz_pred</th>\n",
       "    </tr>\n",
       "  </thead>\n",
       "  <tbody>\n",
       "    <tr>\n",
       "      <th>2453</th>\n",
       "      <td>3.0</td>\n",
       "      <td>527038</td>\n",
       "      <td>453286</td>\n",
       "      <td>1.0</td>\n",
       "      <td>2.015001e+09</td>\n",
       "      <td>0.0</td>\n",
       "      <td>Strikeout</td>\n",
       "      <td>was</td>\n",
       "      <td>nyn</td>\n",
       "      <td>0.0</td>\n",
       "      <td>...</td>\n",
       "      <td>0.0</td>\n",
       "      <td>0.0</td>\n",
       "      <td>Wilmer Flores</td>\n",
       "      <td>3.0</td>\n",
       "      <td>1.0</td>\n",
       "      <td>0</td>\n",
       "      <td>0</td>\n",
       "      <td>0</td>\n",
       "      <td>0.044230</td>\n",
       "      <td>2.523223</td>\n",
       "    </tr>\n",
       "    <tr>\n",
       "      <th>2454</th>\n",
       "      <td>3.0</td>\n",
       "      <td>527038</td>\n",
       "      <td>453286</td>\n",
       "      <td>1.0</td>\n",
       "      <td>2.015001e+09</td>\n",
       "      <td>0.0</td>\n",
       "      <td>Strikeout</td>\n",
       "      <td>was</td>\n",
       "      <td>nyn</td>\n",
       "      <td>0.0</td>\n",
       "      <td>...</td>\n",
       "      <td>0.0</td>\n",
       "      <td>0.0</td>\n",
       "      <td>Wilmer Flores</td>\n",
       "      <td>3.0</td>\n",
       "      <td>1.0</td>\n",
       "      <td>0</td>\n",
       "      <td>0</td>\n",
       "      <td>0</td>\n",
       "      <td>0.007730</td>\n",
       "      <td>2.420953</td>\n",
       "    </tr>\n",
       "    <tr>\n",
       "      <th>2455</th>\n",
       "      <td>3.0</td>\n",
       "      <td>527038</td>\n",
       "      <td>453286</td>\n",
       "      <td>1.0</td>\n",
       "      <td>2.015001e+09</td>\n",
       "      <td>0.0</td>\n",
       "      <td>Strikeout</td>\n",
       "      <td>was</td>\n",
       "      <td>nyn</td>\n",
       "      <td>0.0</td>\n",
       "      <td>...</td>\n",
       "      <td>0.0</td>\n",
       "      <td>0.0</td>\n",
       "      <td>Wilmer Flores</td>\n",
       "      <td>3.0</td>\n",
       "      <td>1.0</td>\n",
       "      <td>0</td>\n",
       "      <td>0</td>\n",
       "      <td>1</td>\n",
       "      <td>0.113485</td>\n",
       "      <td>2.260595</td>\n",
       "    </tr>\n",
       "    <tr>\n",
       "      <th>2496</th>\n",
       "      <td>5.0</td>\n",
       "      <td>502517</td>\n",
       "      <td>453286</td>\n",
       "      <td>1.0</td>\n",
       "      <td>2.015001e+09</td>\n",
       "      <td>1.0</td>\n",
       "      <td>Flyout</td>\n",
       "      <td>was</td>\n",
       "      <td>nyn</td>\n",
       "      <td>0.0</td>\n",
       "      <td>...</td>\n",
       "      <td>0.0</td>\n",
       "      <td>0.0</td>\n",
       "      <td>Daniel Murphy</td>\n",
       "      <td>3.0</td>\n",
       "      <td>0.0</td>\n",
       "      <td>1</td>\n",
       "      <td>0</td>\n",
       "      <td>0</td>\n",
       "      <td>-0.234551</td>\n",
       "      <td>2.645617</td>\n",
       "    </tr>\n",
       "    <tr>\n",
       "      <th>2497</th>\n",
       "      <td>5.0</td>\n",
       "      <td>502517</td>\n",
       "      <td>453286</td>\n",
       "      <td>1.0</td>\n",
       "      <td>2.015001e+09</td>\n",
       "      <td>1.0</td>\n",
       "      <td>Flyout</td>\n",
       "      <td>was</td>\n",
       "      <td>nyn</td>\n",
       "      <td>0.0</td>\n",
       "      <td>...</td>\n",
       "      <td>0.0</td>\n",
       "      <td>0.0</td>\n",
       "      <td>Daniel Murphy</td>\n",
       "      <td>3.0</td>\n",
       "      <td>0.0</td>\n",
       "      <td>0</td>\n",
       "      <td>0</td>\n",
       "      <td>0</td>\n",
       "      <td>-0.328774</td>\n",
       "      <td>2.583225</td>\n",
       "    </tr>\n",
       "    <tr>\n",
       "      <th>...</th>\n",
       "      <td>...</td>\n",
       "      <td>...</td>\n",
       "      <td>...</td>\n",
       "      <td>...</td>\n",
       "      <td>...</td>\n",
       "      <td>...</td>\n",
       "      <td>...</td>\n",
       "      <td>...</td>\n",
       "      <td>...</td>\n",
       "      <td>...</td>\n",
       "      <td>...</td>\n",
       "      <td>...</td>\n",
       "      <td>...</td>\n",
       "      <td>...</td>\n",
       "      <td>...</td>\n",
       "      <td>...</td>\n",
       "      <td>...</td>\n",
       "      <td>...</td>\n",
       "      <td>...</td>\n",
       "      <td>...</td>\n",
       "      <td>...</td>\n",
       "    </tr>\n",
       "    <tr>\n",
       "      <th>2846534</th>\n",
       "      <td>6.0</td>\n",
       "      <td>598284</td>\n",
       "      <td>453286</td>\n",
       "      <td>1.0</td>\n",
       "      <td>2.018179e+09</td>\n",
       "      <td>3.0</td>\n",
       "      <td>Single</td>\n",
       "      <td>was</td>\n",
       "      <td>mia</td>\n",
       "      <td>1.0</td>\n",
       "      <td>...</td>\n",
       "      <td>0.0</td>\n",
       "      <td>0.0</td>\n",
       "      <td>Peter O'Brien</td>\n",
       "      <td>1.0</td>\n",
       "      <td>1.0</td>\n",
       "      <td>0</td>\n",
       "      <td>1</td>\n",
       "      <td>1</td>\n",
       "      <td>0.219846</td>\n",
       "      <td>1.985454</td>\n",
       "    </tr>\n",
       "    <tr>\n",
       "      <th>2846535</th>\n",
       "      <td>6.0</td>\n",
       "      <td>598284</td>\n",
       "      <td>453286</td>\n",
       "      <td>1.0</td>\n",
       "      <td>2.018179e+09</td>\n",
       "      <td>3.0</td>\n",
       "      <td>Single</td>\n",
       "      <td>was</td>\n",
       "      <td>mia</td>\n",
       "      <td>1.0</td>\n",
       "      <td>...</td>\n",
       "      <td>0.0</td>\n",
       "      <td>0.0</td>\n",
       "      <td>Peter O'Brien</td>\n",
       "      <td>1.0</td>\n",
       "      <td>1.0</td>\n",
       "      <td>1</td>\n",
       "      <td>1</td>\n",
       "      <td>1</td>\n",
       "      <td>0.250910</td>\n",
       "      <td>1.893609</td>\n",
       "    </tr>\n",
       "    <tr>\n",
       "      <th>2846536</th>\n",
       "      <td>6.0</td>\n",
       "      <td>598284</td>\n",
       "      <td>453286</td>\n",
       "      <td>1.0</td>\n",
       "      <td>2.018179e+09</td>\n",
       "      <td>3.0</td>\n",
       "      <td>Single</td>\n",
       "      <td>was</td>\n",
       "      <td>mia</td>\n",
       "      <td>1.0</td>\n",
       "      <td>...</td>\n",
       "      <td>0.0</td>\n",
       "      <td>0.0</td>\n",
       "      <td>Peter O'Brien</td>\n",
       "      <td>1.0</td>\n",
       "      <td>1.0</td>\n",
       "      <td>1</td>\n",
       "      <td>0</td>\n",
       "      <td>0</td>\n",
       "      <td>0.108060</td>\n",
       "      <td>2.269643</td>\n",
       "    </tr>\n",
       "    <tr>\n",
       "      <th>2846537</th>\n",
       "      <td>6.0</td>\n",
       "      <td>598284</td>\n",
       "      <td>453286</td>\n",
       "      <td>1.0</td>\n",
       "      <td>2.018179e+09</td>\n",
       "      <td>3.0</td>\n",
       "      <td>Single</td>\n",
       "      <td>was</td>\n",
       "      <td>mia</td>\n",
       "      <td>1.0</td>\n",
       "      <td>...</td>\n",
       "      <td>0.0</td>\n",
       "      <td>0.0</td>\n",
       "      <td>Peter O'Brien</td>\n",
       "      <td>1.0</td>\n",
       "      <td>1.0</td>\n",
       "      <td>0</td>\n",
       "      <td>2</td>\n",
       "      <td>0</td>\n",
       "      <td>0.029326</td>\n",
       "      <td>1.923316</td>\n",
       "    </tr>\n",
       "    <tr>\n",
       "      <th>2846538</th>\n",
       "      <td>6.0</td>\n",
       "      <td>598284</td>\n",
       "      <td>453286</td>\n",
       "      <td>1.0</td>\n",
       "      <td>2.018179e+09</td>\n",
       "      <td>3.0</td>\n",
       "      <td>Single</td>\n",
       "      <td>was</td>\n",
       "      <td>mia</td>\n",
       "      <td>1.0</td>\n",
       "      <td>...</td>\n",
       "      <td>0.0</td>\n",
       "      <td>0.0</td>\n",
       "      <td>Peter O'Brien</td>\n",
       "      <td>1.0</td>\n",
       "      <td>1.0</td>\n",
       "      <td>2</td>\n",
       "      <td>1</td>\n",
       "      <td>0</td>\n",
       "      <td>0.010845</td>\n",
       "      <td>2.120709</td>\n",
       "    </tr>\n",
       "  </tbody>\n",
       "</table>\n",
       "<p>2666 rows × 54 columns</p>\n",
       "</div>"
      ],
      "text/plain": [
       "         inning batter_id pitcher_id  top         ab_id  p_score      event  \\\n",
       "2453        3.0    527038     453286  1.0  2.015001e+09      0.0  Strikeout   \n",
       "2454        3.0    527038     453286  1.0  2.015001e+09      0.0  Strikeout   \n",
       "2455        3.0    527038     453286  1.0  2.015001e+09      0.0  Strikeout   \n",
       "2496        5.0    502517     453286  1.0  2.015001e+09      1.0     Flyout   \n",
       "2497        5.0    502517     453286  1.0  2.015001e+09      1.0     Flyout   \n",
       "...         ...       ...        ...  ...           ...      ...        ...   \n",
       "2846534     6.0    598284     453286  1.0  2.018179e+09      3.0     Single   \n",
       "2846535     6.0    598284     453286  1.0  2.018179e+09      3.0     Single   \n",
       "2846536     6.0    598284     453286  1.0  2.018179e+09      3.0     Single   \n",
       "2846537     6.0    598284     453286  1.0  2.018179e+09      3.0     Single   \n",
       "2846538     6.0    598284     453286  1.0  2.018179e+09      3.0     Single   \n",
       "\n",
       "        home_team away_team  b_score  ...  cumulative_fo_rate  \\\n",
       "2453          was       nyn      0.0  ...                 0.0   \n",
       "2454          was       nyn      0.0  ...                 0.0   \n",
       "2455          was       nyn      0.0  ...                 0.0   \n",
       "2496          was       nyn      0.0  ...                 0.0   \n",
       "2497          was       nyn      0.0  ...                 0.0   \n",
       "...           ...       ...      ...  ...                 ...   \n",
       "2846534       was       mia      1.0  ...                 0.0   \n",
       "2846535       was       mia      1.0  ...                 0.0   \n",
       "2846536       was       mia      1.0  ...                 0.0   \n",
       "2846537       was       mia      1.0  ...                 0.0   \n",
       "2846538       was       mia      1.0  ...                 0.0   \n",
       "\n",
       "         cumulative_sc_rate           Name  Cluster  stand_R  \\\n",
       "2453                    0.0  Wilmer Flores      3.0      1.0   \n",
       "2454                    0.0  Wilmer Flores      3.0      1.0   \n",
       "2455                    0.0  Wilmer Flores      3.0      1.0   \n",
       "2496                    0.0  Daniel Murphy      3.0      0.0   \n",
       "2497                    0.0  Daniel Murphy      3.0      0.0   \n",
       "...                     ...            ...      ...      ...   \n",
       "2846534                 0.0  Peter O'Brien      1.0      1.0   \n",
       "2846535                 0.0  Peter O'Brien      1.0      1.0   \n",
       "2846536                 0.0  Peter O'Brien      1.0      1.0   \n",
       "2846537                 0.0  Peter O'Brien      1.0      1.0   \n",
       "2846538                 0.0  Peter O'Brien      1.0      1.0   \n",
       "\n",
       "        Last_Pitch_Type_Num Pitch_Type_Num  pitch_pred   px_pred   pz_pred  \n",
       "2453                      0              0           0  0.044230  2.523223  \n",
       "2454                      0              0           0  0.007730  2.420953  \n",
       "2455                      0              0           1  0.113485  2.260595  \n",
       "2496                      1              0           0 -0.234551  2.645617  \n",
       "2497                      0              0           0 -0.328774  2.583225  \n",
       "...                     ...            ...         ...       ...       ...  \n",
       "2846534                   0              1           1  0.219846  1.985454  \n",
       "2846535                   1              1           1  0.250910  1.893609  \n",
       "2846536                   1              0           0  0.108060  2.269643  \n",
       "2846537                   0              2           0  0.029326  1.923316  \n",
       "2846538                   2              1           0  0.010845  2.120709  \n",
       "\n",
       "[2666 rows x 54 columns]"
      ]
     },
     "execution_count": 53,
     "metadata": {},
     "output_type": "execute_result"
    }
   ],
   "source": [
    "output_df"
   ]
  },
  {
   "cell_type": "code",
   "execution_count": 54,
   "metadata": {},
   "outputs": [
    {
     "data": {
      "text/html": [
       "<div>\n",
       "<style scoped>\n",
       "    .dataframe tbody tr th:only-of-type {\n",
       "        vertical-align: middle;\n",
       "    }\n",
       "\n",
       "    .dataframe tbody tr th {\n",
       "        vertical-align: top;\n",
       "    }\n",
       "\n",
       "    .dataframe thead th {\n",
       "        text-align: right;\n",
       "    }\n",
       "</style>\n",
       "<table border=\"1\" class=\"dataframe\">\n",
       "  <thead>\n",
       "    <tr style=\"text-align: right;\">\n",
       "      <th></th>\n",
       "      <th>inning</th>\n",
       "      <th>batter_id</th>\n",
       "      <th>pitcher_id</th>\n",
       "      <th>top</th>\n",
       "      <th>ab_id</th>\n",
       "      <th>p_score</th>\n",
       "      <th>event</th>\n",
       "      <th>home_team</th>\n",
       "      <th>away_team</th>\n",
       "      <th>b_score</th>\n",
       "      <th>...</th>\n",
       "      <th>cumulative_fo_rate</th>\n",
       "      <th>cumulative_sc_rate</th>\n",
       "      <th>Name</th>\n",
       "      <th>Cluster</th>\n",
       "      <th>stand_R</th>\n",
       "      <th>Last_Pitch_Type_Num</th>\n",
       "      <th>Pitch_Type_Num</th>\n",
       "      <th>pitch_pred</th>\n",
       "      <th>px_pred</th>\n",
       "      <th>pz_pred</th>\n",
       "    </tr>\n",
       "  </thead>\n",
       "  <tbody>\n",
       "    <tr>\n",
       "      <th>2453</th>\n",
       "      <td>3.0</td>\n",
       "      <td>527038</td>\n",
       "      <td>453286</td>\n",
       "      <td>1.0</td>\n",
       "      <td>2.015001e+09</td>\n",
       "      <td>0.0</td>\n",
       "      <td>Strikeout</td>\n",
       "      <td>was</td>\n",
       "      <td>nyn</td>\n",
       "      <td>0.0</td>\n",
       "      <td>...</td>\n",
       "      <td>0.0</td>\n",
       "      <td>0.0</td>\n",
       "      <td>Wilmer Flores</td>\n",
       "      <td>3.0</td>\n",
       "      <td>1.0</td>\n",
       "      <td>0</td>\n",
       "      <td>0</td>\n",
       "      <td>0</td>\n",
       "      <td>0.044230</td>\n",
       "      <td>2.523223</td>\n",
       "    </tr>\n",
       "    <tr>\n",
       "      <th>2454</th>\n",
       "      <td>3.0</td>\n",
       "      <td>527038</td>\n",
       "      <td>453286</td>\n",
       "      <td>1.0</td>\n",
       "      <td>2.015001e+09</td>\n",
       "      <td>0.0</td>\n",
       "      <td>Strikeout</td>\n",
       "      <td>was</td>\n",
       "      <td>nyn</td>\n",
       "      <td>0.0</td>\n",
       "      <td>...</td>\n",
       "      <td>0.0</td>\n",
       "      <td>0.0</td>\n",
       "      <td>Wilmer Flores</td>\n",
       "      <td>3.0</td>\n",
       "      <td>1.0</td>\n",
       "      <td>0</td>\n",
       "      <td>0</td>\n",
       "      <td>0</td>\n",
       "      <td>0.007730</td>\n",
       "      <td>2.420953</td>\n",
       "    </tr>\n",
       "    <tr>\n",
       "      <th>2455</th>\n",
       "      <td>3.0</td>\n",
       "      <td>527038</td>\n",
       "      <td>453286</td>\n",
       "      <td>1.0</td>\n",
       "      <td>2.015001e+09</td>\n",
       "      <td>0.0</td>\n",
       "      <td>Strikeout</td>\n",
       "      <td>was</td>\n",
       "      <td>nyn</td>\n",
       "      <td>0.0</td>\n",
       "      <td>...</td>\n",
       "      <td>0.0</td>\n",
       "      <td>0.0</td>\n",
       "      <td>Wilmer Flores</td>\n",
       "      <td>3.0</td>\n",
       "      <td>1.0</td>\n",
       "      <td>0</td>\n",
       "      <td>0</td>\n",
       "      <td>1</td>\n",
       "      <td>0.113485</td>\n",
       "      <td>2.260595</td>\n",
       "    </tr>\n",
       "    <tr>\n",
       "      <th>2496</th>\n",
       "      <td>5.0</td>\n",
       "      <td>502517</td>\n",
       "      <td>453286</td>\n",
       "      <td>1.0</td>\n",
       "      <td>2.015001e+09</td>\n",
       "      <td>1.0</td>\n",
       "      <td>Flyout</td>\n",
       "      <td>was</td>\n",
       "      <td>nyn</td>\n",
       "      <td>0.0</td>\n",
       "      <td>...</td>\n",
       "      <td>0.0</td>\n",
       "      <td>0.0</td>\n",
       "      <td>Daniel Murphy</td>\n",
       "      <td>3.0</td>\n",
       "      <td>0.0</td>\n",
       "      <td>1</td>\n",
       "      <td>0</td>\n",
       "      <td>0</td>\n",
       "      <td>-0.234551</td>\n",
       "      <td>2.645617</td>\n",
       "    </tr>\n",
       "    <tr>\n",
       "      <th>2497</th>\n",
       "      <td>5.0</td>\n",
       "      <td>502517</td>\n",
       "      <td>453286</td>\n",
       "      <td>1.0</td>\n",
       "      <td>2.015001e+09</td>\n",
       "      <td>1.0</td>\n",
       "      <td>Flyout</td>\n",
       "      <td>was</td>\n",
       "      <td>nyn</td>\n",
       "      <td>0.0</td>\n",
       "      <td>...</td>\n",
       "      <td>0.0</td>\n",
       "      <td>0.0</td>\n",
       "      <td>Daniel Murphy</td>\n",
       "      <td>3.0</td>\n",
       "      <td>0.0</td>\n",
       "      <td>0</td>\n",
       "      <td>0</td>\n",
       "      <td>0</td>\n",
       "      <td>-0.328774</td>\n",
       "      <td>2.583225</td>\n",
       "    </tr>\n",
       "  </tbody>\n",
       "</table>\n",
       "<p>5 rows × 54 columns</p>\n",
       "</div>"
      ],
      "text/plain": [
       "      inning  batter_id  pitcher_id  top         ab_id  p_score      event  \\\n",
       "2453     3.0     527038      453286  1.0  2.015001e+09      0.0  Strikeout   \n",
       "2454     3.0     527038      453286  1.0  2.015001e+09      0.0  Strikeout   \n",
       "2455     3.0     527038      453286  1.0  2.015001e+09      0.0  Strikeout   \n",
       "2496     5.0     502517      453286  1.0  2.015001e+09      1.0     Flyout   \n",
       "2497     5.0     502517      453286  1.0  2.015001e+09      1.0     Flyout   \n",
       "\n",
       "     home_team away_team  b_score  ...  cumulative_fo_rate  \\\n",
       "2453       was       nyn      0.0  ...                 0.0   \n",
       "2454       was       nyn      0.0  ...                 0.0   \n",
       "2455       was       nyn      0.0  ...                 0.0   \n",
       "2496       was       nyn      0.0  ...                 0.0   \n",
       "2497       was       nyn      0.0  ...                 0.0   \n",
       "\n",
       "      cumulative_sc_rate           Name  Cluster  stand_R Last_Pitch_Type_Num  \\\n",
       "2453                 0.0  Wilmer Flores      3.0      1.0                   0   \n",
       "2454                 0.0  Wilmer Flores      3.0      1.0                   0   \n",
       "2455                 0.0  Wilmer Flores      3.0      1.0                   0   \n",
       "2496                 0.0  Daniel Murphy      3.0      0.0                   1   \n",
       "2497                 0.0  Daniel Murphy      3.0      0.0                   0   \n",
       "\n",
       "     Pitch_Type_Num  pitch_pred   px_pred   pz_pred  \n",
       "2453              0           0  0.044230  2.523223  \n",
       "2454              0           0  0.007730  2.420953  \n",
       "2455              0           1  0.113485  2.260595  \n",
       "2496              0           0 -0.234551  2.645617  \n",
       "2497              0           0 -0.328774  2.583225  \n",
       "\n",
       "[5 rows x 54 columns]"
      ]
     },
     "execution_count": 54,
     "metadata": {},
     "output_type": "execute_result"
    }
   ],
   "source": [
    "val_pitches.head()"
   ]
  },
  {
   "cell_type": "code",
   "execution_count": 55,
   "metadata": {},
   "outputs": [
    {
     "data": {
      "text/plain": [
       "(2666, 54)"
      ]
     },
     "execution_count": 55,
     "metadata": {},
     "output_type": "execute_result"
    }
   ],
   "source": [
    "val_pitches.shape"
   ]
  },
  {
   "cell_type": "code",
   "execution_count": 56,
   "metadata": {},
   "outputs": [
    {
     "data": {
      "text/plain": [
       "Index(['inning', 'batter_id', 'pitcher_id', 'top', 'ab_id', 'p_score', 'event',\n",
       "       'home_team', 'away_team', 'b_score', 'on_1b', 'on_2b', 'on_3b', 'px',\n",
       "       'pz', 'zone', 'pitch_type', 'start_speed', 'type', 'b_count', 's_count',\n",
       "       'outs', 'pitch_num', 'last_pitch_type', 'last_pitch_px',\n",
       "       'last_pitch_pz', 'last_pitch_speed', 'pitcher_full_name',\n",
       "       'pitcher_run_diff', 'hitter_full_name', 'Date_Time_Date', 'Season',\n",
       "       'cumulative_pitches', 'cumulative_ff_rate', 'cumulative_sl_rate',\n",
       "       'cumulative_ft_rate', 'cumulative_ch_rate', 'cumulative_cu_rate',\n",
       "       'cumulative_si_rate', 'cumulative_fc_rate', 'cumulative_kc_rate',\n",
       "       'cumulative_fs_rate', 'cumulative_kn_rate', 'cumulative_ep_rate',\n",
       "       'cumulative_fo_rate', 'cumulative_sc_rate', 'Name', 'Cluster',\n",
       "       'stand_R', 'Last_Pitch_Type_Num', 'Pitch_Type_Num', 'pitch_pred',\n",
       "       'px_pred', 'pz_pred'],\n",
       "      dtype='object')"
      ]
     },
     "execution_count": 56,
     "metadata": {},
     "output_type": "execute_result"
    }
   ],
   "source": [
    "val_pitches.columns"
   ]
  },
  {
   "cell_type": "markdown",
   "metadata": {},
   "source": [
    "# Utilizing Functions"
   ]
  },
  {
   "cell_type": "markdown",
   "metadata": {},
   "source": [
    "Based on the above, I put together functions to run this same process in classification_location_combo.py.  Running those here:"
   ]
  },
  {
   "cell_type": "markdown",
   "metadata": {},
   "source": [
    "### Random Forest:"
   ]
  },
  {
   "cell_type": "code",
   "execution_count": 57,
   "metadata": {
    "scrolled": false
   },
   "outputs": [
    {
     "name": "stdout",
     "output_type": "stream",
     "text": [
      "Pitch Modeling for Max Scherzer\n",
      "Here is the coding for last pitch type:\n",
      "{'FF': 0, 'SL': 1, 'CH': 2, 'CU': 3, 'FC': 4, 'FT': 5, 'UN': 6}\n"
     ]
    },
    {
     "name": "stderr",
     "output_type": "stream",
     "text": [
      "/Users/patrickbovard/opt/anaconda3/envs/metis/lib/python3.8/site-packages/pandas/core/indexing.py:670: SettingWithCopyWarning: \n",
      "A value is trying to be set on a copy of a slice from a DataFrame\n",
      "\n",
      "See the caveats in the documentation: https://pandas.pydata.org/pandas-docs/stable/user_guide/indexing.html#returning-a-view-versus-a-copy\n",
      "  iloc._setitem_with_indexer(indexer, value)\n"
     ]
    },
    {
     "name": "stdout",
     "output_type": "stream",
     "text": [
      "Here is the coding for pitch type:\n",
      "{'FF': 0, 'SL': 1, 'CH': 2, 'CU': 3, 'FC': 4, 'FT': 5}\n",
      "Actual Test Size: 0.24353704211199415\n",
      "Accuracy: 0.5153788447111778\n",
      "Precision: (0.3562664410132765,)\n",
      "Recall: 0.2232799413526301\n",
      "Random Forest Pitch Classification confusion matrix results:\n",
      "[[1198  132   35   15   16    1]\n",
      " [ 375  131    6    1    0    0]\n",
      " [ 311   21   32    6    7    0]\n",
      " [ 198    8   12    0    4    0]\n",
      " [ 119    2    6    0   12    0]\n",
      " [  11    6    0    0    0    1]]\n",
      "Val Px R^2: 0.06217340518712988\n",
      "Val Px MAE: 0.6799217544894862 ft.\n",
      "Val Pz R^2: 0.14797326755723217\n",
      "Val Pz MAE: 0.6239260720953342 ft.\n"
     ]
    }
   ],
   "source": [
    "val_df_full = pitch_prediction_modeling_pipeline('Max Scherzer', pitch_df, split_size = 0.2)"
   ]
  },
  {
   "cell_type": "code",
   "execution_count": 58,
   "metadata": {},
   "outputs": [
    {
     "data": {
      "text/html": [
       "<div>\n",
       "<style scoped>\n",
       "    .dataframe tbody tr th:only-of-type {\n",
       "        vertical-align: middle;\n",
       "    }\n",
       "\n",
       "    .dataframe tbody tr th {\n",
       "        vertical-align: top;\n",
       "    }\n",
       "\n",
       "    .dataframe thead th {\n",
       "        text-align: right;\n",
       "    }\n",
       "</style>\n",
       "<table border=\"1\" class=\"dataframe\">\n",
       "  <thead>\n",
       "    <tr style=\"text-align: right;\">\n",
       "      <th></th>\n",
       "      <th>inning</th>\n",
       "      <th>batter_id</th>\n",
       "      <th>pitcher_id</th>\n",
       "      <th>top</th>\n",
       "      <th>ab_id</th>\n",
       "      <th>p_score</th>\n",
       "      <th>event</th>\n",
       "      <th>home_team</th>\n",
       "      <th>away_team</th>\n",
       "      <th>b_score</th>\n",
       "      <th>...</th>\n",
       "      <th>Pitch_Type_Num</th>\n",
       "      <th>pitch_pred</th>\n",
       "      <th>FF_prob</th>\n",
       "      <th>SL_prob</th>\n",
       "      <th>CH_prob</th>\n",
       "      <th>CU_prob</th>\n",
       "      <th>FC_prob</th>\n",
       "      <th>FT_prob</th>\n",
       "      <th>px_pred</th>\n",
       "      <th>pz_pred</th>\n",
       "    </tr>\n",
       "  </thead>\n",
       "  <tbody>\n",
       "    <tr>\n",
       "      <th>2453</th>\n",
       "      <td>3.0</td>\n",
       "      <td>527038</td>\n",
       "      <td>453286</td>\n",
       "      <td>1.0</td>\n",
       "      <td>2.015001e+09</td>\n",
       "      <td>0.0</td>\n",
       "      <td>Strikeout</td>\n",
       "      <td>was</td>\n",
       "      <td>nyn</td>\n",
       "      <td>0.0</td>\n",
       "      <td>...</td>\n",
       "      <td>0</td>\n",
       "      <td>0</td>\n",
       "      <td>0.69</td>\n",
       "      <td>0.15</td>\n",
       "      <td>0.01</td>\n",
       "      <td>0.01</td>\n",
       "      <td>0.14</td>\n",
       "      <td>0.0</td>\n",
       "      <td>0.044230</td>\n",
       "      <td>2.523223</td>\n",
       "    </tr>\n",
       "    <tr>\n",
       "      <th>2454</th>\n",
       "      <td>3.0</td>\n",
       "      <td>527038</td>\n",
       "      <td>453286</td>\n",
       "      <td>1.0</td>\n",
       "      <td>2.015001e+09</td>\n",
       "      <td>0.0</td>\n",
       "      <td>Strikeout</td>\n",
       "      <td>was</td>\n",
       "      <td>nyn</td>\n",
       "      <td>0.0</td>\n",
       "      <td>...</td>\n",
       "      <td>0</td>\n",
       "      <td>0</td>\n",
       "      <td>0.55</td>\n",
       "      <td>0.20</td>\n",
       "      <td>0.01</td>\n",
       "      <td>0.07</td>\n",
       "      <td>0.17</td>\n",
       "      <td>0.0</td>\n",
       "      <td>0.007730</td>\n",
       "      <td>2.420953</td>\n",
       "    </tr>\n",
       "    <tr>\n",
       "      <th>2455</th>\n",
       "      <td>3.0</td>\n",
       "      <td>527038</td>\n",
       "      <td>453286</td>\n",
       "      <td>1.0</td>\n",
       "      <td>2.015001e+09</td>\n",
       "      <td>0.0</td>\n",
       "      <td>Strikeout</td>\n",
       "      <td>was</td>\n",
       "      <td>nyn</td>\n",
       "      <td>0.0</td>\n",
       "      <td>...</td>\n",
       "      <td>0</td>\n",
       "      <td>1</td>\n",
       "      <td>0.25</td>\n",
       "      <td>0.52</td>\n",
       "      <td>0.17</td>\n",
       "      <td>0.03</td>\n",
       "      <td>0.03</td>\n",
       "      <td>0.0</td>\n",
       "      <td>0.113485</td>\n",
       "      <td>2.260595</td>\n",
       "    </tr>\n",
       "    <tr>\n",
       "      <th>2496</th>\n",
       "      <td>5.0</td>\n",
       "      <td>502517</td>\n",
       "      <td>453286</td>\n",
       "      <td>1.0</td>\n",
       "      <td>2.015001e+09</td>\n",
       "      <td>1.0</td>\n",
       "      <td>Flyout</td>\n",
       "      <td>was</td>\n",
       "      <td>nyn</td>\n",
       "      <td>0.0</td>\n",
       "      <td>...</td>\n",
       "      <td>0</td>\n",
       "      <td>0</td>\n",
       "      <td>0.55</td>\n",
       "      <td>0.03</td>\n",
       "      <td>0.13</td>\n",
       "      <td>0.28</td>\n",
       "      <td>0.01</td>\n",
       "      <td>0.0</td>\n",
       "      <td>-0.234551</td>\n",
       "      <td>2.645617</td>\n",
       "    </tr>\n",
       "    <tr>\n",
       "      <th>2497</th>\n",
       "      <td>5.0</td>\n",
       "      <td>502517</td>\n",
       "      <td>453286</td>\n",
       "      <td>1.0</td>\n",
       "      <td>2.015001e+09</td>\n",
       "      <td>1.0</td>\n",
       "      <td>Flyout</td>\n",
       "      <td>was</td>\n",
       "      <td>nyn</td>\n",
       "      <td>0.0</td>\n",
       "      <td>...</td>\n",
       "      <td>0</td>\n",
       "      <td>0</td>\n",
       "      <td>0.34</td>\n",
       "      <td>0.11</td>\n",
       "      <td>0.17</td>\n",
       "      <td>0.33</td>\n",
       "      <td>0.05</td>\n",
       "      <td>0.0</td>\n",
       "      <td>-0.328774</td>\n",
       "      <td>2.583225</td>\n",
       "    </tr>\n",
       "  </tbody>\n",
       "</table>\n",
       "<p>5 rows × 60 columns</p>\n",
       "</div>"
      ],
      "text/plain": [
       "      inning  batter_id  pitcher_id  top         ab_id  p_score      event  \\\n",
       "2453     3.0     527038      453286  1.0  2.015001e+09      0.0  Strikeout   \n",
       "2454     3.0     527038      453286  1.0  2.015001e+09      0.0  Strikeout   \n",
       "2455     3.0     527038      453286  1.0  2.015001e+09      0.0  Strikeout   \n",
       "2496     5.0     502517      453286  1.0  2.015001e+09      1.0     Flyout   \n",
       "2497     5.0     502517      453286  1.0  2.015001e+09      1.0     Flyout   \n",
       "\n",
       "     home_team away_team  b_score  ...  Pitch_Type_Num  pitch_pred  FF_prob  \\\n",
       "2453       was       nyn      0.0  ...               0           0     0.69   \n",
       "2454       was       nyn      0.0  ...               0           0     0.55   \n",
       "2455       was       nyn      0.0  ...               0           1     0.25   \n",
       "2496       was       nyn      0.0  ...               0           0     0.55   \n",
       "2497       was       nyn      0.0  ...               0           0     0.34   \n",
       "\n",
       "      SL_prob  CH_prob CU_prob FC_prob  FT_prob   px_pred   pz_pred  \n",
       "2453     0.15     0.01    0.01    0.14      0.0  0.044230  2.523223  \n",
       "2454     0.20     0.01    0.07    0.17      0.0  0.007730  2.420953  \n",
       "2455     0.52     0.17    0.03    0.03      0.0  0.113485  2.260595  \n",
       "2496     0.03     0.13    0.28    0.01      0.0 -0.234551  2.645617  \n",
       "2497     0.11     0.17    0.33    0.05      0.0 -0.328774  2.583225  \n",
       "\n",
       "[5 rows x 60 columns]"
      ]
     },
     "execution_count": 58,
     "metadata": {},
     "output_type": "execute_result"
    }
   ],
   "source": [
    "val_df_full.head()"
   ]
  },
  {
   "cell_type": "markdown",
   "metadata": {},
   "source": [
    "Trying with another pitcher:"
   ]
  },
  {
   "cell_type": "code",
   "execution_count": 59,
   "metadata": {},
   "outputs": [
    {
     "name": "stdout",
     "output_type": "stream",
     "text": [
      "Pitch Modeling for Rick Porcello\n",
      "Here is the coding for last pitch type:\n",
      "{'FT': 0, 'FF': 1, 'CU': 2, 'SL': 3, 'CH': 4, 'EP': 5, 'SI': 6, 'PO': 7}\n"
     ]
    },
    {
     "name": "stderr",
     "output_type": "stream",
     "text": [
      "/Users/patrickbovard/opt/anaconda3/envs/metis/lib/python3.8/site-packages/pandas/core/indexing.py:670: SettingWithCopyWarning: \n",
      "A value is trying to be set on a copy of a slice from a DataFrame\n",
      "\n",
      "See the caveats in the documentation: https://pandas.pydata.org/pandas-docs/stable/user_guide/indexing.html#returning-a-view-versus-a-copy\n",
      "  iloc._setitem_with_indexer(indexer, value)\n"
     ]
    },
    {
     "name": "stdout",
     "output_type": "stream",
     "text": [
      "Here is the coding for pitch type:\n",
      "{'FT': 0, 'FF': 1, 'SL': 2, 'CU': 3, 'CH': 4, 'SI': 5}\n",
      "Actual Test Size: 0.24137595010719157\n",
      "Accuracy: 0.413403310456197\n",
      "Precision: (0.3082354601213106,)\n",
      "Recall: 0.27011107979952925\n",
      "Random Forest Pitch Classification confusion matrix results:\n",
      "[[542 159  55  19  22   0]\n",
      " [219 329  49  35  14   0]\n",
      " [182 122  76  17  12   0]\n",
      " [145 112  30  45  12   0]\n",
      " [112  81  33  21  32   0]\n",
      " [  0   2   0   0   0   0]]\n",
      "Val Px R^2: 0.01625097051207347\n",
      "Val Px MAE: 0.6479778321352762 ft.\n",
      "Val Pz R^2: 0.0630893631249938\n",
      "Val Pz MAE: 0.7294874864012376 ft.\n"
     ]
    },
    {
     "name": "stderr",
     "output_type": "stream",
     "text": [
      "/Users/patrickbovard/opt/anaconda3/envs/metis/lib/python3.8/site-packages/sklearn/metrics/_classification.py:1245: UndefinedMetricWarning: Precision is ill-defined and being set to 0.0 in labels with no predicted samples. Use `zero_division` parameter to control this behavior.\n",
      "  _warn_prf(average, modifier, msg_start, len(result))\n"
     ]
    }
   ],
   "source": [
    "val_df_full = pitch_prediction_modeling_pipeline('Rick Porcello', pitch_df, split_size = 0.2)"
   ]
  },
  {
   "cell_type": "code",
   "execution_count": 60,
   "metadata": {},
   "outputs": [
    {
     "data": {
      "text/html": [
       "<div>\n",
       "<style scoped>\n",
       "    .dataframe tbody tr th:only-of-type {\n",
       "        vertical-align: middle;\n",
       "    }\n",
       "\n",
       "    .dataframe tbody tr th {\n",
       "        vertical-align: top;\n",
       "    }\n",
       "\n",
       "    .dataframe thead th {\n",
       "        text-align: right;\n",
       "    }\n",
       "</style>\n",
       "<table border=\"1\" class=\"dataframe\">\n",
       "  <thead>\n",
       "    <tr style=\"text-align: right;\">\n",
       "      <th></th>\n",
       "      <th>inning</th>\n",
       "      <th>batter_id</th>\n",
       "      <th>pitcher_id</th>\n",
       "      <th>top</th>\n",
       "      <th>ab_id</th>\n",
       "      <th>p_score</th>\n",
       "      <th>event</th>\n",
       "      <th>home_team</th>\n",
       "      <th>away_team</th>\n",
       "      <th>b_score</th>\n",
       "      <th>...</th>\n",
       "      <th>Pitch_Type_Num</th>\n",
       "      <th>pitch_pred</th>\n",
       "      <th>FT_prob</th>\n",
       "      <th>FF_prob</th>\n",
       "      <th>SL_prob</th>\n",
       "      <th>CU_prob</th>\n",
       "      <th>CH_prob</th>\n",
       "      <th>SI_prob</th>\n",
       "      <th>px_pred</th>\n",
       "      <th>pz_pred</th>\n",
       "    </tr>\n",
       "  </thead>\n",
       "  <tbody>\n",
       "    <tr>\n",
       "      <th>6895</th>\n",
       "      <td>2.0</td>\n",
       "      <td>425796</td>\n",
       "      <td>519144</td>\n",
       "      <td>0.0</td>\n",
       "      <td>2.015002e+09</td>\n",
       "      <td>0.0</td>\n",
       "      <td>Single</td>\n",
       "      <td>phi</td>\n",
       "      <td>bos</td>\n",
       "      <td>0.0</td>\n",
       "      <td>...</td>\n",
       "      <td>1</td>\n",
       "      <td>0</td>\n",
       "      <td>0.62</td>\n",
       "      <td>0.16</td>\n",
       "      <td>0.16</td>\n",
       "      <td>0.03</td>\n",
       "      <td>0.03</td>\n",
       "      <td>0.0</td>\n",
       "      <td>-0.353588</td>\n",
       "      <td>2.236790</td>\n",
       "    </tr>\n",
       "    <tr>\n",
       "      <th>6896</th>\n",
       "      <td>2.0</td>\n",
       "      <td>425796</td>\n",
       "      <td>519144</td>\n",
       "      <td>0.0</td>\n",
       "      <td>2.015002e+09</td>\n",
       "      <td>0.0</td>\n",
       "      <td>Single</td>\n",
       "      <td>phi</td>\n",
       "      <td>bos</td>\n",
       "      <td>0.0</td>\n",
       "      <td>...</td>\n",
       "      <td>0</td>\n",
       "      <td>0</td>\n",
       "      <td>0.53</td>\n",
       "      <td>0.13</td>\n",
       "      <td>0.12</td>\n",
       "      <td>0.14</td>\n",
       "      <td>0.08</td>\n",
       "      <td>0.0</td>\n",
       "      <td>-0.205796</td>\n",
       "      <td>2.447072</td>\n",
       "    </tr>\n",
       "    <tr>\n",
       "      <th>6897</th>\n",
       "      <td>2.0</td>\n",
       "      <td>520471</td>\n",
       "      <td>519144</td>\n",
       "      <td>0.0</td>\n",
       "      <td>2.015002e+09</td>\n",
       "      <td>0.0</td>\n",
       "      <td>Groundout</td>\n",
       "      <td>phi</td>\n",
       "      <td>bos</td>\n",
       "      <td>0.0</td>\n",
       "      <td>...</td>\n",
       "      <td>0</td>\n",
       "      <td>0</td>\n",
       "      <td>0.68</td>\n",
       "      <td>0.11</td>\n",
       "      <td>0.03</td>\n",
       "      <td>0.06</td>\n",
       "      <td>0.12</td>\n",
       "      <td>0.0</td>\n",
       "      <td>-0.536513</td>\n",
       "      <td>2.564916</td>\n",
       "    </tr>\n",
       "    <tr>\n",
       "      <th>6898</th>\n",
       "      <td>2.0</td>\n",
       "      <td>520471</td>\n",
       "      <td>519144</td>\n",
       "      <td>0.0</td>\n",
       "      <td>2.015002e+09</td>\n",
       "      <td>0.0</td>\n",
       "      <td>Groundout</td>\n",
       "      <td>phi</td>\n",
       "      <td>bos</td>\n",
       "      <td>0.0</td>\n",
       "      <td>...</td>\n",
       "      <td>0</td>\n",
       "      <td>0</td>\n",
       "      <td>0.49</td>\n",
       "      <td>0.12</td>\n",
       "      <td>0.11</td>\n",
       "      <td>0.16</td>\n",
       "      <td>0.12</td>\n",
       "      <td>0.0</td>\n",
       "      <td>-0.456235</td>\n",
       "      <td>2.618067</td>\n",
       "    </tr>\n",
       "    <tr>\n",
       "      <th>6899</th>\n",
       "      <td>2.0</td>\n",
       "      <td>520471</td>\n",
       "      <td>519144</td>\n",
       "      <td>0.0</td>\n",
       "      <td>2.015002e+09</td>\n",
       "      <td>0.0</td>\n",
       "      <td>Groundout</td>\n",
       "      <td>phi</td>\n",
       "      <td>bos</td>\n",
       "      <td>0.0</td>\n",
       "      <td>...</td>\n",
       "      <td>0</td>\n",
       "      <td>0</td>\n",
       "      <td>0.30</td>\n",
       "      <td>0.15</td>\n",
       "      <td>0.21</td>\n",
       "      <td>0.18</td>\n",
       "      <td>0.16</td>\n",
       "      <td>0.0</td>\n",
       "      <td>-0.516097</td>\n",
       "      <td>2.522265</td>\n",
       "    </tr>\n",
       "  </tbody>\n",
       "</table>\n",
       "<p>5 rows × 60 columns</p>\n",
       "</div>"
      ],
      "text/plain": [
       "      inning  batter_id  pitcher_id  top         ab_id  p_score      event  \\\n",
       "6895     2.0     425796      519144  0.0  2.015002e+09      0.0     Single   \n",
       "6896     2.0     425796      519144  0.0  2.015002e+09      0.0     Single   \n",
       "6897     2.0     520471      519144  0.0  2.015002e+09      0.0  Groundout   \n",
       "6898     2.0     520471      519144  0.0  2.015002e+09      0.0  Groundout   \n",
       "6899     2.0     520471      519144  0.0  2.015002e+09      0.0  Groundout   \n",
       "\n",
       "     home_team away_team  b_score  ...  Pitch_Type_Num  pitch_pred  FT_prob  \\\n",
       "6895       phi       bos      0.0  ...               1           0     0.62   \n",
       "6896       phi       bos      0.0  ...               0           0     0.53   \n",
       "6897       phi       bos      0.0  ...               0           0     0.68   \n",
       "6898       phi       bos      0.0  ...               0           0     0.49   \n",
       "6899       phi       bos      0.0  ...               0           0     0.30   \n",
       "\n",
       "      FF_prob  SL_prob CU_prob CH_prob  SI_prob   px_pred   pz_pred  \n",
       "6895     0.16     0.16    0.03    0.03      0.0 -0.353588  2.236790  \n",
       "6896     0.13     0.12    0.14    0.08      0.0 -0.205796  2.447072  \n",
       "6897     0.11     0.03    0.06    0.12      0.0 -0.536513  2.564916  \n",
       "6898     0.12     0.11    0.16    0.12      0.0 -0.456235  2.618067  \n",
       "6899     0.15     0.21    0.18    0.16      0.0 -0.516097  2.522265  \n",
       "\n",
       "[5 rows x 60 columns]"
      ]
     },
     "execution_count": 60,
     "metadata": {},
     "output_type": "execute_result"
    }
   ],
   "source": [
    "val_df_full.head()"
   ]
  },
  {
   "cell_type": "code",
   "execution_count": null,
   "metadata": {},
   "outputs": [],
   "source": []
  },
  {
   "cell_type": "code",
   "execution_count": null,
   "metadata": {},
   "outputs": [],
   "source": []
  },
  {
   "cell_type": "markdown",
   "metadata": {},
   "source": [
    "Testing out for the first 25 pitchers to get a sense for computational cost:"
   ]
  },
  {
   "cell_type": "code",
   "execution_count": 61,
   "metadata": {},
   "outputs": [],
   "source": [
    "pitcher_list = pitch_df.pitcher_full_name.value_counts().head(10).index"
   ]
  },
  {
   "cell_type": "code",
   "execution_count": 62,
   "metadata": {
    "scrolled": true
   },
   "outputs": [
    {
     "name": "stdout",
     "output_type": "stream",
     "text": [
      "Pitch Modeling for Max Scherzer\n",
      "Here is the coding for last pitch type:\n",
      "{'FF': 0, 'SL': 1, 'CH': 2, 'CU': 3, 'FC': 4, 'FT': 5, 'UN': 6}\n"
     ]
    },
    {
     "name": "stderr",
     "output_type": "stream",
     "text": [
      "/Users/patrickbovard/opt/anaconda3/envs/metis/lib/python3.8/site-packages/pandas/core/indexing.py:670: SettingWithCopyWarning: \n",
      "A value is trying to be set on a copy of a slice from a DataFrame\n",
      "\n",
      "See the caveats in the documentation: https://pandas.pydata.org/pandas-docs/stable/user_guide/indexing.html#returning-a-view-versus-a-copy\n",
      "  iloc._setitem_with_indexer(indexer, value)\n"
     ]
    },
    {
     "name": "stdout",
     "output_type": "stream",
     "text": [
      "Here is the coding for pitch type:\n",
      "{'FF': 0, 'SL': 1, 'CH': 2, 'CU': 3, 'FC': 4, 'FT': 5}\n",
      "Actual Test Size: 0.24353704211199415\n",
      "Accuracy: 0.5116279069767442\n",
      "Precision: (0.35134453614306466,)\n",
      "Recall: 0.22939324545432085\n",
      "Random Forest Pitch Classification confusion matrix results:\n",
      "[[1194  139   35   13   15    1]\n",
      " [ 370  130    9    3    0    1]\n",
      " [ 306   30   25    6   10    0]\n",
      " [ 202    8   10    1    1    0]\n",
      " [ 117    3    6    1   12    0]\n",
      " [  12    4    0    0    0    2]]\n",
      "Val Px R^2: 0.06307061255595747\n",
      "Val Px MAE: 0.6801648634298397 ft.\n",
      "Val Pz R^2: 0.14828013035815868\n",
      "Val Pz MAE: 0.6236701133574182 ft.\n",
      "\n",
      "\n",
      "\n",
      "\n",
      "Pitch Modeling for Chris Sale\n",
      "Here is the coding for last pitch type:\n",
      "{'FT': 0, 'SL': 1, 'CH': 2, 'FF': 3, 'FA': 4}\n"
     ]
    },
    {
     "name": "stderr",
     "output_type": "stream",
     "text": [
      "/Users/patrickbovard/opt/anaconda3/envs/metis/lib/python3.8/site-packages/pandas/core/indexing.py:670: SettingWithCopyWarning: \n",
      "A value is trying to be set on a copy of a slice from a DataFrame\n",
      "\n",
      "See the caveats in the documentation: https://pandas.pydata.org/pandas-docs/stable/user_guide/indexing.html#returning-a-view-versus-a-copy\n",
      "  iloc._setitem_with_indexer(indexer, value)\n"
     ]
    },
    {
     "name": "stdout",
     "output_type": "stream",
     "text": [
      "Here is the coding for pitch type:\n",
      "{'FT': 0, 'SL': 1, 'CH': 2, 'FF': 3, 'FS': 4}\n",
      "Actual Test Size: 0.24533083059596433\n",
      "Accuracy: 0.46901300688599845\n",
      "Precision: (0.4403917529128037,)\n",
      "Recall: 0.44842434850158785\n",
      "Random Forest Pitch Classification confusion matrix results:\n",
      "[[616  97 117  31]\n",
      " [233 234  60 214]\n",
      " [241  88 128  83]\n",
      " [ 19 174  31 248]]\n",
      "Val Px R^2: 0.022252093421557317\n",
      "Val Px MAE: 0.684886496455859 ft.\n",
      "Val Pz R^2: 0.015032681481285781\n",
      "Val Pz MAE: 0.6706689331434134 ft.\n",
      "\n",
      "\n",
      "\n",
      "\n",
      "Pitch Modeling for Justin Verlander\n",
      "Here is the coding for last pitch type:\n",
      "{'FF': 0, 'SL': 1, 'CU': 2, 'CH': 3, 'FC': 4, 'FT': 5, 'PO': 6}\n"
     ]
    },
    {
     "name": "stderr",
     "output_type": "stream",
     "text": [
      "/Users/patrickbovard/opt/anaconda3/envs/metis/lib/python3.8/site-packages/pandas/core/indexing.py:670: SettingWithCopyWarning: \n",
      "A value is trying to be set on a copy of a slice from a DataFrame\n",
      "\n",
      "See the caveats in the documentation: https://pandas.pydata.org/pandas-docs/stable/user_guide/indexing.html#returning-a-view-versus-a-copy\n",
      "  iloc._setitem_with_indexer(indexer, value)\n"
     ]
    },
    {
     "name": "stdout",
     "output_type": "stream",
     "text": [
      "Here is the coding for pitch type:\n",
      "{'FF': 0, 'SL': 1, 'CU': 2, 'CH': 3, 'FC': 4, 'FT': 5}\n",
      "Actual Test Size: 0.2518304431599229\n"
     ]
    },
    {
     "name": "stderr",
     "output_type": "stream",
     "text": [
      "/Users/patrickbovard/opt/anaconda3/envs/metis/lib/python3.8/site-packages/sklearn/metrics/_classification.py:1245: UndefinedMetricWarning: Precision is ill-defined and being set to 0.0 in labels with no predicted samples. Use `zero_division` parameter to control this behavior.\n",
      "  _warn_prf(average, modifier, msg_start, len(result))\n"
     ]
    },
    {
     "name": "stdout",
     "output_type": "stream",
     "text": [
      "Accuracy: 0.600229533282326\n",
      "Precision: (0.30881157256297503,)\n",
      "Recall: 0.20148604779978938\n",
      "Random Forest Pitch Classification confusion matrix results:\n",
      "[[1442   64   36    0    0    0]\n",
      " [ 403   91   20    0    0    0]\n",
      " [ 352   29   34    3    0    0]\n",
      " [ 116    7    5    2    0    0]\n",
      " [   8    1    0    0    0    0]\n",
      " [   1    0    0    0    0    0]]\n",
      "Val Px R^2: 0.08674479355763709\n",
      "Val Px MAE: 0.6161427923452784 ft.\n",
      "Val Pz R^2: 0.173386134513563\n",
      "Val Pz MAE: 0.6829542920471685 ft.\n",
      "\n",
      "\n",
      "\n",
      "\n",
      "Pitch Modeling for Jose Quintana\n",
      "Here is the coding for last pitch type:\n",
      "{'FF': 0, 'CU': 1, 'SI': 2, 'CH': 3, 'FT': 4, 'PO': 5, 'FA': 6, 'UN': 7}\n"
     ]
    },
    {
     "name": "stderr",
     "output_type": "stream",
     "text": [
      "/Users/patrickbovard/opt/anaconda3/envs/metis/lib/python3.8/site-packages/pandas/core/indexing.py:670: SettingWithCopyWarning: \n",
      "A value is trying to be set on a copy of a slice from a DataFrame\n",
      "\n",
      "See the caveats in the documentation: https://pandas.pydata.org/pandas-docs/stable/user_guide/indexing.html#returning-a-view-versus-a-copy\n",
      "  iloc._setitem_with_indexer(indexer, value)\n"
     ]
    },
    {
     "name": "stdout",
     "output_type": "stream",
     "text": [
      "Here is the coding for pitch type:\n",
      "{'FF': 0, 'CU': 1, 'SI': 2, 'CH': 3, 'FT': 4}\n",
      "Actual Test Size: 0.2551168881559802\n",
      "Accuracy: 0.49125475285171105\n",
      "Precision: (0.38242278491951914,)\n",
      "Recall: 0.3184550166684189\n",
      "Random Forest Pitch Classification confusion matrix results:\n",
      "[[977 195  55   7  26]\n",
      " [433 177  47   9  26]\n",
      " [130  37 102   2   0]\n",
      " [143  39  22   5   6]\n",
      " [119  41   0   1  31]]\n",
      "Val Px R^2: -0.03200539804175584\n",
      "Val Px MAE: 0.6637639257459879 ft.\n",
      "Val Pz R^2: 0.027910153525192105\n",
      "Val Pz MAE: 0.7306234277446174 ft.\n",
      "\n",
      "\n",
      "\n",
      "\n",
      "Pitch Modeling for Chris Archer\n",
      "Here is the coding for last pitch type:\n",
      "{'FF': 0, 'SL': 1, 'CH': 2, 'FT': 3, 'CU': 4, 'PO': 5}\n"
     ]
    },
    {
     "name": "stderr",
     "output_type": "stream",
     "text": [
      "/Users/patrickbovard/opt/anaconda3/envs/metis/lib/python3.8/site-packages/pandas/core/indexing.py:670: SettingWithCopyWarning: \n",
      "A value is trying to be set on a copy of a slice from a DataFrame\n",
      "\n",
      "See the caveats in the documentation: https://pandas.pydata.org/pandas-docs/stable/user_guide/indexing.html#returning-a-view-versus-a-copy\n",
      "  iloc._setitem_with_indexer(indexer, value)\n"
     ]
    },
    {
     "name": "stdout",
     "output_type": "stream",
     "text": [
      "Here is the coding for pitch type:\n",
      "{'FF': 0, 'SL': 1, 'CH': 2, 'FT': 3, 'CU': 4}\n",
      "Actual Test Size: 0.255042802322149\n",
      "Accuracy: 0.5760030864197531\n",
      "Precision: (0.3920757482208521,)\n",
      "Recall: 0.3246869770336806\n",
      "Random Forest Pitch Classification confusion matrix results:\n",
      "[[823 384  13   8   1]\n",
      " [425 642   9   8   0]\n",
      " [143  66  15   3   0]\n",
      " [  9  22   0  13   0]\n",
      " [  5   2   0   1   0]]\n",
      "Val Px R^2: 0.17556908300949325\n",
      "Val Px MAE: 0.5668768332490354 ft.\n",
      "Val Pz R^2: 0.10863986209296961\n",
      "Val Pz MAE: 0.7860822280100803 ft.\n",
      "\n",
      "\n",
      "\n",
      "\n",
      "Pitch Modeling for Rick Porcello\n",
      "Here is the coding for last pitch type:\n",
      "{'FT': 0, 'FF': 1, 'CU': 2, 'SL': 3, 'CH': 4, 'EP': 5, 'SI': 6, 'PO': 7}\n"
     ]
    },
    {
     "name": "stderr",
     "output_type": "stream",
     "text": [
      "/Users/patrickbovard/opt/anaconda3/envs/metis/lib/python3.8/site-packages/pandas/core/indexing.py:670: SettingWithCopyWarning: \n",
      "A value is trying to be set on a copy of a slice from a DataFrame\n",
      "\n",
      "See the caveats in the documentation: https://pandas.pydata.org/pandas-docs/stable/user_guide/indexing.html#returning-a-view-versus-a-copy\n",
      "  iloc._setitem_with_indexer(indexer, value)\n"
     ]
    },
    {
     "name": "stdout",
     "output_type": "stream",
     "text": [
      "Here is the coding for pitch type:\n",
      "{'FT': 0, 'FF': 1, 'SL': 2, 'CU': 3, 'CH': 4, 'SI': 5}\n",
      "Actual Test Size: 0.24137595010719157\n"
     ]
    },
    {
     "name": "stderr",
     "output_type": "stream",
     "text": [
      "/Users/patrickbovard/opt/anaconda3/envs/metis/lib/python3.8/site-packages/sklearn/metrics/_classification.py:1245: UndefinedMetricWarning: Precision is ill-defined and being set to 0.0 in labels with no predicted samples. Use `zero_division` parameter to control this behavior.\n",
      "  _warn_prf(average, modifier, msg_start, len(result))\n"
     ]
    },
    {
     "name": "stdout",
     "output_type": "stream",
     "text": [
      "Accuracy: 0.42430359305611626\n",
      "Precision: (0.3179165474621097,)\n",
      "Recall: 0.277485848762754\n",
      "Random Forest Pitch Classification confusion matrix results:\n",
      "[[550 159  49  23  16   0]\n",
      " [196 349  42  44  15   0]\n",
      " [194 109  70  22  14   0]\n",
      " [148 110  31  45  10   0]\n",
      " [115  83  28  16  37   0]\n",
      " [  1   1   0   0   0   0]]\n",
      "Val Px R^2: 0.016638203711253463\n",
      "Val Px MAE: 0.6488525881367437 ft.\n",
      "Val Pz R^2: 0.06276122906570014\n",
      "Val Pz MAE: 0.7294404699457013 ft.\n",
      "\n",
      "\n",
      "\n",
      "\n",
      "Pitch Modeling for Jon Lester\n",
      "Here is the coding for last pitch type:\n",
      "{'FF': 0, 'FC': 1, 'CU': 2, 'SI': 3, 'CH': 4, 'PO': 5}\n"
     ]
    },
    {
     "name": "stderr",
     "output_type": "stream",
     "text": [
      "/Users/patrickbovard/opt/anaconda3/envs/metis/lib/python3.8/site-packages/pandas/core/indexing.py:670: SettingWithCopyWarning: \n",
      "A value is trying to be set on a copy of a slice from a DataFrame\n",
      "\n",
      "See the caveats in the documentation: https://pandas.pydata.org/pandas-docs/stable/user_guide/indexing.html#returning-a-view-versus-a-copy\n",
      "  iloc._setitem_with_indexer(indexer, value)\n"
     ]
    },
    {
     "name": "stdout",
     "output_type": "stream",
     "text": [
      "Here is the coding for pitch type:\n",
      "{'FF': 0, 'FC': 1, 'CU': 2, 'SI': 3, 'CH': 4}\n",
      "Actual Test Size: 0.25269461077844313\n",
      "Accuracy: 0.4755134281200632\n",
      "Precision: (0.28733649615452583,)\n",
      "Recall: 0.25120487921882323\n",
      "Random Forest Pitch Classification confusion matrix results:\n",
      "[[999 123  38  16   3]\n",
      " [389 163  29  13   4]\n",
      " [240  66  33   6   2]\n",
      " [177  34   4   8   2]\n",
      " [127  39  10   6   1]]\n",
      "Val Px R^2: 0.07157463518789675\n",
      "Val Px MAE: 0.7156655476249751 ft.\n",
      "Val Pz R^2: 0.16076557456873153\n",
      "Val Pz MAE: 0.604059959760813 ft.\n",
      "\n",
      "\n",
      "\n",
      "\n",
      "Pitch Modeling for Corey Kluber\n",
      "Here is the coding for last pitch type:\n",
      "{'SI': 0, 'CU': 1, 'FF': 2, 'SL': 3, 'FC': 4, 'CH': 5, 'PO': 6}\n"
     ]
    },
    {
     "name": "stderr",
     "output_type": "stream",
     "text": [
      "/Users/patrickbovard/opt/anaconda3/envs/metis/lib/python3.8/site-packages/pandas/core/indexing.py:670: SettingWithCopyWarning: \n",
      "A value is trying to be set on a copy of a slice from a DataFrame\n",
      "\n",
      "See the caveats in the documentation: https://pandas.pydata.org/pandas-docs/stable/user_guide/indexing.html#returning-a-view-versus-a-copy\n",
      "  iloc._setitem_with_indexer(indexer, value)\n"
     ]
    },
    {
     "name": "stdout",
     "output_type": "stream",
     "text": [
      "Here is the coding for pitch type:\n",
      "{'SI': 0, 'CU': 1, 'FF': 2, 'SL': 3, 'FC': 4, 'CH': 5}\n",
      "Actual Test Size: 0.2488986784140969\n",
      "Accuracy: 0.37650844730490746\n",
      "Precision: (0.35966526285131684,)\n",
      "Recall: 0.31196955997333703\n",
      "Random Forest Pitch Classification confusion matrix results:\n",
      "[[444 128  60  80  67   6]\n",
      " [202 178  42  47  62   2]\n",
      " [162  67  69  65  29   2]\n",
      " [151  22  41 100   0   1]\n",
      " [124  47  10   0 138   3]\n",
      " [ 57  18  11  21  23   7]]\n",
      "Val Px R^2: 0.117682211776304\n",
      "Val Px MAE: 0.6454248571311181 ft.\n",
      "Val Pz R^2: 0.0375367807831235\n",
      "Val Pz MAE: 0.693438523992874 ft.\n",
      "\n",
      "\n",
      "\n",
      "\n",
      "Pitch Modeling for Gio Gonzalez\n",
      "Here is the coding for last pitch type:\n",
      "{'FF': 0, 'FT': 1, 'CU': 2, 'CH': 3, 'UN': 4}\n"
     ]
    },
    {
     "name": "stderr",
     "output_type": "stream",
     "text": [
      "/Users/patrickbovard/opt/anaconda3/envs/metis/lib/python3.8/site-packages/pandas/core/indexing.py:670: SettingWithCopyWarning: \n",
      "A value is trying to be set on a copy of a slice from a DataFrame\n",
      "\n",
      "See the caveats in the documentation: https://pandas.pydata.org/pandas-docs/stable/user_guide/indexing.html#returning-a-view-versus-a-copy\n",
      "  iloc._setitem_with_indexer(indexer, value)\n"
     ]
    },
    {
     "name": "stdout",
     "output_type": "stream",
     "text": [
      "Here is the coding for pitch type:\n",
      "{'FF': 0, 'FT': 1, 'CU': 2, 'CH': 3}\n",
      "Actual Test Size: 0.24769076305220883\n",
      "Accuracy: 0.4154843940008107\n",
      "Precision: (0.3944652831397155,)\n",
      "Recall: 0.37591449779419167\n",
      "Random Forest Pitch Classification confusion matrix results:\n",
      "[[496 131 108  58]\n",
      " [255 330  59  57]\n",
      " [237 113 113  44]\n",
      " [194 136  50  86]]\n",
      "Val Px R^2: 0.07806261108540524\n",
      "Val Px MAE: 0.6796511215306378 ft.\n",
      "Val Pz R^2: 0.21730982301837365\n",
      "Val Pz MAE: 0.6726560494794446 ft.\n",
      "\n",
      "\n",
      "\n",
      "\n",
      "Pitch Modeling for Julio Teheran\n",
      "Here is the coding for last pitch type:\n",
      "{'FF': 0, 'SL': 1, 'FT': 2, 'CU': 3, 'CH': 4, 'UN': 5, 'PO': 6}\n"
     ]
    },
    {
     "name": "stderr",
     "output_type": "stream",
     "text": [
      "/Users/patrickbovard/opt/anaconda3/envs/metis/lib/python3.8/site-packages/pandas/core/indexing.py:670: SettingWithCopyWarning: \n",
      "A value is trying to be set on a copy of a slice from a DataFrame\n",
      "\n",
      "See the caveats in the documentation: https://pandas.pydata.org/pandas-docs/stable/user_guide/indexing.html#returning-a-view-versus-a-copy\n",
      "  iloc._setitem_with_indexer(indexer, value)\n"
     ]
    },
    {
     "name": "stdout",
     "output_type": "stream",
     "text": [
      "Here is the coding for pitch type:\n",
      "{'FF': 0, 'SL': 1, 'FT': 2, 'CH': 3, 'CU': 4}\n",
      "Actual Test Size: 0.24703943981052415\n",
      "Accuracy: 0.436848686952897\n",
      "Precision: (0.3517501643016741,)\n",
      "Recall: 0.28689011271863013\n",
      "Random Forest Pitch Classification confusion matrix results:\n",
      "[[768 134  72  19  19]\n",
      " [373 114  52   4   2]\n",
      " [209  52 134  18  16]\n",
      " [139  18  36  19   3]\n",
      " [142  13  20  10  13]]\n",
      "Val Px R^2: 0.12576206196258877\n",
      "Val Px MAE: 0.6879329688347735 ft.\n",
      "Val Pz R^2: 0.10264284504860444\n",
      "Val Pz MAE: 0.6780325056637525 ft.\n",
      "\n",
      "\n",
      "\n",
      "\n"
     ]
    }
   ],
   "source": [
    "output_df = multiple_pitcher_predictions(pitcher_list, pitch_df, split_size = 0.2)"
   ]
  },
  {
   "cell_type": "markdown",
   "metadata": {},
   "source": [
    "Based on my stopwatch, it took ~5 mins to run for 25 pitchers, so it is not terribly expensive to model on a per pitcher basis."
   ]
  },
  {
   "cell_type": "markdown",
   "metadata": {},
   "source": [
    "Overall at this time, I'm not as concerned with pitch location R^2 as I am pitch type.  The rationale is that incorrect predictions of pitch type have a large factor on the location, so a wrong pitch type doesn't really matter since different pitches are thrown in different locations (or are meant to be).  \n",
    "\n",
    "The pitch location also does not need to be exact for my use case.  Telling a hitter \"expect a fastball at coordinate 1.23, 2.54\" won't give them good info - in real life, saying \"expect a fastball high and inside\" is typically what would be needed."
   ]
  },
  {
   "cell_type": "code",
   "execution_count": 63,
   "metadata": {},
   "outputs": [
    {
     "data": {
      "text/html": [
       "<div>\n",
       "<style scoped>\n",
       "    .dataframe tbody tr th:only-of-type {\n",
       "        vertical-align: middle;\n",
       "    }\n",
       "\n",
       "    .dataframe tbody tr th {\n",
       "        vertical-align: top;\n",
       "    }\n",
       "\n",
       "    .dataframe thead th {\n",
       "        text-align: right;\n",
       "    }\n",
       "</style>\n",
       "<table border=\"1\" class=\"dataframe\">\n",
       "  <thead>\n",
       "    <tr style=\"text-align: right;\">\n",
       "      <th></th>\n",
       "      <th>inning</th>\n",
       "      <th>batter_id</th>\n",
       "      <th>pitcher_id</th>\n",
       "      <th>top</th>\n",
       "      <th>ab_id</th>\n",
       "      <th>p_score</th>\n",
       "      <th>event</th>\n",
       "      <th>home_team</th>\n",
       "      <th>away_team</th>\n",
       "      <th>b_score</th>\n",
       "      <th>...</th>\n",
       "      <th>pitch_pred</th>\n",
       "      <th>FF_prob</th>\n",
       "      <th>SL_prob</th>\n",
       "      <th>CH_prob</th>\n",
       "      <th>CU_prob</th>\n",
       "      <th>FC_prob</th>\n",
       "      <th>FT_prob</th>\n",
       "      <th>px_pred</th>\n",
       "      <th>pz_pred</th>\n",
       "      <th>SI_prob</th>\n",
       "    </tr>\n",
       "  </thead>\n",
       "  <tbody>\n",
       "    <tr>\n",
       "      <th>2453</th>\n",
       "      <td>3.0</td>\n",
       "      <td>527038</td>\n",
       "      <td>453286</td>\n",
       "      <td>1.0</td>\n",
       "      <td>2.015001e+09</td>\n",
       "      <td>0.0</td>\n",
       "      <td>Strikeout</td>\n",
       "      <td>was</td>\n",
       "      <td>nyn</td>\n",
       "      <td>0.0</td>\n",
       "      <td>...</td>\n",
       "      <td>0</td>\n",
       "      <td>0.69</td>\n",
       "      <td>0.17</td>\n",
       "      <td>0.01</td>\n",
       "      <td>0.00</td>\n",
       "      <td>0.13</td>\n",
       "      <td>0.00</td>\n",
       "      <td>0.044230</td>\n",
       "      <td>2.523223</td>\n",
       "      <td>NaN</td>\n",
       "    </tr>\n",
       "    <tr>\n",
       "      <th>2454</th>\n",
       "      <td>3.0</td>\n",
       "      <td>527038</td>\n",
       "      <td>453286</td>\n",
       "      <td>1.0</td>\n",
       "      <td>2.015001e+09</td>\n",
       "      <td>0.0</td>\n",
       "      <td>Strikeout</td>\n",
       "      <td>was</td>\n",
       "      <td>nyn</td>\n",
       "      <td>0.0</td>\n",
       "      <td>...</td>\n",
       "      <td>0</td>\n",
       "      <td>0.49</td>\n",
       "      <td>0.20</td>\n",
       "      <td>0.06</td>\n",
       "      <td>0.05</td>\n",
       "      <td>0.20</td>\n",
       "      <td>0.00</td>\n",
       "      <td>0.007730</td>\n",
       "      <td>2.420953</td>\n",
       "      <td>NaN</td>\n",
       "    </tr>\n",
       "    <tr>\n",
       "      <th>2455</th>\n",
       "      <td>3.0</td>\n",
       "      <td>527038</td>\n",
       "      <td>453286</td>\n",
       "      <td>1.0</td>\n",
       "      <td>2.015001e+09</td>\n",
       "      <td>0.0</td>\n",
       "      <td>Strikeout</td>\n",
       "      <td>was</td>\n",
       "      <td>nyn</td>\n",
       "      <td>0.0</td>\n",
       "      <td>...</td>\n",
       "      <td>1</td>\n",
       "      <td>0.31</td>\n",
       "      <td>0.51</td>\n",
       "      <td>0.15</td>\n",
       "      <td>0.02</td>\n",
       "      <td>0.01</td>\n",
       "      <td>0.00</td>\n",
       "      <td>0.113485</td>\n",
       "      <td>2.260595</td>\n",
       "      <td>NaN</td>\n",
       "    </tr>\n",
       "    <tr>\n",
       "      <th>2496</th>\n",
       "      <td>5.0</td>\n",
       "      <td>502517</td>\n",
       "      <td>453286</td>\n",
       "      <td>1.0</td>\n",
       "      <td>2.015001e+09</td>\n",
       "      <td>1.0</td>\n",
       "      <td>Flyout</td>\n",
       "      <td>was</td>\n",
       "      <td>nyn</td>\n",
       "      <td>0.0</td>\n",
       "      <td>...</td>\n",
       "      <td>0</td>\n",
       "      <td>0.59</td>\n",
       "      <td>0.07</td>\n",
       "      <td>0.12</td>\n",
       "      <td>0.21</td>\n",
       "      <td>0.00</td>\n",
       "      <td>0.01</td>\n",
       "      <td>-0.234551</td>\n",
       "      <td>2.645617</td>\n",
       "      <td>NaN</td>\n",
       "    </tr>\n",
       "    <tr>\n",
       "      <th>2497</th>\n",
       "      <td>5.0</td>\n",
       "      <td>502517</td>\n",
       "      <td>453286</td>\n",
       "      <td>1.0</td>\n",
       "      <td>2.015001e+09</td>\n",
       "      <td>1.0</td>\n",
       "      <td>Flyout</td>\n",
       "      <td>was</td>\n",
       "      <td>nyn</td>\n",
       "      <td>0.0</td>\n",
       "      <td>...</td>\n",
       "      <td>0</td>\n",
       "      <td>0.36</td>\n",
       "      <td>0.10</td>\n",
       "      <td>0.20</td>\n",
       "      <td>0.34</td>\n",
       "      <td>0.00</td>\n",
       "      <td>0.00</td>\n",
       "      <td>-0.328774</td>\n",
       "      <td>2.583225</td>\n",
       "      <td>NaN</td>\n",
       "    </tr>\n",
       "  </tbody>\n",
       "</table>\n",
       "<p>5 rows × 61 columns</p>\n",
       "</div>"
      ],
      "text/plain": [
       "      inning batter_id pitcher_id  top         ab_id  p_score      event  \\\n",
       "2453     3.0    527038     453286  1.0  2.015001e+09      0.0  Strikeout   \n",
       "2454     3.0    527038     453286  1.0  2.015001e+09      0.0  Strikeout   \n",
       "2455     3.0    527038     453286  1.0  2.015001e+09      0.0  Strikeout   \n",
       "2496     5.0    502517     453286  1.0  2.015001e+09      1.0     Flyout   \n",
       "2497     5.0    502517     453286  1.0  2.015001e+09      1.0     Flyout   \n",
       "\n",
       "     home_team away_team  b_score  ...  pitch_pred  FF_prob  SL_prob  CH_prob  \\\n",
       "2453       was       nyn      0.0  ...           0     0.69     0.17     0.01   \n",
       "2454       was       nyn      0.0  ...           0     0.49     0.20     0.06   \n",
       "2455       was       nyn      0.0  ...           1     0.31     0.51     0.15   \n",
       "2496       was       nyn      0.0  ...           0     0.59     0.07     0.12   \n",
       "2497       was       nyn      0.0  ...           0     0.36     0.10     0.20   \n",
       "\n",
       "      CU_prob FC_prob FT_prob   px_pred   pz_pred  SI_prob  \n",
       "2453     0.00    0.13    0.00  0.044230  2.523223      NaN  \n",
       "2454     0.05    0.20    0.00  0.007730  2.420953      NaN  \n",
       "2455     0.02    0.01    0.00  0.113485  2.260595      NaN  \n",
       "2496     0.21    0.00    0.01 -0.234551  2.645617      NaN  \n",
       "2497     0.34    0.00    0.00 -0.328774  2.583225      NaN  \n",
       "\n",
       "[5 rows x 61 columns]"
      ]
     },
     "execution_count": 63,
     "metadata": {},
     "output_type": "execute_result"
    }
   ],
   "source": [
    "output_df.head()"
   ]
  },
  {
   "cell_type": "markdown",
   "metadata": {},
   "source": [
    "### XGBoost Classifier:"
   ]
  },
  {
   "cell_type": "markdown",
   "metadata": {},
   "source": [
    "In order to compare, I will be now running the workflow with XGBoost utilized at the classification step, as compared to Random Forest:"
   ]
  },
  {
   "cell_type": "code",
   "execution_count": 64,
   "metadata": {
    "scrolled": true
   },
   "outputs": [
    {
     "name": "stdout",
     "output_type": "stream",
     "text": [
      "Pitch Modeling for Rick Porcello\n",
      "Here is the coding for last pitch type:\n",
      "{'FT': 0, 'FF': 1, 'CU': 2, 'SL': 3, 'CH': 4, 'EP': 5, 'SI': 6, 'PO': 7}\n"
     ]
    },
    {
     "name": "stderr",
     "output_type": "stream",
     "text": [
      "/Users/patrickbovard/opt/anaconda3/envs/metis/lib/python3.8/site-packages/pandas/core/indexing.py:670: SettingWithCopyWarning: \n",
      "A value is trying to be set on a copy of a slice from a DataFrame\n",
      "\n",
      "See the caveats in the documentation: https://pandas.pydata.org/pandas-docs/stable/user_guide/indexing.html#returning-a-view-versus-a-copy\n",
      "  iloc._setitem_with_indexer(indexer, value)\n"
     ]
    },
    {
     "name": "stdout",
     "output_type": "stream",
     "text": [
      "Here is the coding for pitch type:\n",
      "{'FT': 0, 'FF': 1, 'SL': 2, 'CU': 3, 'CH': 4, 'SI': 5}\n",
      "Actual Test Size: 0.24137595010719157\n",
      "[13:48:56] WARNING: /Users/runner/miniforge3/conda-bld/xgboost_1607604592557/work/src/learner.cc:1061: Starting in XGBoost 1.3.0, the default evaluation metric used with the objective 'multi:softprob' was changed from 'merror' to 'mlogloss'. Explicitly set eval_metric if you'd like to restore the old behavior.\n"
     ]
    },
    {
     "name": "stderr",
     "output_type": "stream",
     "text": [
      "/Users/patrickbovard/opt/anaconda3/envs/metis/lib/python3.8/site-packages/xgboost/sklearn.py:888: UserWarning: The use of label encoder in XGBClassifier is deprecated and will be removed in a future release. To remove this warning, do the following: 1) Pass option use_label_encoder=False when constructing XGBClassifier object; and 2) Encode your labels (y) as integers starting with 0, i.e. 0, 1, 2, ..., [num_class - 1].\n",
      "  warnings.warn(label_encoder_deprecation_msg, UserWarning)\n"
     ]
    },
    {
     "name": "stdout",
     "output_type": "stream",
     "text": [
      "Accuracy: 0.42389987888574887\n",
      "Precision: (0.31570832992243386,)\n",
      "Recall: 0.29346191244922587\n",
      "XGBoost Pitch Classification confusion matrix results:\n",
      "[[503 138  73  56  27   0]\n",
      " [178 337  58  43  30   0]\n",
      " [170  97  86  34  22   0]\n",
      " [117 102  43  69  13   0]\n",
      " [ 89  75  35  25  55   0]\n",
      " [  0   2   0   0   0   0]]\n",
      "Val Px R^2: 0.014246877138460401\n",
      "Val Px MAE: 0.6481563481851975 ft.\n",
      "Val Pz R^2: 0.06401292208670706\n",
      "Val Pz MAE: 0.7291888588890443 ft.\n"
     ]
    },
    {
     "name": "stderr",
     "output_type": "stream",
     "text": [
      "/Users/patrickbovard/opt/anaconda3/envs/metis/lib/python3.8/site-packages/sklearn/metrics/_classification.py:1245: UndefinedMetricWarning: Precision is ill-defined and being set to 0.0 in labels with no predicted samples. Use `zero_division` parameter to control this behavior.\n",
      "  _warn_prf(average, modifier, msg_start, len(result))\n"
     ]
    }
   ],
   "source": [
    "val_df_full = pitch_prediction_modeling_pipeline('Rick Porcello', pitch_df, split_size = 0.2, class_method = 'XGBoost')"
   ]
  },
  {
   "cell_type": "code",
   "execution_count": 65,
   "metadata": {
    "scrolled": true
   },
   "outputs": [
    {
     "name": "stdout",
     "output_type": "stream",
     "text": [
      "Pitch Modeling for Max Scherzer\n",
      "Here is the coding for last pitch type:\n",
      "{'FF': 0, 'SL': 1, 'CH': 2, 'CU': 3, 'FC': 4, 'FT': 5, 'UN': 6}\n"
     ]
    },
    {
     "name": "stderr",
     "output_type": "stream",
     "text": [
      "/Users/patrickbovard/opt/anaconda3/envs/metis/lib/python3.8/site-packages/pandas/core/indexing.py:670: SettingWithCopyWarning: \n",
      "A value is trying to be set on a copy of a slice from a DataFrame\n",
      "\n",
      "See the caveats in the documentation: https://pandas.pydata.org/pandas-docs/stable/user_guide/indexing.html#returning-a-view-versus-a-copy\n",
      "  iloc._setitem_with_indexer(indexer, value)\n"
     ]
    },
    {
     "name": "stdout",
     "output_type": "stream",
     "text": [
      "Here is the coding for pitch type:\n",
      "{'FF': 0, 'SL': 1, 'CH': 2, 'CU': 3, 'FC': 4, 'FT': 5}\n",
      "Actual Test Size: 0.24353704211199415\n",
      "Accuracy: 0.5123780945236309\n",
      "Precision: (0.33167357629037814,)\n",
      "Recall: 0.21886717954759705\n",
      "Random Forest Pitch Classification confusion matrix results:\n",
      "[[1198  130   36   17   14    2]\n",
      " [ 376  127    7    2    1    0]\n",
      " [ 312   24   28    7    6    0]\n",
      " [ 200    8    9    3    2    0]\n",
      " [ 115    3   11    1    9    0]\n",
      " [  11    6    0    0    0    1]]\n",
      "Val Px R^2: 0.06292832123650283\n",
      "Val Px MAE: 0.6807360474068881 ft.\n",
      "Val Pz R^2: 0.14825977257811085\n",
      "Val Pz MAE: 0.6237695998133398 ft.\n",
      "\n",
      "\n",
      "\n",
      "\n",
      "Pitch Modeling for Chris Sale\n",
      "Here is the coding for last pitch type:\n",
      "{'FT': 0, 'SL': 1, 'CH': 2, 'FF': 3, 'FA': 4}\n"
     ]
    },
    {
     "name": "stderr",
     "output_type": "stream",
     "text": [
      "/Users/patrickbovard/opt/anaconda3/envs/metis/lib/python3.8/site-packages/pandas/core/indexing.py:670: SettingWithCopyWarning: \n",
      "A value is trying to be set on a copy of a slice from a DataFrame\n",
      "\n",
      "See the caveats in the documentation: https://pandas.pydata.org/pandas-docs/stable/user_guide/indexing.html#returning-a-view-versus-a-copy\n",
      "  iloc._setitem_with_indexer(indexer, value)\n"
     ]
    },
    {
     "name": "stdout",
     "output_type": "stream",
     "text": [
      "Here is the coding for pitch type:\n",
      "{'FT': 0, 'SL': 1, 'CH': 2, 'FF': 3, 'FS': 4}\n",
      "Actual Test Size: 0.24533083059596433\n",
      "Accuracy: 0.49387911247130833\n",
      "Precision: (0.4716932061087076,)\n",
      "Recall: 0.4763742622979258\n",
      "Random Forest Pitch Classification confusion matrix results:\n",
      "[[620  88 118  35]\n",
      " [231 253  67 190]\n",
      " [236  75 156  73]\n",
      " [ 18 161  31 262]]\n",
      "Val Px R^2: 0.0233236221461528\n",
      "Val Px MAE: 0.6845313195428048 ft.\n",
      "Val Pz R^2: 0.014685803610571257\n",
      "Val Pz MAE: 0.6707958594156237 ft.\n",
      "\n",
      "\n",
      "\n",
      "\n",
      "Pitch Modeling for Justin Verlander\n",
      "Here is the coding for last pitch type:\n",
      "{'FF': 0, 'SL': 1, 'CU': 2, 'CH': 3, 'FC': 4, 'FT': 5, 'PO': 6}\n"
     ]
    },
    {
     "name": "stderr",
     "output_type": "stream",
     "text": [
      "/Users/patrickbovard/opt/anaconda3/envs/metis/lib/python3.8/site-packages/pandas/core/indexing.py:670: SettingWithCopyWarning: \n",
      "A value is trying to be set on a copy of a slice from a DataFrame\n",
      "\n",
      "See the caveats in the documentation: https://pandas.pydata.org/pandas-docs/stable/user_guide/indexing.html#returning-a-view-versus-a-copy\n",
      "  iloc._setitem_with_indexer(indexer, value)\n"
     ]
    },
    {
     "name": "stdout",
     "output_type": "stream",
     "text": [
      "Here is the coding for pitch type:\n",
      "{'FF': 0, 'SL': 1, 'CU': 2, 'CH': 3, 'FC': 4, 'FT': 5}\n",
      "Actual Test Size: 0.2518304431599229\n"
     ]
    },
    {
     "name": "stderr",
     "output_type": "stream",
     "text": [
      "/Users/patrickbovard/opt/anaconda3/envs/metis/lib/python3.8/site-packages/sklearn/metrics/_classification.py:1245: UndefinedMetricWarning: Precision is ill-defined and being set to 0.0 in labels with no predicted samples. Use `zero_division` parameter to control this behavior.\n",
      "  _warn_prf(average, modifier, msg_start, len(result))\n"
     ]
    },
    {
     "name": "stdout",
     "output_type": "stream",
     "text": [
      "Accuracy: 0.5925784238714613\n",
      "Precision: (0.28211079805007694,)\n",
      "Recall: 0.1951840034268869\n",
      "Random Forest Pitch Classification confusion matrix results:\n",
      "[[1435   62   44    1    0    0]\n",
      " [ 408   84   22    0    0    0]\n",
      " [ 353   35   29    1    0    0]\n",
      " [ 119    6    4    1    0    0]\n",
      " [   9    0    0    0    0    0]\n",
      " [   1    0    0    0    0    0]]\n",
      "Val Px R^2: 0.0866611794646418\n",
      "Val Px MAE: 0.616163313870525 ft.\n",
      "Val Pz R^2: 0.17335695850285582\n",
      "Val Pz MAE: 0.6829768586422804 ft.\n",
      "\n",
      "\n",
      "\n",
      "\n",
      "Pitch Modeling for Jose Quintana\n",
      "Here is the coding for last pitch type:\n",
      "{'FF': 0, 'CU': 1, 'SI': 2, 'CH': 3, 'FT': 4, 'PO': 5, 'FA': 6, 'UN': 7}\n"
     ]
    },
    {
     "name": "stderr",
     "output_type": "stream",
     "text": [
      "/Users/patrickbovard/opt/anaconda3/envs/metis/lib/python3.8/site-packages/pandas/core/indexing.py:670: SettingWithCopyWarning: \n",
      "A value is trying to be set on a copy of a slice from a DataFrame\n",
      "\n",
      "See the caveats in the documentation: https://pandas.pydata.org/pandas-docs/stable/user_guide/indexing.html#returning-a-view-versus-a-copy\n",
      "  iloc._setitem_with_indexer(indexer, value)\n"
     ]
    },
    {
     "name": "stdout",
     "output_type": "stream",
     "text": [
      "Here is the coding for pitch type:\n",
      "{'FF': 0, 'CU': 1, 'SI': 2, 'CH': 3, 'FT': 4}\n",
      "Actual Test Size: 0.2551168881559802\n",
      "Accuracy: 0.4870722433460076\n",
      "Precision: (0.35832041385062785,)\n",
      "Recall: 0.3136757250424462\n",
      "Random Forest Pitch Classification confusion matrix results:\n",
      "[[969 192  64   5  30]\n",
      " [427 177  47   8  33]\n",
      " [126  39 104   2   0]\n",
      " [147  42  18   3   5]\n",
      " [125  37   0   2  28]]\n",
      "Val Px R^2: -0.043905909735479254\n",
      "Val Px MAE: 0.6678932858879805 ft.\n",
      "Val Pz R^2: 0.030339873854484\n",
      "Val Pz MAE: 0.7296862263036331 ft.\n",
      "\n",
      "\n",
      "\n",
      "\n",
      "Pitch Modeling for Chris Archer\n",
      "Here is the coding for last pitch type:\n",
      "{'FF': 0, 'SL': 1, 'CH': 2, 'FT': 3, 'CU': 4, 'PO': 5}\n"
     ]
    },
    {
     "name": "stderr",
     "output_type": "stream",
     "text": [
      "/Users/patrickbovard/opt/anaconda3/envs/metis/lib/python3.8/site-packages/pandas/core/indexing.py:670: SettingWithCopyWarning: \n",
      "A value is trying to be set on a copy of a slice from a DataFrame\n",
      "\n",
      "See the caveats in the documentation: https://pandas.pydata.org/pandas-docs/stable/user_guide/indexing.html#returning-a-view-versus-a-copy\n",
      "  iloc._setitem_with_indexer(indexer, value)\n"
     ]
    },
    {
     "name": "stdout",
     "output_type": "stream",
     "text": [
      "Here is the coding for pitch type:\n",
      "{'FF': 0, 'SL': 1, 'CH': 2, 'FT': 3, 'CU': 4}\n",
      "Actual Test Size: 0.255042802322149\n",
      "Accuracy: 0.5837191358024691\n",
      "Precision: (0.4396075223123077,)\n",
      "Recall: 0.34460119632201797\n",
      "Random Forest Pitch Classification confusion matrix results:\n",
      "[[849 355  14   9   2]\n",
      " [423 636  15  10   0]\n",
      " [151  58  16   2   0]\n",
      " [ 11  21   1  11   0]\n",
      " [  3   3   0   1   1]]\n",
      "Val Px R^2: 0.1754263006858301\n",
      "Val Px MAE: 0.5669516203286671 ft.\n",
      "Val Pz R^2: 0.10862124903677184\n",
      "Val Pz MAE: 0.7860724403579163 ft.\n",
      "\n",
      "\n",
      "\n",
      "\n",
      "Pitch Modeling for Rick Porcello\n",
      "Here is the coding for last pitch type:\n",
      "{'FT': 0, 'FF': 1, 'CU': 2, 'SL': 3, 'CH': 4, 'EP': 5, 'SI': 6, 'PO': 7}\n"
     ]
    },
    {
     "name": "stderr",
     "output_type": "stream",
     "text": [
      "/Users/patrickbovard/opt/anaconda3/envs/metis/lib/python3.8/site-packages/pandas/core/indexing.py:670: SettingWithCopyWarning: \n",
      "A value is trying to be set on a copy of a slice from a DataFrame\n",
      "\n",
      "See the caveats in the documentation: https://pandas.pydata.org/pandas-docs/stable/user_guide/indexing.html#returning-a-view-versus-a-copy\n",
      "  iloc._setitem_with_indexer(indexer, value)\n"
     ]
    },
    {
     "name": "stdout",
     "output_type": "stream",
     "text": [
      "Here is the coding for pitch type:\n",
      "{'FT': 0, 'FF': 1, 'SL': 2, 'CU': 3, 'CH': 4, 'SI': 5}\n",
      "Actual Test Size: 0.24137595010719157\n"
     ]
    },
    {
     "name": "stderr",
     "output_type": "stream",
     "text": [
      "/Users/patrickbovard/opt/anaconda3/envs/metis/lib/python3.8/site-packages/sklearn/metrics/_classification.py:1245: UndefinedMetricWarning: Precision is ill-defined and being set to 0.0 in labels with no predicted samples. Use `zero_division` parameter to control this behavior.\n",
      "  _warn_prf(average, modifier, msg_start, len(result))\n"
     ]
    },
    {
     "name": "stdout",
     "output_type": "stream",
     "text": [
      "Accuracy: 0.41421073879693177\n",
      "Precision: (0.3130149385471274,)\n",
      "Recall: 0.2742480574563962\n",
      "Random Forest Pitch Classification confusion matrix results:\n",
      "[[542 157  52  25  21   0]\n",
      " [226 319  46  37  18   0]\n",
      " [186 106  76  24  17   0]\n",
      " [134 118  32  49  11   0]\n",
      " [101  93  28  17  40   0]\n",
      " [  0   2   0   0   0   0]]\n",
      "Val Px R^2: 0.012106816405400567\n",
      "Val Px MAE: 0.6488782347646885 ft.\n",
      "Val Pz R^2: 0.06273054970224434\n",
      "Val Pz MAE: 0.7292177771210143 ft.\n",
      "\n",
      "\n",
      "\n",
      "\n",
      "Pitch Modeling for Jon Lester\n",
      "Here is the coding for last pitch type:\n",
      "{'FF': 0, 'FC': 1, 'CU': 2, 'SI': 3, 'CH': 4, 'PO': 5}\n"
     ]
    },
    {
     "name": "stderr",
     "output_type": "stream",
     "text": [
      "/Users/patrickbovard/opt/anaconda3/envs/metis/lib/python3.8/site-packages/pandas/core/indexing.py:670: SettingWithCopyWarning: \n",
      "A value is trying to be set on a copy of a slice from a DataFrame\n",
      "\n",
      "See the caveats in the documentation: https://pandas.pydata.org/pandas-docs/stable/user_guide/indexing.html#returning-a-view-versus-a-copy\n",
      "  iloc._setitem_with_indexer(indexer, value)\n"
     ]
    },
    {
     "name": "stdout",
     "output_type": "stream",
     "text": [
      "Here is the coding for pitch type:\n",
      "{'FF': 0, 'FC': 1, 'CU': 2, 'SI': 3, 'CH': 4}\n",
      "Actual Test Size: 0.25269461077844313\n",
      "Accuracy: 0.45813586097946285\n",
      "Precision: (0.2801739477802663,)\n",
      "Recall: 0.24305116568075444\n",
      "Random Forest Pitch Classification confusion matrix results:\n",
      "[[967 144  42  18   8]\n",
      " [408 150  26  11   3]\n",
      " [254  57  30   3   3]\n",
      " [173  35   3  13   1]\n",
      " [131  41   9   2   0]]\n",
      "Val Px R^2: 0.06990997010013356\n",
      "Val Px MAE: 0.716402492811807 ft.\n",
      "Val Pz R^2: 0.16124324477114083\n",
      "Val Pz MAE: 0.6039821917558733 ft.\n",
      "\n",
      "\n",
      "\n",
      "\n",
      "Pitch Modeling for Corey Kluber\n",
      "Here is the coding for last pitch type:\n",
      "{'SI': 0, 'CU': 1, 'FF': 2, 'SL': 3, 'FC': 4, 'CH': 5, 'PO': 6}\n"
     ]
    },
    {
     "name": "stderr",
     "output_type": "stream",
     "text": [
      "/Users/patrickbovard/opt/anaconda3/envs/metis/lib/python3.8/site-packages/pandas/core/indexing.py:670: SettingWithCopyWarning: \n",
      "A value is trying to be set on a copy of a slice from a DataFrame\n",
      "\n",
      "See the caveats in the documentation: https://pandas.pydata.org/pandas-docs/stable/user_guide/indexing.html#returning-a-view-versus-a-copy\n",
      "  iloc._setitem_with_indexer(indexer, value)\n"
     ]
    },
    {
     "name": "stdout",
     "output_type": "stream",
     "text": [
      "Here is the coding for pitch type:\n",
      "{'SI': 0, 'CU': 1, 'FF': 2, 'SL': 3, 'FC': 4, 'CH': 5}\n",
      "Actual Test Size: 0.2488986784140969\n",
      "Accuracy: 0.3668543845534996\n",
      "Precision: (0.33393577430355886,)\n",
      "Recall: 0.3047007535232488\n",
      "Random Forest Pitch Classification confusion matrix results:\n",
      "[[425 131  63  81  78   7]\n",
      " [203 182  38  48  55   7]\n",
      " [161  63  61  77  28   4]\n",
      " [144  22  39 110   0   0]\n",
      " [127  53  11   0 128   3]\n",
      " [ 59  24   6  19  23   6]]\n",
      "Val Px R^2: 0.11583685501532659\n",
      "Val Px MAE: 0.6458478056499573 ft.\n",
      "Val Pz R^2: 0.03642402167295489\n",
      "Val Pz MAE: 0.6940147833609269 ft.\n",
      "\n",
      "\n",
      "\n",
      "\n",
      "Pitch Modeling for Gio Gonzalez\n",
      "Here is the coding for last pitch type:\n",
      "{'FF': 0, 'FT': 1, 'CU': 2, 'CH': 3, 'UN': 4}\n"
     ]
    },
    {
     "name": "stderr",
     "output_type": "stream",
     "text": [
      "/Users/patrickbovard/opt/anaconda3/envs/metis/lib/python3.8/site-packages/pandas/core/indexing.py:670: SettingWithCopyWarning: \n",
      "A value is trying to be set on a copy of a slice from a DataFrame\n",
      "\n",
      "See the caveats in the documentation: https://pandas.pydata.org/pandas-docs/stable/user_guide/indexing.html#returning-a-view-versus-a-copy\n",
      "  iloc._setitem_with_indexer(indexer, value)\n"
     ]
    },
    {
     "name": "stdout",
     "output_type": "stream",
     "text": [
      "Here is the coding for pitch type:\n",
      "{'FF': 0, 'FT': 1, 'CU': 2, 'CH': 3}\n",
      "Actual Test Size: 0.24769076305220883\n",
      "Accuracy: 0.41143088771787595\n",
      "Precision: (0.3922583781989796,)\n",
      "Recall: 0.37389465312258935\n",
      "Random Forest Pitch Classification confusion matrix results:\n",
      "[[497 126 106  64]\n",
      " [264 308  62  67]\n",
      " [241 108 122  36]\n",
      " [183 138  57  88]]\n",
      "Val Px R^2: 0.0758541759026703\n",
      "Val Px MAE: 0.6782002543114094 ft.\n",
      "Val Pz R^2: 0.2170310194605135\n",
      "Val Pz MAE: 0.6731217908687507 ft.\n",
      "\n",
      "\n",
      "\n",
      "\n",
      "Pitch Modeling for Julio Teheran\n",
      "Here is the coding for last pitch type:\n",
      "{'FF': 0, 'SL': 1, 'FT': 2, 'CU': 3, 'CH': 4, 'UN': 5, 'PO': 6}\n"
     ]
    },
    {
     "name": "stderr",
     "output_type": "stream",
     "text": [
      "/Users/patrickbovard/opt/anaconda3/envs/metis/lib/python3.8/site-packages/pandas/core/indexing.py:670: SettingWithCopyWarning: \n",
      "A value is trying to be set on a copy of a slice from a DataFrame\n",
      "\n",
      "See the caveats in the documentation: https://pandas.pydata.org/pandas-docs/stable/user_guide/indexing.html#returning-a-view-versus-a-copy\n",
      "  iloc._setitem_with_indexer(indexer, value)\n"
     ]
    },
    {
     "name": "stdout",
     "output_type": "stream",
     "text": [
      "Here is the coding for pitch type:\n",
      "{'FF': 0, 'SL': 1, 'FT': 2, 'CH': 3, 'CU': 4}\n",
      "Actual Test Size: 0.24703943981052415\n",
      "Accuracy: 0.42350979574822845\n",
      "Precision: (0.33331423765830537,)\n",
      "Recall: 0.27068914752683926\n",
      "Random Forest Pitch Classification confusion matrix results:\n",
      "[[768 130  77  22  15]\n",
      " [378 105  54   7   1]\n",
      " [242  47 115  11  14]\n",
      " [136  18  40  19   2]\n",
      " [146  16  17  10   9]]\n",
      "Val Px R^2: 0.12324580903101334\n",
      "Val Px MAE: 0.688575858132727 ft.\n",
      "Val Pz R^2: 0.10339876763060019\n",
      "Val Pz MAE: 0.6777827775190203 ft.\n",
      "\n",
      "\n",
      "\n",
      "\n"
     ]
    }
   ],
   "source": [
    "output_df = multiple_pitcher_predictions(pitcher_list, pitch_df, split_size = 0.2, class_method = 'XGBoost')"
   ]
  },
  {
   "cell_type": "markdown",
   "metadata": {},
   "source": [
    "About 70 seconds to run 10."
   ]
  },
  {
   "cell_type": "markdown",
   "metadata": {},
   "source": [
    "Overall, the metrics seem relatively similar with Random Forest and XGBoost.  In either way, the prediction quality (and location prediction) will need to be improved."
   ]
  },
  {
   "cell_type": "code",
   "execution_count": 66,
   "metadata": {},
   "outputs": [
    {
     "data": {
      "text/plain": [
       "Index(['inning', 'batter_id', 'pitcher_id', 'top', 'ab_id', 'p_score', 'stand',\n",
       "       'p_throws', 'event', 'home_team', 'away_team', 'b_score', 'on_1b',\n",
       "       'on_2b', 'on_3b', 'px', 'pz', 'zone', 'pitch_type', 'start_speed',\n",
       "       'type', 'b_count', 's_count', 'outs', 'pitch_num', 'last_pitch_type',\n",
       "       'last_pitch_px', 'last_pitch_pz', 'last_pitch_speed',\n",
       "       'pitcher_full_name', 'pitcher_run_diff', 'hitter_full_name',\n",
       "       'Date_Time_Date', 'Season', 'cumulative_pitches', 'cumulative_ff_rate',\n",
       "       'cumulative_sl_rate', 'cumulative_ft_rate', 'cumulative_ch_rate',\n",
       "       'cumulative_cu_rate', 'cumulative_si_rate', 'cumulative_fc_rate',\n",
       "       'cumulative_kc_rate', 'cumulative_fs_rate', 'cumulative_kn_rate',\n",
       "       'cumulative_ep_rate', 'cumulative_fo_rate', 'cumulative_sc_rate',\n",
       "       'Name', 'Cluster'],\n",
       "      dtype='object')"
      ]
     },
     "execution_count": 66,
     "metadata": {},
     "output_type": "execute_result"
    }
   ],
   "source": [
    "pitch_df.columns"
   ]
  },
  {
   "cell_type": "code",
   "execution_count": 67,
   "metadata": {},
   "outputs": [
    {
     "ename": "AttributeError",
     "evalue": "'DataFrame' object has no attribute 'KN_prob'",
     "output_type": "error",
     "traceback": [
      "\u001b[0;31m---------------------------------------------------------------------------\u001b[0m",
      "\u001b[0;31mAttributeError\u001b[0m                            Traceback (most recent call last)",
      "\u001b[0;32m<ipython-input-67-ec373d36afb6>\u001b[0m in \u001b[0;36m<module>\u001b[0;34m\u001b[0m\n\u001b[0;32m----> 1\u001b[0;31m \u001b[0moutput_df\u001b[0m\u001b[0;34m.\u001b[0m\u001b[0mKN_prob\u001b[0m\u001b[0;34m.\u001b[0m\u001b[0mvalue_counts\u001b[0m\u001b[0;34m(\u001b[0m\u001b[0;34m)\u001b[0m\u001b[0;34m\u001b[0m\u001b[0;34m\u001b[0m\u001b[0m\n\u001b[0m",
      "\u001b[0;32m~/opt/anaconda3/envs/metis/lib/python3.8/site-packages/pandas/core/generic.py\u001b[0m in \u001b[0;36m__getattr__\u001b[0;34m(self, name)\u001b[0m\n\u001b[1;32m   5139\u001b[0m             \u001b[0;32mif\u001b[0m \u001b[0mself\u001b[0m\u001b[0;34m.\u001b[0m\u001b[0m_info_axis\u001b[0m\u001b[0;34m.\u001b[0m\u001b[0m_can_hold_identifiers_and_holds_name\u001b[0m\u001b[0;34m(\u001b[0m\u001b[0mname\u001b[0m\u001b[0;34m)\u001b[0m\u001b[0;34m:\u001b[0m\u001b[0;34m\u001b[0m\u001b[0;34m\u001b[0m\u001b[0m\n\u001b[1;32m   5140\u001b[0m                 \u001b[0;32mreturn\u001b[0m \u001b[0mself\u001b[0m\u001b[0;34m[\u001b[0m\u001b[0mname\u001b[0m\u001b[0;34m]\u001b[0m\u001b[0;34m\u001b[0m\u001b[0;34m\u001b[0m\u001b[0m\n\u001b[0;32m-> 5141\u001b[0;31m             \u001b[0;32mreturn\u001b[0m \u001b[0mobject\u001b[0m\u001b[0;34m.\u001b[0m\u001b[0m__getattribute__\u001b[0m\u001b[0;34m(\u001b[0m\u001b[0mself\u001b[0m\u001b[0;34m,\u001b[0m \u001b[0mname\u001b[0m\u001b[0;34m)\u001b[0m\u001b[0;34m\u001b[0m\u001b[0;34m\u001b[0m\u001b[0m\n\u001b[0m\u001b[1;32m   5142\u001b[0m \u001b[0;34m\u001b[0m\u001b[0m\n\u001b[1;32m   5143\u001b[0m     \u001b[0;32mdef\u001b[0m \u001b[0m__setattr__\u001b[0m\u001b[0;34m(\u001b[0m\u001b[0mself\u001b[0m\u001b[0;34m,\u001b[0m \u001b[0mname\u001b[0m\u001b[0;34m:\u001b[0m \u001b[0mstr\u001b[0m\u001b[0;34m,\u001b[0m \u001b[0mvalue\u001b[0m\u001b[0;34m)\u001b[0m \u001b[0;34m->\u001b[0m \u001b[0;32mNone\u001b[0m\u001b[0;34m:\u001b[0m\u001b[0;34m\u001b[0m\u001b[0;34m\u001b[0m\u001b[0m\n",
      "\u001b[0;31mAttributeError\u001b[0m: 'DataFrame' object has no attribute 'KN_prob'"
     ]
    }
   ],
   "source": [
    "output_df.KN_prob.value_counts()"
   ]
  },
  {
   "cell_type": "code",
   "execution_count": null,
   "metadata": {},
   "outputs": [],
   "source": []
  }
 ],
 "metadata": {
  "kernelspec": {
   "display_name": "Python [conda env:metis] *",
   "language": "python",
   "name": "conda-env-metis-py"
  },
  "language_info": {
   "codemirror_mode": {
    "name": "ipython",
    "version": 3
   },
   "file_extension": ".py",
   "mimetype": "text/x-python",
   "name": "python",
   "nbconvert_exporter": "python",
   "pygments_lexer": "ipython3",
   "version": "3.8.6"
  }
 },
 "nbformat": 4,
 "nbformat_minor": 4
}
