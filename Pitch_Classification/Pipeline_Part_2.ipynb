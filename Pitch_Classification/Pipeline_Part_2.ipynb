{
 "cells": [
  {
   "cell_type": "markdown",
   "metadata": {},
   "source": [
    "# Pipeline Part 2\n",
    "The purpose of this notebook is to utilize new features engineered in Feature_Engineering.ipynb for use in the modeling pipeline, in order to compare the results to pipeline_architecture.ipynb."
   ]
  },
  {
   "cell_type": "markdown",
   "metadata": {},
   "source": [
    "## Initial Setup"
   ]
  },
  {
   "cell_type": "markdown",
   "metadata": {},
   "source": [
    "Importing packages:"
   ]
  },
  {
   "cell_type": "code",
   "execution_count": 1,
   "metadata": {},
   "outputs": [],
   "source": [
    "import pickle\n",
    "from sqlalchemy import create_engine\n",
    "import pandas as pd\n",
    "from importlib import reload\n",
    "import numpy as np\n",
    "import scipy.stats as st\n",
    "import matplotlib.pyplot as plt\n",
    "import seaborn as sns\n",
    "%config InlineBackend.figure_formats = ['retina']\n",
    "%matplotlib inline\n",
    "\n",
    "plt.rcParams['figure.figsize'] = (9, 6)\n",
    "sns.set(context='notebook', style='whitegrid', font_scale=1.2)"
   ]
  },
  {
   "cell_type": "code",
   "execution_count": 2,
   "metadata": {},
   "outputs": [],
   "source": [
    "import pandas as pd\n",
    "import numpy as np\n",
    "from scipy import stats\n",
    "from sklearn.linear_model import LinearRegression\n",
    "import seaborn as sns\n",
    "from sklearn.model_selection import train_test_split\n",
    "from sklearn.linear_model import LinearRegression, Lasso, LassoCV, Ridge, RidgeCV, ElasticNetCV\n",
    "from sklearn.metrics import r2_score\n",
    "from sklearn.pipeline import Pipeline\n",
    "from sklearn.preprocessing import StandardScaler\n",
    "from sklearn.model_selection import KFold\n",
    "from sklearn.pipeline import Pipeline, make_pipeline"
   ]
  },
  {
   "cell_type": "markdown",
   "metadata": {},
   "source": [
    "Importing the regression and classification functions:"
   ]
  },
  {
   "cell_type": "code",
   "execution_count": 3,
   "metadata": {},
   "outputs": [],
   "source": [
    "from location_regression_functions import *\n",
    "from pitch_cat_functions import *"
   ]
  },
  {
   "cell_type": "markdown",
   "metadata": {},
   "source": [
    "Importing the functions from the pipeline script:"
   ]
  },
  {
   "cell_type": "code",
   "execution_count": 4,
   "metadata": {},
   "outputs": [],
   "source": [
    "from classification_location_combo_2 import *"
   ]
  },
  {
   "cell_type": "markdown",
   "metadata": {},
   "source": [
    "Pickling in initial data to work with:"
   ]
  },
  {
   "cell_type": "code",
   "execution_count": 5,
   "metadata": {},
   "outputs": [
    {
     "data": {
      "text/plain": [
       "'/Users/patrickbovard/Documents/GitHub/metis_final_project/Pitch_Classification'"
      ]
     },
     "execution_count": 5,
     "metadata": {},
     "output_type": "execute_result"
    }
   ],
   "source": [
    "pwd"
   ]
  },
  {
   "cell_type": "code",
   "execution_count": 6,
   "metadata": {},
   "outputs": [],
   "source": [
    "with open('../Data/train_df_clusters.pickle','rb') as read_file:\n",
    "    pitch_df = pickle.load(read_file)"
   ]
  },
  {
   "cell_type": "code",
   "execution_count": 7,
   "metadata": {},
   "outputs": [
    {
     "data": {
      "text/html": [
       "<div>\n",
       "<style scoped>\n",
       "    .dataframe tbody tr th:only-of-type {\n",
       "        vertical-align: middle;\n",
       "    }\n",
       "\n",
       "    .dataframe tbody tr th {\n",
       "        vertical-align: top;\n",
       "    }\n",
       "\n",
       "    .dataframe thead th {\n",
       "        text-align: right;\n",
       "    }\n",
       "</style>\n",
       "<table border=\"1\" class=\"dataframe\">\n",
       "  <thead>\n",
       "    <tr style=\"text-align: right;\">\n",
       "      <th></th>\n",
       "      <th>inning</th>\n",
       "      <th>batter_id</th>\n",
       "      <th>pitcher_id</th>\n",
       "      <th>top</th>\n",
       "      <th>ab_id</th>\n",
       "      <th>p_score</th>\n",
       "      <th>stand</th>\n",
       "      <th>p_throws</th>\n",
       "      <th>event</th>\n",
       "      <th>home_team</th>\n",
       "      <th>...</th>\n",
       "      <th>cumulative_cu_rate</th>\n",
       "      <th>cumulative_si_rate</th>\n",
       "      <th>cumulative_fc_rate</th>\n",
       "      <th>cumulative_kc_rate</th>\n",
       "      <th>cumulative_fs_rate</th>\n",
       "      <th>cumulative_kn_rate</th>\n",
       "      <th>cumulative_ep_rate</th>\n",
       "      <th>cumulative_fo_rate</th>\n",
       "      <th>cumulative_sc_rate</th>\n",
       "      <th>Cluster</th>\n",
       "    </tr>\n",
       "  </thead>\n",
       "  <tbody>\n",
       "    <tr>\n",
       "      <th>0</th>\n",
       "      <td>1.0</td>\n",
       "      <td>572761</td>\n",
       "      <td>452657</td>\n",
       "      <td>1.0</td>\n",
       "      <td>2.015000e+09</td>\n",
       "      <td>0.0</td>\n",
       "      <td>L</td>\n",
       "      <td>L</td>\n",
       "      <td>Groundout</td>\n",
       "      <td>chn</td>\n",
       "      <td>...</td>\n",
       "      <td>0.0</td>\n",
       "      <td>0.0</td>\n",
       "      <td>0.0</td>\n",
       "      <td>0.0</td>\n",
       "      <td>0.0</td>\n",
       "      <td>0.0</td>\n",
       "      <td>0.0</td>\n",
       "      <td>0.0</td>\n",
       "      <td>0.0</td>\n",
       "      <td>0.0</td>\n",
       "    </tr>\n",
       "    <tr>\n",
       "      <th>1</th>\n",
       "      <td>1.0</td>\n",
       "      <td>572761</td>\n",
       "      <td>452657</td>\n",
       "      <td>1.0</td>\n",
       "      <td>2.015000e+09</td>\n",
       "      <td>0.0</td>\n",
       "      <td>L</td>\n",
       "      <td>L</td>\n",
       "      <td>Groundout</td>\n",
       "      <td>chn</td>\n",
       "      <td>...</td>\n",
       "      <td>0.0</td>\n",
       "      <td>0.0</td>\n",
       "      <td>0.0</td>\n",
       "      <td>0.0</td>\n",
       "      <td>0.0</td>\n",
       "      <td>0.0</td>\n",
       "      <td>0.0</td>\n",
       "      <td>0.0</td>\n",
       "      <td>0.0</td>\n",
       "      <td>0.0</td>\n",
       "    </tr>\n",
       "    <tr>\n",
       "      <th>2</th>\n",
       "      <td>1.0</td>\n",
       "      <td>572761</td>\n",
       "      <td>452657</td>\n",
       "      <td>1.0</td>\n",
       "      <td>2.015000e+09</td>\n",
       "      <td>0.0</td>\n",
       "      <td>L</td>\n",
       "      <td>L</td>\n",
       "      <td>Groundout</td>\n",
       "      <td>chn</td>\n",
       "      <td>...</td>\n",
       "      <td>0.0</td>\n",
       "      <td>0.0</td>\n",
       "      <td>0.0</td>\n",
       "      <td>0.0</td>\n",
       "      <td>0.0</td>\n",
       "      <td>0.0</td>\n",
       "      <td>0.0</td>\n",
       "      <td>0.0</td>\n",
       "      <td>0.0</td>\n",
       "      <td>0.0</td>\n",
       "    </tr>\n",
       "    <tr>\n",
       "      <th>3</th>\n",
       "      <td>1.0</td>\n",
       "      <td>572761</td>\n",
       "      <td>452657</td>\n",
       "      <td>1.0</td>\n",
       "      <td>2.015000e+09</td>\n",
       "      <td>0.0</td>\n",
       "      <td>L</td>\n",
       "      <td>L</td>\n",
       "      <td>Groundout</td>\n",
       "      <td>chn</td>\n",
       "      <td>...</td>\n",
       "      <td>0.0</td>\n",
       "      <td>0.0</td>\n",
       "      <td>0.0</td>\n",
       "      <td>0.0</td>\n",
       "      <td>0.0</td>\n",
       "      <td>0.0</td>\n",
       "      <td>0.0</td>\n",
       "      <td>0.0</td>\n",
       "      <td>0.0</td>\n",
       "      <td>0.0</td>\n",
       "    </tr>\n",
       "    <tr>\n",
       "      <th>4</th>\n",
       "      <td>1.0</td>\n",
       "      <td>572761</td>\n",
       "      <td>452657</td>\n",
       "      <td>1.0</td>\n",
       "      <td>2.015000e+09</td>\n",
       "      <td>0.0</td>\n",
       "      <td>L</td>\n",
       "      <td>L</td>\n",
       "      <td>Groundout</td>\n",
       "      <td>chn</td>\n",
       "      <td>...</td>\n",
       "      <td>0.0</td>\n",
       "      <td>0.0</td>\n",
       "      <td>0.0</td>\n",
       "      <td>0.0</td>\n",
       "      <td>0.0</td>\n",
       "      <td>0.0</td>\n",
       "      <td>0.0</td>\n",
       "      <td>0.0</td>\n",
       "      <td>0.0</td>\n",
       "      <td>0.0</td>\n",
       "    </tr>\n",
       "  </tbody>\n",
       "</table>\n",
       "<p>5 rows × 49 columns</p>\n",
       "</div>"
      ],
      "text/plain": [
       "   inning  batter_id  pitcher_id  top         ab_id  p_score stand p_throws  \\\n",
       "0     1.0     572761      452657  1.0  2.015000e+09      0.0     L        L   \n",
       "1     1.0     572761      452657  1.0  2.015000e+09      0.0     L        L   \n",
       "2     1.0     572761      452657  1.0  2.015000e+09      0.0     L        L   \n",
       "3     1.0     572761      452657  1.0  2.015000e+09      0.0     L        L   \n",
       "4     1.0     572761      452657  1.0  2.015000e+09      0.0     L        L   \n",
       "\n",
       "       event home_team  ... cumulative_cu_rate  cumulative_si_rate  \\\n",
       "0  Groundout       chn  ...                0.0                 0.0   \n",
       "1  Groundout       chn  ...                0.0                 0.0   \n",
       "2  Groundout       chn  ...                0.0                 0.0   \n",
       "3  Groundout       chn  ...                0.0                 0.0   \n",
       "4  Groundout       chn  ...                0.0                 0.0   \n",
       "\n",
       "   cumulative_fc_rate  cumulative_kc_rate  cumulative_fs_rate  \\\n",
       "0                 0.0                 0.0                 0.0   \n",
       "1                 0.0                 0.0                 0.0   \n",
       "2                 0.0                 0.0                 0.0   \n",
       "3                 0.0                 0.0                 0.0   \n",
       "4                 0.0                 0.0                 0.0   \n",
       "\n",
       "   cumulative_kn_rate  cumulative_ep_rate cumulative_fo_rate  \\\n",
       "0                 0.0                 0.0                0.0   \n",
       "1                 0.0                 0.0                0.0   \n",
       "2                 0.0                 0.0                0.0   \n",
       "3                 0.0                 0.0                0.0   \n",
       "4                 0.0                 0.0                0.0   \n",
       "\n",
       "  cumulative_sc_rate  Cluster  \n",
       "0                0.0      0.0  \n",
       "1                0.0      0.0  \n",
       "2                0.0      0.0  \n",
       "3                0.0      0.0  \n",
       "4                0.0      0.0  \n",
       "\n",
       "[5 rows x 49 columns]"
      ]
     },
     "execution_count": 7,
     "metadata": {},
     "output_type": "execute_result"
    }
   ],
   "source": [
    "pitch_df.head()"
   ]
  },
  {
   "cell_type": "code",
   "execution_count": 8,
   "metadata": {},
   "outputs": [
    {
     "data": {
      "text/plain": [
       "(2848371, 49)"
      ]
     },
     "execution_count": 8,
     "metadata": {},
     "output_type": "execute_result"
    }
   ],
   "source": [
    "pitch_df.shape"
   ]
  },
  {
   "cell_type": "code",
   "execution_count": 9,
   "metadata": {},
   "outputs": [
    {
     "data": {
      "text/plain": [
       "inning                   0\n",
       "batter_id                0\n",
       "pitcher_id               0\n",
       "top                      0\n",
       "ab_id                    0\n",
       "p_score                  0\n",
       "stand                    0\n",
       "p_throws                 0\n",
       "event                    0\n",
       "home_team                0\n",
       "away_team                0\n",
       "b_score                  0\n",
       "on_1b                    0\n",
       "on_2b                    0\n",
       "on_3b                    0\n",
       "px                       0\n",
       "pz                       0\n",
       "zone                     0\n",
       "pitch_type               0\n",
       "start_speed              0\n",
       "type                     0\n",
       "b_count                  0\n",
       "s_count                  0\n",
       "outs                     0\n",
       "pitch_num                0\n",
       "last_pitch_type       3232\n",
       "last_pitch_px         3232\n",
       "last_pitch_pz         3232\n",
       "last_pitch_speed      3214\n",
       "pitcher_full_name        0\n",
       "pitcher_run_diff         0\n",
       "hitter_full_name         0\n",
       "Date_Time_Date           0\n",
       "Season                   0\n",
       "cumulative_pitches       0\n",
       "cumulative_ff_rate       0\n",
       "cumulative_sl_rate       0\n",
       "cumulative_ft_rate       0\n",
       "cumulative_ch_rate       0\n",
       "cumulative_cu_rate       0\n",
       "cumulative_si_rate       0\n",
       "cumulative_fc_rate       0\n",
       "cumulative_kc_rate       0\n",
       "cumulative_fs_rate       0\n",
       "cumulative_kn_rate       0\n",
       "cumulative_ep_rate       0\n",
       "cumulative_fo_rate       0\n",
       "cumulative_sc_rate       0\n",
       "Cluster                  0\n",
       "dtype: int64"
      ]
     },
     "execution_count": 9,
     "metadata": {},
     "output_type": "execute_result"
    }
   ],
   "source": [
    "pitch_df.isnull().sum()"
   ]
  },
  {
   "cell_type": "code",
   "execution_count": 10,
   "metadata": {},
   "outputs": [
    {
     "data": {
      "text/html": [
       "<div>\n",
       "<style scoped>\n",
       "    .dataframe tbody tr th:only-of-type {\n",
       "        vertical-align: middle;\n",
       "    }\n",
       "\n",
       "    .dataframe tbody tr th {\n",
       "        vertical-align: top;\n",
       "    }\n",
       "\n",
       "    .dataframe thead th {\n",
       "        text-align: right;\n",
       "    }\n",
       "</style>\n",
       "<table border=\"1\" class=\"dataframe\">\n",
       "  <thead>\n",
       "    <tr style=\"text-align: right;\">\n",
       "      <th></th>\n",
       "      <th>inning</th>\n",
       "      <th>batter_id</th>\n",
       "      <th>pitcher_id</th>\n",
       "      <th>top</th>\n",
       "      <th>ab_id</th>\n",
       "      <th>p_score</th>\n",
       "      <th>stand</th>\n",
       "      <th>p_throws</th>\n",
       "      <th>event</th>\n",
       "      <th>home_team</th>\n",
       "      <th>...</th>\n",
       "      <th>cumulative_cu_rate</th>\n",
       "      <th>cumulative_si_rate</th>\n",
       "      <th>cumulative_fc_rate</th>\n",
       "      <th>cumulative_kc_rate</th>\n",
       "      <th>cumulative_fs_rate</th>\n",
       "      <th>cumulative_kn_rate</th>\n",
       "      <th>cumulative_ep_rate</th>\n",
       "      <th>cumulative_fo_rate</th>\n",
       "      <th>cumulative_sc_rate</th>\n",
       "      <th>Cluster</th>\n",
       "    </tr>\n",
       "  </thead>\n",
       "  <tbody>\n",
       "    <tr>\n",
       "      <th>0</th>\n",
       "      <td>1.0</td>\n",
       "      <td>572761</td>\n",
       "      <td>452657</td>\n",
       "      <td>1.0</td>\n",
       "      <td>2.015000e+09</td>\n",
       "      <td>0.0</td>\n",
       "      <td>L</td>\n",
       "      <td>L</td>\n",
       "      <td>Groundout</td>\n",
       "      <td>chn</td>\n",
       "      <td>...</td>\n",
       "      <td>0.000000</td>\n",
       "      <td>0.0</td>\n",
       "      <td>0.000000</td>\n",
       "      <td>0.0</td>\n",
       "      <td>0.0</td>\n",
       "      <td>0.0</td>\n",
       "      <td>0.0</td>\n",
       "      <td>0.0</td>\n",
       "      <td>0.0</td>\n",
       "      <td>0.0</td>\n",
       "    </tr>\n",
       "    <tr>\n",
       "      <th>1</th>\n",
       "      <td>1.0</td>\n",
       "      <td>572761</td>\n",
       "      <td>452657</td>\n",
       "      <td>1.0</td>\n",
       "      <td>2.015000e+09</td>\n",
       "      <td>0.0</td>\n",
       "      <td>L</td>\n",
       "      <td>L</td>\n",
       "      <td>Groundout</td>\n",
       "      <td>chn</td>\n",
       "      <td>...</td>\n",
       "      <td>0.000000</td>\n",
       "      <td>0.0</td>\n",
       "      <td>0.000000</td>\n",
       "      <td>0.0</td>\n",
       "      <td>0.0</td>\n",
       "      <td>0.0</td>\n",
       "      <td>0.0</td>\n",
       "      <td>0.0</td>\n",
       "      <td>0.0</td>\n",
       "      <td>0.0</td>\n",
       "    </tr>\n",
       "    <tr>\n",
       "      <th>2</th>\n",
       "      <td>1.0</td>\n",
       "      <td>572761</td>\n",
       "      <td>452657</td>\n",
       "      <td>1.0</td>\n",
       "      <td>2.015000e+09</td>\n",
       "      <td>0.0</td>\n",
       "      <td>L</td>\n",
       "      <td>L</td>\n",
       "      <td>Groundout</td>\n",
       "      <td>chn</td>\n",
       "      <td>...</td>\n",
       "      <td>0.000000</td>\n",
       "      <td>0.0</td>\n",
       "      <td>0.000000</td>\n",
       "      <td>0.0</td>\n",
       "      <td>0.0</td>\n",
       "      <td>0.0</td>\n",
       "      <td>0.0</td>\n",
       "      <td>0.0</td>\n",
       "      <td>0.0</td>\n",
       "      <td>0.0</td>\n",
       "    </tr>\n",
       "    <tr>\n",
       "      <th>3</th>\n",
       "      <td>1.0</td>\n",
       "      <td>572761</td>\n",
       "      <td>452657</td>\n",
       "      <td>1.0</td>\n",
       "      <td>2.015000e+09</td>\n",
       "      <td>0.0</td>\n",
       "      <td>L</td>\n",
       "      <td>L</td>\n",
       "      <td>Groundout</td>\n",
       "      <td>chn</td>\n",
       "      <td>...</td>\n",
       "      <td>0.000000</td>\n",
       "      <td>0.0</td>\n",
       "      <td>0.000000</td>\n",
       "      <td>0.0</td>\n",
       "      <td>0.0</td>\n",
       "      <td>0.0</td>\n",
       "      <td>0.0</td>\n",
       "      <td>0.0</td>\n",
       "      <td>0.0</td>\n",
       "      <td>0.0</td>\n",
       "    </tr>\n",
       "    <tr>\n",
       "      <th>4</th>\n",
       "      <td>1.0</td>\n",
       "      <td>572761</td>\n",
       "      <td>452657</td>\n",
       "      <td>1.0</td>\n",
       "      <td>2.015000e+09</td>\n",
       "      <td>0.0</td>\n",
       "      <td>L</td>\n",
       "      <td>L</td>\n",
       "      <td>Groundout</td>\n",
       "      <td>chn</td>\n",
       "      <td>...</td>\n",
       "      <td>0.000000</td>\n",
       "      <td>0.0</td>\n",
       "      <td>0.000000</td>\n",
       "      <td>0.0</td>\n",
       "      <td>0.0</td>\n",
       "      <td>0.0</td>\n",
       "      <td>0.0</td>\n",
       "      <td>0.0</td>\n",
       "      <td>0.0</td>\n",
       "      <td>0.0</td>\n",
       "    </tr>\n",
       "    <tr>\n",
       "      <th>5</th>\n",
       "      <td>1.0</td>\n",
       "      <td>572761</td>\n",
       "      <td>452657</td>\n",
       "      <td>1.0</td>\n",
       "      <td>2.015000e+09</td>\n",
       "      <td>0.0</td>\n",
       "      <td>L</td>\n",
       "      <td>L</td>\n",
       "      <td>Groundout</td>\n",
       "      <td>chn</td>\n",
       "      <td>...</td>\n",
       "      <td>0.200000</td>\n",
       "      <td>0.0</td>\n",
       "      <td>0.000000</td>\n",
       "      <td>0.0</td>\n",
       "      <td>0.0</td>\n",
       "      <td>0.0</td>\n",
       "      <td>0.0</td>\n",
       "      <td>0.0</td>\n",
       "      <td>0.0</td>\n",
       "      <td>0.0</td>\n",
       "    </tr>\n",
       "    <tr>\n",
       "      <th>6</th>\n",
       "      <td>1.0</td>\n",
       "      <td>518792</td>\n",
       "      <td>452657</td>\n",
       "      <td>1.0</td>\n",
       "      <td>2.015000e+09</td>\n",
       "      <td>0.0</td>\n",
       "      <td>L</td>\n",
       "      <td>L</td>\n",
       "      <td>Double</td>\n",
       "      <td>chn</td>\n",
       "      <td>...</td>\n",
       "      <td>0.166667</td>\n",
       "      <td>0.0</td>\n",
       "      <td>0.000000</td>\n",
       "      <td>0.0</td>\n",
       "      <td>0.0</td>\n",
       "      <td>0.0</td>\n",
       "      <td>0.0</td>\n",
       "      <td>0.0</td>\n",
       "      <td>0.0</td>\n",
       "      <td>3.0</td>\n",
       "    </tr>\n",
       "    <tr>\n",
       "      <th>7</th>\n",
       "      <td>1.0</td>\n",
       "      <td>518792</td>\n",
       "      <td>452657</td>\n",
       "      <td>1.0</td>\n",
       "      <td>2.015000e+09</td>\n",
       "      <td>0.0</td>\n",
       "      <td>L</td>\n",
       "      <td>L</td>\n",
       "      <td>Double</td>\n",
       "      <td>chn</td>\n",
       "      <td>...</td>\n",
       "      <td>0.142857</td>\n",
       "      <td>0.0</td>\n",
       "      <td>0.000000</td>\n",
       "      <td>0.0</td>\n",
       "      <td>0.0</td>\n",
       "      <td>0.0</td>\n",
       "      <td>0.0</td>\n",
       "      <td>0.0</td>\n",
       "      <td>0.0</td>\n",
       "      <td>3.0</td>\n",
       "    </tr>\n",
       "    <tr>\n",
       "      <th>8</th>\n",
       "      <td>1.0</td>\n",
       "      <td>407812</td>\n",
       "      <td>452657</td>\n",
       "      <td>1.0</td>\n",
       "      <td>2.015000e+09</td>\n",
       "      <td>0.0</td>\n",
       "      <td>R</td>\n",
       "      <td>L</td>\n",
       "      <td>Single</td>\n",
       "      <td>chn</td>\n",
       "      <td>...</td>\n",
       "      <td>0.125000</td>\n",
       "      <td>0.0</td>\n",
       "      <td>0.125000</td>\n",
       "      <td>0.0</td>\n",
       "      <td>0.0</td>\n",
       "      <td>0.0</td>\n",
       "      <td>0.0</td>\n",
       "      <td>0.0</td>\n",
       "      <td>0.0</td>\n",
       "      <td>0.0</td>\n",
       "    </tr>\n",
       "    <tr>\n",
       "      <th>9</th>\n",
       "      <td>1.0</td>\n",
       "      <td>407812</td>\n",
       "      <td>452657</td>\n",
       "      <td>1.0</td>\n",
       "      <td>2.015000e+09</td>\n",
       "      <td>0.0</td>\n",
       "      <td>R</td>\n",
       "      <td>L</td>\n",
       "      <td>Single</td>\n",
       "      <td>chn</td>\n",
       "      <td>...</td>\n",
       "      <td>0.111111</td>\n",
       "      <td>0.0</td>\n",
       "      <td>0.111111</td>\n",
       "      <td>0.0</td>\n",
       "      <td>0.0</td>\n",
       "      <td>0.0</td>\n",
       "      <td>0.0</td>\n",
       "      <td>0.0</td>\n",
       "      <td>0.0</td>\n",
       "      <td>0.0</td>\n",
       "    </tr>\n",
       "  </tbody>\n",
       "</table>\n",
       "<p>10 rows × 49 columns</p>\n",
       "</div>"
      ],
      "text/plain": [
       "   inning  batter_id  pitcher_id  top         ab_id  p_score stand p_throws  \\\n",
       "0     1.0     572761      452657  1.0  2.015000e+09      0.0     L        L   \n",
       "1     1.0     572761      452657  1.0  2.015000e+09      0.0     L        L   \n",
       "2     1.0     572761      452657  1.0  2.015000e+09      0.0     L        L   \n",
       "3     1.0     572761      452657  1.0  2.015000e+09      0.0     L        L   \n",
       "4     1.0     572761      452657  1.0  2.015000e+09      0.0     L        L   \n",
       "5     1.0     572761      452657  1.0  2.015000e+09      0.0     L        L   \n",
       "6     1.0     518792      452657  1.0  2.015000e+09      0.0     L        L   \n",
       "7     1.0     518792      452657  1.0  2.015000e+09      0.0     L        L   \n",
       "8     1.0     407812      452657  1.0  2.015000e+09      0.0     R        L   \n",
       "9     1.0     407812      452657  1.0  2.015000e+09      0.0     R        L   \n",
       "\n",
       "       event home_team  ... cumulative_cu_rate  cumulative_si_rate  \\\n",
       "0  Groundout       chn  ...           0.000000                 0.0   \n",
       "1  Groundout       chn  ...           0.000000                 0.0   \n",
       "2  Groundout       chn  ...           0.000000                 0.0   \n",
       "3  Groundout       chn  ...           0.000000                 0.0   \n",
       "4  Groundout       chn  ...           0.000000                 0.0   \n",
       "5  Groundout       chn  ...           0.200000                 0.0   \n",
       "6     Double       chn  ...           0.166667                 0.0   \n",
       "7     Double       chn  ...           0.142857                 0.0   \n",
       "8     Single       chn  ...           0.125000                 0.0   \n",
       "9     Single       chn  ...           0.111111                 0.0   \n",
       "\n",
       "   cumulative_fc_rate  cumulative_kc_rate  cumulative_fs_rate  \\\n",
       "0            0.000000                 0.0                 0.0   \n",
       "1            0.000000                 0.0                 0.0   \n",
       "2            0.000000                 0.0                 0.0   \n",
       "3            0.000000                 0.0                 0.0   \n",
       "4            0.000000                 0.0                 0.0   \n",
       "5            0.000000                 0.0                 0.0   \n",
       "6            0.000000                 0.0                 0.0   \n",
       "7            0.000000                 0.0                 0.0   \n",
       "8            0.125000                 0.0                 0.0   \n",
       "9            0.111111                 0.0                 0.0   \n",
       "\n",
       "   cumulative_kn_rate  cumulative_ep_rate cumulative_fo_rate  \\\n",
       "0                 0.0                 0.0                0.0   \n",
       "1                 0.0                 0.0                0.0   \n",
       "2                 0.0                 0.0                0.0   \n",
       "3                 0.0                 0.0                0.0   \n",
       "4                 0.0                 0.0                0.0   \n",
       "5                 0.0                 0.0                0.0   \n",
       "6                 0.0                 0.0                0.0   \n",
       "7                 0.0                 0.0                0.0   \n",
       "8                 0.0                 0.0                0.0   \n",
       "9                 0.0                 0.0                0.0   \n",
       "\n",
       "  cumulative_sc_rate  Cluster  \n",
       "0                0.0      0.0  \n",
       "1                0.0      0.0  \n",
       "2                0.0      0.0  \n",
       "3                0.0      0.0  \n",
       "4                0.0      0.0  \n",
       "5                0.0      0.0  \n",
       "6                0.0      3.0  \n",
       "7                0.0      3.0  \n",
       "8                0.0      0.0  \n",
       "9                0.0      0.0  \n",
       "\n",
       "[10 rows x 49 columns]"
      ]
     },
     "execution_count": 10,
     "metadata": {},
     "output_type": "execute_result"
    }
   ],
   "source": [
    "pitch_df.head(10)"
   ]
  },
  {
   "cell_type": "markdown",
   "metadata": {},
   "source": [
    "Pickling in the new feature engineering data:"
   ]
  },
  {
   "cell_type": "code",
   "execution_count": 11,
   "metadata": {},
   "outputs": [],
   "source": [
    "with open('../Data/new_pitch_rates.pickle','rb') as read_file:\n",
    "    new_rate_df = pickle.load(read_file)"
   ]
  },
  {
   "cell_type": "code",
   "execution_count": 12,
   "metadata": {},
   "outputs": [
    {
     "data": {
      "text/html": [
       "<div>\n",
       "<style scoped>\n",
       "    .dataframe tbody tr th:only-of-type {\n",
       "        vertical-align: middle;\n",
       "    }\n",
       "\n",
       "    .dataframe tbody tr th {\n",
       "        vertical-align: top;\n",
       "    }\n",
       "\n",
       "    .dataframe thead th {\n",
       "        text-align: right;\n",
       "    }\n",
       "</style>\n",
       "<table border=\"1\" class=\"dataframe\">\n",
       "  <thead>\n",
       "    <tr style=\"text-align: right;\">\n",
       "      <th></th>\n",
       "      <th>pitcher_id</th>\n",
       "      <th>batter_id</th>\n",
       "      <th>event</th>\n",
       "      <th>pitcher_full_name</th>\n",
       "      <th>pitch_type</th>\n",
       "      <th>Season</th>\n",
       "      <th>last_100_ff</th>\n",
       "      <th>last_100_sl</th>\n",
       "      <th>last_100_ft</th>\n",
       "      <th>last_100_ch</th>\n",
       "      <th>...</th>\n",
       "      <th>avg_pz_ch</th>\n",
       "      <th>avg_pz_cu</th>\n",
       "      <th>avg_pz_si</th>\n",
       "      <th>avg_pz_fc</th>\n",
       "      <th>avg_pz_kc</th>\n",
       "      <th>avg_pz_fs</th>\n",
       "      <th>avg_pz_kn</th>\n",
       "      <th>avg_pz_ep</th>\n",
       "      <th>avg_pz_fo</th>\n",
       "      <th>avg_pz_sc</th>\n",
       "    </tr>\n",
       "  </thead>\n",
       "  <tbody>\n",
       "    <tr>\n",
       "      <th>0</th>\n",
       "      <td>452657</td>\n",
       "      <td>572761</td>\n",
       "      <td>Groundout</td>\n",
       "      <td>Jon Lester</td>\n",
       "      <td>FF</td>\n",
       "      <td>2015</td>\n",
       "      <td>0</td>\n",
       "      <td>0</td>\n",
       "      <td>0</td>\n",
       "      <td>0</td>\n",
       "      <td>...</td>\n",
       "      <td>NaN</td>\n",
       "      <td>NaN</td>\n",
       "      <td>NaN</td>\n",
       "      <td>NaN</td>\n",
       "      <td>NaN</td>\n",
       "      <td>NaN</td>\n",
       "      <td>NaN</td>\n",
       "      <td>NaN</td>\n",
       "      <td>NaN</td>\n",
       "      <td>NaN</td>\n",
       "    </tr>\n",
       "    <tr>\n",
       "      <th>1</th>\n",
       "      <td>452657</td>\n",
       "      <td>572761</td>\n",
       "      <td>Groundout</td>\n",
       "      <td>Jon Lester</td>\n",
       "      <td>FF</td>\n",
       "      <td>2015</td>\n",
       "      <td>1</td>\n",
       "      <td>0</td>\n",
       "      <td>0</td>\n",
       "      <td>0</td>\n",
       "      <td>...</td>\n",
       "      <td>NaN</td>\n",
       "      <td>NaN</td>\n",
       "      <td>NaN</td>\n",
       "      <td>NaN</td>\n",
       "      <td>NaN</td>\n",
       "      <td>NaN</td>\n",
       "      <td>NaN</td>\n",
       "      <td>NaN</td>\n",
       "      <td>NaN</td>\n",
       "      <td>NaN</td>\n",
       "    </tr>\n",
       "    <tr>\n",
       "      <th>2</th>\n",
       "      <td>452657</td>\n",
       "      <td>572761</td>\n",
       "      <td>Groundout</td>\n",
       "      <td>Jon Lester</td>\n",
       "      <td>FF</td>\n",
       "      <td>2015</td>\n",
       "      <td>2</td>\n",
       "      <td>0</td>\n",
       "      <td>0</td>\n",
       "      <td>0</td>\n",
       "      <td>...</td>\n",
       "      <td>NaN</td>\n",
       "      <td>NaN</td>\n",
       "      <td>NaN</td>\n",
       "      <td>NaN</td>\n",
       "      <td>NaN</td>\n",
       "      <td>NaN</td>\n",
       "      <td>NaN</td>\n",
       "      <td>NaN</td>\n",
       "      <td>NaN</td>\n",
       "      <td>NaN</td>\n",
       "    </tr>\n",
       "    <tr>\n",
       "      <th>3</th>\n",
       "      <td>452657</td>\n",
       "      <td>572761</td>\n",
       "      <td>Groundout</td>\n",
       "      <td>Jon Lester</td>\n",
       "      <td>FF</td>\n",
       "      <td>2015</td>\n",
       "      <td>3</td>\n",
       "      <td>0</td>\n",
       "      <td>0</td>\n",
       "      <td>0</td>\n",
       "      <td>...</td>\n",
       "      <td>NaN</td>\n",
       "      <td>NaN</td>\n",
       "      <td>NaN</td>\n",
       "      <td>NaN</td>\n",
       "      <td>NaN</td>\n",
       "      <td>NaN</td>\n",
       "      <td>NaN</td>\n",
       "      <td>NaN</td>\n",
       "      <td>NaN</td>\n",
       "      <td>NaN</td>\n",
       "    </tr>\n",
       "    <tr>\n",
       "      <th>4</th>\n",
       "      <td>452657</td>\n",
       "      <td>572761</td>\n",
       "      <td>Groundout</td>\n",
       "      <td>Jon Lester</td>\n",
       "      <td>CU</td>\n",
       "      <td>2015</td>\n",
       "      <td>4</td>\n",
       "      <td>0</td>\n",
       "      <td>0</td>\n",
       "      <td>0</td>\n",
       "      <td>...</td>\n",
       "      <td>NaN</td>\n",
       "      <td>NaN</td>\n",
       "      <td>NaN</td>\n",
       "      <td>NaN</td>\n",
       "      <td>NaN</td>\n",
       "      <td>NaN</td>\n",
       "      <td>NaN</td>\n",
       "      <td>NaN</td>\n",
       "      <td>NaN</td>\n",
       "      <td>NaN</td>\n",
       "    </tr>\n",
       "  </tbody>\n",
       "</table>\n",
       "<p>5 rows × 45 columns</p>\n",
       "</div>"
      ],
      "text/plain": [
       "   pitcher_id  batter_id      event pitcher_full_name pitch_type  Season  \\\n",
       "0      452657     572761  Groundout        Jon Lester         FF    2015   \n",
       "1      452657     572761  Groundout        Jon Lester         FF    2015   \n",
       "2      452657     572761  Groundout        Jon Lester         FF    2015   \n",
       "3      452657     572761  Groundout        Jon Lester         FF    2015   \n",
       "4      452657     572761  Groundout        Jon Lester         CU    2015   \n",
       "\n",
       "   last_100_ff  last_100_sl  last_100_ft  last_100_ch  ...  avg_pz_ch  \\\n",
       "0            0            0            0            0  ...        NaN   \n",
       "1            1            0            0            0  ...        NaN   \n",
       "2            2            0            0            0  ...        NaN   \n",
       "3            3            0            0            0  ...        NaN   \n",
       "4            4            0            0            0  ...        NaN   \n",
       "\n",
       "   avg_pz_cu  avg_pz_si  avg_pz_fc  avg_pz_kc  avg_pz_fs  avg_pz_kn  \\\n",
       "0        NaN        NaN        NaN        NaN        NaN        NaN   \n",
       "1        NaN        NaN        NaN        NaN        NaN        NaN   \n",
       "2        NaN        NaN        NaN        NaN        NaN        NaN   \n",
       "3        NaN        NaN        NaN        NaN        NaN        NaN   \n",
       "4        NaN        NaN        NaN        NaN        NaN        NaN   \n",
       "\n",
       "   avg_pz_ep  avg_pz_fo  avg_pz_sc  \n",
       "0        NaN        NaN        NaN  \n",
       "1        NaN        NaN        NaN  \n",
       "2        NaN        NaN        NaN  \n",
       "3        NaN        NaN        NaN  \n",
       "4        NaN        NaN        NaN  \n",
       "\n",
       "[5 rows x 45 columns]"
      ]
     },
     "execution_count": 12,
     "metadata": {},
     "output_type": "execute_result"
    }
   ],
   "source": [
    "new_rate_df.head()"
   ]
  },
  {
   "cell_type": "markdown",
   "metadata": {},
   "source": [
    "ONly taking the rates prior to 2019 to use with the training/validation data:"
   ]
  },
  {
   "cell_type": "code",
   "execution_count": 13,
   "metadata": {},
   "outputs": [
    {
     "data": {
      "text/plain": [
       "(2848371, 45)"
      ]
     },
     "execution_count": 13,
     "metadata": {},
     "output_type": "execute_result"
    }
   ],
   "source": [
    "rates_pre_2019 = new_rate_df[new_rate_df.Season != 2019]\n",
    "rates_pre_2019.shape"
   ]
  },
  {
   "cell_type": "code",
   "execution_count": 14,
   "metadata": {},
   "outputs": [
    {
     "data": {
      "text/html": [
       "<div>\n",
       "<style scoped>\n",
       "    .dataframe tbody tr th:only-of-type {\n",
       "        vertical-align: middle;\n",
       "    }\n",
       "\n",
       "    .dataframe tbody tr th {\n",
       "        vertical-align: top;\n",
       "    }\n",
       "\n",
       "    .dataframe thead th {\n",
       "        text-align: right;\n",
       "    }\n",
       "</style>\n",
       "<table border=\"1\" class=\"dataframe\">\n",
       "  <thead>\n",
       "    <tr style=\"text-align: right;\">\n",
       "      <th></th>\n",
       "      <th>pitcher_id</th>\n",
       "      <th>batter_id</th>\n",
       "      <th>event</th>\n",
       "      <th>pitcher_full_name</th>\n",
       "      <th>pitch_type</th>\n",
       "      <th>Season</th>\n",
       "      <th>last_100_ff</th>\n",
       "      <th>last_100_sl</th>\n",
       "      <th>last_100_ft</th>\n",
       "      <th>last_100_ch</th>\n",
       "      <th>...</th>\n",
       "      <th>avg_pz_ch</th>\n",
       "      <th>avg_pz_cu</th>\n",
       "      <th>avg_pz_si</th>\n",
       "      <th>avg_pz_fc</th>\n",
       "      <th>avg_pz_kc</th>\n",
       "      <th>avg_pz_fs</th>\n",
       "      <th>avg_pz_kn</th>\n",
       "      <th>avg_pz_ep</th>\n",
       "      <th>avg_pz_fo</th>\n",
       "      <th>avg_pz_sc</th>\n",
       "    </tr>\n",
       "  </thead>\n",
       "  <tbody>\n",
       "    <tr>\n",
       "      <th>0</th>\n",
       "      <td>452657</td>\n",
       "      <td>572761</td>\n",
       "      <td>Groundout</td>\n",
       "      <td>Jon Lester</td>\n",
       "      <td>FF</td>\n",
       "      <td>2015</td>\n",
       "      <td>0</td>\n",
       "      <td>0</td>\n",
       "      <td>0</td>\n",
       "      <td>0</td>\n",
       "      <td>...</td>\n",
       "      <td>NaN</td>\n",
       "      <td>NaN</td>\n",
       "      <td>NaN</td>\n",
       "      <td>NaN</td>\n",
       "      <td>NaN</td>\n",
       "      <td>NaN</td>\n",
       "      <td>NaN</td>\n",
       "      <td>NaN</td>\n",
       "      <td>NaN</td>\n",
       "      <td>NaN</td>\n",
       "    </tr>\n",
       "    <tr>\n",
       "      <th>1</th>\n",
       "      <td>452657</td>\n",
       "      <td>572761</td>\n",
       "      <td>Groundout</td>\n",
       "      <td>Jon Lester</td>\n",
       "      <td>FF</td>\n",
       "      <td>2015</td>\n",
       "      <td>1</td>\n",
       "      <td>0</td>\n",
       "      <td>0</td>\n",
       "      <td>0</td>\n",
       "      <td>...</td>\n",
       "      <td>NaN</td>\n",
       "      <td>NaN</td>\n",
       "      <td>NaN</td>\n",
       "      <td>NaN</td>\n",
       "      <td>NaN</td>\n",
       "      <td>NaN</td>\n",
       "      <td>NaN</td>\n",
       "      <td>NaN</td>\n",
       "      <td>NaN</td>\n",
       "      <td>NaN</td>\n",
       "    </tr>\n",
       "    <tr>\n",
       "      <th>2</th>\n",
       "      <td>452657</td>\n",
       "      <td>572761</td>\n",
       "      <td>Groundout</td>\n",
       "      <td>Jon Lester</td>\n",
       "      <td>FF</td>\n",
       "      <td>2015</td>\n",
       "      <td>2</td>\n",
       "      <td>0</td>\n",
       "      <td>0</td>\n",
       "      <td>0</td>\n",
       "      <td>...</td>\n",
       "      <td>NaN</td>\n",
       "      <td>NaN</td>\n",
       "      <td>NaN</td>\n",
       "      <td>NaN</td>\n",
       "      <td>NaN</td>\n",
       "      <td>NaN</td>\n",
       "      <td>NaN</td>\n",
       "      <td>NaN</td>\n",
       "      <td>NaN</td>\n",
       "      <td>NaN</td>\n",
       "    </tr>\n",
       "    <tr>\n",
       "      <th>3</th>\n",
       "      <td>452657</td>\n",
       "      <td>572761</td>\n",
       "      <td>Groundout</td>\n",
       "      <td>Jon Lester</td>\n",
       "      <td>FF</td>\n",
       "      <td>2015</td>\n",
       "      <td>3</td>\n",
       "      <td>0</td>\n",
       "      <td>0</td>\n",
       "      <td>0</td>\n",
       "      <td>...</td>\n",
       "      <td>NaN</td>\n",
       "      <td>NaN</td>\n",
       "      <td>NaN</td>\n",
       "      <td>NaN</td>\n",
       "      <td>NaN</td>\n",
       "      <td>NaN</td>\n",
       "      <td>NaN</td>\n",
       "      <td>NaN</td>\n",
       "      <td>NaN</td>\n",
       "      <td>NaN</td>\n",
       "    </tr>\n",
       "    <tr>\n",
       "      <th>4</th>\n",
       "      <td>452657</td>\n",
       "      <td>572761</td>\n",
       "      <td>Groundout</td>\n",
       "      <td>Jon Lester</td>\n",
       "      <td>CU</td>\n",
       "      <td>2015</td>\n",
       "      <td>4</td>\n",
       "      <td>0</td>\n",
       "      <td>0</td>\n",
       "      <td>0</td>\n",
       "      <td>...</td>\n",
       "      <td>NaN</td>\n",
       "      <td>NaN</td>\n",
       "      <td>NaN</td>\n",
       "      <td>NaN</td>\n",
       "      <td>NaN</td>\n",
       "      <td>NaN</td>\n",
       "      <td>NaN</td>\n",
       "      <td>NaN</td>\n",
       "      <td>NaN</td>\n",
       "      <td>NaN</td>\n",
       "    </tr>\n",
       "    <tr>\n",
       "      <th>5</th>\n",
       "      <td>452657</td>\n",
       "      <td>572761</td>\n",
       "      <td>Groundout</td>\n",
       "      <td>Jon Lester</td>\n",
       "      <td>FF</td>\n",
       "      <td>2015</td>\n",
       "      <td>4</td>\n",
       "      <td>0</td>\n",
       "      <td>0</td>\n",
       "      <td>0</td>\n",
       "      <td>...</td>\n",
       "      <td>NaN</td>\n",
       "      <td>2.083</td>\n",
       "      <td>NaN</td>\n",
       "      <td>NaN</td>\n",
       "      <td>NaN</td>\n",
       "      <td>NaN</td>\n",
       "      <td>NaN</td>\n",
       "      <td>NaN</td>\n",
       "      <td>NaN</td>\n",
       "      <td>NaN</td>\n",
       "    </tr>\n",
       "    <tr>\n",
       "      <th>6</th>\n",
       "      <td>452657</td>\n",
       "      <td>518792</td>\n",
       "      <td>Double</td>\n",
       "      <td>Jon Lester</td>\n",
       "      <td>FF</td>\n",
       "      <td>2015</td>\n",
       "      <td>5</td>\n",
       "      <td>0</td>\n",
       "      <td>0</td>\n",
       "      <td>0</td>\n",
       "      <td>...</td>\n",
       "      <td>NaN</td>\n",
       "      <td>2.083</td>\n",
       "      <td>NaN</td>\n",
       "      <td>NaN</td>\n",
       "      <td>NaN</td>\n",
       "      <td>NaN</td>\n",
       "      <td>NaN</td>\n",
       "      <td>NaN</td>\n",
       "      <td>NaN</td>\n",
       "      <td>NaN</td>\n",
       "    </tr>\n",
       "    <tr>\n",
       "      <th>7</th>\n",
       "      <td>452657</td>\n",
       "      <td>518792</td>\n",
       "      <td>Double</td>\n",
       "      <td>Jon Lester</td>\n",
       "      <td>FC</td>\n",
       "      <td>2015</td>\n",
       "      <td>6</td>\n",
       "      <td>0</td>\n",
       "      <td>0</td>\n",
       "      <td>0</td>\n",
       "      <td>...</td>\n",
       "      <td>NaN</td>\n",
       "      <td>2.083</td>\n",
       "      <td>NaN</td>\n",
       "      <td>NaN</td>\n",
       "      <td>NaN</td>\n",
       "      <td>NaN</td>\n",
       "      <td>NaN</td>\n",
       "      <td>NaN</td>\n",
       "      <td>NaN</td>\n",
       "      <td>NaN</td>\n",
       "    </tr>\n",
       "    <tr>\n",
       "      <th>8</th>\n",
       "      <td>452657</td>\n",
       "      <td>407812</td>\n",
       "      <td>Single</td>\n",
       "      <td>Jon Lester</td>\n",
       "      <td>FF</td>\n",
       "      <td>2015</td>\n",
       "      <td>6</td>\n",
       "      <td>0</td>\n",
       "      <td>0</td>\n",
       "      <td>0</td>\n",
       "      <td>...</td>\n",
       "      <td>NaN</td>\n",
       "      <td>NaN</td>\n",
       "      <td>NaN</td>\n",
       "      <td>2.047</td>\n",
       "      <td>NaN</td>\n",
       "      <td>NaN</td>\n",
       "      <td>NaN</td>\n",
       "      <td>NaN</td>\n",
       "      <td>NaN</td>\n",
       "      <td>NaN</td>\n",
       "    </tr>\n",
       "    <tr>\n",
       "      <th>9</th>\n",
       "      <td>452657</td>\n",
       "      <td>407812</td>\n",
       "      <td>Single</td>\n",
       "      <td>Jon Lester</td>\n",
       "      <td>FF</td>\n",
       "      <td>2015</td>\n",
       "      <td>7</td>\n",
       "      <td>0</td>\n",
       "      <td>0</td>\n",
       "      <td>0</td>\n",
       "      <td>...</td>\n",
       "      <td>NaN</td>\n",
       "      <td>NaN</td>\n",
       "      <td>NaN</td>\n",
       "      <td>2.047</td>\n",
       "      <td>NaN</td>\n",
       "      <td>NaN</td>\n",
       "      <td>NaN</td>\n",
       "      <td>NaN</td>\n",
       "      <td>NaN</td>\n",
       "      <td>NaN</td>\n",
       "    </tr>\n",
       "  </tbody>\n",
       "</table>\n",
       "<p>10 rows × 45 columns</p>\n",
       "</div>"
      ],
      "text/plain": [
       "   pitcher_id  batter_id      event pitcher_full_name pitch_type  Season  \\\n",
       "0      452657     572761  Groundout        Jon Lester         FF    2015   \n",
       "1      452657     572761  Groundout        Jon Lester         FF    2015   \n",
       "2      452657     572761  Groundout        Jon Lester         FF    2015   \n",
       "3      452657     572761  Groundout        Jon Lester         FF    2015   \n",
       "4      452657     572761  Groundout        Jon Lester         CU    2015   \n",
       "5      452657     572761  Groundout        Jon Lester         FF    2015   \n",
       "6      452657     518792     Double        Jon Lester         FF    2015   \n",
       "7      452657     518792     Double        Jon Lester         FC    2015   \n",
       "8      452657     407812     Single        Jon Lester         FF    2015   \n",
       "9      452657     407812     Single        Jon Lester         FF    2015   \n",
       "\n",
       "   last_100_ff  last_100_sl  last_100_ft  last_100_ch  ...  avg_pz_ch  \\\n",
       "0            0            0            0            0  ...        NaN   \n",
       "1            1            0            0            0  ...        NaN   \n",
       "2            2            0            0            0  ...        NaN   \n",
       "3            3            0            0            0  ...        NaN   \n",
       "4            4            0            0            0  ...        NaN   \n",
       "5            4            0            0            0  ...        NaN   \n",
       "6            5            0            0            0  ...        NaN   \n",
       "7            6            0            0            0  ...        NaN   \n",
       "8            6            0            0            0  ...        NaN   \n",
       "9            7            0            0            0  ...        NaN   \n",
       "\n",
       "   avg_pz_cu  avg_pz_si  avg_pz_fc  avg_pz_kc  avg_pz_fs  avg_pz_kn  \\\n",
       "0        NaN        NaN        NaN        NaN        NaN        NaN   \n",
       "1        NaN        NaN        NaN        NaN        NaN        NaN   \n",
       "2        NaN        NaN        NaN        NaN        NaN        NaN   \n",
       "3        NaN        NaN        NaN        NaN        NaN        NaN   \n",
       "4        NaN        NaN        NaN        NaN        NaN        NaN   \n",
       "5      2.083        NaN        NaN        NaN        NaN        NaN   \n",
       "6      2.083        NaN        NaN        NaN        NaN        NaN   \n",
       "7      2.083        NaN        NaN        NaN        NaN        NaN   \n",
       "8        NaN        NaN      2.047        NaN        NaN        NaN   \n",
       "9        NaN        NaN      2.047        NaN        NaN        NaN   \n",
       "\n",
       "   avg_pz_ep  avg_pz_fo  avg_pz_sc  \n",
       "0        NaN        NaN        NaN  \n",
       "1        NaN        NaN        NaN  \n",
       "2        NaN        NaN        NaN  \n",
       "3        NaN        NaN        NaN  \n",
       "4        NaN        NaN        NaN  \n",
       "5        NaN        NaN        NaN  \n",
       "6        NaN        NaN        NaN  \n",
       "7        NaN        NaN        NaN  \n",
       "8        NaN        NaN        NaN  \n",
       "9        NaN        NaN        NaN  \n",
       "\n",
       "[10 rows x 45 columns]"
      ]
     },
     "execution_count": 14,
     "metadata": {},
     "output_type": "execute_result"
    }
   ],
   "source": [
    "rates_pre_2019.head(10)"
   ]
  },
  {
   "cell_type": "markdown",
   "metadata": {},
   "source": [
    "The indices match up, so i'll be droppping out the name/id columns to prevent duplicates."
   ]
  },
  {
   "cell_type": "code",
   "execution_count": 15,
   "metadata": {},
   "outputs": [
    {
     "name": "stderr",
     "output_type": "stream",
     "text": [
      "/Users/patrickbovard/opt/anaconda3/envs/metis/lib/python3.8/site-packages/pandas/core/frame.py:4167: SettingWithCopyWarning: \n",
      "A value is trying to be set on a copy of a slice from a DataFrame\n",
      "\n",
      "See the caveats in the documentation: https://pandas.pydata.org/pandas-docs/stable/user_guide/indexing.html#returning-a-view-versus-a-copy\n",
      "  return super().drop(\n"
     ]
    }
   ],
   "source": [
    "rates_pre_2019.drop(columns=['pitcher_id', 'batter_id', 'event', 'pitcher_full_name', 'pitch_type', 'Season', 'event'], inplace=True)"
   ]
  },
  {
   "cell_type": "markdown",
   "metadata": {},
   "source": [
    "# Merging Dataframes:"
   ]
  },
  {
   "cell_type": "code",
   "execution_count": 16,
   "metadata": {},
   "outputs": [],
   "source": [
    "merged_rate_df = pitch_df.merge(rates_pre_2019, how='left', left_index=True, right_index=True)"
   ]
  },
  {
   "cell_type": "code",
   "execution_count": 17,
   "metadata": {},
   "outputs": [
    {
     "data": {
      "text/plain": [
       "(2848371, 88)"
      ]
     },
     "execution_count": 17,
     "metadata": {},
     "output_type": "execute_result"
    }
   ],
   "source": [
    "merged_rate_df.shape"
   ]
  },
  {
   "cell_type": "code",
   "execution_count": 18,
   "metadata": {},
   "outputs": [
    {
     "name": "stdout",
     "output_type": "stream",
     "text": [
      "<class 'pandas.core.frame.DataFrame'>\n",
      "Int64Index: 2848371 entries, 0 to 2848370\n",
      "Data columns (total 88 columns):\n",
      " #   Column              Dtype         \n",
      "---  ------              -----         \n",
      " 0   inning              float64       \n",
      " 1   batter_id           int64         \n",
      " 2   pitcher_id          int64         \n",
      " 3   top                 float64       \n",
      " 4   ab_id               float64       \n",
      " 5   p_score             float64       \n",
      " 6   stand               object        \n",
      " 7   p_throws            object        \n",
      " 8   event               object        \n",
      " 9   home_team           object        \n",
      " 10  away_team           object        \n",
      " 11  b_score             float64       \n",
      " 12  on_1b               float64       \n",
      " 13  on_2b               float64       \n",
      " 14  on_3b               float64       \n",
      " 15  px                  float64       \n",
      " 16  pz                  float64       \n",
      " 17  zone                object        \n",
      " 18  pitch_type          object        \n",
      " 19  start_speed         float64       \n",
      " 20  type                object        \n",
      " 21  b_count             float64       \n",
      " 22  s_count             float64       \n",
      " 23  outs                float64       \n",
      " 24  pitch_num           float64       \n",
      " 25  last_pitch_type     object        \n",
      " 26  last_pitch_px       float64       \n",
      " 27  last_pitch_pz       float64       \n",
      " 28  last_pitch_speed    float64       \n",
      " 29  pitcher_full_name   object        \n",
      " 30  pitcher_run_diff    float64       \n",
      " 31  hitter_full_name    object        \n",
      " 32  Date_Time_Date      datetime64[ns]\n",
      " 33  Season              int64         \n",
      " 34  cumulative_pitches  int64         \n",
      " 35  cumulative_ff_rate  float64       \n",
      " 36  cumulative_sl_rate  float64       \n",
      " 37  cumulative_ft_rate  float64       \n",
      " 38  cumulative_ch_rate  float64       \n",
      " 39  cumulative_cu_rate  float64       \n",
      " 40  cumulative_si_rate  float64       \n",
      " 41  cumulative_fc_rate  float64       \n",
      " 42  cumulative_kc_rate  float64       \n",
      " 43  cumulative_fs_rate  float64       \n",
      " 44  cumulative_kn_rate  float64       \n",
      " 45  cumulative_ep_rate  float64       \n",
      " 46  cumulative_fo_rate  float64       \n",
      " 47  cumulative_sc_rate  float64       \n",
      " 48  Cluster             float64       \n",
      " 49  last_100_ff         int64         \n",
      " 50  last_100_sl         int64         \n",
      " 51  last_100_ft         int64         \n",
      " 52  last_100_ch         int64         \n",
      " 53  last_100_cu         int64         \n",
      " 54  last_100_si         int64         \n",
      " 55  last_100_fc         int64         \n",
      " 56  last_100_kc         int64         \n",
      " 57  last_100_fs         int64         \n",
      " 58  last_100_kn         int64         \n",
      " 59  last_100_ep         int64         \n",
      " 60  last_100_fo         int64         \n",
      " 61  last_100_sc         int64         \n",
      " 62  avg_px_ff           float64       \n",
      " 63  avg_px_sl           float64       \n",
      " 64  avg_px_ft           float64       \n",
      " 65  avg_px_ch           float64       \n",
      " 66  avg_px_cu           float64       \n",
      " 67  avg_px_si           float64       \n",
      " 68  avg_px_fc           float64       \n",
      " 69  avg_px_kc           float64       \n",
      " 70  avg_px_fs           float64       \n",
      " 71  avg_px_kn           float64       \n",
      " 72  avg_px_ep           float64       \n",
      " 73  avg_px_fo           float64       \n",
      " 74  avg_px_sc           float64       \n",
      " 75  avg_pz_ff           float64       \n",
      " 76  avg_pz_sl           float64       \n",
      " 77  avg_pz_ft           float64       \n",
      " 78  avg_pz_ch           float64       \n",
      " 79  avg_pz_cu           float64       \n",
      " 80  avg_pz_si           float64       \n",
      " 81  avg_pz_fc           float64       \n",
      " 82  avg_pz_kc           float64       \n",
      " 83  avg_pz_fs           float64       \n",
      " 84  avg_pz_kn           float64       \n",
      " 85  avg_pz_ep           float64       \n",
      " 86  avg_pz_fo           float64       \n",
      " 87  avg_pz_sc           float64       \n",
      "dtypes: datetime64[ns](1), float64(59), int64(17), object(11)\n",
      "memory usage: 2.0+ GB\n"
     ]
    }
   ],
   "source": [
    "merged_rate_df.info()"
   ]
  },
  {
   "cell_type": "markdown",
   "metadata": {},
   "source": [
    "Px and Pz running averages weren't computed right in SQL, just working without them for now."
   ]
  },
  {
   "cell_type": "code",
   "execution_count": 19,
   "metadata": {},
   "outputs": [],
   "source": [
    "right_rates = merged_rate_df.iloc[:, 0:62]"
   ]
  },
  {
   "cell_type": "code",
   "execution_count": 20,
   "metadata": {
    "scrolled": true
   },
   "outputs": [
    {
     "name": "stdout",
     "output_type": "stream",
     "text": [
      "<class 'pandas.core.frame.DataFrame'>\n",
      "Int64Index: 2848371 entries, 0 to 2848370\n",
      "Data columns (total 62 columns):\n",
      " #   Column              Dtype         \n",
      "---  ------              -----         \n",
      " 0   inning              float64       \n",
      " 1   batter_id           int64         \n",
      " 2   pitcher_id          int64         \n",
      " 3   top                 float64       \n",
      " 4   ab_id               float64       \n",
      " 5   p_score             float64       \n",
      " 6   stand               object        \n",
      " 7   p_throws            object        \n",
      " 8   event               object        \n",
      " 9   home_team           object        \n",
      " 10  away_team           object        \n",
      " 11  b_score             float64       \n",
      " 12  on_1b               float64       \n",
      " 13  on_2b               float64       \n",
      " 14  on_3b               float64       \n",
      " 15  px                  float64       \n",
      " 16  pz                  float64       \n",
      " 17  zone                object        \n",
      " 18  pitch_type          object        \n",
      " 19  start_speed         float64       \n",
      " 20  type                object        \n",
      " 21  b_count             float64       \n",
      " 22  s_count             float64       \n",
      " 23  outs                float64       \n",
      " 24  pitch_num           float64       \n",
      " 25  last_pitch_type     object        \n",
      " 26  last_pitch_px       float64       \n",
      " 27  last_pitch_pz       float64       \n",
      " 28  last_pitch_speed    float64       \n",
      " 29  pitcher_full_name   object        \n",
      " 30  pitcher_run_diff    float64       \n",
      " 31  hitter_full_name    object        \n",
      " 32  Date_Time_Date      datetime64[ns]\n",
      " 33  Season              int64         \n",
      " 34  cumulative_pitches  int64         \n",
      " 35  cumulative_ff_rate  float64       \n",
      " 36  cumulative_sl_rate  float64       \n",
      " 37  cumulative_ft_rate  float64       \n",
      " 38  cumulative_ch_rate  float64       \n",
      " 39  cumulative_cu_rate  float64       \n",
      " 40  cumulative_si_rate  float64       \n",
      " 41  cumulative_fc_rate  float64       \n",
      " 42  cumulative_kc_rate  float64       \n",
      " 43  cumulative_fs_rate  float64       \n",
      " 44  cumulative_kn_rate  float64       \n",
      " 45  cumulative_ep_rate  float64       \n",
      " 46  cumulative_fo_rate  float64       \n",
      " 47  cumulative_sc_rate  float64       \n",
      " 48  Cluster             float64       \n",
      " 49  last_100_ff         int64         \n",
      " 50  last_100_sl         int64         \n",
      " 51  last_100_ft         int64         \n",
      " 52  last_100_ch         int64         \n",
      " 53  last_100_cu         int64         \n",
      " 54  last_100_si         int64         \n",
      " 55  last_100_fc         int64         \n",
      " 56  last_100_kc         int64         \n",
      " 57  last_100_fs         int64         \n",
      " 58  last_100_kn         int64         \n",
      " 59  last_100_ep         int64         \n",
      " 60  last_100_fo         int64         \n",
      " 61  last_100_sc         int64         \n",
      "dtypes: datetime64[ns](1), float64(33), int64(17), object(11)\n",
      "memory usage: 1.4+ GB\n"
     ]
    }
   ],
   "source": [
    "right_rates.info()"
   ]
  },
  {
   "cell_type": "markdown",
   "metadata": {},
   "source": [
    "In order to utilize the new last_100 columns, created a new function file classification_location_combo-2.py. I'll also remove the following columns from the regression problems, to try to remove some features that may not factor as heavily in location:\n",
    "- 'cumulative_ff_rate', 'cumulative_sl_rate', 'cumulative_ft_rate',\n",
    "       'cumulative_ch_rate', 'cumulative_cu_rate', 'cumulative_si_rate',\n",
    "       'cumulative_fc_rate', 'cumulative_kc_rate', 'cumulative_fs_rate',\n",
    "       'cumulative_kn_rate', 'cumulative_ep_rate', 'cumulative_fo_rate',\n",
    "       'cumulative_sc_rate'"
   ]
  },
  {
   "cell_type": "markdown",
   "metadata": {},
   "source": [
    "### Running on the same pitcher list as in pipeline_architecture.ipynb:"
   ]
  },
  {
   "cell_type": "code",
   "execution_count": 21,
   "metadata": {},
   "outputs": [],
   "source": [
    "right_rates = right_rates[right_rates.pitch_type != 'EP']"
   ]
  },
  {
   "cell_type": "code",
   "execution_count": 22,
   "metadata": {},
   "outputs": [],
   "source": [
    "pitcher_list = right_rates.pitcher_full_name.value_counts().head(10).index"
   ]
  },
  {
   "cell_type": "code",
   "execution_count": 23,
   "metadata": {},
   "outputs": [
    {
     "data": {
      "text/plain": [
       "Index(['Max Scherzer', 'Justin Verlander', 'Chris Archer', 'Jose Quintana',\n",
       "       'Chris Sale', 'Rick Porcello', 'Jon Lester', 'Corey Kluber',\n",
       "       'Gio Gonzalez', 'Julio Teheran'],\n",
       "      dtype='object')"
      ]
     },
     "execution_count": 23,
     "metadata": {},
     "output_type": "execute_result"
    }
   ],
   "source": [
    "pitcher_list"
   ]
  },
  {
   "cell_type": "markdown",
   "metadata": {},
   "source": [
    "### Random Forest:"
   ]
  },
  {
   "cell_type": "code",
   "execution_count": 24,
   "metadata": {
    "scrolled": false
   },
   "outputs": [
    {
     "name": "stdout",
     "output_type": "stream",
     "text": [
      "Pitch Modeling for Max Scherzer\n",
      "Here is the coding for last pitch type:\n",
      "{'FF': 0, 'SL': 1, 'CH': 2, 'CU': 3, 'FC': 4, 'FT': 5, 'UN': 6}\n"
     ]
    },
    {
     "name": "stderr",
     "output_type": "stream",
     "text": [
      "/Users/patrickbovard/opt/anaconda3/envs/metis/lib/python3.8/site-packages/pandas/core/indexing.py:670: SettingWithCopyWarning: \n",
      "A value is trying to be set on a copy of a slice from a DataFrame\n",
      "\n",
      "See the caveats in the documentation: https://pandas.pydata.org/pandas-docs/stable/user_guide/indexing.html#returning-a-view-versus-a-copy\n",
      "  iloc._setitem_with_indexer(indexer, value)\n"
     ]
    },
    {
     "name": "stdout",
     "output_type": "stream",
     "text": [
      "Here is the coding for pitch type:\n",
      "{'FF': 0, 'SL': 1, 'CH': 2, 'CU': 3, 'FC': 4, 'FT': 5}\n",
      "Actual Test Size: 0.2460442305912834\n",
      "Accuracy: 0.5171116961263633\n",
      "Precision: (0.3341094910887008,)\n",
      "Recall: 0.21984392534428002\n",
      "Random Forest Pitch Classification confusion matrix results:\n",
      "[[1216  122   27   11   12    2]\n",
      " [ 382  121    8    0    1    1]\n",
      " [ 319   23   22    7    5    1]\n",
      " [ 196   11    7    5    3    0]\n",
      " [ 119    1    8    1   10    0]\n",
      " [  11    6    0    0    0    1]]\n",
      "Val Px R^2: 0.06177801691822393\n",
      "Val Px MAE: 0.6806858884329546 ft.\n",
      "Val Pz R^2: 0.14149781991448418\n",
      "Val Pz MAE: 0.6269281321988713 ft.\n",
      "\n",
      "\n",
      "\n",
      "\n",
      "Pitch Modeling for Justin Verlander\n",
      "Here is the coding for last pitch type:\n",
      "{'FF': 0, 'SL': 1, 'CU': 2, 'CH': 3, 'FC': 4, 'FT': 5, 'PO': 6}\n"
     ]
    },
    {
     "name": "stderr",
     "output_type": "stream",
     "text": [
      "/Users/patrickbovard/opt/anaconda3/envs/metis/lib/python3.8/site-packages/pandas/core/indexing.py:670: SettingWithCopyWarning: \n",
      "A value is trying to be set on a copy of a slice from a DataFrame\n",
      "\n",
      "See the caveats in the documentation: https://pandas.pydata.org/pandas-docs/stable/user_guide/indexing.html#returning-a-view-versus-a-copy\n",
      "  iloc._setitem_with_indexer(indexer, value)\n"
     ]
    },
    {
     "name": "stdout",
     "output_type": "stream",
     "text": [
      "Here is the coding for pitch type:\n",
      "{'FF': 0, 'SL': 1, 'CU': 2, 'CH': 3, 'FC': 4, 'FT': 5}\n",
      "Actual Test Size: 0.2522002738118521\n"
     ]
    },
    {
     "name": "stderr",
     "output_type": "stream",
     "text": [
      "/Users/patrickbovard/opt/anaconda3/envs/metis/lib/python3.8/site-packages/sklearn/metrics/_classification.py:1245: UndefinedMetricWarning: Precision is ill-defined and being set to 0.0 in labels with no predicted samples. Use `zero_division` parameter to control this behavior.\n",
      "  _warn_prf(average, modifier, msg_start, len(result))\n"
     ]
    },
    {
     "name": "stdout",
     "output_type": "stream",
     "text": [
      "Accuracy: 0.5967429236138038\n",
      "Precision: (0.23379790382795965,)\n",
      "Recall: 0.19313151963348485\n",
      "Random Forest Pitch Classification confusion matrix results:\n",
      "[[1436   54   29    2    0    0]\n",
      " [ 411   78   17    1    0    0]\n",
      " [ 350   35   25    1    0    0]\n",
      " [ 122    2    6    0    0    0]\n",
      " [   9    0    0    0    0    0]\n",
      " [   1    0    0    0    0    0]]\n",
      "Val Px R^2: 0.09143301307543039\n",
      "Val Px MAE: 0.6127574120323364 ft.\n",
      "Val Pz R^2: 0.16776575922014159\n",
      "Val Pz MAE: 0.6847511413854542 ft.\n",
      "\n",
      "\n",
      "\n",
      "\n",
      "Pitch Modeling for Chris Archer\n",
      "Here is the coding for last pitch type:\n",
      "{'FF': 0, 'SL': 1, 'CH': 2, 'FT': 3, 'CU': 4, 'PO': 5}\n"
     ]
    },
    {
     "name": "stderr",
     "output_type": "stream",
     "text": [
      "/Users/patrickbovard/opt/anaconda3/envs/metis/lib/python3.8/site-packages/pandas/core/indexing.py:670: SettingWithCopyWarning: \n",
      "A value is trying to be set on a copy of a slice from a DataFrame\n",
      "\n",
      "See the caveats in the documentation: https://pandas.pydata.org/pandas-docs/stable/user_guide/indexing.html#returning-a-view-versus-a-copy\n",
      "  iloc._setitem_with_indexer(indexer, value)\n"
     ]
    },
    {
     "name": "stdout",
     "output_type": "stream",
     "text": [
      "Here is the coding for pitch type:\n",
      "{'FF': 0, 'SL': 1, 'CH': 2, 'FT': 3, 'CU': 4}\n",
      "Actual Test Size: 0.255042802322149\n",
      "Accuracy: 0.5736882716049383\n",
      "Precision: (0.36896303199751473,)\n",
      "Recall: 0.31966183054516895\n",
      "Random Forest Pitch Classification confusion matrix results:\n",
      "[[843 365  11   8   2]\n",
      " [443 621   8  12   0]\n",
      " [150  64  10   3   0]\n",
      " [  9  21   1  13   0]\n",
      " [  5   2   0   1   0]]\n",
      "Val Px R^2: 0.17496207872982905\n",
      "Val Px MAE: 0.567108931643586 ft.\n",
      "Val Pz R^2: 0.10499718678284686\n",
      "Val Pz MAE: 0.7870902506781031 ft.\n",
      "\n",
      "\n",
      "\n",
      "\n",
      "Pitch Modeling for Jose Quintana\n",
      "Here is the coding for last pitch type:\n",
      "{'FF': 0, 'CU': 1, 'SI': 2, 'CH': 3, 'FT': 4, 'PO': 5, 'UN': 6, 'FA': 7}\n"
     ]
    },
    {
     "name": "stderr",
     "output_type": "stream",
     "text": [
      "/Users/patrickbovard/opt/anaconda3/envs/metis/lib/python3.8/site-packages/pandas/core/indexing.py:670: SettingWithCopyWarning: \n",
      "A value is trying to be set on a copy of a slice from a DataFrame\n",
      "\n",
      "See the caveats in the documentation: https://pandas.pydata.org/pandas-docs/stable/user_guide/indexing.html#returning-a-view-versus-a-copy\n",
      "  iloc._setitem_with_indexer(indexer, value)\n"
     ]
    },
    {
     "name": "stdout",
     "output_type": "stream",
     "text": [
      "Here is the coding for pitch type:\n",
      "{'FF': 0, 'CU': 1, 'SI': 2, 'CH': 3, 'FT': 4}\n",
      "Actual Test Size: 0.2450441609421001\n",
      "Accuracy: 0.4853824589507409\n",
      "Precision: (0.35795395235832667,)\n",
      "Recall: 0.31872073317936517\n",
      "Random Forest Pitch Classification confusion matrix results:\n",
      "[[906 192  60   6  33]\n",
      " [399 169  50  11  21]\n",
      " [118  32 107   0   0]\n",
      " [136  41  21   3   7]\n",
      " [115  41   0   2  27]]\n",
      "Val Px R^2: -0.027337085114912174\n",
      "Val Px MAE: 0.6580227548483484 ft.\n",
      "Val Pz R^2: 0.03172061247295521\n",
      "Val Pz MAE: 0.728746958890673 ft.\n",
      "\n",
      "\n",
      "\n",
      "\n",
      "Pitch Modeling for Chris Sale\n",
      "Here is the coding for last pitch type:\n",
      "{'FT': 0, 'SL': 1, 'CH': 2, 'FF': 3, 'FA': 4}\n"
     ]
    },
    {
     "name": "stderr",
     "output_type": "stream",
     "text": [
      "/Users/patrickbovard/opt/anaconda3/envs/metis/lib/python3.8/site-packages/pandas/core/indexing.py:670: SettingWithCopyWarning: \n",
      "A value is trying to be set on a copy of a slice from a DataFrame\n",
      "\n",
      "See the caveats in the documentation: https://pandas.pydata.org/pandas-docs/stable/user_guide/indexing.html#returning-a-view-versus-a-copy\n",
      "  iloc._setitem_with_indexer(indexer, value)\n"
     ]
    },
    {
     "name": "stdout",
     "output_type": "stream",
     "text": [
      "Here is the coding for pitch type:\n",
      "{'FT': 0, 'SL': 1, 'CH': 2, 'FF': 3, 'FS': 4}\n",
      "Actual Test Size: 0.24323529411764705\n",
      "Accuracy: 0.48286981056025796\n",
      "Precision: (0.4550179960231226,)\n",
      "Recall: 0.45732072559603776\n",
      "Random Forest Pitch Classification confusion matrix results:\n",
      "[[622  99 102  31]\n",
      " [236 220  55 167]\n",
      " [237  84 129  69]\n",
      " [ 17 155  31 227]]\n",
      "Val Px R^2: 0.023482397626435336\n",
      "Val Px MAE: 0.7014240776841653 ft.\n",
      "Val Pz R^2: 0.008645931495986359\n",
      "Val Pz MAE: 0.6704010406087011 ft.\n",
      "\n",
      "\n",
      "\n",
      "\n",
      "Pitch Modeling for Rick Porcello\n",
      "Here is the coding for last pitch type:\n",
      "{'FT': 0, 'FF': 1, 'CU': 2, 'SL': 3, 'CH': 4, 'EP': 5, 'PO': 6, 'SI': 7}\n"
     ]
    },
    {
     "name": "stderr",
     "output_type": "stream",
     "text": [
      "/Users/patrickbovard/opt/anaconda3/envs/metis/lib/python3.8/site-packages/pandas/core/indexing.py:670: SettingWithCopyWarning: \n",
      "A value is trying to be set on a copy of a slice from a DataFrame\n",
      "\n",
      "See the caveats in the documentation: https://pandas.pydata.org/pandas-docs/stable/user_guide/indexing.html#returning-a-view-versus-a-copy\n",
      "  iloc._setitem_with_indexer(indexer, value)\n"
     ]
    },
    {
     "name": "stdout",
     "output_type": "stream",
     "text": [
      "Here is the coding for pitch type:\n",
      "{'FT': 0, 'FF': 1, 'SL': 2, 'CU': 3, 'CH': 4, 'SI': 5}\n",
      "Actual Test Size: 0.24505342303126237\n"
     ]
    },
    {
     "name": "stderr",
     "output_type": "stream",
     "text": [
      "/Users/patrickbovard/opt/anaconda3/envs/metis/lib/python3.8/site-packages/sklearn/metrics/_classification.py:1245: UndefinedMetricWarning: Precision is ill-defined and being set to 0.0 in labels with no predicted samples. Use `zero_division` parameter to control this behavior.\n",
      "  _warn_prf(average, modifier, msg_start, len(result))\n"
     ]
    },
    {
     "name": "stdout",
     "output_type": "stream",
     "text": [
      "Accuracy: 0.40896245458215585\n",
      "Precision: (0.28739934283242985,)\n",
      "Recall: 0.26360140283186845\n",
      "Random Forest Pitch Classification confusion matrix results:\n",
      "[[539 159  55  24  20   0]\n",
      " [202 336  51  34  23   0]\n",
      " [180 113  80  23  13   0]\n",
      " [153 122  31  27  11   0]\n",
      " [113  91  31  13  31   0]\n",
      " [  0   2   0   0   0   0]]\n",
      "Val Px R^2: 0.016093312381706304\n",
      "Val Px MAE: 0.6477884072447895 ft.\n",
      "Val Pz R^2: 0.062027100445157135\n",
      "Val Pz MAE: 0.7290101625359477 ft.\n",
      "\n",
      "\n",
      "\n",
      "\n",
      "Pitch Modeling for Jon Lester\n",
      "Here is the coding for last pitch type:\n",
      "{'FF': 0, 'FC': 1, 'CU': 2, 'SI': 3, 'CH': 4, 'PO': 5}\n"
     ]
    },
    {
     "name": "stderr",
     "output_type": "stream",
     "text": [
      "/Users/patrickbovard/opt/anaconda3/envs/metis/lib/python3.8/site-packages/pandas/core/indexing.py:670: SettingWithCopyWarning: \n",
      "A value is trying to be set on a copy of a slice from a DataFrame\n",
      "\n",
      "See the caveats in the documentation: https://pandas.pydata.org/pandas-docs/stable/user_guide/indexing.html#returning-a-view-versus-a-copy\n",
      "  iloc._setitem_with_indexer(indexer, value)\n"
     ]
    },
    {
     "name": "stdout",
     "output_type": "stream",
     "text": [
      "Here is the coding for pitch type:\n",
      "{'FF': 0, 'FC': 1, 'CU': 2, 'SI': 3, 'CH': 4}\n",
      "Actual Test Size: 0.25269461077844313\n",
      "Accuracy: 0.46129541864139023\n",
      "Precision: (0.30426405609941587,)\n",
      "Recall: 0.24045440660697684\n",
      "Random Forest Pitch Classification confusion matrix results:\n",
      "[[992 130  35  17   5]\n",
      " [419 139  25  12   3]\n",
      " [254  60  25   6   2]\n",
      " [181  33   1   9   1]\n",
      " [130  40   6   4   3]]\n",
      "Val Px R^2: 0.06896602247008177\n",
      "Val Px MAE: 0.7180069778848877 ft.\n",
      "Val Pz R^2: 0.16325272718338268\n",
      "Val Pz MAE: 0.6026983116192999 ft.\n",
      "\n",
      "\n",
      "\n",
      "\n",
      "Pitch Modeling for Corey Kluber\n",
      "Here is the coding for last pitch type:\n",
      "{'SI': 0, 'CU': 1, 'FF': 2, 'SL': 3, 'FC': 4, 'CH': 5, 'PO': 6}\n"
     ]
    },
    {
     "name": "stderr",
     "output_type": "stream",
     "text": [
      "/Users/patrickbovard/opt/anaconda3/envs/metis/lib/python3.8/site-packages/pandas/core/indexing.py:670: SettingWithCopyWarning: \n",
      "A value is trying to be set on a copy of a slice from a DataFrame\n",
      "\n",
      "See the caveats in the documentation: https://pandas.pydata.org/pandas-docs/stable/user_guide/indexing.html#returning-a-view-versus-a-copy\n",
      "  iloc._setitem_with_indexer(indexer, value)\n"
     ]
    },
    {
     "name": "stdout",
     "output_type": "stream",
     "text": [
      "Here is the coding for pitch type:\n",
      "{'SI': 0, 'CU': 1, 'FF': 2, 'SL': 3, 'FC': 4, 'CH': 5}\n",
      "Actual Test Size: 0.2488986784140969\n",
      "Accuracy: 0.3704746580852776\n",
      "Precision: (0.3493046707956737,)\n",
      "Recall: 0.3047687509536838\n",
      "Random Forest Pitch Classification confusion matrix results:\n",
      "[[432 120  67  87  71   8]\n",
      " [216 184  44  41  47   1]\n",
      " [161  65  74  63  30   1]\n",
      " [148  26  41 100   0   0]\n",
      " [125  59   9   0 126   3]\n",
      " [ 65  16   8  19  24   5]]\n",
      "Val Px R^2: 0.10855228790024818\n",
      "Val Px MAE: 0.6503795973357457 ft.\n",
      "Val Pz R^2: 0.03670731305061692\n",
      "Val Pz MAE: 0.6933839112468845 ft.\n",
      "\n",
      "\n",
      "\n",
      "\n",
      "Pitch Modeling for Gio Gonzalez\n",
      "Here is the coding for last pitch type:\n",
      "{'FF': 0, 'FT': 1, 'CU': 2, 'CH': 3, 'UN': 4}\n"
     ]
    },
    {
     "name": "stderr",
     "output_type": "stream",
     "text": [
      "/Users/patrickbovard/opt/anaconda3/envs/metis/lib/python3.8/site-packages/pandas/core/indexing.py:670: SettingWithCopyWarning: \n",
      "A value is trying to be set on a copy of a slice from a DataFrame\n",
      "\n",
      "See the caveats in the documentation: https://pandas.pydata.org/pandas-docs/stable/user_guide/indexing.html#returning-a-view-versus-a-copy\n",
      "  iloc._setitem_with_indexer(indexer, value)\n"
     ]
    },
    {
     "name": "stdout",
     "output_type": "stream",
     "text": [
      "Here is the coding for pitch type:\n",
      "{'FF': 0, 'FT': 1, 'CU': 2, 'CH': 3}\n",
      "Actual Test Size: 0.248214106046886\n",
      "Accuracy: 0.3968382650993109\n",
      "Precision: (0.3654581949751677,)\n",
      "Recall: 0.35410533914727593\n",
      "Random Forest Pitch Classification confusion matrix results:\n",
      "[[498 125 106  64]\n",
      " [271 314  52  64]\n",
      " [257 108 103  39]\n",
      " [194 158  50  64]]\n",
      "Val Px R^2: 0.07040859135757294\n",
      "Val Px MAE: 0.6816256272985992 ft.\n",
      "Val Pz R^2: 0.21607188412953837\n",
      "Val Pz MAE: 0.673603048747928 ft.\n",
      "\n",
      "\n",
      "\n",
      "\n",
      "Pitch Modeling for Julio Teheran\n",
      "Here is the coding for last pitch type:\n",
      "{'FF': 0, 'SL': 1, 'FT': 2, 'CU': 3, 'CH': 4, 'UN': 5, 'PO': 6}\n"
     ]
    },
    {
     "name": "stderr",
     "output_type": "stream",
     "text": [
      "/Users/patrickbovard/opt/anaconda3/envs/metis/lib/python3.8/site-packages/pandas/core/indexing.py:670: SettingWithCopyWarning: \n",
      "A value is trying to be set on a copy of a slice from a DataFrame\n",
      "\n",
      "See the caveats in the documentation: https://pandas.pydata.org/pandas-docs/stable/user_guide/indexing.html#returning-a-view-versus-a-copy\n",
      "  iloc._setitem_with_indexer(indexer, value)\n"
     ]
    },
    {
     "name": "stdout",
     "output_type": "stream",
     "text": [
      "Here is the coding for pitch type:\n",
      "{'FF': 0, 'SL': 1, 'FT': 2, 'CH': 3, 'CU': 4}\n",
      "Actual Test Size: 0.24829227903125647\n",
      "Accuracy: 0.43643184660275114\n",
      "Precision: (0.3684571486752787,)\n",
      "Recall: 0.28020950341411194\n",
      "Random Forest Pitch Classification confusion matrix results:\n",
      "[[782 130  74  14  12]\n",
      " [381 106  56   1   1]\n",
      " [229  42 134  13  11]\n",
      " [153  18  30  12   2]\n",
      " [151  17  13   4  13]]\n",
      "Val Px R^2: 0.1194379026957777\n",
      "Val Px MAE: 0.6892733035467166 ft.\n",
      "Val Pz R^2: 0.1021421611963782\n",
      "Val Pz MAE: 0.6784036873459182 ft.\n",
      "\n",
      "\n",
      "\n",
      "\n"
     ]
    }
   ],
   "source": [
    "output_df = multiple_pitcher_predictions(pitcher_list, right_rates, split_size = 0.2)"
   ]
  },
  {
   "cell_type": "markdown",
   "metadata": {},
   "source": [
    "### XGBoost:"
   ]
  },
  {
   "cell_type": "code",
   "execution_count": 25,
   "metadata": {
    "scrolled": true
   },
   "outputs": [
    {
     "name": "stdout",
     "output_type": "stream",
     "text": [
      "Pitch Modeling for Max Scherzer\n",
      "Here is the coding for last pitch type:\n",
      "{'FF': 0, 'SL': 1, 'CH': 2, 'CU': 3, 'FC': 4, 'FT': 5, 'UN': 6}\n"
     ]
    },
    {
     "name": "stderr",
     "output_type": "stream",
     "text": [
      "/Users/patrickbovard/opt/anaconda3/envs/metis/lib/python3.8/site-packages/pandas/core/indexing.py:670: SettingWithCopyWarning: \n",
      "A value is trying to be set on a copy of a slice from a DataFrame\n",
      "\n",
      "See the caveats in the documentation: https://pandas.pydata.org/pandas-docs/stable/user_guide/indexing.html#returning-a-view-versus-a-copy\n",
      "  iloc._setitem_with_indexer(indexer, value)\n"
     ]
    },
    {
     "name": "stdout",
     "output_type": "stream",
     "text": [
      "Here is the coding for pitch type:\n",
      "{'FF': 0, 'SL': 1, 'CH': 2, 'CU': 3, 'FC': 4, 'FT': 5}\n",
      "Actual Test Size: 0.2460442305912834\n",
      "Accuracy: 0.5110943963896202\n",
      "Precision: (0.33290857982533406,)\n",
      "Recall: 0.21374440154552185\n",
      "Random Forest Pitch Classification confusion matrix results:\n",
      "[[1210  123   32   13   10    2]\n",
      " [ 393  111    7    1    1    0]\n",
      " [ 314   27   26    3    7    0]\n",
      " [ 201    8    7    3    3    0]\n",
      " [ 118    2    7    4    8    0]\n",
      " [   9    7    1    0    0    1]]\n",
      "Val Px R^2: 0.06223137217671604\n",
      "Val Px MAE: 0.680581026853047 ft.\n",
      "Val Pz R^2: 0.14132548483379515\n",
      "Val Pz MAE: 0.6267807245908646 ft.\n",
      "\n",
      "\n",
      "\n",
      "\n",
      "Pitch Modeling for Justin Verlander\n",
      "Here is the coding for last pitch type:\n",
      "{'FF': 0, 'SL': 1, 'CU': 2, 'CH': 3, 'FC': 4, 'FT': 5, 'PO': 6}\n"
     ]
    },
    {
     "name": "stderr",
     "output_type": "stream",
     "text": [
      "/Users/patrickbovard/opt/anaconda3/envs/metis/lib/python3.8/site-packages/pandas/core/indexing.py:670: SettingWithCopyWarning: \n",
      "A value is trying to be set on a copy of a slice from a DataFrame\n",
      "\n",
      "See the caveats in the documentation: https://pandas.pydata.org/pandas-docs/stable/user_guide/indexing.html#returning-a-view-versus-a-copy\n",
      "  iloc._setitem_with_indexer(indexer, value)\n"
     ]
    },
    {
     "name": "stdout",
     "output_type": "stream",
     "text": [
      "Here is the coding for pitch type:\n",
      "{'FF': 0, 'SL': 1, 'CU': 2, 'CH': 3, 'FC': 4, 'FT': 5}\n",
      "Actual Test Size: 0.2522002738118521\n"
     ]
    },
    {
     "name": "stderr",
     "output_type": "stream",
     "text": [
      "/Users/patrickbovard/opt/anaconda3/envs/metis/lib/python3.8/site-packages/sklearn/metrics/_classification.py:1245: UndefinedMetricWarning: Precision is ill-defined and being set to 0.0 in labels with no predicted samples. Use `zero_division` parameter to control this behavior.\n",
      "  _warn_prf(average, modifier, msg_start, len(result))\n"
     ]
    },
    {
     "name": "stdout",
     "output_type": "stream",
     "text": [
      "Accuracy: 0.6021713842574641\n",
      "Precision: (0.247001065112144,)\n",
      "Recall: 0.19922464251492888\n",
      "Random Forest Pitch Classification confusion matrix results:\n",
      "[[1432   55   33    1    0    0]\n",
      " [ 405   88   14    0    0    0]\n",
      " [ 339   39   33    0    0    0]\n",
      " [ 120    7    3    0    0    0]\n",
      " [   8    1    0    0    0    0]\n",
      " [   1    0    0    0    0    0]]\n",
      "Val Px R^2: 0.09138248312057062\n",
      "Val Px MAE: 0.6128272006674078 ft.\n",
      "Val Pz R^2: 0.16775045166422464\n",
      "Val Pz MAE: 0.684748464067779 ft.\n",
      "\n",
      "\n",
      "\n",
      "\n",
      "Pitch Modeling for Chris Archer\n",
      "Here is the coding for last pitch type:\n",
      "{'FF': 0, 'SL': 1, 'CH': 2, 'FT': 3, 'CU': 4, 'PO': 5}\n"
     ]
    },
    {
     "name": "stderr",
     "output_type": "stream",
     "text": [
      "/Users/patrickbovard/opt/anaconda3/envs/metis/lib/python3.8/site-packages/pandas/core/indexing.py:670: SettingWithCopyWarning: \n",
      "A value is trying to be set on a copy of a slice from a DataFrame\n",
      "\n",
      "See the caveats in the documentation: https://pandas.pydata.org/pandas-docs/stable/user_guide/indexing.html#returning-a-view-versus-a-copy\n",
      "  iloc._setitem_with_indexer(indexer, value)\n"
     ]
    },
    {
     "name": "stdout",
     "output_type": "stream",
     "text": [
      "Here is the coding for pitch type:\n",
      "{'FF': 0, 'SL': 1, 'CH': 2, 'FT': 3, 'CU': 4}\n",
      "Actual Test Size: 0.255042802322149\n",
      "Accuracy: 0.5802469135802469\n",
      "Precision: (0.37298843470965937,)\n",
      "Recall: 0.32833474630838644\n",
      "Random Forest Pitch Classification confusion matrix results:\n",
      "[[853 353  12  10   1]\n",
      " [436 625   8  15   0]\n",
      " [152  60  12   3   0]\n",
      " [  9  20   1  14   0]\n",
      " [  4   3   0   1   0]]\n",
      "Val Px R^2: 0.17507989223159737\n",
      "Val Px MAE: 0.567064513637559 ft.\n",
      "Val Pz R^2: 0.10504240549486976\n",
      "Val Pz MAE: 0.7870736722938958 ft.\n",
      "\n",
      "\n",
      "\n",
      "\n",
      "Pitch Modeling for Jose Quintana\n",
      "Here is the coding for last pitch type:\n",
      "{'FF': 0, 'CU': 1, 'SI': 2, 'CH': 3, 'FT': 4, 'PO': 5, 'UN': 6, 'FA': 7}\n"
     ]
    },
    {
     "name": "stderr",
     "output_type": "stream",
     "text": [
      "/Users/patrickbovard/opt/anaconda3/envs/metis/lib/python3.8/site-packages/pandas/core/indexing.py:670: SettingWithCopyWarning: \n",
      "A value is trying to be set on a copy of a slice from a DataFrame\n",
      "\n",
      "See the caveats in the documentation: https://pandas.pydata.org/pandas-docs/stable/user_guide/indexing.html#returning-a-view-versus-a-copy\n",
      "  iloc._setitem_with_indexer(indexer, value)\n"
     ]
    },
    {
     "name": "stdout",
     "output_type": "stream",
     "text": [
      "Here is the coding for pitch type:\n",
      "{'FF': 0, 'CU': 1, 'SI': 2, 'CH': 3, 'FT': 4}\n",
      "Actual Test Size: 0.2450441609421001\n",
      "Accuracy: 0.4853824589507409\n",
      "Precision: (0.35954902457582855,)\n",
      "Recall: 0.3160875180676532\n",
      "Random Forest Pitch Classification confusion matrix results:\n",
      "[[911 192  61   5  28]\n",
      " [407 169  45   3  26]\n",
      " [118  37 101   1   0]\n",
      " [139  36  25   2   6]\n",
      " [107  46   0   3  29]]\n",
      "Val Px R^2: -0.014374501849233168\n",
      "Val Px MAE: 0.6544876492836068 ft.\n",
      "Val Pz R^2: 0.03284883920791759\n",
      "Val Pz MAE: 0.7282498114734982 ft.\n",
      "\n",
      "\n",
      "\n",
      "\n",
      "Pitch Modeling for Chris Sale\n",
      "Here is the coding for last pitch type:\n",
      "{'FT': 0, 'SL': 1, 'CH': 2, 'FF': 3, 'FA': 4}\n"
     ]
    },
    {
     "name": "stderr",
     "output_type": "stream",
     "text": [
      "/Users/patrickbovard/opt/anaconda3/envs/metis/lib/python3.8/site-packages/pandas/core/indexing.py:670: SettingWithCopyWarning: \n",
      "A value is trying to be set on a copy of a slice from a DataFrame\n",
      "\n",
      "See the caveats in the documentation: https://pandas.pydata.org/pandas-docs/stable/user_guide/indexing.html#returning-a-view-versus-a-copy\n",
      "  iloc._setitem_with_indexer(indexer, value)\n"
     ]
    },
    {
     "name": "stdout",
     "output_type": "stream",
     "text": [
      "Here is the coding for pitch type:\n",
      "{'FT': 0, 'SL': 1, 'CH': 2, 'FF': 3, 'FS': 4}\n",
      "Actual Test Size: 0.24323529411764705\n",
      "Accuracy: 0.48286981056025796\n",
      "Precision: (0.45116030231156823,)\n",
      "Recall: 0.45977370182984767\n",
      "Random Forest Pitch Classification confusion matrix results:\n",
      "[[631  85 107  31]\n",
      " [240 200  50 188]\n",
      " [248  76 121  74]\n",
      " [ 16 135  33 246]]\n",
      "Val Px R^2: 0.023609768614850757\n",
      "Val Px MAE: 0.7016708545431004 ft.\n",
      "Val Pz R^2: 0.008840161108011002\n",
      "Val Pz MAE: 0.6703864549171239 ft.\n",
      "\n",
      "\n",
      "\n",
      "\n",
      "Pitch Modeling for Rick Porcello\n",
      "Here is the coding for last pitch type:\n",
      "{'FT': 0, 'FF': 1, 'CU': 2, 'SL': 3, 'CH': 4, 'EP': 5, 'PO': 6, 'SI': 7}\n"
     ]
    },
    {
     "name": "stderr",
     "output_type": "stream",
     "text": [
      "/Users/patrickbovard/opt/anaconda3/envs/metis/lib/python3.8/site-packages/pandas/core/indexing.py:670: SettingWithCopyWarning: \n",
      "A value is trying to be set on a copy of a slice from a DataFrame\n",
      "\n",
      "See the caveats in the documentation: https://pandas.pydata.org/pandas-docs/stable/user_guide/indexing.html#returning-a-view-versus-a-copy\n",
      "  iloc._setitem_with_indexer(indexer, value)\n"
     ]
    },
    {
     "name": "stdout",
     "output_type": "stream",
     "text": [
      "Here is the coding for pitch type:\n",
      "{'FT': 0, 'FF': 1, 'SL': 2, 'CU': 3, 'CH': 4, 'SI': 5}\n",
      "Actual Test Size: 0.24505342303126237\n"
     ]
    },
    {
     "name": "stderr",
     "output_type": "stream",
     "text": [
      "/Users/patrickbovard/opt/anaconda3/envs/metis/lib/python3.8/site-packages/sklearn/metrics/_classification.py:1245: UndefinedMetricWarning: Precision is ill-defined and being set to 0.0 in labels with no predicted samples. Use `zero_division` parameter to control this behavior.\n",
      "  _warn_prf(average, modifier, msg_start, len(result))\n"
     ]
    },
    {
     "name": "stdout",
     "output_type": "stream",
     "text": [
      "Accuracy: 0.42309245054501415\n",
      "Precision: (0.3032749630732066,)\n",
      "Recall: 0.27393742494681705\n",
      "Random Forest Pitch Classification confusion matrix results:\n",
      "[[564 138  52  24  19   0]\n",
      " [214 334  41  36  21   0]\n",
      " [183 105  81  27  13   0]\n",
      " [146 113  36  39  10   0]\n",
      " [111  87  35  16  30   0]\n",
      " [  0   2   0   0   0   0]]\n",
      "Val Px R^2: 0.021447793875081778\n",
      "Val Px MAE: 0.6463104897225487 ft.\n",
      "Val Pz R^2: 0.061464195082058914\n",
      "Val Pz MAE: 0.7295830389381568 ft.\n",
      "\n",
      "\n",
      "\n",
      "\n",
      "Pitch Modeling for Jon Lester\n",
      "Here is the coding for last pitch type:\n",
      "{'FF': 0, 'FC': 1, 'CU': 2, 'SI': 3, 'CH': 4, 'PO': 5}\n"
     ]
    },
    {
     "name": "stderr",
     "output_type": "stream",
     "text": [
      "/Users/patrickbovard/opt/anaconda3/envs/metis/lib/python3.8/site-packages/pandas/core/indexing.py:670: SettingWithCopyWarning: \n",
      "A value is trying to be set on a copy of a slice from a DataFrame\n",
      "\n",
      "See the caveats in the documentation: https://pandas.pydata.org/pandas-docs/stable/user_guide/indexing.html#returning-a-view-versus-a-copy\n",
      "  iloc._setitem_with_indexer(indexer, value)\n"
     ]
    },
    {
     "name": "stdout",
     "output_type": "stream",
     "text": [
      "Here is the coding for pitch type:\n",
      "{'FF': 0, 'FC': 1, 'CU': 2, 'SI': 3, 'CH': 4}\n",
      "Actual Test Size: 0.25269461077844313\n",
      "Accuracy: 0.46011058451816744\n",
      "Precision: (0.28233276676205427,)\n",
      "Recall: 0.23795995671591302\n",
      "Random Forest Pitch Classification confusion matrix results:\n",
      "[[999 119  40  14   7]\n",
      " [435 130  23   9   1]\n",
      " [265  51  23   5   3]\n",
      " [174  32   6  12   1]\n",
      " [123  41  13   5   1]]\n",
      "Val Px R^2: 0.07071272699115816\n",
      "Val Px MAE: 0.7168469099160203 ft.\n",
      "Val Pz R^2: 0.16277578359213385\n",
      "Val Pz MAE: 0.6026361753460611 ft.\n",
      "\n",
      "\n",
      "\n",
      "\n",
      "Pitch Modeling for Corey Kluber\n",
      "Here is the coding for last pitch type:\n",
      "{'SI': 0, 'CU': 1, 'FF': 2, 'SL': 3, 'FC': 4, 'CH': 5, 'PO': 6}\n"
     ]
    },
    {
     "name": "stderr",
     "output_type": "stream",
     "text": [
      "/Users/patrickbovard/opt/anaconda3/envs/metis/lib/python3.8/site-packages/pandas/core/indexing.py:670: SettingWithCopyWarning: \n",
      "A value is trying to be set on a copy of a slice from a DataFrame\n",
      "\n",
      "See the caveats in the documentation: https://pandas.pydata.org/pandas-docs/stable/user_guide/indexing.html#returning-a-view-versus-a-copy\n",
      "  iloc._setitem_with_indexer(indexer, value)\n"
     ]
    },
    {
     "name": "stdout",
     "output_type": "stream",
     "text": [
      "Here is the coding for pitch type:\n",
      "{'SI': 0, 'CU': 1, 'FF': 2, 'SL': 3, 'FC': 4, 'CH': 5}\n",
      "Actual Test Size: 0.2488986784140969\n",
      "Accuracy: 0.3813354786806114\n",
      "Precision: (0.3644727048696677,)\n",
      "Recall: 0.3158334943116754\n",
      "Random Forest Pitch Classification confusion matrix results:\n",
      "[[445 127  65  82  57   9]\n",
      " [210 183  41  43  55   1]\n",
      " [152  67  80  64  30   1]\n",
      " [141  28  43 102   0   1]\n",
      " [130  48  10   0 131   3]\n",
      " [ 57  18  10  18  27   7]]\n",
      "Val Px R^2: 0.10869450801634595\n",
      "Val Px MAE: 0.6500323427790393 ft.\n",
      "Val Pz R^2: 0.03735132135607022\n",
      "Val Pz MAE: 0.693332889345746 ft.\n",
      "\n",
      "\n",
      "\n",
      "\n",
      "Pitch Modeling for Gio Gonzalez\n",
      "Here is the coding for last pitch type:\n",
      "{'FF': 0, 'FT': 1, 'CU': 2, 'CH': 3, 'UN': 4}\n"
     ]
    },
    {
     "name": "stderr",
     "output_type": "stream",
     "text": [
      "/Users/patrickbovard/opt/anaconda3/envs/metis/lib/python3.8/site-packages/pandas/core/indexing.py:670: SettingWithCopyWarning: \n",
      "A value is trying to be set on a copy of a slice from a DataFrame\n",
      "\n",
      "See the caveats in the documentation: https://pandas.pydata.org/pandas-docs/stable/user_guide/indexing.html#returning-a-view-versus-a-copy\n",
      "  iloc._setitem_with_indexer(indexer, value)\n"
     ]
    },
    {
     "name": "stdout",
     "output_type": "stream",
     "text": [
      "Here is the coding for pitch type:\n",
      "{'FF': 0, 'FT': 1, 'CU': 2, 'CH': 3}\n",
      "Actual Test Size: 0.248214106046886\n",
      "Accuracy: 0.40575597892176735\n",
      "Precision: (0.38265924517848443,)\n",
      "Recall: 0.3630610052779132\n",
      "Random Forest Pitch Classification confusion matrix results:\n",
      "[[516 129  92  56]\n",
      " [277 306  55  63]\n",
      " [255 113 110  29]\n",
      " [202 145  50  69]]\n",
      "Val Px R^2: 0.07633597844155715\n",
      "Val Px MAE: 0.6787948548454812 ft.\n",
      "Val Pz R^2: 0.21651509267485958\n",
      "Val Pz MAE: 0.6729782055006109 ft.\n",
      "\n",
      "\n",
      "\n",
      "\n",
      "Pitch Modeling for Julio Teheran\n",
      "Here is the coding for last pitch type:\n",
      "{'FF': 0, 'SL': 1, 'FT': 2, 'CU': 3, 'CH': 4, 'UN': 5, 'PO': 6}\n"
     ]
    },
    {
     "name": "stderr",
     "output_type": "stream",
     "text": [
      "/Users/patrickbovard/opt/anaconda3/envs/metis/lib/python3.8/site-packages/pandas/core/indexing.py:670: SettingWithCopyWarning: \n",
      "A value is trying to be set on a copy of a slice from a DataFrame\n",
      "\n",
      "See the caveats in the documentation: https://pandas.pydata.org/pandas-docs/stable/user_guide/indexing.html#returning-a-view-versus-a-copy\n",
      "  iloc._setitem_with_indexer(indexer, value)\n"
     ]
    },
    {
     "name": "stdout",
     "output_type": "stream",
     "text": [
      "Here is the coding for pitch type:\n",
      "{'FF': 0, 'SL': 1, 'FT': 2, 'CH': 3, 'CU': 4}\n",
      "Actual Test Size: 0.24829227903125647\n",
      "Accuracy: 0.4451854939558149\n",
      "Precision: (0.3911206936811978,)\n",
      "Recall: 0.29055323008876316\n",
      "Random Forest Pitch Classification confusion matrix results:\n",
      "[[795 122  72  11  12]\n",
      " [375 112  55   2   1]\n",
      " [228  50 126  12  13]\n",
      " [137  18  36  22   2]\n",
      " [145  16  16   8  13]]\n",
      "Val Px R^2: 0.11849501049400635\n",
      "Val Px MAE: 0.6895554261231204 ft.\n",
      "Val Pz R^2: 0.10140029383441507\n",
      "Val Pz MAE: 0.6786585162442099 ft.\n",
      "\n",
      "\n",
      "\n",
      "\n"
     ]
    }
   ],
   "source": [
    "output_df = multiple_pitcher_predictions(pitcher_list, right_rates, split_size = 0.2, class_method = 'XGBoost')"
   ]
  },
  {
   "cell_type": "markdown",
   "metadata": {},
   "source": [
    "This doesn't look to be much better performing than the previous run of models."
   ]
  },
  {
   "cell_type": "markdown",
   "metadata": {},
   "source": [
    "# Px/Py Outliers:"
   ]
  },
  {
   "cell_type": "markdown",
   "metadata": {},
   "source": [
    "Here I'll check to see what the outlier situation looks like for Px/Py:"
   ]
  },
  {
   "cell_type": "code",
   "execution_count": 26,
   "metadata": {},
   "outputs": [
    {
     "data": {
      "text/plain": [
       "count    25169.000000\n",
       "mean         0.041079\n",
       "std          0.867177\n",
       "min         -4.435097\n",
       "25%         -0.546000\n",
       "50%          0.052534\n",
       "75%          0.639370\n",
       "max          4.638494\n",
       "Name: px, dtype: float64"
      ]
     },
     "execution_count": 26,
     "metadata": {},
     "output_type": "execute_result"
    }
   ],
   "source": [
    "output_df.px.describe()"
   ]
  },
  {
   "cell_type": "code",
   "execution_count": 27,
   "metadata": {},
   "outputs": [
    {
     "data": {
      "text/plain": [
       "count    25169.000000\n",
       "mean         2.322657\n",
       "std          0.931682\n",
       "min         -1.755906\n",
       "25%          1.722934\n",
       "50%          2.323000\n",
       "75%          2.928965\n",
       "max          6.680000\n",
       "Name: pz, dtype: float64"
      ]
     },
     "execution_count": 27,
     "metadata": {},
     "output_type": "execute_result"
    }
   ],
   "source": [
    "output_df.pz.describe()"
   ]
  },
  {
   "cell_type": "markdown",
   "metadata": {},
   "source": [
    "### Box Plots:"
   ]
  },
  {
   "cell_type": "markdown",
   "metadata": {},
   "source": [
    "Plotting out a box plot:"
   ]
  },
  {
   "cell_type": "code",
   "execution_count": 28,
   "metadata": {},
   "outputs": [
    {
     "data": {
      "text/plain": [
       "Text(0.5, 1.0, 'Pz Box Plot')"
      ]
     },
     "execution_count": 28,
     "metadata": {},
     "output_type": "execute_result"
    },
    {
     "data": {
      "image/png": "[encoded data removed]",
      "text/plain": [
       "<Figure size 648x432 with 2 Axes>"
      ]
     },
     "metadata": {
      "image/png": {
       "height": 379,
       "width": 541
      }
     },
     "output_type": "display_data"
    }
   ],
   "source": [
    "plt.subplots(1,2)\n",
    "plt.subplot(1,2,1)\n",
    "plt.boxplot(output_df.px)\n",
    "plt.title('Px Box Plot')\n",
    "plt.subplot(1,2,2)\n",
    "plt.boxplot(output_df.pz)\n",
    "plt.title('Pz Box Plot')"
   ]
  },
  {
   "cell_type": "markdown",
   "metadata": {},
   "source": [
    "Looking at the box plot, there are a good amount of outliers.  Looking at these, for px these are pitches that would be about 1.5 feet off the strikezone (edge of strikezone at ~+/- 0.71, since the plate is 17\" wide).  Thus, these are pitches that should be obvious not to swing at.  \n",
    "\n",
    "For pz, the lower whisker is below 0, meaning the pitch is hitting the ground before homeplate.  The upper whisker is at ~4.5, which would be ~1 foot over the top of the zone on the average strikezone.  AGain, these should be obvious pitches to not swing at."
   ]
  },
  {
   "cell_type": "markdown",
   "metadata": {},
   "source": [
    "### Histograms"
   ]
  },
  {
   "cell_type": "markdown",
   "metadata": {},
   "source": [
    "Here I'll check out a histogram to see if they are somewhat normally distributed, although the box plots seem to somewhat suggest this."
   ]
  },
  {
   "cell_type": "code",
   "execution_count": 29,
   "metadata": {},
   "outputs": [
    {
     "data": {
      "text/plain": [
       "Text(0.5, 1.0, 'Pz Histogram')"
      ]
     },
     "execution_count": 29,
     "metadata": {},
     "output_type": "execute_result"
    },
    {
     "data": {
      "image/png": "[encoded data removed]",
      "text/plain": [
       "<Figure size 648x432 with 2 Axes>"
      ]
     },
     "metadata": {
      "image/png": {
       "height": 379,
       "width": 555
      }
     },
     "output_type": "display_data"
    }
   ],
   "source": [
    "plt.subplots(1,2)\n",
    "plt.subplot(1,2,1)\n",
    "plt.hist(output_df.px, bins=25)\n",
    "plt.title('Px Histogram')\n",
    "plt.subplot(1,2,2)\n",
    "plt.hist(output_df.pz, bins=25)\n",
    "plt.title('Pz Histogram')"
   ]
  },
  {
   "cell_type": "markdown",
   "metadata": {},
   "source": [
    "They do seem to be relatively normally distributed, outward from the middle of the strikezone (Px = 0, Pz = ~2)."
   ]
  },
  {
   "cell_type": "markdown",
   "metadata": {},
   "source": [
    "# Removing outliers"
   ]
  },
  {
   "cell_type": "markdown",
   "metadata": {},
   "source": [
    "For this, I'll be trying to retrain a model with outliers beyond the whiskers removed from px and pz."
   ]
  },
  {
   "cell_type": "code",
   "execution_count": 30,
   "metadata": {},
   "outputs": [
    {
     "name": "stdout",
     "output_type": "stream",
     "text": [
      "-2.384767786437216 2.4024229311831817\n",
      "-0.16456648820112219 4.671610813668537\n"
     ]
    }
   ],
   "source": [
    "#Defining interquartile range for Px and pz:\n",
    "px_iqr = right_rates.px.quantile(0.75) - right_rates.px.quantile(0.25)\n",
    "pz_iqr = right_rates.pz.quantile(0.75) - right_rates.pz.quantile(0.25)\n",
    "\n",
    "#Whiskers are at 1.5 above and below the 25th/75th percentile:\n",
    "px_lower = right_rates.px.quantile(0.25) - 1.5*px_iqr\n",
    "px_upper = right_rates.px.quantile(0.75) + 1.5*px_iqr\n",
    "\n",
    "pz_lower = right_rates.pz.quantile(0.25) - 1.5*pz_iqr\n",
    "pz_upper = right_rates.pz.quantile(0.75) + 1.5*pz_iqr\n",
    "print(px_lower, px_upper)\n",
    "print(pz_lower, pz_upper)"
   ]
  },
  {
   "cell_type": "markdown",
   "metadata": {},
   "source": [
    "Filtering the right_rates dataframe for these values.  How many rows are beyond for each?"
   ]
  },
  {
   "cell_type": "code",
   "execution_count": 31,
   "metadata": {},
   "outputs": [
    {
     "data": {
      "text/plain": [
       "15815"
      ]
     },
     "execution_count": 31,
     "metadata": {},
     "output_type": "execute_result"
    }
   ],
   "source": [
    "right_rates.shape[0] - right_rates[(right_rates.px > px_lower) & (right_rates.px < px_upper)].shape[0]"
   ]
  },
  {
   "cell_type": "code",
   "execution_count": 32,
   "metadata": {},
   "outputs": [
    {
     "data": {
      "text/plain": [
       "40102"
      ]
     },
     "execution_count": 32,
     "metadata": {},
     "output_type": "execute_result"
    }
   ],
   "source": [
    "right_rates.shape[0] - right_rates[(right_rates.pz > pz_lower) & (right_rates.pz < pz_upper)].shape[0]"
   ]
  },
  {
   "cell_type": "code",
   "execution_count": 33,
   "metadata": {},
   "outputs": [
    {
     "data": {
      "text/plain": [
       "2847555"
      ]
     },
     "execution_count": 33,
     "metadata": {},
     "output_type": "execute_result"
    }
   ],
   "source": [
    "right_rates.shape[0]"
   ]
  },
  {
   "cell_type": "markdown",
   "metadata": {},
   "source": [
    "About 16k and 40k, respectively, out of 2.8 million.  I'll remove these and re-run the pipeline, to see if there is any effect."
   ]
  },
  {
   "cell_type": "code",
   "execution_count": 34,
   "metadata": {},
   "outputs": [],
   "source": [
    "outliers_removed = right_rates[((right_rates.px > px_lower) & (right_rates.px < px_upper)) & ((right_rates.pz > pz_lower) & (right_rates.pz < pz_upper))]"
   ]
  },
  {
   "cell_type": "code",
   "execution_count": 35,
   "metadata": {
    "scrolled": false
   },
   "outputs": [
    {
     "name": "stdout",
     "output_type": "stream",
     "text": [
      "Pitch Modeling for Max Scherzer\n",
      "Here is the coding for last pitch type:\n",
      "{'FF': 0, 'SL': 1, 'CH': 2, 'CU': 3, 'FC': 4, 'FT': 5, 'UN': 6}\n"
     ]
    },
    {
     "name": "stderr",
     "output_type": "stream",
     "text": [
      "/Users/patrickbovard/opt/anaconda3/envs/metis/lib/python3.8/site-packages/pandas/core/indexing.py:670: SettingWithCopyWarning: \n",
      "A value is trying to be set on a copy of a slice from a DataFrame\n",
      "\n",
      "See the caveats in the documentation: https://pandas.pydata.org/pandas-docs/stable/user_guide/indexing.html#returning-a-view-versus-a-copy\n",
      "  iloc._setitem_with_indexer(indexer, value)\n"
     ]
    },
    {
     "name": "stdout",
     "output_type": "stream",
     "text": [
      "Here is the coding for pitch type:\n",
      "{'FF': 0, 'SL': 1, 'CH': 2, 'CU': 3, 'FC': 4, 'FT': 5}\n",
      "Actual Test Size: 0.2457937776106777\n",
      "Accuracy: 0.5296367112810707\n",
      "Precision: (0.3707224585258701,)\n",
      "Recall: 0.2273587872142079\n",
      "Random Forest Pitch Classification confusion matrix results:\n",
      "[[1211  125   25    8   12    2]\n",
      " [ 366  130    7    1    0    1]\n",
      " [ 303   25   27    5    4    1]\n",
      " [ 192    8    6    7    0    0]\n",
      " [ 113    1    5    3    9    0]\n",
      " [  10    6    1    0    0    1]]\n",
      "Val Px R^2: 0.057513601505073675\n",
      "Val Px MAE: 0.6685018424907454 ft.\n",
      "Val Pz R^2: 0.1320373520014052\n",
      "Val Pz MAE: 0.6182237511350533 ft.\n",
      "\n",
      "\n",
      "\n",
      "\n",
      "Pitch Modeling for Justin Verlander\n",
      "Here is the coding for last pitch type:\n",
      "{'FF': 0, 'SL': 1, 'CU': 2, 'CH': 3, 'FC': 4, 'FT': 5, 'PO': 6}\n"
     ]
    },
    {
     "name": "stderr",
     "output_type": "stream",
     "text": [
      "/Users/patrickbovard/opt/anaconda3/envs/metis/lib/python3.8/site-packages/pandas/core/indexing.py:670: SettingWithCopyWarning: \n",
      "A value is trying to be set on a copy of a slice from a DataFrame\n",
      "\n",
      "See the caveats in the documentation: https://pandas.pydata.org/pandas-docs/stable/user_guide/indexing.html#returning-a-view-versus-a-copy\n",
      "  iloc._setitem_with_indexer(indexer, value)\n"
     ]
    },
    {
     "name": "stdout",
     "output_type": "stream",
     "text": [
      "Here is the coding for pitch type:\n",
      "{'FF': 0, 'SL': 1, 'CU': 2, 'CH': 3, 'FC': 4, 'FT': 5}\n",
      "Actual Test Size: 0.24915958077911807\n"
     ]
    },
    {
     "name": "stderr",
     "output_type": "stream",
     "text": [
      "/Users/patrickbovard/opt/anaconda3/envs/metis/lib/python3.8/site-packages/sklearn/metrics/_classification.py:1245: UndefinedMetricWarning: Precision is ill-defined and being set to 0.0 in labels with no predicted samples. Use `zero_division` parameter to control this behavior.\n",
      "  _warn_prf(average, modifier, msg_start, len(result))\n"
     ]
    },
    {
     "name": "stdout",
     "output_type": "stream",
     "text": [
      "Accuracy: 0.6226190476190476\n",
      "Precision: (0.2652336647044249,)\n",
      "Recall: 0.19337521987387227\n",
      "Random Forest Pitch Classification confusion matrix results:\n",
      "[[1480   51   32    4    0    0]\n",
      " [ 373   70   17    1    0    0]\n",
      " [ 321   30   17    1    0    0]\n",
      " [ 102    7    1    2    0    0]\n",
      " [   7    1    0    0    0    0]\n",
      " [   3    0    0    0    0    0]]\n",
      "Val Px R^2: 0.09191666785529584\n",
      "Val Px MAE: 0.5985887544303641 ft.\n",
      "Val Pz R^2: 0.17270090600150945\n",
      "Val Pz MAE: 0.6464099861200209 ft.\n",
      "\n",
      "\n",
      "\n",
      "\n",
      "Pitch Modeling for Chris Archer\n",
      "Here is the coding for last pitch type:\n",
      "{'FF': 0, 'SL': 1, 'CH': 2, 'FT': 3, 'CU': 4, 'PO': 5}\n"
     ]
    },
    {
     "name": "stderr",
     "output_type": "stream",
     "text": [
      "/Users/patrickbovard/opt/anaconda3/envs/metis/lib/python3.8/site-packages/pandas/core/indexing.py:670: SettingWithCopyWarning: \n",
      "A value is trying to be set on a copy of a slice from a DataFrame\n",
      "\n",
      "See the caveats in the documentation: https://pandas.pydata.org/pandas-docs/stable/user_guide/indexing.html#returning-a-view-versus-a-copy\n",
      "  iloc._setitem_with_indexer(indexer, value)\n"
     ]
    },
    {
     "name": "stdout",
     "output_type": "stream",
     "text": [
      "Here is the coding for pitch type:\n",
      "{'FF': 0, 'SL': 1, 'CH': 2, 'FT': 3, 'CU': 4}\n",
      "Actual Test Size: 0.25790754257907544\n",
      "Accuracy: 0.5683962264150944\n",
      "Precision: (0.3974512803352614,)\n",
      "Recall: 0.3281592678285771\n",
      "Random Forest Pitch Classification confusion matrix results:\n",
      "[[790 389   9   8   1]\n",
      " [428 625   7  12   0]\n",
      " [138  63  18   4   0]\n",
      " [  6  20   2  13   0]\n",
      " [  6   4   0   1   0]]\n",
      "Val Px R^2: 0.18138088138306085\n",
      "Val Px MAE: 0.5558531171989854 ft.\n",
      "Val Pz R^2: 0.09729101406852436\n",
      "Val Pz MAE: 0.7436239032757833 ft.\n",
      "\n",
      "\n",
      "\n",
      "\n",
      "Pitch Modeling for Jose Quintana\n",
      "Here is the coding for last pitch type:\n",
      "{'FF': 0, 'CU': 1, 'SI': 2, 'CH': 3, 'FT': 4, 'PO': 5, 'UN': 6, 'FA': 7}\n"
     ]
    },
    {
     "name": "stderr",
     "output_type": "stream",
     "text": [
      "/Users/patrickbovard/opt/anaconda3/envs/metis/lib/python3.8/site-packages/pandas/core/indexing.py:670: SettingWithCopyWarning: \n",
      "A value is trying to be set on a copy of a slice from a DataFrame\n",
      "\n",
      "See the caveats in the documentation: https://pandas.pydata.org/pandas-docs/stable/user_guide/indexing.html#returning-a-view-versus-a-copy\n",
      "  iloc._setitem_with_indexer(indexer, value)\n"
     ]
    },
    {
     "name": "stdout",
     "output_type": "stream",
     "text": [
      "Here is the coding for pitch type:\n",
      "{'FF': 0, 'CU': 1, 'SI': 2, 'CH': 3, 'FT': 4}\n",
      "Actual Test Size: 0.24901664145234492\n",
      "Accuracy: 0.4908869987849332\n",
      "Precision: (0.34325851053999556,)\n",
      "Recall: 0.3253741257047714\n",
      "Random Forest Pitch Classification confusion matrix results:\n",
      "[[917 157  40   5  32]\n",
      " [415 149  50  10  41]\n",
      " [109  37 111   1   0]\n",
      " [139  32  22   0   3]\n",
      " [133  30   0   1  35]]\n",
      "Val Px R^2: -0.037961924997250485\n",
      "Val Px MAE: 0.6517959565185116 ft.\n",
      "Val Pz R^2: 0.013237969797460614\n",
      "Val Pz MAE: 0.6974690859606224 ft.\n",
      "\n",
      "\n",
      "\n",
      "\n",
      "Pitch Modeling for Chris Sale\n",
      "Here is the coding for last pitch type:\n",
      "{'FT': 0, 'SL': 1, 'CH': 2, 'FF': 3, 'FA': 4}\n"
     ]
    },
    {
     "name": "stderr",
     "output_type": "stream",
     "text": [
      "/Users/patrickbovard/opt/anaconda3/envs/metis/lib/python3.8/site-packages/pandas/core/indexing.py:670: SettingWithCopyWarning: \n",
      "A value is trying to be set on a copy of a slice from a DataFrame\n",
      "\n",
      "See the caveats in the documentation: https://pandas.pydata.org/pandas-docs/stable/user_guide/indexing.html#returning-a-view-versus-a-copy\n",
      "  iloc._setitem_with_indexer(indexer, value)\n"
     ]
    },
    {
     "name": "stdout",
     "output_type": "stream",
     "text": [
      "Here is the coding for pitch type:\n",
      "{'FT': 0, 'SL': 1, 'CH': 2, 'FF': 3, 'FS': 4}\n",
      "Actual Test Size: 0.24589511394168573\n",
      "Accuracy: 0.46904087414002427\n",
      "Precision: (0.4446638839140117,)\n",
      "Recall: 0.45645875600200436\n",
      "Random Forest Pitch Classification confusion matrix results:\n",
      "[[588 108 101  37]\n",
      " [247 202  56 179]\n",
      " [265  84 123  70]\n",
      " [ 10 126  29 246]]\n",
      "Val Px R^2: 0.017764793327859185\n",
      "Val Px MAE: 0.6715515215416523 ft.\n",
      "Val Pz R^2: 0.0034549253666713575\n",
      "Val Pz MAE: 0.6452937716572359 ft.\n",
      "\n",
      "\n",
      "\n",
      "\n",
      "Pitch Modeling for Rick Porcello\n",
      "Here is the coding for last pitch type:\n",
      "{'FT': 0, 'FF': 1, 'CU': 2, 'SL': 3, 'CH': 4, 'EP': 5, 'PO': 6, 'SI': 7}\n"
     ]
    },
    {
     "name": "stderr",
     "output_type": "stream",
     "text": [
      "/Users/patrickbovard/opt/anaconda3/envs/metis/lib/python3.8/site-packages/pandas/core/indexing.py:670: SettingWithCopyWarning: \n",
      "A value is trying to be set on a copy of a slice from a DataFrame\n",
      "\n",
      "See the caveats in the documentation: https://pandas.pydata.org/pandas-docs/stable/user_guide/indexing.html#returning-a-view-versus-a-copy\n",
      "  iloc._setitem_with_indexer(indexer, value)\n"
     ]
    },
    {
     "name": "stdout",
     "output_type": "stream",
     "text": [
      "Here is the coding for pitch type:\n",
      "{'FT': 0, 'FF': 1, 'SL': 2, 'CU': 3, 'CH': 4, 'SI': 5}\n",
      "Actual Test Size: 0.24761324395693682\n",
      "Accuracy: 0.42083675143560295\n",
      "Precision: (0.34309992566410247,)\n",
      "Recall: 0.32327661971092353\n",
      "Random Forest Pitch Classification confusion matrix results:\n",
      "[[558 168  47  26  24]\n",
      " [203 324  48  37  24]\n",
      " [145  94  88  16  17]\n",
      " [142 115  44  26  16]\n",
      " [111  86  30  19  30]]\n",
      "Val Px R^2: 0.026201016167457403\n",
      "Val Px MAE: 0.615796310352692 ft.\n",
      "Val Pz R^2: 0.06676431631786783\n",
      "Val Pz MAE: 0.7064103109450367 ft.\n",
      "\n",
      "\n",
      "\n",
      "\n",
      "Pitch Modeling for Jon Lester\n",
      "Here is the coding for last pitch type:\n",
      "{'FF': 0, 'FC': 1, 'CU': 2, 'SI': 3, 'CH': 4, 'PO': 5}\n"
     ]
    },
    {
     "name": "stderr",
     "output_type": "stream",
     "text": [
      "/Users/patrickbovard/opt/anaconda3/envs/metis/lib/python3.8/site-packages/pandas/core/indexing.py:670: SettingWithCopyWarning: \n",
      "A value is trying to be set on a copy of a slice from a DataFrame\n",
      "\n",
      "See the caveats in the documentation: https://pandas.pydata.org/pandas-docs/stable/user_guide/indexing.html#returning-a-view-versus-a-copy\n",
      "  iloc._setitem_with_indexer(indexer, value)\n"
     ]
    },
    {
     "name": "stdout",
     "output_type": "stream",
     "text": [
      "Here is the coding for pitch type:\n",
      "{'FF': 0, 'FC': 1, 'CU': 2, 'SI': 3, 'CH': 4}\n",
      "Actual Test Size: 0.24186093247588425\n",
      "Accuracy: 0.4673867885334441\n",
      "Precision: (0.3262475060116414,)\n",
      "Recall: 0.24721621544906608\n",
      "Random Forest Pitch Classification confusion matrix results:\n",
      "[[957 121  31  19   4]\n",
      " [410 127  20  13   7]\n",
      " [243  34  19   3   8]\n",
      " [175  35   5  15   3]\n",
      " [111  31   7   2   7]]\n",
      "Val Px R^2: 0.07710598819064751\n",
      "Val Px MAE: 0.7001720579244719 ft.\n",
      "Val Pz R^2: 0.19409800793483156\n",
      "Val Pz MAE: 0.5667859504137762 ft.\n",
      "\n",
      "\n",
      "\n",
      "\n",
      "Pitch Modeling for Corey Kluber\n",
      "Here is the coding for last pitch type:\n",
      "{'SI': 0, 'CU': 1, 'FF': 2, 'SL': 3, 'FC': 4, 'CH': 5, 'PO': 6}\n"
     ]
    },
    {
     "name": "stderr",
     "output_type": "stream",
     "text": [
      "/Users/patrickbovard/opt/anaconda3/envs/metis/lib/python3.8/site-packages/pandas/core/indexing.py:670: SettingWithCopyWarning: \n",
      "A value is trying to be set on a copy of a slice from a DataFrame\n",
      "\n",
      "See the caveats in the documentation: https://pandas.pydata.org/pandas-docs/stable/user_guide/indexing.html#returning-a-view-versus-a-copy\n",
      "  iloc._setitem_with_indexer(indexer, value)\n"
     ]
    },
    {
     "name": "stdout",
     "output_type": "stream",
     "text": [
      "Here is the coding for pitch type:\n",
      "{'SI': 0, 'CU': 1, 'FF': 2, 'SL': 3, 'FC': 4, 'CH': 5}\n",
      "Actual Test Size: 0.24817813765182187\n",
      "Accuracy: 0.36174551386623166\n",
      "Precision: (0.3258396409843019,)\n",
      "Recall: 0.2944879308052958\n",
      "Random Forest Pitch Classification confusion matrix results:\n",
      "[[437 128  59  86  80   4]\n",
      " [193 168  34  50  63   4]\n",
      " [170  72  61  62  26   2]\n",
      " [139  21  42  99   0   4]\n",
      " [131  57   5   0 118   0]\n",
      " [ 65  21   8  12  27   4]]\n",
      "Val Px R^2: 0.10471162816100343\n",
      "Val Px MAE: 0.6487150425935997 ft.\n",
      "Val Pz R^2: 0.03875987020747018\n",
      "Val Pz MAE: 0.676162350259013 ft.\n",
      "\n",
      "\n",
      "\n",
      "\n",
      "Pitch Modeling for Gio Gonzalez\n",
      "Here is the coding for last pitch type:\n",
      "{'FF': 0, 'FT': 1, 'CU': 2, 'CH': 3, 'UN': 4}\n"
     ]
    },
    {
     "name": "stderr",
     "output_type": "stream",
     "text": [
      "/Users/patrickbovard/opt/anaconda3/envs/metis/lib/python3.8/site-packages/pandas/core/indexing.py:670: SettingWithCopyWarning: \n",
      "A value is trying to be set on a copy of a slice from a DataFrame\n",
      "\n",
      "See the caveats in the documentation: https://pandas.pydata.org/pandas-docs/stable/user_guide/indexing.html#returning-a-view-versus-a-copy\n",
      "  iloc._setitem_with_indexer(indexer, value)\n"
     ]
    },
    {
     "name": "stdout",
     "output_type": "stream",
     "text": [
      "Here is the coding for pitch type:\n",
      "{'FF': 0, 'FT': 1, 'CU': 2, 'CH': 3}\n",
      "Actual Test Size: 0.24457917994039666\n",
      "Accuracy: 0.40630252100840336\n",
      "Precision: (0.37730323397005244,)\n",
      "Recall: 0.35955561700386685\n",
      "Random Forest Pitch Classification confusion matrix results:\n",
      "[[522 135  70  51]\n",
      " [254 290  47  70]\n",
      " [263  97  88  34]\n",
      " [202 145  45  67]]\n",
      "Val Px R^2: 0.052487574934372505\n",
      "Val Px MAE: 0.6609845377073987 ft.\n",
      "Val Pz R^2: 0.19641873866764104\n",
      "Val Pz MAE: 0.6558873678155853 ft.\n",
      "\n",
      "\n",
      "\n",
      "\n",
      "Pitch Modeling for Julio Teheran\n",
      "Here is the coding for last pitch type:\n",
      "{'FF': 0, 'SL': 1, 'FT': 2, 'CU': 3, 'CH': 4, 'UN': 5, 'PO': 6}\n"
     ]
    },
    {
     "name": "stderr",
     "output_type": "stream",
     "text": [
      "/Users/patrickbovard/opt/anaconda3/envs/metis/lib/python3.8/site-packages/pandas/core/indexing.py:670: SettingWithCopyWarning: \n",
      "A value is trying to be set on a copy of a slice from a DataFrame\n",
      "\n",
      "See the caveats in the documentation: https://pandas.pydata.org/pandas-docs/stable/user_guide/indexing.html#returning-a-view-versus-a-copy\n",
      "  iloc._setitem_with_indexer(indexer, value)\n"
     ]
    },
    {
     "name": "stdout",
     "output_type": "stream",
     "text": [
      "Here is the coding for pitch type:\n",
      "{'FF': 0, 'SL': 1, 'FT': 2, 'CH': 3, 'CU': 4}\n",
      "Actual Test Size: 0.24285564744059457\n",
      "Accuracy: 0.4379310344827586\n",
      "Precision: (0.346280759688966,)\n",
      "Recall: 0.27593125952974945\n",
      "Random Forest Pitch Classification confusion matrix results:\n",
      "[[770 114  77  12  16]\n",
      " [368  99  51   3   3]\n",
      " [223  39 127   5  12]\n",
      " [140  16  30  12   7]\n",
      " [148  15  20   5   8]]\n",
      "Val Px R^2: 0.14112991053948043\n",
      "Val Px MAE: 0.6586424776014738 ft.\n",
      "Val Pz R^2: 0.09663253055769427\n",
      "Val Pz MAE: 0.6320063461462799 ft.\n",
      "\n",
      "\n",
      "\n",
      "\n"
     ]
    }
   ],
   "source": [
    "output_df = multiple_pitcher_predictions(pitcher_list, outliers_removed, split_size = 0.2, class_method = 'XGBoost')"
   ]
  },
  {
   "cell_type": "markdown",
   "metadata": {},
   "source": [
    "Seems to be performing at a slightly better level across the board, although it doesn't seem to be majorly different."
   ]
  },
  {
   "cell_type": "code",
   "execution_count": null,
   "metadata": {},
   "outputs": [],
   "source": []
  }
 ],
 "metadata": {
  "kernelspec": {
   "display_name": "Python [conda env:metis] *",
   "language": "python",
   "name": "conda-env-metis-py"
  },
  "language_info": {
   "codemirror_mode": {
    "name": "ipython",
    "version": 3
   },
   "file_extension": ".py",
   "mimetype": "text/x-python",
   "name": "python",
   "nbconvert_exporter": "python",
   "pygments_lexer": "ipython3",
   "version": "3.8.6"
  }
 },
 "nbformat": 4,
 "nbformat_minor": 4
}
