{
 "cells": [
  {
   "cell_type": "markdown",
   "metadata": {},
   "source": [
    "# Modeling Prep\n",
    "The purpose of this notebook is to work on prepping the pitch dataset for modeling in a machine learning pipeline.  This will pick up with the dataframe cleaned_pitch_df.pickle."
   ]
  },
  {
   "cell_type": "markdown",
   "metadata": {},
   "source": [
    "Importing various packages:"
   ]
  },
  {
   "cell_type": "code",
   "execution_count": 1,
   "metadata": {},
   "outputs": [],
   "source": [
    "import pickle\n",
    "from sqlalchemy import create_engine\n",
    "import pandas as pd\n",
    "from importlib import reload\n",
    "import numpy as np\n",
    "import scipy.stats as st\n",
    "import matplotlib.pyplot as plt\n",
    "import seaborn as sns\n",
    "%config InlineBackend.figure_formats = ['retina']\n",
    "%matplotlib inline\n",
    "\n",
    "plt.rcParams['figure.figsize'] = (9, 6)\n",
    "sns.set(context='notebook', style='whitegrid', font_scale=1.2)"
   ]
  },
  {
   "cell_type": "markdown",
   "metadata": {},
   "source": [
    "Pickling in the data from data_cleaning.ipynb:"
   ]
  },
  {
   "cell_type": "code",
   "execution_count": 2,
   "metadata": {},
   "outputs": [
    {
     "data": {
      "text/plain": [
       "'/Users/patrickbovard/Documents/GitHub/metis_final_project'"
      ]
     },
     "execution_count": 2,
     "metadata": {},
     "output_type": "execute_result"
    }
   ],
   "source": [
    "pwd"
   ]
  },
  {
   "cell_type": "code",
   "execution_count": 3,
   "metadata": {},
   "outputs": [],
   "source": [
    "with open('./Data/cleaned_pitch_df.pickle','rb') as read_file:\n",
    "    pitch_df = pickle.load(read_file)"
   ]
  },
  {
   "cell_type": "code",
   "execution_count": 4,
   "metadata": {},
   "outputs": [
    {
     "data": {
      "text/html": [
       "<div>\n",
       "<style scoped>\n",
       "    .dataframe tbody tr th:only-of-type {\n",
       "        vertical-align: middle;\n",
       "    }\n",
       "\n",
       "    .dataframe tbody tr th {\n",
       "        vertical-align: top;\n",
       "    }\n",
       "\n",
       "    .dataframe thead th {\n",
       "        text-align: right;\n",
       "    }\n",
       "</style>\n",
       "<table border=\"1\" class=\"dataframe\">\n",
       "  <thead>\n",
       "    <tr style=\"text-align: right;\">\n",
       "      <th></th>\n",
       "      <th>inning</th>\n",
       "      <th>batter_id</th>\n",
       "      <th>pitcher_id</th>\n",
       "      <th>top</th>\n",
       "      <th>ab_id</th>\n",
       "      <th>p_score</th>\n",
       "      <th>stand</th>\n",
       "      <th>p_throws</th>\n",
       "      <th>event</th>\n",
       "      <th>home_team</th>\n",
       "      <th>...</th>\n",
       "      <th>last_pitch_type</th>\n",
       "      <th>last_pitch_px</th>\n",
       "      <th>last_pitch_pz</th>\n",
       "      <th>last_pitch_speed</th>\n",
       "      <th>pitcher_full_name</th>\n",
       "      <th>pitcher_run_diff</th>\n",
       "      <th>hitter_full_name</th>\n",
       "      <th>Date_Time_Date</th>\n",
       "      <th>Season</th>\n",
       "      <th>Pitch_Family</th>\n",
       "    </tr>\n",
       "  </thead>\n",
       "  <tbody>\n",
       "    <tr>\n",
       "      <th>0</th>\n",
       "      <td>1.0</td>\n",
       "      <td>572761</td>\n",
       "      <td>452657</td>\n",
       "      <td>1.0</td>\n",
       "      <td>2.015000e+09</td>\n",
       "      <td>0.0</td>\n",
       "      <td>L</td>\n",
       "      <td>L</td>\n",
       "      <td>Groundout</td>\n",
       "      <td>chn</td>\n",
       "      <td>...</td>\n",
       "      <td>None</td>\n",
       "      <td>NaN</td>\n",
       "      <td>NaN</td>\n",
       "      <td>NaN</td>\n",
       "      <td>Jon Lester</td>\n",
       "      <td>0.0</td>\n",
       "      <td>Matt Carpenter</td>\n",
       "      <td>2015-04-05</td>\n",
       "      <td>2015</td>\n",
       "      <td></td>\n",
       "    </tr>\n",
       "    <tr>\n",
       "      <th>1</th>\n",
       "      <td>1.0</td>\n",
       "      <td>572761</td>\n",
       "      <td>452657</td>\n",
       "      <td>1.0</td>\n",
       "      <td>2.015000e+09</td>\n",
       "      <td>0.0</td>\n",
       "      <td>L</td>\n",
       "      <td>L</td>\n",
       "      <td>Groundout</td>\n",
       "      <td>chn</td>\n",
       "      <td>...</td>\n",
       "      <td>FF</td>\n",
       "      <td>0.416</td>\n",
       "      <td>2.963</td>\n",
       "      <td>92.9</td>\n",
       "      <td>Jon Lester</td>\n",
       "      <td>0.0</td>\n",
       "      <td>Matt Carpenter</td>\n",
       "      <td>2015-04-05</td>\n",
       "      <td>2015</td>\n",
       "      <td></td>\n",
       "    </tr>\n",
       "    <tr>\n",
       "      <th>2</th>\n",
       "      <td>1.0</td>\n",
       "      <td>572761</td>\n",
       "      <td>452657</td>\n",
       "      <td>1.0</td>\n",
       "      <td>2.015000e+09</td>\n",
       "      <td>0.0</td>\n",
       "      <td>L</td>\n",
       "      <td>L</td>\n",
       "      <td>Groundout</td>\n",
       "      <td>chn</td>\n",
       "      <td>...</td>\n",
       "      <td>FF</td>\n",
       "      <td>-0.191</td>\n",
       "      <td>2.347</td>\n",
       "      <td>92.8</td>\n",
       "      <td>Jon Lester</td>\n",
       "      <td>0.0</td>\n",
       "      <td>Matt Carpenter</td>\n",
       "      <td>2015-04-05</td>\n",
       "      <td>2015</td>\n",
       "      <td></td>\n",
       "    </tr>\n",
       "    <tr>\n",
       "      <th>3</th>\n",
       "      <td>1.0</td>\n",
       "      <td>572761</td>\n",
       "      <td>452657</td>\n",
       "      <td>1.0</td>\n",
       "      <td>2.015000e+09</td>\n",
       "      <td>0.0</td>\n",
       "      <td>L</td>\n",
       "      <td>L</td>\n",
       "      <td>Groundout</td>\n",
       "      <td>chn</td>\n",
       "      <td>...</td>\n",
       "      <td>FF</td>\n",
       "      <td>-0.518</td>\n",
       "      <td>3.284</td>\n",
       "      <td>94.1</td>\n",
       "      <td>Jon Lester</td>\n",
       "      <td>0.0</td>\n",
       "      <td>Matt Carpenter</td>\n",
       "      <td>2015-04-05</td>\n",
       "      <td>2015</td>\n",
       "      <td></td>\n",
       "    </tr>\n",
       "    <tr>\n",
       "      <th>4</th>\n",
       "      <td>1.0</td>\n",
       "      <td>572761</td>\n",
       "      <td>452657</td>\n",
       "      <td>1.0</td>\n",
       "      <td>2.015000e+09</td>\n",
       "      <td>0.0</td>\n",
       "      <td>L</td>\n",
       "      <td>L</td>\n",
       "      <td>Groundout</td>\n",
       "      <td>chn</td>\n",
       "      <td>...</td>\n",
       "      <td>FF</td>\n",
       "      <td>-0.641</td>\n",
       "      <td>1.221</td>\n",
       "      <td>91.0</td>\n",
       "      <td>Jon Lester</td>\n",
       "      <td>0.0</td>\n",
       "      <td>Matt Carpenter</td>\n",
       "      <td>2015-04-05</td>\n",
       "      <td>2015</td>\n",
       "      <td></td>\n",
       "    </tr>\n",
       "  </tbody>\n",
       "</table>\n",
       "<p>5 rows × 35 columns</p>\n",
       "</div>"
      ],
      "text/plain": [
       "   inning  batter_id  pitcher_id  top         ab_id  p_score stand p_throws  \\\n",
       "0     1.0     572761      452657  1.0  2.015000e+09      0.0     L        L   \n",
       "1     1.0     572761      452657  1.0  2.015000e+09      0.0     L        L   \n",
       "2     1.0     572761      452657  1.0  2.015000e+09      0.0     L        L   \n",
       "3     1.0     572761      452657  1.0  2.015000e+09      0.0     L        L   \n",
       "4     1.0     572761      452657  1.0  2.015000e+09      0.0     L        L   \n",
       "\n",
       "       event home_team  ... last_pitch_type  last_pitch_px  last_pitch_pz  \\\n",
       "0  Groundout       chn  ...            None            NaN            NaN   \n",
       "1  Groundout       chn  ...              FF          0.416          2.963   \n",
       "2  Groundout       chn  ...              FF         -0.191          2.347   \n",
       "3  Groundout       chn  ...              FF         -0.518          3.284   \n",
       "4  Groundout       chn  ...              FF         -0.641          1.221   \n",
       "\n",
       "   last_pitch_speed  pitcher_full_name  pitcher_run_diff  hitter_full_name  \\\n",
       "0               NaN         Jon Lester               0.0    Matt Carpenter   \n",
       "1              92.9         Jon Lester               0.0    Matt Carpenter   \n",
       "2              92.8         Jon Lester               0.0    Matt Carpenter   \n",
       "3              94.1         Jon Lester               0.0    Matt Carpenter   \n",
       "4              91.0         Jon Lester               0.0    Matt Carpenter   \n",
       "\n",
       "  Date_Time_Date Season  Pitch_Family  \n",
       "0     2015-04-05   2015                \n",
       "1     2015-04-05   2015                \n",
       "2     2015-04-05   2015                \n",
       "3     2015-04-05   2015                \n",
       "4     2015-04-05   2015                \n",
       "\n",
       "[5 rows x 35 columns]"
      ]
     },
     "execution_count": 4,
     "metadata": {},
     "output_type": "execute_result"
    }
   ],
   "source": [
    "pitch_df.head()"
   ]
  },
  {
   "cell_type": "code",
   "execution_count": 5,
   "metadata": {},
   "outputs": [
    {
     "data": {
      "text/plain": [
       "Index(['inning', 'batter_id', 'pitcher_id', 'top', 'ab_id', 'p_score', 'stand',\n",
       "       'p_throws', 'event', 'home_team', 'away_team', 'b_score', 'on_1b',\n",
       "       'on_2b', 'on_3b', 'px', 'pz', 'zone', 'pitch_type', 'start_speed',\n",
       "       'type', 'b_count', 's_count', 'outs', 'pitch_num', 'last_pitch_type',\n",
       "       'last_pitch_px', 'last_pitch_pz', 'last_pitch_speed',\n",
       "       'pitcher_full_name', 'pitcher_run_diff', 'hitter_full_name',\n",
       "       'Date_Time_Date', 'Season', 'Pitch_Family'],\n",
       "      dtype='object')"
      ]
     },
     "execution_count": 5,
     "metadata": {},
     "output_type": "execute_result"
    }
   ],
   "source": [
    "pitch_df.columns"
   ]
  },
  {
   "cell_type": "markdown",
   "metadata": {},
   "source": [
    "Based on the pitch_df dataset, I plan on including the following columns as features: \n",
    "- inning, top, stand, p_throws, on_1b, on_2b, on_3b, b_count, s_count, outs, pitch_num, last_pitch_type, last_pitch_px, last_pitch_pz, last_pitch_speed, pitcher_run_diff (i.e. winning or losing)  \n",
    "\n",
    "Of these, top, on_1b, on_2b, on3b are one hot encoded already w/ a 1 or 0.\n",
    "\n",
    "Things that will need to be predicted are pitch type and then px/pz, in order to get type and then location.  Type will be predicted first, with location coming second.\n",
    "\n",
    "For hitters, I am planning on clustering hitter types together, to reduce dimensionality from the full scope of hitters, to try to see how the pitcher would approach batters of a certain type.  This will be done with outside data.\n",
    "\n",
    "For pitchers, I'll need to determine the pitcher's \"arsenal\", to see what pitches they will throw.  To prepare this, I'll find what percent of the time the pitcher throws each type of pitch.  \n",
    "\n",
    "One last consideration will be how to divide the train/validation and test sets.  **TALK TO INSTRUCTOR**"
   ]
  },
  {
   "cell_type": "markdown",
   "metadata": {},
   "source": [
    "## Pitch Arsenal Work"
   ]
  },
  {
   "cell_type": "markdown",
   "metadata": {},
   "source": [
    "For the pitchers, I need to compile an \"arsenal\" for each pitcher.  To do this, I'll need to find what pitches each pitcher throws, and how often they do by rate."
   ]
  },
  {
   "cell_type": "code",
   "execution_count": 6,
   "metadata": {},
   "outputs": [
    {
     "data": {
      "text/plain": [
       "Max Scherzer        16240\n",
       "Justin Verlander    16060\n",
       "Jon Lester          15597\n",
       "Rick Porcello       15556\n",
       "Trevor Bauer        15531\n",
       "                    ...  \n",
       "Jose Rondon             4\n",
       "Phillip Ervin           3\n",
       "Alexi Amarista          3\n",
       "Anthony Rizzo           2\n",
       "Chris Denorfia          2\n",
       "Name: pitcher_full_name, Length: 1451, dtype: int64"
      ]
     },
     "execution_count": 6,
     "metadata": {},
     "output_type": "execute_result"
    }
   ],
   "source": [
    "pitch_df.pitcher_full_name.value_counts()"
   ]
  },
  {
   "cell_type": "markdown",
   "metadata": {},
   "source": [
    "Overall, there are ~1451 pitchers to consider, but some (i.e. Anthony Rizzo and Jose Rondon) are position players and not pitchers, who likely had to pitch when their team was winning or losing by a ton.  **Will have to set a minimum pitch threshold when evaluating pitchers**."
   ]
  },
  {
   "cell_type": "markdown",
   "metadata": {},
   "source": [
    "Here, constructing the pitch arsenal dataframe, using similar code from *initial_sql_queries.ipynb* that I have moved into pitch_dataframe_functions.py:"
   ]
  },
  {
   "cell_type": "code",
   "execution_count": 7,
   "metadata": {},
   "outputs": [],
   "source": [
    "from pitch_dataframe_functions import pitch_arsenal_generator, pitch_rate_generator"
   ]
  },
  {
   "cell_type": "code",
   "execution_count": 8,
   "metadata": {},
   "outputs": [],
   "source": [
    "rate_df = pitch_rate_generator(pitch_df)"
   ]
  },
  {
   "cell_type": "code",
   "execution_count": 9,
   "metadata": {},
   "outputs": [
    {
     "data": {
      "text/html": [
       "<div>\n",
       "<style scoped>\n",
       "    .dataframe tbody tr th:only-of-type {\n",
       "        vertical-align: middle;\n",
       "    }\n",
       "\n",
       "    .dataframe tbody tr th {\n",
       "        vertical-align: top;\n",
       "    }\n",
       "\n",
       "    .dataframe thead th {\n",
       "        text-align: right;\n",
       "    }\n",
       "</style>\n",
       "<table border=\"1\" class=\"dataframe\">\n",
       "  <thead>\n",
       "    <tr style=\"text-align: right;\">\n",
       "      <th></th>\n",
       "      <th>Pitcher_Name</th>\n",
       "      <th>Pitch_Type</th>\n",
       "      <th>Pitch_Type_Count</th>\n",
       "      <th>Total_Pitch_Count</th>\n",
       "      <th>Pitch_Type_Rate</th>\n",
       "    </tr>\n",
       "  </thead>\n",
       "  <tbody>\n",
       "    <tr>\n",
       "      <th>0</th>\n",
       "      <td>A.J. Achter</td>\n",
       "      <td>CH</td>\n",
       "      <td>281</td>\n",
       "      <td>790</td>\n",
       "      <td>0.355696</td>\n",
       "    </tr>\n",
       "    <tr>\n",
       "      <th>1</th>\n",
       "      <td>A.J. Achter</td>\n",
       "      <td>FC</td>\n",
       "      <td>57</td>\n",
       "      <td>790</td>\n",
       "      <td>0.0721519</td>\n",
       "    </tr>\n",
       "    <tr>\n",
       "      <th>2</th>\n",
       "      <td>A.J. Achter</td>\n",
       "      <td>FF</td>\n",
       "      <td>261</td>\n",
       "      <td>790</td>\n",
       "      <td>0.33038</td>\n",
       "    </tr>\n",
       "    <tr>\n",
       "      <th>3</th>\n",
       "      <td>A.J. Achter</td>\n",
       "      <td>FT</td>\n",
       "      <td>99</td>\n",
       "      <td>790</td>\n",
       "      <td>0.125316</td>\n",
       "    </tr>\n",
       "    <tr>\n",
       "      <th>4</th>\n",
       "      <td>A.J. Achter</td>\n",
       "      <td>SL</td>\n",
       "      <td>92</td>\n",
       "      <td>790</td>\n",
       "      <td>0.116456</td>\n",
       "    </tr>\n",
       "  </tbody>\n",
       "</table>\n",
       "</div>"
      ],
      "text/plain": [
       "  Pitcher_Name Pitch_Type Pitch_Type_Count Total_Pitch_Count Pitch_Type_Rate\n",
       "0  A.J. Achter         CH              281               790        0.355696\n",
       "1  A.J. Achter         FC               57               790       0.0721519\n",
       "2  A.J. Achter         FF              261               790         0.33038\n",
       "3  A.J. Achter         FT               99               790        0.125316\n",
       "4  A.J. Achter         SL               92               790        0.116456"
      ]
     },
     "execution_count": 9,
     "metadata": {},
     "output_type": "execute_result"
    }
   ],
   "source": [
    "rate_df.head()"
   ]
  },
  {
   "cell_type": "markdown",
   "metadata": {},
   "source": [
    "For purposes of declaring in or out of a pitcher's given arsenal, I'll set a default at 5%, although this could be something a player or team could adjust using this tool.  In my mind, 5% means you'd see it 5 times if the pitcher were to throw 100 ptiches in a game, which would be less than 20% of the atbats.  \n",
    "\n",
    "This is built using the pitch_arsenal_generator function in pitch_dataframe_functions.py file:"
   ]
  },
  {
   "cell_type": "code",
   "execution_count": 10,
   "metadata": {},
   "outputs": [],
   "source": [
    "arsenal_df = pitch_arsenal_generator(pitch_df, threshold=0.05)"
   ]
  },
  {
   "cell_type": "code",
   "execution_count": 11,
   "metadata": {},
   "outputs": [
    {
     "data": {
      "text/html": [
       "<div>\n",
       "<style scoped>\n",
       "    .dataframe tbody tr th:only-of-type {\n",
       "        vertical-align: middle;\n",
       "    }\n",
       "\n",
       "    .dataframe tbody tr th {\n",
       "        vertical-align: top;\n",
       "    }\n",
       "\n",
       "    .dataframe thead th {\n",
       "        text-align: right;\n",
       "    }\n",
       "</style>\n",
       "<table border=\"1\" class=\"dataframe\">\n",
       "  <thead>\n",
       "    <tr style=\"text-align: right;\">\n",
       "      <th></th>\n",
       "      <th>Pitcher_Name</th>\n",
       "      <th>Pitch_Arsenal</th>\n",
       "    </tr>\n",
       "  </thead>\n",
       "  <tbody>\n",
       "    <tr>\n",
       "      <th>0</th>\n",
       "      <td>Yu Darvish</td>\n",
       "      <td>{'CU': 0.056808484700719246, 'FC': 0.210167012...</td>\n",
       "    </tr>\n",
       "    <tr>\n",
       "      <th>1</th>\n",
       "      <td>Jeff Samardzija</td>\n",
       "      <td>{'FC': 0.13562693384411376, 'FF': 0.2956387210...</td>\n",
       "    </tr>\n",
       "    <tr>\n",
       "      <th>2</th>\n",
       "      <td>Odrisamer Despaigne</td>\n",
       "      <td>{'CH': 0.10091543156059285, 'CU': 0.0802092414...</td>\n",
       "    </tr>\n",
       "    <tr>\n",
       "      <th>3</th>\n",
       "      <td>Zack Greinke</td>\n",
       "      <td>{'CH': 0.18979685753730852, 'CU': 0.1158372230...</td>\n",
       "    </tr>\n",
       "    <tr>\n",
       "      <th>4</th>\n",
       "      <td>Ross Stripling</td>\n",
       "      <td>{'CH': 0.10723641126391617, 'CU': 0.0564833005...</td>\n",
       "    </tr>\n",
       "  </tbody>\n",
       "</table>\n",
       "</div>"
      ],
      "text/plain": [
       "          Pitcher_Name                                      Pitch_Arsenal\n",
       "0           Yu Darvish  {'CU': 0.056808484700719246, 'FC': 0.210167012...\n",
       "1      Jeff Samardzija  {'FC': 0.13562693384411376, 'FF': 0.2956387210...\n",
       "2  Odrisamer Despaigne  {'CH': 0.10091543156059285, 'CU': 0.0802092414...\n",
       "3         Zack Greinke  {'CH': 0.18979685753730852, 'CU': 0.1158372230...\n",
       "4       Ross Stripling  {'CH': 0.10723641126391617, 'CU': 0.0564833005..."
      ]
     },
     "execution_count": 11,
     "metadata": {},
     "output_type": "execute_result"
    }
   ],
   "source": [
    "arsenal_df.head()"
   ]
  },
  {
   "cell_type": "markdown",
   "metadata": {},
   "source": [
    "Building on these two previous functions, I'll be bringing in a dataframe of pitcher names, rates, and number of pitches in their arsenal:"
   ]
  },
  {
   "cell_type": "code",
   "execution_count": 12,
   "metadata": {},
   "outputs": [],
   "source": [
    "from pitch_dataframe_functions import pitcher_pitch_rate_gen"
   ]
  },
  {
   "cell_type": "code",
   "execution_count": 13,
   "metadata": {},
   "outputs": [
    {
     "name": "stderr",
     "output_type": "stream",
     "text": [
      "/Users/patrickbovard/opt/anaconda3/envs/metis/lib/python3.8/site-packages/pandas/core/indexing.py:670: SettingWithCopyWarning: \n",
      "A value is trying to be set on a copy of a slice from a DataFrame\n",
      "\n",
      "See the caveats in the documentation: https://pandas.pydata.org/pandas-docs/stable/user_guide/indexing.html#returning-a-view-versus-a-copy\n",
      "  iloc._setitem_with_indexer(indexer, value)\n"
     ]
    }
   ],
   "source": [
    "new_df = pitcher_pitch_rate_gen(pitch_df, threshold=0.05)"
   ]
  },
  {
   "cell_type": "code",
   "execution_count": 14,
   "metadata": {},
   "outputs": [
    {
     "data": {
      "text/html": [
       "<div>\n",
       "<style scoped>\n",
       "    .dataframe tbody tr th:only-of-type {\n",
       "        vertical-align: middle;\n",
       "    }\n",
       "\n",
       "    .dataframe tbody tr th {\n",
       "        vertical-align: top;\n",
       "    }\n",
       "\n",
       "    .dataframe thead th {\n",
       "        text-align: right;\n",
       "    }\n",
       "</style>\n",
       "<table border=\"1\" class=\"dataframe\">\n",
       "  <thead>\n",
       "    <tr style=\"text-align: right;\">\n",
       "      <th></th>\n",
       "      <th>Pitcher_Name</th>\n",
       "      <th>FF</th>\n",
       "      <th>CH</th>\n",
       "      <th>SL</th>\n",
       "      <th>CU</th>\n",
       "      <th>FT</th>\n",
       "      <th>FC</th>\n",
       "      <th>SI</th>\n",
       "      <th>FS</th>\n",
       "      <th>KC</th>\n",
       "      <th>EP</th>\n",
       "      <th>KN</th>\n",
       "      <th>FO</th>\n",
       "      <th>SC</th>\n",
       "      <th>Pitches_In_Arsenal</th>\n",
       "    </tr>\n",
       "  </thead>\n",
       "  <tbody>\n",
       "    <tr>\n",
       "      <th>0</th>\n",
       "      <td>Yu Darvish</td>\n",
       "      <td>0.332805</td>\n",
       "      <td>0.000000</td>\n",
       "      <td>0.201512</td>\n",
       "      <td>0.056808</td>\n",
       "      <td>0.158844</td>\n",
       "      <td>0.210167</td>\n",
       "      <td>0.000000</td>\n",
       "      <td>0.000000</td>\n",
       "      <td>0.000000</td>\n",
       "      <td>0</td>\n",
       "      <td>0.0</td>\n",
       "      <td>0.0</td>\n",
       "      <td>0</td>\n",
       "      <td>5</td>\n",
       "    </tr>\n",
       "    <tr>\n",
       "      <th>1</th>\n",
       "      <td>Jeff Samardzija</td>\n",
       "      <td>0.295639</td>\n",
       "      <td>0.000000</td>\n",
       "      <td>0.192648</td>\n",
       "      <td>0.000000</td>\n",
       "      <td>0.217548</td>\n",
       "      <td>0.135627</td>\n",
       "      <td>0.000000</td>\n",
       "      <td>0.081479</td>\n",
       "      <td>0.000000</td>\n",
       "      <td>0</td>\n",
       "      <td>0.0</td>\n",
       "      <td>0.0</td>\n",
       "      <td>0</td>\n",
       "      <td>5</td>\n",
       "    </tr>\n",
       "    <tr>\n",
       "      <th>2</th>\n",
       "      <td>Odrisamer Despaigne</td>\n",
       "      <td>0.298387</td>\n",
       "      <td>0.100915</td>\n",
       "      <td>0.063208</td>\n",
       "      <td>0.080209</td>\n",
       "      <td>0.000000</td>\n",
       "      <td>0.154098</td>\n",
       "      <td>0.267001</td>\n",
       "      <td>0.000000</td>\n",
       "      <td>0.000000</td>\n",
       "      <td>0</td>\n",
       "      <td>0.0</td>\n",
       "      <td>0.0</td>\n",
       "      <td>0</td>\n",
       "      <td>6</td>\n",
       "    </tr>\n",
       "    <tr>\n",
       "      <th>3</th>\n",
       "      <td>Zack Greinke</td>\n",
       "      <td>0.415686</td>\n",
       "      <td>0.189797</td>\n",
       "      <td>0.190717</td>\n",
       "      <td>0.115837</td>\n",
       "      <td>0.078562</td>\n",
       "      <td>0.000000</td>\n",
       "      <td>0.000000</td>\n",
       "      <td>0.000000</td>\n",
       "      <td>0.000000</td>\n",
       "      <td>0</td>\n",
       "      <td>0.0</td>\n",
       "      <td>0.0</td>\n",
       "      <td>0</td>\n",
       "      <td>5</td>\n",
       "    </tr>\n",
       "    <tr>\n",
       "      <th>4</th>\n",
       "      <td>Ross Stripling</td>\n",
       "      <td>0.391618</td>\n",
       "      <td>0.107236</td>\n",
       "      <td>0.242141</td>\n",
       "      <td>0.056483</td>\n",
       "      <td>0.000000</td>\n",
       "      <td>0.000000</td>\n",
       "      <td>0.000000</td>\n",
       "      <td>0.000000</td>\n",
       "      <td>0.174034</td>\n",
       "      <td>0</td>\n",
       "      <td>0.0</td>\n",
       "      <td>0.0</td>\n",
       "      <td>0</td>\n",
       "      <td>5</td>\n",
       "    </tr>\n",
       "  </tbody>\n",
       "</table>\n",
       "</div>"
      ],
      "text/plain": [
       "          Pitcher_Name        FF        CH        SL        CU        FT  \\\n",
       "0           Yu Darvish  0.332805  0.000000  0.201512  0.056808  0.158844   \n",
       "1      Jeff Samardzija  0.295639  0.000000  0.192648  0.000000  0.217548   \n",
       "2  Odrisamer Despaigne  0.298387  0.100915  0.063208  0.080209  0.000000   \n",
       "3         Zack Greinke  0.415686  0.189797  0.190717  0.115837  0.078562   \n",
       "4       Ross Stripling  0.391618  0.107236  0.242141  0.056483  0.000000   \n",
       "\n",
       "         FC        SI        FS        KC  EP   KN   FO  SC  \\\n",
       "0  0.210167  0.000000  0.000000  0.000000   0  0.0  0.0   0   \n",
       "1  0.135627  0.000000  0.081479  0.000000   0  0.0  0.0   0   \n",
       "2  0.154098  0.267001  0.000000  0.000000   0  0.0  0.0   0   \n",
       "3  0.000000  0.000000  0.000000  0.000000   0  0.0  0.0   0   \n",
       "4  0.000000  0.000000  0.000000  0.174034   0  0.0  0.0   0   \n",
       "\n",
       "   Pitches_In_Arsenal  \n",
       "0                   5  \n",
       "1                   5  \n",
       "2                   6  \n",
       "3                   5  \n",
       "4                   5  "
      ]
     },
     "execution_count": 14,
     "metadata": {},
     "output_type": "execute_result"
    }
   ],
   "source": [
    "new_df.head()"
   ]
  },
  {
   "cell_type": "markdown",
   "metadata": {},
   "source": [
    "I would now have the ability to merge this dataframe with the rate of each pitch onto the full dataset, which would be extremely useful for machine learning applications."
   ]
  },
  {
   "cell_type": "markdown",
   "metadata": {},
   "source": [
    "### Merging Pitch Frequency onto the Full Set:"
   ]
  },
  {
   "cell_type": "code",
   "execution_count": 15,
   "metadata": {},
   "outputs": [],
   "source": [
    "combined_df = pitch_df.merge(new_df, how='left', left_on='pitcher_full_name', right_on='Pitcher_Name')"
   ]
  },
  {
   "cell_type": "code",
   "execution_count": 16,
   "metadata": {},
   "outputs": [
    {
     "data": {
      "text/html": [
       "<div>\n",
       "<style scoped>\n",
       "    .dataframe tbody tr th:only-of-type {\n",
       "        vertical-align: middle;\n",
       "    }\n",
       "\n",
       "    .dataframe tbody tr th {\n",
       "        vertical-align: top;\n",
       "    }\n",
       "\n",
       "    .dataframe thead th {\n",
       "        text-align: right;\n",
       "    }\n",
       "</style>\n",
       "<table border=\"1\" class=\"dataframe\">\n",
       "  <thead>\n",
       "    <tr style=\"text-align: right;\">\n",
       "      <th></th>\n",
       "      <th>inning</th>\n",
       "      <th>batter_id</th>\n",
       "      <th>pitcher_id</th>\n",
       "      <th>top</th>\n",
       "      <th>ab_id</th>\n",
       "      <th>p_score</th>\n",
       "      <th>stand</th>\n",
       "      <th>p_throws</th>\n",
       "      <th>event</th>\n",
       "      <th>home_team</th>\n",
       "      <th>...</th>\n",
       "      <th>FT</th>\n",
       "      <th>FC</th>\n",
       "      <th>SI</th>\n",
       "      <th>FS</th>\n",
       "      <th>KC</th>\n",
       "      <th>EP</th>\n",
       "      <th>KN</th>\n",
       "      <th>FO</th>\n",
       "      <th>SC</th>\n",
       "      <th>Pitches_In_Arsenal</th>\n",
       "    </tr>\n",
       "  </thead>\n",
       "  <tbody>\n",
       "    <tr>\n",
       "      <th>0</th>\n",
       "      <td>1.0</td>\n",
       "      <td>572761</td>\n",
       "      <td>452657</td>\n",
       "      <td>1.0</td>\n",
       "      <td>2.015000e+09</td>\n",
       "      <td>0.0</td>\n",
       "      <td>L</td>\n",
       "      <td>L</td>\n",
       "      <td>Groundout</td>\n",
       "      <td>chn</td>\n",
       "      <td>...</td>\n",
       "      <td>0.0</td>\n",
       "      <td>0.25896</td>\n",
       "      <td>0.101558</td>\n",
       "      <td>0.0</td>\n",
       "      <td>0.0</td>\n",
       "      <td>0</td>\n",
       "      <td>0.0</td>\n",
       "      <td>0.0</td>\n",
       "      <td>0</td>\n",
       "      <td>5</td>\n",
       "    </tr>\n",
       "    <tr>\n",
       "      <th>1</th>\n",
       "      <td>1.0</td>\n",
       "      <td>572761</td>\n",
       "      <td>452657</td>\n",
       "      <td>1.0</td>\n",
       "      <td>2.015000e+09</td>\n",
       "      <td>0.0</td>\n",
       "      <td>L</td>\n",
       "      <td>L</td>\n",
       "      <td>Groundout</td>\n",
       "      <td>chn</td>\n",
       "      <td>...</td>\n",
       "      <td>0.0</td>\n",
       "      <td>0.25896</td>\n",
       "      <td>0.101558</td>\n",
       "      <td>0.0</td>\n",
       "      <td>0.0</td>\n",
       "      <td>0</td>\n",
       "      <td>0.0</td>\n",
       "      <td>0.0</td>\n",
       "      <td>0</td>\n",
       "      <td>5</td>\n",
       "    </tr>\n",
       "    <tr>\n",
       "      <th>2</th>\n",
       "      <td>1.0</td>\n",
       "      <td>572761</td>\n",
       "      <td>452657</td>\n",
       "      <td>1.0</td>\n",
       "      <td>2.015000e+09</td>\n",
       "      <td>0.0</td>\n",
       "      <td>L</td>\n",
       "      <td>L</td>\n",
       "      <td>Groundout</td>\n",
       "      <td>chn</td>\n",
       "      <td>...</td>\n",
       "      <td>0.0</td>\n",
       "      <td>0.25896</td>\n",
       "      <td>0.101558</td>\n",
       "      <td>0.0</td>\n",
       "      <td>0.0</td>\n",
       "      <td>0</td>\n",
       "      <td>0.0</td>\n",
       "      <td>0.0</td>\n",
       "      <td>0</td>\n",
       "      <td>5</td>\n",
       "    </tr>\n",
       "    <tr>\n",
       "      <th>3</th>\n",
       "      <td>1.0</td>\n",
       "      <td>572761</td>\n",
       "      <td>452657</td>\n",
       "      <td>1.0</td>\n",
       "      <td>2.015000e+09</td>\n",
       "      <td>0.0</td>\n",
       "      <td>L</td>\n",
       "      <td>L</td>\n",
       "      <td>Groundout</td>\n",
       "      <td>chn</td>\n",
       "      <td>...</td>\n",
       "      <td>0.0</td>\n",
       "      <td>0.25896</td>\n",
       "      <td>0.101558</td>\n",
       "      <td>0.0</td>\n",
       "      <td>0.0</td>\n",
       "      <td>0</td>\n",
       "      <td>0.0</td>\n",
       "      <td>0.0</td>\n",
       "      <td>0</td>\n",
       "      <td>5</td>\n",
       "    </tr>\n",
       "    <tr>\n",
       "      <th>4</th>\n",
       "      <td>1.0</td>\n",
       "      <td>572761</td>\n",
       "      <td>452657</td>\n",
       "      <td>1.0</td>\n",
       "      <td>2.015000e+09</td>\n",
       "      <td>0.0</td>\n",
       "      <td>L</td>\n",
       "      <td>L</td>\n",
       "      <td>Groundout</td>\n",
       "      <td>chn</td>\n",
       "      <td>...</td>\n",
       "      <td>0.0</td>\n",
       "      <td>0.25896</td>\n",
       "      <td>0.101558</td>\n",
       "      <td>0.0</td>\n",
       "      <td>0.0</td>\n",
       "      <td>0</td>\n",
       "      <td>0.0</td>\n",
       "      <td>0.0</td>\n",
       "      <td>0</td>\n",
       "      <td>5</td>\n",
       "    </tr>\n",
       "  </tbody>\n",
       "</table>\n",
       "<p>5 rows × 50 columns</p>\n",
       "</div>"
      ],
      "text/plain": [
       "   inning  batter_id  pitcher_id  top         ab_id  p_score stand p_throws  \\\n",
       "0     1.0     572761      452657  1.0  2.015000e+09      0.0     L        L   \n",
       "1     1.0     572761      452657  1.0  2.015000e+09      0.0     L        L   \n",
       "2     1.0     572761      452657  1.0  2.015000e+09      0.0     L        L   \n",
       "3     1.0     572761      452657  1.0  2.015000e+09      0.0     L        L   \n",
       "4     1.0     572761      452657  1.0  2.015000e+09      0.0     L        L   \n",
       "\n",
       "       event home_team  ...   FT       FC        SI   FS   KC  EP   KN   FO  \\\n",
       "0  Groundout       chn  ...  0.0  0.25896  0.101558  0.0  0.0   0  0.0  0.0   \n",
       "1  Groundout       chn  ...  0.0  0.25896  0.101558  0.0  0.0   0  0.0  0.0   \n",
       "2  Groundout       chn  ...  0.0  0.25896  0.101558  0.0  0.0   0  0.0  0.0   \n",
       "3  Groundout       chn  ...  0.0  0.25896  0.101558  0.0  0.0   0  0.0  0.0   \n",
       "4  Groundout       chn  ...  0.0  0.25896  0.101558  0.0  0.0   0  0.0  0.0   \n",
       "\n",
       "  SC  Pitches_In_Arsenal  \n",
       "0  0                   5  \n",
       "1  0                   5  \n",
       "2  0                   5  \n",
       "3  0                   5  \n",
       "4  0                   5  \n",
       "\n",
       "[5 rows x 50 columns]"
      ]
     },
     "execution_count": 16,
     "metadata": {},
     "output_type": "execute_result"
    }
   ],
   "source": [
    "combined_df.head()"
   ]
  },
  {
   "cell_type": "markdown",
   "metadata": {},
   "source": [
    "Dropping the Pitch_Family and Pitcher_Name columns, since those are not needed right now:"
   ]
  },
  {
   "cell_type": "code",
   "execution_count": 17,
   "metadata": {},
   "outputs": [],
   "source": [
    "combined_df.drop(columns=['Pitch_Family', 'Pitcher_Name'], inplace=True)"
   ]
  },
  {
   "cell_type": "markdown",
   "metadata": {},
   "source": [
    "### Pitch Arsenal EDA"
   ]
  },
  {
   "cell_type": "markdown",
   "metadata": {},
   "source": [
    "Now that I have the number of pitchers in the arsenal, doing a quick visualization to see how many players have how many pitches in their arsenal."
   ]
  },
  {
   "cell_type": "code",
   "execution_count": 18,
   "metadata": {},
   "outputs": [],
   "source": [
    "arsenal_counts = list(combined_df.Pitches_In_Arsenal.value_counts())"
   ]
  },
  {
   "cell_type": "code",
   "execution_count": 19,
   "metadata": {},
   "outputs": [],
   "source": [
    "arsenal_values = list(combined_df.Pitches_In_Arsenal.value_counts().index)"
   ]
  },
  {
   "cell_type": "markdown",
   "metadata": {},
   "source": [
    "Plotting out the results:"
   ]
  },
  {
   "cell_type": "code",
   "execution_count": 23,
   "metadata": {},
   "outputs": [
    {
     "data": {
      "image/png": "[encoded data removed]",
      "text/plain": [
       "<Figure size 648x432 with 1 Axes>"
      ]
     },
     "metadata": {
      "image/png": {
       "height": 397,
       "width": 562
      }
     },
     "output_type": "display_data"
    }
   ],
   "source": [
    "plt.bar(arsenal_values, arsenal_counts)\n",
    "plt.title(\"Number of Pitches in a Pitcher's Arsenal\")\n",
    "plt.xlabel('Pitches in Arsenal')\n",
    "plt.ylabel('Number of Pitchers')\n",
    "plt.show();"
   ]
  },
  {
   "cell_type": "markdown",
   "metadata": {},
   "source": [
    "It is centered around 4, which makes sense.  Logically too, the upper bounds make sense since no one would throw only 1 pitch type, and throwing over 7 would be insane."
   ]
  },
  {
   "cell_type": "markdown",
   "metadata": {},
   "source": [
    "Checking out pitchers with 7:"
   ]
  },
  {
   "cell_type": "code",
   "execution_count": 21,
   "metadata": {
    "scrolled": true
   },
   "outputs": [
    {
     "data": {
      "text/plain": [
       "Trevor Bauer    15531\n",
       "Mat Latos        3239\n",
       "Nick Kingham     2336\n",
       "Name: pitcher_full_name, dtype: int64"
      ]
     },
     "execution_count": 21,
     "metadata": {},
     "output_type": "execute_result"
    }
   ],
   "source": [
    "combined_df[combined_df.Pitches_In_Arsenal == 7].pitcher_full_name.value_counts()"
   ]
  },
  {
   "cell_type": "code",
   "execution_count": 26,
   "metadata": {},
   "outputs": [
    {
     "data": {
      "text/html": [
       "<div>\n",
       "<style scoped>\n",
       "    .dataframe tbody tr th:only-of-type {\n",
       "        vertical-align: middle;\n",
       "    }\n",
       "\n",
       "    .dataframe tbody tr th {\n",
       "        vertical-align: top;\n",
       "    }\n",
       "\n",
       "    .dataframe thead th {\n",
       "        text-align: right;\n",
       "    }\n",
       "</style>\n",
       "<table border=\"1\" class=\"dataframe\">\n",
       "  <thead>\n",
       "    <tr style=\"text-align: right;\">\n",
       "      <th></th>\n",
       "      <th>Pitcher_Name</th>\n",
       "      <th>FF</th>\n",
       "      <th>CH</th>\n",
       "      <th>SL</th>\n",
       "      <th>CU</th>\n",
       "      <th>FT</th>\n",
       "      <th>FC</th>\n",
       "      <th>SI</th>\n",
       "      <th>FS</th>\n",
       "      <th>KC</th>\n",
       "      <th>EP</th>\n",
       "      <th>KN</th>\n",
       "      <th>FO</th>\n",
       "      <th>SC</th>\n",
       "      <th>Pitches_In_Arsenal</th>\n",
       "    </tr>\n",
       "  </thead>\n",
       "  <tbody>\n",
       "    <tr>\n",
       "      <th>26</th>\n",
       "      <td>Trevor Bauer</td>\n",
       "      <td>0.353615</td>\n",
       "      <td>0.093555</td>\n",
       "      <td>0.067993</td>\n",
       "      <td>0.068701</td>\n",
       "      <td>0.119503</td>\n",
       "      <td>0.1403</td>\n",
       "      <td>0.0</td>\n",
       "      <td>0.0</td>\n",
       "      <td>0.156332</td>\n",
       "      <td>0</td>\n",
       "      <td>0.0</td>\n",
       "      <td>0.0</td>\n",
       "      <td>0</td>\n",
       "      <td>7</td>\n",
       "    </tr>\n",
       "  </tbody>\n",
       "</table>\n",
       "</div>"
      ],
      "text/plain": [
       "    Pitcher_Name        FF        CH        SL        CU        FT      FC  \\\n",
       "26  Trevor Bauer  0.353615  0.093555  0.067993  0.068701  0.119503  0.1403   \n",
       "\n",
       "     SI   FS        KC  EP   KN   FO  SC  Pitches_In_Arsenal  \n",
       "26  0.0  0.0  0.156332   0  0.0  0.0   0                   7  "
      ]
     },
     "execution_count": 26,
     "metadata": {},
     "output_type": "execute_result"
    }
   ],
   "source": [
    "new_df[new_df.Pitcher_Name == 'Trevor Bauer']"
   ]
  },
  {
   "cell_type": "code",
   "execution_count": 27,
   "metadata": {},
   "outputs": [
    {
     "data": {
      "text/html": [
       "<div>\n",
       "<style scoped>\n",
       "    .dataframe tbody tr th:only-of-type {\n",
       "        vertical-align: middle;\n",
       "    }\n",
       "\n",
       "    .dataframe tbody tr th {\n",
       "        vertical-align: top;\n",
       "    }\n",
       "\n",
       "    .dataframe thead th {\n",
       "        text-align: right;\n",
       "    }\n",
       "</style>\n",
       "<table border=\"1\" class=\"dataframe\">\n",
       "  <thead>\n",
       "    <tr style=\"text-align: right;\">\n",
       "      <th></th>\n",
       "      <th>Pitcher_Name</th>\n",
       "      <th>FF</th>\n",
       "      <th>CH</th>\n",
       "      <th>SL</th>\n",
       "      <th>CU</th>\n",
       "      <th>FT</th>\n",
       "      <th>FC</th>\n",
       "      <th>SI</th>\n",
       "      <th>FS</th>\n",
       "      <th>KC</th>\n",
       "      <th>EP</th>\n",
       "      <th>KN</th>\n",
       "      <th>FO</th>\n",
       "      <th>SC</th>\n",
       "      <th>Pitches_In_Arsenal</th>\n",
       "    </tr>\n",
       "  </thead>\n",
       "  <tbody>\n",
       "    <tr>\n",
       "      <th>32</th>\n",
       "      <td>Mat Latos</td>\n",
       "      <td>0.284347</td>\n",
       "      <td>0.052485</td>\n",
       "      <td>0.147576</td>\n",
       "      <td>0.070392</td>\n",
       "      <td>0.11238</td>\n",
       "      <td>0.192652</td>\n",
       "      <td>0.0</td>\n",
       "      <td>0.140167</td>\n",
       "      <td>0.0</td>\n",
       "      <td>0</td>\n",
       "      <td>0.0</td>\n",
       "      <td>0.0</td>\n",
       "      <td>0</td>\n",
       "      <td>7</td>\n",
       "    </tr>\n",
       "  </tbody>\n",
       "</table>\n",
       "</div>"
      ],
      "text/plain": [
       "   Pitcher_Name        FF        CH        SL        CU       FT        FC  \\\n",
       "32    Mat Latos  0.284347  0.052485  0.147576  0.070392  0.11238  0.192652   \n",
       "\n",
       "     SI        FS   KC  EP   KN   FO  SC  Pitches_In_Arsenal  \n",
       "32  0.0  0.140167  0.0   0  0.0  0.0   0                   7  "
      ]
     },
     "execution_count": 27,
     "metadata": {},
     "output_type": "execute_result"
    }
   ],
   "source": [
    "new_df[new_df.Pitcher_Name == 'Mat Latos']"
   ]
  },
  {
   "cell_type": "code",
   "execution_count": 29,
   "metadata": {},
   "outputs": [
    {
     "data": {
      "text/html": [
       "<div>\n",
       "<style scoped>\n",
       "    .dataframe tbody tr th:only-of-type {\n",
       "        vertical-align: middle;\n",
       "    }\n",
       "\n",
       "    .dataframe tbody tr th {\n",
       "        vertical-align: top;\n",
       "    }\n",
       "\n",
       "    .dataframe thead th {\n",
       "        text-align: right;\n",
       "    }\n",
       "</style>\n",
       "<table border=\"1\" class=\"dataframe\">\n",
       "  <thead>\n",
       "    <tr style=\"text-align: right;\">\n",
       "      <th></th>\n",
       "      <th>Pitcher_Name</th>\n",
       "      <th>FF</th>\n",
       "      <th>CH</th>\n",
       "      <th>SL</th>\n",
       "      <th>CU</th>\n",
       "      <th>FT</th>\n",
       "      <th>FC</th>\n",
       "      <th>SI</th>\n",
       "      <th>FS</th>\n",
       "      <th>KC</th>\n",
       "      <th>EP</th>\n",
       "      <th>KN</th>\n",
       "      <th>FO</th>\n",
       "      <th>SC</th>\n",
       "      <th>Pitches_In_Arsenal</th>\n",
       "    </tr>\n",
       "  </thead>\n",
       "  <tbody>\n",
       "    <tr>\n",
       "      <th>17</th>\n",
       "      <td>Nick Kingham</td>\n",
       "      <td>0.398973</td>\n",
       "      <td>0.159675</td>\n",
       "      <td>0.110445</td>\n",
       "      <td>0.054366</td>\n",
       "      <td>0.13399</td>\n",
       "      <td>0.057363</td>\n",
       "      <td>0.0</td>\n",
       "      <td>0.0</td>\n",
       "      <td>0.085188</td>\n",
       "      <td>0</td>\n",
       "      <td>0.0</td>\n",
       "      <td>0.0</td>\n",
       "      <td>0</td>\n",
       "      <td>7</td>\n",
       "    </tr>\n",
       "  </tbody>\n",
       "</table>\n",
       "</div>"
      ],
      "text/plain": [
       "    Pitcher_Name        FF        CH        SL        CU       FT        FC  \\\n",
       "17  Nick Kingham  0.398973  0.159675  0.110445  0.054366  0.13399  0.057363   \n",
       "\n",
       "     SI   FS        KC  EP   KN   FO  SC  Pitches_In_Arsenal  \n",
       "17  0.0  0.0  0.085188   0  0.0  0.0   0                   7  "
      ]
     },
     "execution_count": 29,
     "metadata": {},
     "output_type": "execute_result"
    }
   ],
   "source": [
    "new_df[new_df.Pitcher_Name == 'Nick Kingham']"
   ]
  },
  {
   "cell_type": "markdown",
   "metadata": {},
   "source": [
    "They all have pretty variable arsenals, none of which seems out of the realm of possibility."
   ]
  },
  {
   "cell_type": "markdown",
   "metadata": {},
   "source": [
    "## Hitters"
   ]
  },
  {
   "cell_type": "markdown",
   "metadata": {},
   "source": [
    "How many hitters are in the dataset?"
   ]
  },
  {
   "cell_type": "code",
   "execution_count": 30,
   "metadata": {},
   "outputs": [
    {
     "data": {
      "text/plain": [
       "Paul Goldschmidt    14192\n",
       "Carlos Santana      13759\n",
       "Mookie Betts        13546\n",
       "Joey Votto          13351\n",
       "Charlie Blackmon    13214\n",
       "                    ...  \n",
       "Erik Cordier            1\n",
       "Branden Pinder          1\n",
       "Mike Broadway           1\n",
       "Jumbo Diaz              1\n",
       "Chin-hui Tsao           1\n",
       "Name: hitter_full_name, Length: 1855, dtype: int64"
      ]
     },
     "execution_count": 30,
     "metadata": {},
     "output_type": "execute_result"
    }
   ],
   "source": [
    "combined_df.hitter_full_name.value_counts()"
   ]
  },
  {
   "cell_type": "markdown",
   "metadata": {},
   "source": [
    "There are ~1855 hitters, with some having (obviously) much more pitches seen than others.  To try to reduce this dimension as a feature, I will be working on clustering of hitters in the Clutering folder, in the notebook Batter_Clustering.ipynb."
   ]
  }
 ],
 "metadata": {
  "kernelspec": {
   "display_name": "Python [conda env:metis] *",
   "language": "python",
   "name": "conda-env-metis-py"
  },
  "language_info": {
   "codemirror_mode": {
    "name": "ipython",
    "version": 3
   },
   "file_extension": ".py",
   "mimetype": "text/x-python",
   "name": "python",
   "nbconvert_exporter": "python",
   "pygments_lexer": "ipython3",
   "version": "3.8.6"
  }
 },
 "nbformat": 4,
 "nbformat_minor": 4
}
