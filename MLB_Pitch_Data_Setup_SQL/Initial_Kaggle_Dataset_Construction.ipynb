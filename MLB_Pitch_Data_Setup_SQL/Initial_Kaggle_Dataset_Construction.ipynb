{
 "cells": [
  {
   "cell_type": "markdown",
   "metadata": {},
   "source": [
    "# Kaggle Dataset Work"
   ]
  },
  {
   "cell_type": "markdown",
   "metadata": {},
   "source": [
    "The purpose of this notebook is to begin working with the data in Paul Schale's [MLB Pitch Data Kaggle Dataset](https://www.kaggle.com/pschale/mlb-pitch-data-20152018?select=games.csv).  This will be done by creating a PostgreSQL Database with the CSV files available, with the exception of the ejections.csv file, since I do not need that information for this project.  \n",
    "\n",
    "Specifically, I will be combing the original .csv files in this notebook into new files, to build my SQL database out of."
   ]
  },
  {
   "cell_type": "markdown",
   "metadata": {},
   "source": [
    "To start, I downloaded the .csv files from the site, then removed the ejections file as discussed above.  Since the 2019 file and 2015-2018 atbats, games, and pitches file utilize similar setups, I am going to combine those."
   ]
  },
  {
   "cell_type": "code",
   "execution_count": 1,
   "metadata": {},
   "outputs": [],
   "source": [
    "import pandas as pd"
   ]
  },
  {
   "cell_type": "code",
   "execution_count": 2,
   "metadata": {},
   "outputs": [
    {
     "data": {
      "text/plain": [
       "'/Users/patrickbovard/Documents/GitHub/metis_final_project'"
      ]
     },
     "execution_count": 2,
     "metadata": {},
     "output_type": "execute_result"
    }
   ],
   "source": [
    "pwd"
   ]
  },
  {
   "cell_type": "markdown",
   "metadata": {},
   "source": [
    "### First, loading in the at-bats csv files:"
   ]
  },
  {
   "cell_type": "code",
   "execution_count": 5,
   "metadata": {},
   "outputs": [],
   "source": [
    "atbats_2019 = pd.read_csv('./Data/Kaggle_Files/archive/2019_atbats.csv')"
   ]
  },
  {
   "cell_type": "code",
   "execution_count": 6,
   "metadata": {},
   "outputs": [
    {
     "data": {
      "text/html": [
       "<div>\n",
       "<style scoped>\n",
       "    .dataframe tbody tr th:only-of-type {\n",
       "        vertical-align: middle;\n",
       "    }\n",
       "\n",
       "    .dataframe tbody tr th {\n",
       "        vertical-align: top;\n",
       "    }\n",
       "\n",
       "    .dataframe thead th {\n",
       "        text-align: right;\n",
       "    }\n",
       "</style>\n",
       "<table border=\"1\" class=\"dataframe\">\n",
       "  <thead>\n",
       "    <tr style=\"text-align: right;\">\n",
       "      <th></th>\n",
       "      <th>inning</th>\n",
       "      <th>top</th>\n",
       "      <th>ab_id</th>\n",
       "      <th>g_id</th>\n",
       "      <th>p_score</th>\n",
       "      <th>batter_id</th>\n",
       "      <th>pitcher_id</th>\n",
       "      <th>stand</th>\n",
       "      <th>p_throws</th>\n",
       "      <th>event</th>\n",
       "      <th>o</th>\n",
       "    </tr>\n",
       "  </thead>\n",
       "  <tbody>\n",
       "    <tr>\n",
       "      <th>0</th>\n",
       "      <td>1.0</td>\n",
       "      <td>1.0</td>\n",
       "      <td>2.019000e+09</td>\n",
       "      <td>201900001.0</td>\n",
       "      <td>0.0</td>\n",
       "      <td>594777</td>\n",
       "      <td>571666</td>\n",
       "      <td>L</td>\n",
       "      <td>R</td>\n",
       "      <td>Flyout</td>\n",
       "      <td>1</td>\n",
       "    </tr>\n",
       "    <tr>\n",
       "      <th>1</th>\n",
       "      <td>1.0</td>\n",
       "      <td>1.0</td>\n",
       "      <td>2.019000e+09</td>\n",
       "      <td>201900001.0</td>\n",
       "      <td>0.0</td>\n",
       "      <td>545361</td>\n",
       "      <td>571666</td>\n",
       "      <td>R</td>\n",
       "      <td>R</td>\n",
       "      <td>Flyout</td>\n",
       "      <td>2</td>\n",
       "    </tr>\n",
       "    <tr>\n",
       "      <th>2</th>\n",
       "      <td>1.0</td>\n",
       "      <td>1.0</td>\n",
       "      <td>2.019000e+09</td>\n",
       "      <td>201900001.0</td>\n",
       "      <td>0.0</td>\n",
       "      <td>571506</td>\n",
       "      <td>571666</td>\n",
       "      <td>L</td>\n",
       "      <td>R</td>\n",
       "      <td>Groundout</td>\n",
       "      <td>3</td>\n",
       "    </tr>\n",
       "    <tr>\n",
       "      <th>3</th>\n",
       "      <td>1.0</td>\n",
       "      <td>0.0</td>\n",
       "      <td>2.019000e+09</td>\n",
       "      <td>201900001.0</td>\n",
       "      <td>0.0</td>\n",
       "      <td>543257</td>\n",
       "      <td>502239</td>\n",
       "      <td>L</td>\n",
       "      <td>R</td>\n",
       "      <td>Single</td>\n",
       "      <td>0</td>\n",
       "    </tr>\n",
       "    <tr>\n",
       "      <th>4</th>\n",
       "      <td>1.0</td>\n",
       "      <td>0.0</td>\n",
       "      <td>2.019000e+09</td>\n",
       "      <td>201900001.0</td>\n",
       "      <td>0.0</td>\n",
       "      <td>656305</td>\n",
       "      <td>502239</td>\n",
       "      <td>R</td>\n",
       "      <td>R</td>\n",
       "      <td>Flyout</td>\n",
       "      <td>1</td>\n",
       "    </tr>\n",
       "  </tbody>\n",
       "</table>\n",
       "</div>"
      ],
      "text/plain": [
       "   inning  top         ab_id         g_id  p_score  batter_id  pitcher_id  \\\n",
       "0     1.0  1.0  2.019000e+09  201900001.0      0.0     594777      571666   \n",
       "1     1.0  1.0  2.019000e+09  201900001.0      0.0     545361      571666   \n",
       "2     1.0  1.0  2.019000e+09  201900001.0      0.0     571506      571666   \n",
       "3     1.0  0.0  2.019000e+09  201900001.0      0.0     543257      502239   \n",
       "4     1.0  0.0  2.019000e+09  201900001.0      0.0     656305      502239   \n",
       "\n",
       "  stand p_throws      event  o  \n",
       "0     L        R     Flyout  1  \n",
       "1     R        R     Flyout  2  \n",
       "2     L        R  Groundout  3  \n",
       "3     L        R     Single  0  \n",
       "4     R        R     Flyout  1  "
      ]
     },
     "execution_count": 6,
     "metadata": {},
     "output_type": "execute_result"
    }
   ],
   "source": [
    "atbats_2019.head()"
   ]
  },
  {
   "cell_type": "code",
   "execution_count": 10,
   "metadata": {},
   "outputs": [
    {
     "data": {
      "text/plain": [
       "(185245, 11)"
      ]
     },
     "execution_count": 10,
     "metadata": {},
     "output_type": "execute_result"
    }
   ],
   "source": [
    "atbats_2019.shape"
   ]
  },
  {
   "cell_type": "code",
   "execution_count": 7,
   "metadata": {},
   "outputs": [],
   "source": [
    "at_bats_2018_before = pd.read_csv('./Data/Kaggle_Files/archive/atbats.csv')"
   ]
  },
  {
   "cell_type": "code",
   "execution_count": 8,
   "metadata": {},
   "outputs": [
    {
     "data": {
      "text/html": [
       "<div>\n",
       "<style scoped>\n",
       "    .dataframe tbody tr th:only-of-type {\n",
       "        vertical-align: middle;\n",
       "    }\n",
       "\n",
       "    .dataframe tbody tr th {\n",
       "        vertical-align: top;\n",
       "    }\n",
       "\n",
       "    .dataframe thead th {\n",
       "        text-align: right;\n",
       "    }\n",
       "</style>\n",
       "<table border=\"1\" class=\"dataframe\">\n",
       "  <thead>\n",
       "    <tr style=\"text-align: right;\">\n",
       "      <th></th>\n",
       "      <th>ab_id</th>\n",
       "      <th>batter_id</th>\n",
       "      <th>event</th>\n",
       "      <th>g_id</th>\n",
       "      <th>inning</th>\n",
       "      <th>o</th>\n",
       "      <th>p_score</th>\n",
       "      <th>p_throws</th>\n",
       "      <th>pitcher_id</th>\n",
       "      <th>stand</th>\n",
       "      <th>top</th>\n",
       "    </tr>\n",
       "  </thead>\n",
       "  <tbody>\n",
       "    <tr>\n",
       "      <th>0</th>\n",
       "      <td>2015000001</td>\n",
       "      <td>572761</td>\n",
       "      <td>Groundout</td>\n",
       "      <td>201500001</td>\n",
       "      <td>1</td>\n",
       "      <td>1</td>\n",
       "      <td>0</td>\n",
       "      <td>L</td>\n",
       "      <td>452657</td>\n",
       "      <td>L</td>\n",
       "      <td>True</td>\n",
       "    </tr>\n",
       "    <tr>\n",
       "      <th>1</th>\n",
       "      <td>2015000002</td>\n",
       "      <td>518792</td>\n",
       "      <td>Double</td>\n",
       "      <td>201500001</td>\n",
       "      <td>1</td>\n",
       "      <td>1</td>\n",
       "      <td>0</td>\n",
       "      <td>L</td>\n",
       "      <td>452657</td>\n",
       "      <td>L</td>\n",
       "      <td>True</td>\n",
       "    </tr>\n",
       "    <tr>\n",
       "      <th>2</th>\n",
       "      <td>2015000003</td>\n",
       "      <td>407812</td>\n",
       "      <td>Single</td>\n",
       "      <td>201500001</td>\n",
       "      <td>1</td>\n",
       "      <td>1</td>\n",
       "      <td>0</td>\n",
       "      <td>L</td>\n",
       "      <td>452657</td>\n",
       "      <td>R</td>\n",
       "      <td>True</td>\n",
       "    </tr>\n",
       "    <tr>\n",
       "      <th>3</th>\n",
       "      <td>2015000004</td>\n",
       "      <td>425509</td>\n",
       "      <td>Strikeout</td>\n",
       "      <td>201500001</td>\n",
       "      <td>1</td>\n",
       "      <td>2</td>\n",
       "      <td>0</td>\n",
       "      <td>L</td>\n",
       "      <td>452657</td>\n",
       "      <td>R</td>\n",
       "      <td>True</td>\n",
       "    </tr>\n",
       "    <tr>\n",
       "      <th>4</th>\n",
       "      <td>2015000005</td>\n",
       "      <td>571431</td>\n",
       "      <td>Strikeout</td>\n",
       "      <td>201500001</td>\n",
       "      <td>1</td>\n",
       "      <td>3</td>\n",
       "      <td>0</td>\n",
       "      <td>L</td>\n",
       "      <td>452657</td>\n",
       "      <td>L</td>\n",
       "      <td>True</td>\n",
       "    </tr>\n",
       "  </tbody>\n",
       "</table>\n",
       "</div>"
      ],
      "text/plain": [
       "        ab_id  batter_id      event       g_id  inning  o  p_score p_throws  \\\n",
       "0  2015000001     572761  Groundout  201500001       1  1        0        L   \n",
       "1  2015000002     518792     Double  201500001       1  1        0        L   \n",
       "2  2015000003     407812     Single  201500001       1  1        0        L   \n",
       "3  2015000004     425509  Strikeout  201500001       1  2        0        L   \n",
       "4  2015000005     571431  Strikeout  201500001       1  3        0        L   \n",
       "\n",
       "   pitcher_id stand   top  \n",
       "0      452657     L  True  \n",
       "1      452657     L  True  \n",
       "2      452657     R  True  \n",
       "3      452657     R  True  \n",
       "4      452657     L  True  "
      ]
     },
     "execution_count": 8,
     "metadata": {},
     "output_type": "execute_result"
    }
   ],
   "source": [
    "at_bats_2018_before.head()"
   ]
  },
  {
   "cell_type": "code",
   "execution_count": 9,
   "metadata": {},
   "outputs": [
    {
     "data": {
      "text/plain": [
       "(740389, 11)"
      ]
     },
     "execution_count": 9,
     "metadata": {},
     "output_type": "execute_result"
    }
   ],
   "source": [
    "at_bats_2018_before.shape"
   ]
  },
  {
   "cell_type": "markdown",
   "metadata": {},
   "source": [
    "Combining:"
   ]
  },
  {
   "cell_type": "code",
   "execution_count": 13,
   "metadata": {},
   "outputs": [],
   "source": [
    "combined_atbats = pd.concat([atbats_2019, at_bats_2018_before], axis=0)"
   ]
  },
  {
   "cell_type": "code",
   "execution_count": 14,
   "metadata": {},
   "outputs": [
    {
     "data": {
      "text/html": [
       "<div>\n",
       "<style scoped>\n",
       "    .dataframe tbody tr th:only-of-type {\n",
       "        vertical-align: middle;\n",
       "    }\n",
       "\n",
       "    .dataframe tbody tr th {\n",
       "        vertical-align: top;\n",
       "    }\n",
       "\n",
       "    .dataframe thead th {\n",
       "        text-align: right;\n",
       "    }\n",
       "</style>\n",
       "<table border=\"1\" class=\"dataframe\">\n",
       "  <thead>\n",
       "    <tr style=\"text-align: right;\">\n",
       "      <th></th>\n",
       "      <th>inning</th>\n",
       "      <th>top</th>\n",
       "      <th>ab_id</th>\n",
       "      <th>g_id</th>\n",
       "      <th>p_score</th>\n",
       "      <th>batter_id</th>\n",
       "      <th>pitcher_id</th>\n",
       "      <th>stand</th>\n",
       "      <th>p_throws</th>\n",
       "      <th>event</th>\n",
       "      <th>o</th>\n",
       "    </tr>\n",
       "  </thead>\n",
       "  <tbody>\n",
       "    <tr>\n",
       "      <th>0</th>\n",
       "      <td>1.0</td>\n",
       "      <td>1.0</td>\n",
       "      <td>2.019000e+09</td>\n",
       "      <td>201900001.0</td>\n",
       "      <td>0.0</td>\n",
       "      <td>594777</td>\n",
       "      <td>571666</td>\n",
       "      <td>L</td>\n",
       "      <td>R</td>\n",
       "      <td>Flyout</td>\n",
       "      <td>1</td>\n",
       "    </tr>\n",
       "    <tr>\n",
       "      <th>1</th>\n",
       "      <td>1.0</td>\n",
       "      <td>1.0</td>\n",
       "      <td>2.019000e+09</td>\n",
       "      <td>201900001.0</td>\n",
       "      <td>0.0</td>\n",
       "      <td>545361</td>\n",
       "      <td>571666</td>\n",
       "      <td>R</td>\n",
       "      <td>R</td>\n",
       "      <td>Flyout</td>\n",
       "      <td>2</td>\n",
       "    </tr>\n",
       "    <tr>\n",
       "      <th>2</th>\n",
       "      <td>1.0</td>\n",
       "      <td>1.0</td>\n",
       "      <td>2.019000e+09</td>\n",
       "      <td>201900001.0</td>\n",
       "      <td>0.0</td>\n",
       "      <td>571506</td>\n",
       "      <td>571666</td>\n",
       "      <td>L</td>\n",
       "      <td>R</td>\n",
       "      <td>Groundout</td>\n",
       "      <td>3</td>\n",
       "    </tr>\n",
       "    <tr>\n",
       "      <th>3</th>\n",
       "      <td>1.0</td>\n",
       "      <td>0.0</td>\n",
       "      <td>2.019000e+09</td>\n",
       "      <td>201900001.0</td>\n",
       "      <td>0.0</td>\n",
       "      <td>543257</td>\n",
       "      <td>502239</td>\n",
       "      <td>L</td>\n",
       "      <td>R</td>\n",
       "      <td>Single</td>\n",
       "      <td>0</td>\n",
       "    </tr>\n",
       "    <tr>\n",
       "      <th>4</th>\n",
       "      <td>1.0</td>\n",
       "      <td>0.0</td>\n",
       "      <td>2.019000e+09</td>\n",
       "      <td>201900001.0</td>\n",
       "      <td>0.0</td>\n",
       "      <td>656305</td>\n",
       "      <td>502239</td>\n",
       "      <td>R</td>\n",
       "      <td>R</td>\n",
       "      <td>Flyout</td>\n",
       "      <td>1</td>\n",
       "    </tr>\n",
       "  </tbody>\n",
       "</table>\n",
       "</div>"
      ],
      "text/plain": [
       "   inning  top         ab_id         g_id  p_score  batter_id  pitcher_id  \\\n",
       "0     1.0  1.0  2.019000e+09  201900001.0      0.0     594777      571666   \n",
       "1     1.0  1.0  2.019000e+09  201900001.0      0.0     545361      571666   \n",
       "2     1.0  1.0  2.019000e+09  201900001.0      0.0     571506      571666   \n",
       "3     1.0  0.0  2.019000e+09  201900001.0      0.0     543257      502239   \n",
       "4     1.0  0.0  2.019000e+09  201900001.0      0.0     656305      502239   \n",
       "\n",
       "  stand p_throws      event  o  \n",
       "0     L        R     Flyout  1  \n",
       "1     R        R     Flyout  2  \n",
       "2     L        R  Groundout  3  \n",
       "3     L        R     Single  0  \n",
       "4     R        R     Flyout  1  "
      ]
     },
     "execution_count": 14,
     "metadata": {},
     "output_type": "execute_result"
    }
   ],
   "source": [
    "combined_atbats.head()"
   ]
  },
  {
   "cell_type": "code",
   "execution_count": 15,
   "metadata": {},
   "outputs": [
    {
     "data": {
      "text/plain": [
       "(925634, 11)"
      ]
     },
     "execution_count": 15,
     "metadata": {},
     "output_type": "execute_result"
    }
   ],
   "source": [
    "combined_atbats.shape"
   ]
  },
  {
   "cell_type": "markdown",
   "metadata": {},
   "source": [
    "This looks correct, so saving the combined file as a new CSV:"
   ]
  },
  {
   "cell_type": "code",
   "execution_count": 16,
   "metadata": {},
   "outputs": [],
   "source": [
    "combined_atbats.to_csv('./Data/Kaggle_Files/combined_atbats.csv')"
   ]
  },
  {
   "cell_type": "markdown",
   "metadata": {},
   "source": [
    "### Next, for games:"
   ]
  },
  {
   "cell_type": "code",
   "execution_count": 17,
   "metadata": {},
   "outputs": [
    {
     "data": {
      "text/plain": [
       "(2408, 16)"
      ]
     },
     "execution_count": 17,
     "metadata": {},
     "output_type": "execute_result"
    }
   ],
   "source": [
    "games_2019 = pd.read_csv('./Data/Kaggle_Files/archive/2019_games.csv')\n",
    "games_2019.shape"
   ]
  },
  {
   "cell_type": "code",
   "execution_count": 27,
   "metadata": {},
   "outputs": [
    {
     "data": {
      "text/html": [
       "<div>\n",
       "<style scoped>\n",
       "    .dataframe tbody tr th:only-of-type {\n",
       "        vertical-align: middle;\n",
       "    }\n",
       "\n",
       "    .dataframe tbody tr th {\n",
       "        vertical-align: top;\n",
       "    }\n",
       "\n",
       "    .dataframe thead th {\n",
       "        text-align: right;\n",
       "    }\n",
       "</style>\n",
       "<table border=\"1\" class=\"dataframe\">\n",
       "  <thead>\n",
       "    <tr style=\"text-align: right;\">\n",
       "      <th></th>\n",
       "      <th>g_id</th>\n",
       "      <th>home_team</th>\n",
       "      <th>away_team</th>\n",
       "      <th>home_final_score</th>\n",
       "      <th>away_final_score</th>\n",
       "      <th>date</th>\n",
       "      <th>umpire_HP</th>\n",
       "      <th>umpire_1B</th>\n",
       "      <th>umpire_2B</th>\n",
       "      <th>umpire_3B</th>\n",
       "      <th>start_time</th>\n",
       "      <th>venue_name</th>\n",
       "      <th>weather</th>\n",
       "      <th>wind</th>\n",
       "      <th>elapsed_time</th>\n",
       "      <th>attendance</th>\n",
       "    </tr>\n",
       "  </thead>\n",
       "  <tbody>\n",
       "    <tr>\n",
       "      <th>2403</th>\n",
       "      <td>201902404.0</td>\n",
       "      <td>kca</td>\n",
       "      <td>min</td>\n",
       "      <td>3.0</td>\n",
       "      <td>4.0</td>\n",
       "      <td>2019-09-28</td>\n",
       "      <td>NaN</td>\n",
       "      <td>NaN</td>\n",
       "      <td>NaN</td>\n",
       "      <td>NaN</td>\n",
       "      <td>NaN</td>\n",
       "      <td>Kauffman Stadium</td>\n",
       "      <td>NaN</td>\n",
       "      <td>NaN</td>\n",
       "      <td>NaN</td>\n",
       "      <td>NaN</td>\n",
       "    </tr>\n",
       "    <tr>\n",
       "      <th>2404</th>\n",
       "      <td>201902405.0</td>\n",
       "      <td>tex</td>\n",
       "      <td>nya</td>\n",
       "      <td>9.0</td>\n",
       "      <td>4.0</td>\n",
       "      <td>2019-09-28</td>\n",
       "      <td>NaN</td>\n",
       "      <td>NaN</td>\n",
       "      <td>NaN</td>\n",
       "      <td>NaN</td>\n",
       "      <td>NaN</td>\n",
       "      <td>Globe Life Park in Arlington</td>\n",
       "      <td>NaN</td>\n",
       "      <td>NaN</td>\n",
       "      <td>NaN</td>\n",
       "      <td>NaN</td>\n",
       "    </tr>\n",
       "    <tr>\n",
       "      <th>2405</th>\n",
       "      <td>201902406.0</td>\n",
       "      <td>sea</td>\n",
       "      <td>oak</td>\n",
       "      <td>0.0</td>\n",
       "      <td>1.0</td>\n",
       "      <td>2019-09-28</td>\n",
       "      <td>NaN</td>\n",
       "      <td>NaN</td>\n",
       "      <td>NaN</td>\n",
       "      <td>NaN</td>\n",
       "      <td>NaN</td>\n",
       "      <td>T-Mobile Park</td>\n",
       "      <td>NaN</td>\n",
       "      <td>NaN</td>\n",
       "      <td>NaN</td>\n",
       "      <td>NaN</td>\n",
       "    </tr>\n",
       "    <tr>\n",
       "      <th>2406</th>\n",
       "      <td>201902407.0</td>\n",
       "      <td>ari</td>\n",
       "      <td>sdn</td>\n",
       "      <td>6.0</td>\n",
       "      <td>5.0</td>\n",
       "      <td>2019-09-28</td>\n",
       "      <td>NaN</td>\n",
       "      <td>NaN</td>\n",
       "      <td>NaN</td>\n",
       "      <td>NaN</td>\n",
       "      <td>NaN</td>\n",
       "      <td>Chase Field</td>\n",
       "      <td>NaN</td>\n",
       "      <td>NaN</td>\n",
       "      <td>NaN</td>\n",
       "      <td>NaN</td>\n",
       "    </tr>\n",
       "    <tr>\n",
       "      <th>2407</th>\n",
       "      <td>201902408.0</td>\n",
       "      <td>tor</td>\n",
       "      <td>tba</td>\n",
       "      <td>4.0</td>\n",
       "      <td>1.0</td>\n",
       "      <td>2019-09-28</td>\n",
       "      <td>NaN</td>\n",
       "      <td>NaN</td>\n",
       "      <td>NaN</td>\n",
       "      <td>NaN</td>\n",
       "      <td>NaN</td>\n",
       "      <td>Rogers Centre</td>\n",
       "      <td>NaN</td>\n",
       "      <td>NaN</td>\n",
       "      <td>NaN</td>\n",
       "      <td>NaN</td>\n",
       "    </tr>\n",
       "  </tbody>\n",
       "</table>\n",
       "</div>"
      ],
      "text/plain": [
       "             g_id home_team away_team  home_final_score  away_final_score  \\\n",
       "2403  201902404.0       kca       min               3.0               4.0   \n",
       "2404  201902405.0       tex       nya               9.0               4.0   \n",
       "2405  201902406.0       sea       oak               0.0               1.0   \n",
       "2406  201902407.0       ari       sdn               6.0               5.0   \n",
       "2407  201902408.0       tor       tba               4.0               1.0   \n",
       "\n",
       "            date  umpire_HP  umpire_1B  umpire_2B  umpire_3B  start_time  \\\n",
       "2403  2019-09-28        NaN        NaN        NaN        NaN         NaN   \n",
       "2404  2019-09-28        NaN        NaN        NaN        NaN         NaN   \n",
       "2405  2019-09-28        NaN        NaN        NaN        NaN         NaN   \n",
       "2406  2019-09-28        NaN        NaN        NaN        NaN         NaN   \n",
       "2407  2019-09-28        NaN        NaN        NaN        NaN         NaN   \n",
       "\n",
       "                        venue_name  weather  wind  elapsed_time  attendance  \n",
       "2403              Kauffman Stadium      NaN   NaN           NaN         NaN  \n",
       "2404  Globe Life Park in Arlington      NaN   NaN           NaN         NaN  \n",
       "2405                 T-Mobile Park      NaN   NaN           NaN         NaN  \n",
       "2406                   Chase Field      NaN   NaN           NaN         NaN  \n",
       "2407                 Rogers Centre      NaN   NaN           NaN         NaN  "
      ]
     },
     "execution_count": 27,
     "metadata": {},
     "output_type": "execute_result"
    }
   ],
   "source": [
    "games_2019.tail()"
   ]
  },
  {
   "cell_type": "code",
   "execution_count": 18,
   "metadata": {},
   "outputs": [
    {
     "data": {
      "text/plain": [
       "(9718, 17)"
      ]
     },
     "execution_count": 18,
     "metadata": {},
     "output_type": "execute_result"
    }
   ],
   "source": [
    "games_2018_before = pd.read_csv('./Data/Kaggle_Files/archive/games.csv')\n",
    "games_2018_before.shape"
   ]
  },
  {
   "cell_type": "code",
   "execution_count": 19,
   "metadata": {},
   "outputs": [
    {
     "data": {
      "text/html": [
       "<div>\n",
       "<style scoped>\n",
       "    .dataframe tbody tr th:only-of-type {\n",
       "        vertical-align: middle;\n",
       "    }\n",
       "\n",
       "    .dataframe tbody tr th {\n",
       "        vertical-align: top;\n",
       "    }\n",
       "\n",
       "    .dataframe thead th {\n",
       "        text-align: right;\n",
       "    }\n",
       "</style>\n",
       "<table border=\"1\" class=\"dataframe\">\n",
       "  <thead>\n",
       "    <tr style=\"text-align: right;\">\n",
       "      <th></th>\n",
       "      <th>attendance</th>\n",
       "      <th>away_final_score</th>\n",
       "      <th>away_team</th>\n",
       "      <th>date</th>\n",
       "      <th>elapsed_time</th>\n",
       "      <th>g_id</th>\n",
       "      <th>home_final_score</th>\n",
       "      <th>home_team</th>\n",
       "      <th>start_time</th>\n",
       "      <th>umpire_1B</th>\n",
       "      <th>umpire_2B</th>\n",
       "      <th>umpire_3B</th>\n",
       "      <th>umpire_HP</th>\n",
       "      <th>venue_name</th>\n",
       "      <th>weather</th>\n",
       "      <th>wind</th>\n",
       "      <th>delay</th>\n",
       "    </tr>\n",
       "  </thead>\n",
       "  <tbody>\n",
       "    <tr>\n",
       "      <th>0</th>\n",
       "      <td>35055</td>\n",
       "      <td>3</td>\n",
       "      <td>sln</td>\n",
       "      <td>2015-04-05</td>\n",
       "      <td>184</td>\n",
       "      <td>201500001</td>\n",
       "      <td>0</td>\n",
       "      <td>chn</td>\n",
       "      <td>7:17 PM</td>\n",
       "      <td>Mark Wegner</td>\n",
       "      <td>Marty Foster</td>\n",
       "      <td>Mike Muchlinski</td>\n",
       "      <td>Mike Winters</td>\n",
       "      <td>Wrigley Field</td>\n",
       "      <td>44 degrees, clear</td>\n",
       "      <td>7 mph, In from CF</td>\n",
       "      <td>0</td>\n",
       "    </tr>\n",
       "    <tr>\n",
       "      <th>1</th>\n",
       "      <td>45909</td>\n",
       "      <td>1</td>\n",
       "      <td>ana</td>\n",
       "      <td>2015-04-06</td>\n",
       "      <td>153</td>\n",
       "      <td>201500002</td>\n",
       "      <td>4</td>\n",
       "      <td>sea</td>\n",
       "      <td>1:12 PM</td>\n",
       "      <td>Ron Kulpa</td>\n",
       "      <td>Brian Knight</td>\n",
       "      <td>Vic Carapazza</td>\n",
       "      <td>Larry Vanover</td>\n",
       "      <td>Safeco Field</td>\n",
       "      <td>54 degrees, cloudy</td>\n",
       "      <td>1 mph, Varies</td>\n",
       "      <td>0</td>\n",
       "    </tr>\n",
       "    <tr>\n",
       "      <th>2</th>\n",
       "      <td>36969</td>\n",
       "      <td>2</td>\n",
       "      <td>atl</td>\n",
       "      <td>2015-04-06</td>\n",
       "      <td>156</td>\n",
       "      <td>201500003</td>\n",
       "      <td>1</td>\n",
       "      <td>mia</td>\n",
       "      <td>4:22 PM</td>\n",
       "      <td>Laz Diaz</td>\n",
       "      <td>Chris Guccione</td>\n",
       "      <td>Cory Blaser</td>\n",
       "      <td>Jeff Nelson</td>\n",
       "      <td>Marlins Park</td>\n",
       "      <td>80 degrees, partly cloudy</td>\n",
       "      <td>16 mph, In from CF</td>\n",
       "      <td>16</td>\n",
       "    </tr>\n",
       "    <tr>\n",
       "      <th>3</th>\n",
       "      <td>31042</td>\n",
       "      <td>6</td>\n",
       "      <td>bal</td>\n",
       "      <td>2015-04-06</td>\n",
       "      <td>181</td>\n",
       "      <td>201500004</td>\n",
       "      <td>2</td>\n",
       "      <td>tba</td>\n",
       "      <td>3:12 PM</td>\n",
       "      <td>Ed Hickox</td>\n",
       "      <td>Paul Nauert</td>\n",
       "      <td>Mike Estabrook</td>\n",
       "      <td>Dana DeMuth</td>\n",
       "      <td>Tropicana Field</td>\n",
       "      <td>72 degrees, dome</td>\n",
       "      <td>0 mph, None</td>\n",
       "      <td>0</td>\n",
       "    </tr>\n",
       "    <tr>\n",
       "      <th>4</th>\n",
       "      <td>45549</td>\n",
       "      <td>8</td>\n",
       "      <td>bos</td>\n",
       "      <td>2015-04-06</td>\n",
       "      <td>181</td>\n",
       "      <td>201500005</td>\n",
       "      <td>0</td>\n",
       "      <td>phi</td>\n",
       "      <td>3:08 PM</td>\n",
       "      <td>Phil Cuzzi</td>\n",
       "      <td>Tony Randazzo</td>\n",
       "      <td>Will Little</td>\n",
       "      <td>Gerry Davis</td>\n",
       "      <td>Citizens Bank Park</td>\n",
       "      <td>71 degrees, partly cloudy</td>\n",
       "      <td>11 mph, Out to RF</td>\n",
       "      <td>0</td>\n",
       "    </tr>\n",
       "  </tbody>\n",
       "</table>\n",
       "</div>"
      ],
      "text/plain": [
       "   attendance  away_final_score away_team        date  elapsed_time  \\\n",
       "0       35055                 3       sln  2015-04-05           184   \n",
       "1       45909                 1       ana  2015-04-06           153   \n",
       "2       36969                 2       atl  2015-04-06           156   \n",
       "3       31042                 6       bal  2015-04-06           181   \n",
       "4       45549                 8       bos  2015-04-06           181   \n",
       "\n",
       "        g_id  home_final_score home_team start_time    umpire_1B  \\\n",
       "0  201500001                 0       chn    7:17 PM  Mark Wegner   \n",
       "1  201500002                 4       sea    1:12 PM    Ron Kulpa   \n",
       "2  201500003                 1       mia    4:22 PM     Laz Diaz   \n",
       "3  201500004                 2       tba    3:12 PM    Ed Hickox   \n",
       "4  201500005                 0       phi    3:08 PM   Phil Cuzzi   \n",
       "\n",
       "        umpire_2B        umpire_3B      umpire_HP          venue_name  \\\n",
       "0    Marty Foster  Mike Muchlinski   Mike Winters       Wrigley Field   \n",
       "1    Brian Knight    Vic Carapazza  Larry Vanover        Safeco Field   \n",
       "2  Chris Guccione      Cory Blaser    Jeff Nelson        Marlins Park   \n",
       "3     Paul Nauert   Mike Estabrook    Dana DeMuth     Tropicana Field   \n",
       "4   Tony Randazzo      Will Little    Gerry Davis  Citizens Bank Park   \n",
       "\n",
       "                     weather                wind  delay  \n",
       "0          44 degrees, clear   7 mph, In from CF      0  \n",
       "1         54 degrees, cloudy       1 mph, Varies      0  \n",
       "2  80 degrees, partly cloudy  16 mph, In from CF     16  \n",
       "3           72 degrees, dome         0 mph, None      0  \n",
       "4  71 degrees, partly cloudy   11 mph, Out to RF      0  "
      ]
     },
     "execution_count": 19,
     "metadata": {},
     "output_type": "execute_result"
    }
   ],
   "source": [
    "games_2018_before.head()"
   ]
  },
  {
   "cell_type": "markdown",
   "metadata": {},
   "source": [
    "Now, to combine the games using ignore_index=True, since they don't match up in column dimensions.  However, the names are the same, and the main information I'd want out of here is date and teams to link with atbats."
   ]
  },
  {
   "cell_type": "code",
   "execution_count": 21,
   "metadata": {},
   "outputs": [],
   "source": [
    "combined_games = pd.concat([games_2018_before, games_2019], ignore_index=True)"
   ]
  },
  {
   "cell_type": "code",
   "execution_count": 22,
   "metadata": {},
   "outputs": [
    {
     "data": {
      "text/plain": [
       "(12126, 17)"
      ]
     },
     "execution_count": 22,
     "metadata": {},
     "output_type": "execute_result"
    }
   ],
   "source": [
    "combined_games.shape"
   ]
  },
  {
   "cell_type": "code",
   "execution_count": 26,
   "metadata": {},
   "outputs": [
    {
     "data": {
      "text/html": [
       "<div>\n",
       "<style scoped>\n",
       "    .dataframe tbody tr th:only-of-type {\n",
       "        vertical-align: middle;\n",
       "    }\n",
       "\n",
       "    .dataframe tbody tr th {\n",
       "        vertical-align: top;\n",
       "    }\n",
       "\n",
       "    .dataframe thead th {\n",
       "        text-align: right;\n",
       "    }\n",
       "</style>\n",
       "<table border=\"1\" class=\"dataframe\">\n",
       "  <thead>\n",
       "    <tr style=\"text-align: right;\">\n",
       "      <th></th>\n",
       "      <th>attendance</th>\n",
       "      <th>away_final_score</th>\n",
       "      <th>away_team</th>\n",
       "      <th>date</th>\n",
       "      <th>elapsed_time</th>\n",
       "      <th>g_id</th>\n",
       "      <th>home_final_score</th>\n",
       "      <th>home_team</th>\n",
       "      <th>start_time</th>\n",
       "      <th>umpire_1B</th>\n",
       "      <th>umpire_2B</th>\n",
       "      <th>umpire_3B</th>\n",
       "      <th>umpire_HP</th>\n",
       "      <th>venue_name</th>\n",
       "      <th>weather</th>\n",
       "      <th>wind</th>\n",
       "      <th>delay</th>\n",
       "    </tr>\n",
       "  </thead>\n",
       "  <tbody>\n",
       "    <tr>\n",
       "      <th>12121</th>\n",
       "      <td>NaN</td>\n",
       "      <td>4.0</td>\n",
       "      <td>min</td>\n",
       "      <td>2019-09-28</td>\n",
       "      <td>NaN</td>\n",
       "      <td>201902404.0</td>\n",
       "      <td>3.0</td>\n",
       "      <td>kca</td>\n",
       "      <td>NaN</td>\n",
       "      <td>NaN</td>\n",
       "      <td>NaN</td>\n",
       "      <td>NaN</td>\n",
       "      <td>NaN</td>\n",
       "      <td>Kauffman Stadium</td>\n",
       "      <td>NaN</td>\n",
       "      <td>NaN</td>\n",
       "      <td>NaN</td>\n",
       "    </tr>\n",
       "    <tr>\n",
       "      <th>12122</th>\n",
       "      <td>NaN</td>\n",
       "      <td>4.0</td>\n",
       "      <td>nya</td>\n",
       "      <td>2019-09-28</td>\n",
       "      <td>NaN</td>\n",
       "      <td>201902405.0</td>\n",
       "      <td>9.0</td>\n",
       "      <td>tex</td>\n",
       "      <td>NaN</td>\n",
       "      <td>NaN</td>\n",
       "      <td>NaN</td>\n",
       "      <td>NaN</td>\n",
       "      <td>NaN</td>\n",
       "      <td>Globe Life Park in Arlington</td>\n",
       "      <td>NaN</td>\n",
       "      <td>NaN</td>\n",
       "      <td>NaN</td>\n",
       "    </tr>\n",
       "    <tr>\n",
       "      <th>12123</th>\n",
       "      <td>NaN</td>\n",
       "      <td>1.0</td>\n",
       "      <td>oak</td>\n",
       "      <td>2019-09-28</td>\n",
       "      <td>NaN</td>\n",
       "      <td>201902406.0</td>\n",
       "      <td>0.0</td>\n",
       "      <td>sea</td>\n",
       "      <td>NaN</td>\n",
       "      <td>NaN</td>\n",
       "      <td>NaN</td>\n",
       "      <td>NaN</td>\n",
       "      <td>NaN</td>\n",
       "      <td>T-Mobile Park</td>\n",
       "      <td>NaN</td>\n",
       "      <td>NaN</td>\n",
       "      <td>NaN</td>\n",
       "    </tr>\n",
       "    <tr>\n",
       "      <th>12124</th>\n",
       "      <td>NaN</td>\n",
       "      <td>5.0</td>\n",
       "      <td>sdn</td>\n",
       "      <td>2019-09-28</td>\n",
       "      <td>NaN</td>\n",
       "      <td>201902407.0</td>\n",
       "      <td>6.0</td>\n",
       "      <td>ari</td>\n",
       "      <td>NaN</td>\n",
       "      <td>NaN</td>\n",
       "      <td>NaN</td>\n",
       "      <td>NaN</td>\n",
       "      <td>NaN</td>\n",
       "      <td>Chase Field</td>\n",
       "      <td>NaN</td>\n",
       "      <td>NaN</td>\n",
       "      <td>NaN</td>\n",
       "    </tr>\n",
       "    <tr>\n",
       "      <th>12125</th>\n",
       "      <td>NaN</td>\n",
       "      <td>1.0</td>\n",
       "      <td>tba</td>\n",
       "      <td>2019-09-28</td>\n",
       "      <td>NaN</td>\n",
       "      <td>201902408.0</td>\n",
       "      <td>4.0</td>\n",
       "      <td>tor</td>\n",
       "      <td>NaN</td>\n",
       "      <td>NaN</td>\n",
       "      <td>NaN</td>\n",
       "      <td>NaN</td>\n",
       "      <td>NaN</td>\n",
       "      <td>Rogers Centre</td>\n",
       "      <td>NaN</td>\n",
       "      <td>NaN</td>\n",
       "      <td>NaN</td>\n",
       "    </tr>\n",
       "  </tbody>\n",
       "</table>\n",
       "</div>"
      ],
      "text/plain": [
       "       attendance  away_final_score away_team        date  elapsed_time  \\\n",
       "12121         NaN               4.0       min  2019-09-28           NaN   \n",
       "12122         NaN               4.0       nya  2019-09-28           NaN   \n",
       "12123         NaN               1.0       oak  2019-09-28           NaN   \n",
       "12124         NaN               5.0       sdn  2019-09-28           NaN   \n",
       "12125         NaN               1.0       tba  2019-09-28           NaN   \n",
       "\n",
       "              g_id  home_final_score home_team start_time umpire_1B umpire_2B  \\\n",
       "12121  201902404.0               3.0       kca        NaN       NaN       NaN   \n",
       "12122  201902405.0               9.0       tex        NaN       NaN       NaN   \n",
       "12123  201902406.0               0.0       sea        NaN       NaN       NaN   \n",
       "12124  201902407.0               6.0       ari        NaN       NaN       NaN   \n",
       "12125  201902408.0               4.0       tor        NaN       NaN       NaN   \n",
       "\n",
       "      umpire_3B umpire_HP                    venue_name weather wind  delay  \n",
       "12121       NaN       NaN              Kauffman Stadium     NaN  NaN    NaN  \n",
       "12122       NaN       NaN  Globe Life Park in Arlington     NaN  NaN    NaN  \n",
       "12123       NaN       NaN                 T-Mobile Park     NaN  NaN    NaN  \n",
       "12124       NaN       NaN                   Chase Field     NaN  NaN    NaN  \n",
       "12125       NaN       NaN                 Rogers Centre     NaN  NaN    NaN  "
      ]
     },
     "execution_count": 26,
     "metadata": {},
     "output_type": "execute_result"
    }
   ],
   "source": [
    "combined_games.tail()"
   ]
  },
  {
   "cell_type": "markdown",
   "metadata": {},
   "source": [
    "This looks correct, so saving the combined file as a new CSV:"
   ]
  },
  {
   "cell_type": "code",
   "execution_count": 28,
   "metadata": {},
   "outputs": [],
   "source": [
    "combined_games.to_csv('./Data/Kaggle_Files/combined_games.csv')"
   ]
  },
  {
   "cell_type": "markdown",
   "metadata": {},
   "source": [
    "### Pitch Data"
   ]
  },
  {
   "cell_type": "code",
   "execution_count": 30,
   "metadata": {},
   "outputs": [
    {
     "data": {
      "text/plain": [
       "(728790, 40)"
      ]
     },
     "execution_count": 30,
     "metadata": {},
     "output_type": "execute_result"
    }
   ],
   "source": [
    "pitches_2019 = pd.read_csv('./Data/Kaggle_Files/archive/2019_pitches.csv')\n",
    "pitches_2019.shape"
   ]
  },
  {
   "cell_type": "code",
   "execution_count": 31,
   "metadata": {},
   "outputs": [
    {
     "data": {
      "text/plain": [
       "(2867154, 40)"
      ]
     },
     "execution_count": 31,
     "metadata": {},
     "output_type": "execute_result"
    }
   ],
   "source": [
    "pitches_2018_before = pd.read_csv('./Data/Kaggle_Files/archive/pitches.csv')\n",
    "pitches_2018_before.shape"
   ]
  },
  {
   "cell_type": "markdown",
   "metadata": {},
   "source": [
    "Checking out the columns to make sure they match up:"
   ]
  },
  {
   "cell_type": "code",
   "execution_count": 32,
   "metadata": {},
   "outputs": [
    {
     "data": {
      "text/plain": [
       "Index(['px', 'pz', 'start_speed', 'end_speed', 'spin_rate', 'spin_dir',\n",
       "       'break_angle', 'break_length', 'break_y', 'ax', 'ay', 'az', 'sz_bot',\n",
       "       'sz_top', 'type_confidence', 'vx0', 'vy0', 'vz0', 'x', 'x0', 'y', 'y0',\n",
       "       'z0', 'pfx_x', 'pfx_z', 'nasty', 'zone', 'code', 'type', 'pitch_type',\n",
       "       'event_num', 'b_score', 'ab_id', 'b_count', 's_count', 'outs',\n",
       "       'pitch_num', 'on_1b', 'on_2b', 'on_3b'],\n",
       "      dtype='object')"
      ]
     },
     "execution_count": 32,
     "metadata": {},
     "output_type": "execute_result"
    }
   ],
   "source": [
    "pitches_2019.columns"
   ]
  },
  {
   "cell_type": "code",
   "execution_count": 33,
   "metadata": {},
   "outputs": [
    {
     "data": {
      "text/plain": [
       "Index(['px', 'pz', 'start_speed', 'end_speed', 'spin_rate', 'spin_dir',\n",
       "       'break_angle', 'break_length', 'break_y', 'ax', 'ay', 'az', 'sz_bot',\n",
       "       'sz_top', 'type_confidence', 'vx0', 'vy0', 'vz0', 'x', 'x0', 'y', 'y0',\n",
       "       'z0', 'pfx_x', 'pfx_z', 'nasty', 'zone', 'code', 'type', 'pitch_type',\n",
       "       'event_num', 'b_score', 'ab_id', 'b_count', 's_count', 'outs',\n",
       "       'pitch_num', 'on_1b', 'on_2b', 'on_3b'],\n",
       "      dtype='object')"
      ]
     },
     "execution_count": 33,
     "metadata": {},
     "output_type": "execute_result"
    }
   ],
   "source": [
    "pitches_2018_before.columns"
   ]
  },
  {
   "cell_type": "markdown",
   "metadata": {},
   "source": [
    "They do, so combining:"
   ]
  },
  {
   "cell_type": "code",
   "execution_count": 35,
   "metadata": {},
   "outputs": [],
   "source": [
    "combined_pitches = pd.concat([pitches_2018_before, pitches_2019], axis=0)"
   ]
  },
  {
   "cell_type": "code",
   "execution_count": 36,
   "metadata": {},
   "outputs": [
    {
     "data": {
      "text/html": [
       "<div>\n",
       "<style scoped>\n",
       "    .dataframe tbody tr th:only-of-type {\n",
       "        vertical-align: middle;\n",
       "    }\n",
       "\n",
       "    .dataframe tbody tr th {\n",
       "        vertical-align: top;\n",
       "    }\n",
       "\n",
       "    .dataframe thead th {\n",
       "        text-align: right;\n",
       "    }\n",
       "</style>\n",
       "<table border=\"1\" class=\"dataframe\">\n",
       "  <thead>\n",
       "    <tr style=\"text-align: right;\">\n",
       "      <th></th>\n",
       "      <th>px</th>\n",
       "      <th>pz</th>\n",
       "      <th>start_speed</th>\n",
       "      <th>end_speed</th>\n",
       "      <th>spin_rate</th>\n",
       "      <th>spin_dir</th>\n",
       "      <th>break_angle</th>\n",
       "      <th>break_length</th>\n",
       "      <th>break_y</th>\n",
       "      <th>ax</th>\n",
       "      <th>...</th>\n",
       "      <th>event_num</th>\n",
       "      <th>b_score</th>\n",
       "      <th>ab_id</th>\n",
       "      <th>b_count</th>\n",
       "      <th>s_count</th>\n",
       "      <th>outs</th>\n",
       "      <th>pitch_num</th>\n",
       "      <th>on_1b</th>\n",
       "      <th>on_2b</th>\n",
       "      <th>on_3b</th>\n",
       "    </tr>\n",
       "  </thead>\n",
       "  <tbody>\n",
       "    <tr>\n",
       "      <th>0</th>\n",
       "      <td>0.416</td>\n",
       "      <td>2.963</td>\n",
       "      <td>92.9</td>\n",
       "      <td>84.1</td>\n",
       "      <td>2305.05</td>\n",
       "      <td>159.235</td>\n",
       "      <td>-25.0</td>\n",
       "      <td>3.2</td>\n",
       "      <td>23.7</td>\n",
       "      <td>7.665</td>\n",
       "      <td>...</td>\n",
       "      <td>3</td>\n",
       "      <td>0.0</td>\n",
       "      <td>2.015000e+09</td>\n",
       "      <td>0.0</td>\n",
       "      <td>0.0</td>\n",
       "      <td>0.0</td>\n",
       "      <td>1.0</td>\n",
       "      <td>0.0</td>\n",
       "      <td>0.0</td>\n",
       "      <td>0.0</td>\n",
       "    </tr>\n",
       "    <tr>\n",
       "      <th>1</th>\n",
       "      <td>-0.191</td>\n",
       "      <td>2.347</td>\n",
       "      <td>92.8</td>\n",
       "      <td>84.1</td>\n",
       "      <td>2689.93</td>\n",
       "      <td>151.402</td>\n",
       "      <td>-40.7</td>\n",
       "      <td>3.4</td>\n",
       "      <td>23.7</td>\n",
       "      <td>12.043</td>\n",
       "      <td>...</td>\n",
       "      <td>4</td>\n",
       "      <td>0.0</td>\n",
       "      <td>2.015000e+09</td>\n",
       "      <td>0.0</td>\n",
       "      <td>1.0</td>\n",
       "      <td>0.0</td>\n",
       "      <td>2.0</td>\n",
       "      <td>0.0</td>\n",
       "      <td>0.0</td>\n",
       "      <td>0.0</td>\n",
       "    </tr>\n",
       "    <tr>\n",
       "      <th>2</th>\n",
       "      <td>-0.518</td>\n",
       "      <td>3.284</td>\n",
       "      <td>94.1</td>\n",
       "      <td>85.2</td>\n",
       "      <td>2647.97</td>\n",
       "      <td>145.125</td>\n",
       "      <td>-43.7</td>\n",
       "      <td>3.7</td>\n",
       "      <td>23.7</td>\n",
       "      <td>14.368</td>\n",
       "      <td>...</td>\n",
       "      <td>5</td>\n",
       "      <td>0.0</td>\n",
       "      <td>2.015000e+09</td>\n",
       "      <td>0.0</td>\n",
       "      <td>2.0</td>\n",
       "      <td>0.0</td>\n",
       "      <td>3.0</td>\n",
       "      <td>0.0</td>\n",
       "      <td>0.0</td>\n",
       "      <td>0.0</td>\n",
       "    </tr>\n",
       "    <tr>\n",
       "      <th>3</th>\n",
       "      <td>-0.641</td>\n",
       "      <td>1.221</td>\n",
       "      <td>91.0</td>\n",
       "      <td>84.0</td>\n",
       "      <td>1289.59</td>\n",
       "      <td>169.751</td>\n",
       "      <td>-1.3</td>\n",
       "      <td>5.0</td>\n",
       "      <td>23.8</td>\n",
       "      <td>2.104</td>\n",
       "      <td>...</td>\n",
       "      <td>6</td>\n",
       "      <td>0.0</td>\n",
       "      <td>2.015000e+09</td>\n",
       "      <td>0.0</td>\n",
       "      <td>2.0</td>\n",
       "      <td>0.0</td>\n",
       "      <td>4.0</td>\n",
       "      <td>0.0</td>\n",
       "      <td>0.0</td>\n",
       "      <td>0.0</td>\n",
       "    </tr>\n",
       "    <tr>\n",
       "      <th>4</th>\n",
       "      <td>-1.821</td>\n",
       "      <td>2.083</td>\n",
       "      <td>75.4</td>\n",
       "      <td>69.6</td>\n",
       "      <td>1374.57</td>\n",
       "      <td>280.671</td>\n",
       "      <td>18.4</td>\n",
       "      <td>12.0</td>\n",
       "      <td>23.8</td>\n",
       "      <td>-10.280</td>\n",
       "      <td>...</td>\n",
       "      <td>7</td>\n",
       "      <td>0.0</td>\n",
       "      <td>2.015000e+09</td>\n",
       "      <td>1.0</td>\n",
       "      <td>2.0</td>\n",
       "      <td>0.0</td>\n",
       "      <td>5.0</td>\n",
       "      <td>0.0</td>\n",
       "      <td>0.0</td>\n",
       "      <td>0.0</td>\n",
       "    </tr>\n",
       "  </tbody>\n",
       "</table>\n",
       "<p>5 rows × 40 columns</p>\n",
       "</div>"
      ],
      "text/plain": [
       "      px     pz  start_speed  end_speed spin_rate spin_dir  break_angle  \\\n",
       "0  0.416  2.963         92.9       84.1   2305.05  159.235        -25.0   \n",
       "1 -0.191  2.347         92.8       84.1   2689.93  151.402        -40.7   \n",
       "2 -0.518  3.284         94.1       85.2   2647.97  145.125        -43.7   \n",
       "3 -0.641  1.221         91.0       84.0   1289.59  169.751         -1.3   \n",
       "4 -1.821  2.083         75.4       69.6   1374.57  280.671         18.4   \n",
       "\n",
       "   break_length  break_y      ax  ...  event_num  b_score         ab_id  \\\n",
       "0           3.2     23.7   7.665  ...          3      0.0  2.015000e+09   \n",
       "1           3.4     23.7  12.043  ...          4      0.0  2.015000e+09   \n",
       "2           3.7     23.7  14.368  ...          5      0.0  2.015000e+09   \n",
       "3           5.0     23.8   2.104  ...          6      0.0  2.015000e+09   \n",
       "4          12.0     23.8 -10.280  ...          7      0.0  2.015000e+09   \n",
       "\n",
       "   b_count s_count  outs  pitch_num  on_1b on_2b  on_3b  \n",
       "0      0.0     0.0   0.0        1.0    0.0   0.0    0.0  \n",
       "1      0.0     1.0   0.0        2.0    0.0   0.0    0.0  \n",
       "2      0.0     2.0   0.0        3.0    0.0   0.0    0.0  \n",
       "3      0.0     2.0   0.0        4.0    0.0   0.0    0.0  \n",
       "4      1.0     2.0   0.0        5.0    0.0   0.0    0.0  \n",
       "\n",
       "[5 rows x 40 columns]"
      ]
     },
     "execution_count": 36,
     "metadata": {},
     "output_type": "execute_result"
    }
   ],
   "source": [
    "combined_pitches.head()"
   ]
  },
  {
   "cell_type": "code",
   "execution_count": 37,
   "metadata": {},
   "outputs": [
    {
     "data": {
      "text/plain": [
       "(3595944, 40)"
      ]
     },
     "execution_count": 37,
     "metadata": {},
     "output_type": "execute_result"
    }
   ],
   "source": [
    "combined_pitches.shape"
   ]
  },
  {
   "cell_type": "markdown",
   "metadata": {},
   "source": [
    "Outputting to a new CSV file:"
   ]
  },
  {
   "cell_type": "code",
   "execution_count": 39,
   "metadata": {},
   "outputs": [],
   "source": [
    "combined_pitches.to_csv('./Data/Kaggle_Files/combined_pitches.csv')"
   ]
  },
  {
   "cell_type": "markdown",
   "metadata": {},
   "source": [
    "As a note, with that done I'll be deleting the original CSV files from my local computer for space considerations, since all available data is in the combined files.  The one exception is the player_names.csv file, which will be used to link players to events. \n",
    "\n",
    "NOTE: all of this data is saved for me in the Data/Kaggle_Files location.  I am adding all .csv files to my .gitignore, for space considerations, so these will not appear on the github page."
   ]
  },
  {
   "cell_type": "markdown",
   "metadata": {},
   "source": [
    "### NEXT: kaggle_dataset_sql_construction.ipynb"
   ]
  }
 ],
 "metadata": {
  "kernelspec": {
   "display_name": "Python [conda env:metis] *",
   "language": "python",
   "name": "conda-env-metis-py"
  },
  "language_info": {
   "codemirror_mode": {
    "name": "ipython",
    "version": 3
   },
   "file_extension": ".py",
   "mimetype": "text/x-python",
   "name": "python",
   "nbconvert_exporter": "python",
   "pygments_lexer": "ipython3",
   "version": "3.8.6"
  }
 },
 "nbformat": 4,
 "nbformat_minor": 4
}
